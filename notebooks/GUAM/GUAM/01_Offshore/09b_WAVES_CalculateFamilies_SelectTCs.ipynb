{
 "cells": [
  {
   "cell_type": "markdown",
   "metadata": {},
   "source": [
    "\n",
    "... ***CURRENTLY UNDER DEVELOPMENT*** ...\n"
   ]
  },
  {
   "cell_type": "markdown",
   "metadata": {},
   "source": [
    "## Obtain wave families\n",
    "### In this case, two swell systems, one local sea\n",
    "\n",
    "inputs required: \n",
    "  * Historical wave conditions (GOW2 hindcast)\n",
    "  * Wave families sectors; the split is based on wave direction\n",
    "  \n",
    "in this notebook:\n",
    "  * Split energy based on defined sectors\n",
    "  * Remove TC associated waves to avoid double counting "
   ]
  },
  {
   "cell_type": "markdown",
   "metadata": {},
   "source": [
    "\n",
    "### Workflow:\n",
    "\n",
    "<div>\n",
    "<img src=\"resources/nb01_09.png\" width=\"300px\">\n",
    "</div>\n"
   ]
  },
  {
   "cell_type": "code",
   "execution_count": 13,
   "metadata": {},
   "outputs": [],
   "source": [
    "#!/usr/bin/env python\n",
    "# -*- coding: utf-8 -*-\n",
    "\n",
    "# common\n",
    "import os\n",
    "import os.path as op\n",
    "from datetime import datetime\n",
    "\n",
    "# pip\n",
    "import numpy as np\n",
    "import xarray as xr\n",
    "\n",
    "# DEV: override installed teslakit\n",
    "import sys\n",
    "sys.path.insert(0, op.join(os.path.abspath(''), '..', '..', '..'))\n",
    "\n",
    "# teslakit\n",
    "from teslakit.database import Database\n",
    "from teslakit.waves import GetDistribution_gow, GetDistribution_ws\n",
    "\n",
    "# wavespectra\n",
    "\n",
    "from wavespectra.specdataset import SpecDataset\n"
   ]
  },
  {
   "cell_type": "markdown",
   "metadata": {},
   "source": [
    "\n",
    "## Database and Site parameters"
   ]
  },
  {
   "cell_type": "code",
   "execution_count": 14,
   "metadata": {},
   "outputs": [],
   "source": [
    "# --------------------------------------\n",
    "# Teslakit database\n",
    "\n",
    "p_data = r'/media/administrador/HD/Dropbox/Guam/teslakit/data'\n",
    "#p_data=r'/Users/laurac/Dropbox/Guam/teslakit/data'\n",
    "db = Database(p_data)\n",
    "\n",
    "# set site\n",
    "db.SetSite('GUAM')\n"
   ]
  },
  {
   "cell_type": "code",
   "execution_count": 28,
   "metadata": {},
   "outputs": [],
   "source": [
    "# --------------------------------------\n",
    "# set waves families parameters\n",
    "\n",
    "_, TCs_r1_params = db.Load_TCs_r1_hist()   # TCs historical parameters inside big radius\n",
    "_, TCs_r2_params = db.Load_TCs_r2_hist()   # TCs historical parameters inside small radius\n",
    "\n",
    "# wave families sectors\n",
    "#fams_sectors = [(315, 45), (45, 202.5), (202.5, 315)]\n",
    "fams_sectors = [(202.5, 60), (60, 202.5)]\n",
    "\n",
    "# date limits for TCs removal from waves data, and TC time window (hours)\n",
    "tc_rm_date1 = '1979-01-01'\n",
    "tc_rm_date2 = '2019-12-31'\n",
    "tc_time_window = 12\n"
   ]
  },
  {
   "cell_type": "markdown",
   "metadata": {},
   "source": [
    "\n",
    "## Calculate Waves Partitions from Waves Spectra (CSIRO + wavespectra) "
   ]
  },
  {
   "cell_type": "code",
   "execution_count": 4,
   "metadata": {},
   "outputs": [],
   "source": [
    "# aux.\n",
    "\n",
    "def fix_dir(base_dirs):\n",
    "    'fix csiro direction for wavespectra (from -> to)'\n",
    "    new_dirs = base_dirs + 180\n",
    "    new_dirs[np.where(new_dirs>=360)] = new_dirs[np.where(new_dirs>=360)] - 360\n",
    "    \n",
    "    return new_dirs\n"
   ]
  },
  {
   "cell_type": "code",
   "execution_count": null,
   "metadata": {},
   "outputs": [
    {
     "name": "stdout",
     "output_type": "stream",
     "text": [
      "<xarray.Dataset>\n",
      "Dimensions:  (dir: 24, freq: 29, time: 365756)\n",
      "Coordinates:\n",
      "  * time     (time) datetime64[ns] 1979-01-01 1979-01-01T01:00:00 ... 2020-09-01\n",
      "  * dir      (dir) float32 262.5 247.5 232.5 217.5 ... 322.5 307.5 292.5 277.5\n",
      "  * freq     (freq) float32 0.035 0.0385 0.042349998 ... 0.45885003 0.50473505\n",
      "Data variables:\n",
      "    efth     (time, freq, dir) float64 ...\n",
      "    Wspeed   (time) float32 ...\n",
      "    Wdir     (time) float32 ...\n",
      "    Depth    (time) float32 ...\n",
      "\n"
     ]
    }
   ],
   "source": [
    "# --------------------------------------\n",
    "# load waves spectra point (CSIRO spec)\n",
    "\n",
    "WVS_spec = db.Load_WAVES_spectra()\n",
    "print(WVS_spec)\n",
    "print()\n",
    "\n",
    "# direction data fix\n",
    "# WVS_spec['direction'] = fix_dir(WVS_spec['direction'])\n",
    "\n",
    "# # rename variables\n",
    "# WVS_spec = WVS_spec.rename(\n",
    "#     {\n",
    "#         'frequency':'freq',\n",
    "#         'direction':'dir',\n",
    "#         'Efth':'efth',\n",
    "#     }\n",
    "# ).set_coords({'freq','dir'})\n",
    "\n",
    "# efth: rad to º\n",
    "# WVS_spec['efth'] = WVS_spec['efth'] #* np.pi/180\n",
    "\n",
    "\n",
    "# wavespectra parameters\n",
    "wcut = 0.00000000001  # wcut = 0.3333\n",
    "msw = 8\n",
    "agef = 1.7\n",
    "\n",
    "# bulk wavespectra\n",
    "bulk_params = WVS_spec.spec.stats(['hs','tp','tm02','dpm','dspr'])\n",
    "\n",
    "# partitions\n",
    "ds_part = WVS_spec.spec.partition(\n",
    "    WVS_spec.Wspeed, WVS_spec.Wdir, WVS_spec.Depth, \n",
    "    wscut = wcut, max_swells = msw, agefac = agef,\n",
    ")\n",
    "\n",
    "WVS_parts = ds_part.spec.stats(['hs','tp','tm02','dpm','dspr']) \n",
    "\n",
    "# Add bulk Hs, Tp, Dir variables\n",
    "WVS_parts['Hs'] = bulk_params['hs']\n",
    "WVS_parts['Tp'] = bulk_params['tp']\n",
    "WVS_parts['Dir'] = bulk_params['dpm']\n",
    "\n",
    "# drop station id\n",
    "# WVS_parts = WVS_parts.drop('station')\n",
    "\n",
    "# # Save partitions data\n",
    "db.Save_WAVES_partitions(WVS_parts)"
   ]
  },
  {
   "cell_type": "code",
   "execution_count": null,
   "metadata": {},
   "outputs": [],
   "source": [
    "print(WVS_parts)"
   ]
  },
  {
   "cell_type": "markdown",
   "metadata": {},
   "source": [
    "\n",
    "## Calculate Historical Waves Families (CSIRO + wavespectra)"
   ]
  },
  {
   "cell_type": "code",
   "execution_count": 29,
   "metadata": {},
   "outputs": [
    {
     "name": "stdout",
     "output_type": "stream",
     "text": [
      "<xarray.Dataset>\n",
      "Dimensions:      (time: 365257)\n",
      "Coordinates:\n",
      "  * time         (time) datetime64[ns] 1979-01-01 ... 2020-09-01\n",
      "Data variables:\n",
      "    sea_Hs       (time) float64 nan 0.3987 0.5262 0.6879 ... nan nan 1.033 1.028\n",
      "    sea_Tp       (time) float64 nan 2.537 2.946 3.458 ... nan nan 7.648 7.694\n",
      "    sea_Dir      (time) float64 nan 74.86 74.6 73.9 ... nan nan 99.93 99.97\n",
      "    swell_1_Hs   (time) float64 nan nan nan nan nan ... 1.64 1.633 1.622 1.61\n",
      "    swell_1_Tp   (time) float64 nan nan nan nan nan ... 11.26 11.24 11.25 11.3\n",
      "    swell_1_Dir  (time) float64 nan nan nan nan nan ... 275.1 275.0 275.0 275.0\n",
      "    swell_2_Hs   (time) float64 nan nan nan nan ... 1.091 1.087 0.3185 0.3142\n",
      "    swell_2_Tp   (time) float64 nan nan nan nan nan ... 8.281 8.329 12.45 12.48\n",
      "    swell_2_Dir  (time) float64 nan nan nan nan nan ... 101.6 101.6 73.77 73.03\n",
      "    Hs           (time) float64 ...\n",
      "    Tp           (time) float64 ...\n",
      "    Dir          (time) float64 ...\n"
     ]
    }
   ],
   "source": [
    "# --------------------------------------\n",
    "# Calculate wave families from waves partitions data and waves sectors\n",
    "\n",
    "WVS_parts = db.Load_WAVES_partitions()       # waves partitions data (from CSIRO spectra and wavespectra toolbox)\n",
    "\n",
    "WVS = GetDistribution_ws(WVS_parts, fams_sectors, n_partitions=8)\n",
    "\n",
    "# Add wavespectra bulk Hs, Tp, Dir variables\n",
    "WVS['Hs'] = WVS_parts['Hs']\n",
    "WVS['Tp'] = WVS_parts['Tp']\n",
    "WVS['Dir'] = WVS_parts['Dir']\n",
    "\n",
    "# ensure time dimension does not repeat values\n",
    "_, index = np.unique(WVS['time'], return_index=True)\n",
    "WVS = WVS.isel(time=index)\n",
    "\n",
    "print(WVS)\n"
   ]
  },
  {
   "cell_type": "markdown",
   "metadata": {},
   "source": [
    "\n",
    "## Calculate Historical Waves Families (GOW)"
   ]
  },
  {
   "cell_type": "code",
   "execution_count": 17,
   "metadata": {},
   "outputs": [],
   "source": [
    "# --------------------------------------\n",
    "# Calculate wave families from waves partitions data and waves sectors\n",
    "\n",
    "#WVS_pts = db.Load_WAVES_partitions_GOW()  # waves partitions data (GOW)\n",
    "\n",
    "#WVS = GetDistribution_gow(WVS_pts, fams_sectors, n_partitions=5)\n",
    "\n",
    "# Add GOW Hs, Tp, Dir variables\n",
    "#WVS['Hs'] = WVS_pts['hs']\n",
    "#WVS['Tp'] = WVS_pts['tp']\n",
    "#WVS['Dir'] = WVS_pts['dir']\n"
   ]
  },
  {
   "cell_type": "markdown",
   "metadata": {},
   "source": [
    "\n",
    "## TCs: Waves  Selection "
   ]
  },
  {
   "cell_type": "code",
   "execution_count": 33,
   "metadata": {},
   "outputs": [
    {
     "name": "stdout",
     "output_type": "stream",
     "text": [
      "<xarray.Dataset>\n",
      "Dimensions:      (time: 365257)\n",
      "Coordinates:\n",
      "  * time         (time) datetime64[ns] 1979-01-01 ... 2020-09-01\n",
      "Data variables:\n",
      "    sea_Hs       (time) float64 nan 0.3987 0.5262 0.6879 ... nan nan 1.033 1.028\n",
      "    sea_Tp       (time) float64 nan 2.537 2.946 3.458 ... nan nan 7.648 7.694\n",
      "    sea_Dir      (time) float64 nan 74.86 74.6 73.9 ... nan nan 99.93 99.97\n",
      "    swell_1_Hs   (time) float64 nan nan nan nan nan ... 1.64 1.633 1.622 1.61\n",
      "    swell_1_Tp   (time) float64 nan nan nan nan nan ... 11.26 11.24 11.25 11.3\n",
      "    swell_1_Dir  (time) float64 nan nan nan nan nan ... 275.1 275.0 275.0 275.0\n",
      "    swell_2_Hs   (time) float64 nan nan nan nan ... 1.091 1.087 0.3185 0.3142\n",
      "    swell_2_Tp   (time) float64 nan nan nan nan nan ... 8.281 8.329 12.45 12.48\n",
      "    swell_2_Dir  (time) float64 nan nan nan nan nan ... 101.6 101.6 73.77 73.03\n",
      "    Hs           (time) float64 ...\n",
      "    Tp           (time) float64 ...\n",
      "    Dir          (time) float64 ...\n",
      "    TC_category  (time) float64 nan nan nan nan nan nan ... nan nan nan nan nan\n",
      "Attributes:\n",
      "    source:   teslakit_v0.9.1\n"
     ]
    }
   ],
   "source": [
    "# --------------------------------------\n",
    "# Locate TCs and set category alongside WAVES data  \n",
    "\n",
    "# remove TCs before 1979 and after 2020 (r1)\n",
    "dds = TCs_r1_params.dmin_date.values[:]\n",
    "ix = np.where((dds >= np.datetime64(tc_rm_date1)) & (dds <= np.datetime64(tc_rm_date2)))[0]\n",
    "TCs_r1_params = TCs_r1_params.isel(storm=ix)\n",
    "\n",
    "# select storms inside big circle \n",
    "storms_sel = TCs_r1_params.storm.values[:]\n",
    "\n",
    "# add TCs category alongside WAVES data\n",
    "WVS['TC_category'] = (('time',), np.empty(len(WVS.time))*np.nan)\n",
    "\n",
    "for s in storms_sel:\n",
    "\n",
    "    # waves at storm dates\n",
    "    ss = TCs_r1_params.sel(storm=s)     \n",
    "    wvs_s = WVS.sel(time = slice(ss.dmin_date, ss.last_date))\n",
    "    \n",
    "    # get hs_max date \n",
    "    t_hs_max = wvs_s.where(wvs_s.Hs ==  wvs_s.Hs.max(), drop=True).time.values[:][0]\n",
    "        \n",
    "    # hs_max time window \n",
    "    w1 = t_hs_max - np.timedelta64(tc_time_window,'h')\n",
    "    w2 = t_hs_max + np.timedelta64(tc_time_window,'h')\n",
    "    \n",
    "    # set category alongside WAVES data\n",
    "    ixs = np.where((WVS.time >= w1) & (WVS.time <= w2))[0]\n",
    "    WVS['TC_category'][ixs] = ss.category \n",
    "    \n",
    "print(WVS)\n",
    "\n",
    "# Store historical WAVES data\n",
    "db.Save_WAVES_hist(WVS)\n"
   ]
  },
  {
   "cell_type": "code",
   "execution_count": null,
   "metadata": {},
   "outputs": [],
   "source": []
  }
 ],
 "metadata": {
  "kernelspec": {
   "display_name": "Python 3",
   "language": "python",
   "name": "python3"
  },
  "language_info": {
   "codemirror_mode": {
    "name": "ipython",
    "version": 3
   },
   "file_extension": ".py",
   "mimetype": "text/x-python",
   "name": "python",
   "nbconvert_exporter": "python",
   "pygments_lexer": "ipython3",
   "version": "3.6.12"
  }
 },
 "nbformat": 4,
 "nbformat_minor": 4
}
