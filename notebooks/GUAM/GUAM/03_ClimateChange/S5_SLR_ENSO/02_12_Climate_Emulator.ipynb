{
 "cells": [
  {
   "cell_type": "markdown",
   "metadata": {},
   "source": [
    "\n",
    "... ***CURRENTLY UNDER DEVELOPMENT*** ...\n"
   ]
  },
  {
   "cell_type": "markdown",
   "metadata": {},
   "source": [
    "## Obtain synthetic waves and water level timeseries\n",
    "\n",
    "inputs required: \n",
    "  * Historical DWTs\n",
    "  * Historical wave families \n",
    "  * Historical intradaily hydrograph parameters\n",
    "  * TCs waves\n",
    "  * Historical runup at 3 locations\n",
    "  \n",
    "in this notebook:\n",
    "  * Fit a multivariate extreme model for the waves associated to each DWT\n",
    "  * Generate synthetic time series of wave conditions\n",
    "  * Validate the synthetic waves by means of mean distributions\n"
   ]
  },
  {
   "cell_type": "markdown",
   "metadata": {},
   "source": [
    "\n",
    "### Workflow:\n",
    "\n",
    "<div>\n",
    "<img src=\"resources/nb01_12.png\" width=\"400px\">\n",
    "</div>\n",
    "\n",
    "\n",
    "\n",
    "The **synthetic generation of wave conditions on a regular climate** (DWT1-36) is based on the work of Rueda et al. 2017. The probability of SW1, SW2, and SEA components being present (1) or not present (0) at the time of observed peak TWLproxy was used to create eight potential sea-states within each DWT (000, 100, 010, 001, 110, 101, 011, 111) defined by Bernoulli distributions . For each hydrograph produced in the simulations of climate, a random pick from the appropriate Bernoulli distribution determined which sea state was present during that hydrograph. A subsequent random pick from the assigned sea state’s marginal distributions defined the waves at the maximum TWL peak within the simulated hydrograph.\n",
    "\n",
    "The marginal distributions of waves and surge levels were associated with each other using multivariate gaussian copulas. The copulas define the dependence structure, or joint probabilities, between each environmental parameter within a sea state by identifying correlation matrices after transforming each marginal distribution to a uniform distribution. Identifying the correlation across all parameters through the copulas ensures that realistic combinations of compounding environmental parameters are present in the hypothetical time series (i.e., large storm waves approach from appropriate wave directions) (Masina et al. 2015; Corbella & Stretch, 2013). The marginal distributions of wave heights were defined by GEVs to allow for simulation of extremes with longer return periods than the observation period, while wave periods and directions were defined by empirical distributions constructed from observations. \n",
    "\n",
    "Additional parameters including τ (timing of the peak TWL within a hydrograph) and μ (area under the hydrograph) were also added to each copula and randomly sampled for each simulated hydrograph. The two parameters effectively define a trapezoidal shape for each simulated hydrograph, analogous to the storm schematization of other recent works (e.g., Poelhekke et al., 2016). Including these parameters in the copulas accounts for correlation between storminess and hydrograph shape (peaky hydrographs are commonly associated with storm conditions while more flat hydrographs typically occur during calmer conditions). The shape of the simulated hydrograph will be use to interpolate to an hourly value of the TWLproxy, and subsequently an hourly value of wave conditions *(notebook 14)*\n",
    "\n",
    "In the case on **waves associated to a TC event**, the associated simulated waves from WWIII simulation that have been reconstructed in *notebook 07* are use whenever the simulated TC enters the 4 degrees radio.\n",
    "\n",
    "\n"
   ]
  },
  {
   "cell_type": "code",
   "execution_count": 1,
   "metadata": {},
   "outputs": [],
   "source": [
    "#!/usr/bin/env python\n",
    "# -*- coding: utf-8 -*-\n",
    "\n",
    "# common\n",
    "import os\n",
    "import os.path as op\n",
    "\n",
    "# pip\n",
    "import numpy as np\n",
    "import xarray as xr\n",
    "import pandas as pd\n",
    "from datetime import datetime\n",
    "import matplotlib.pyplot as plt\n",
    "\n",
    "# DEV: override installed teslakit\n",
    "import sys\n",
    "sys.path.insert(0, op.join(os.path.abspath(''), '..', '..', '..', '..'))\n",
    "\n",
    "# teslakit\n",
    "from teslakit.database import Database\n",
    "from teslakit.climate_emulator import Climate_Emulator\n",
    "from teslakit.waves import AWL, Aggregate_WavesFamilies\n",
    "\n",
    "from teslakit.plotting.outputs import Plot_FitSim_Histograms\n",
    "from teslakit.plotting.extremes import Plot_FitSim_AnnualMax, Plot_FitSim_GevFit, Plot_Fit_QQ\n",
    "\n",
    "from teslakit.plotting.waves import Plot_Waves_Histogram_FitSim\n"
   ]
  },
  {
   "cell_type": "markdown",
   "metadata": {},
   "source": [
    "\n",
    "## Database and Site parameters"
   ]
  },
  {
   "cell_type": "code",
   "execution_count": 2,
   "metadata": {},
   "outputs": [],
   "source": [
    "# --------------------------------------\n",
    "# Teslakit database\n",
    "p_data = r'/media/administrador/HD/Dropbox/Guam/teslakit/data'\n",
    "# p_data=r'/Users/laurac/Dropbox/Guam/teslakit/data'\n",
    "# offshore\n",
    "db = Database(p_data)\n",
    "db.SetSite('GUAM')\n",
    "\n",
    "# climate change - S5\n",
    "db_S5 = Database(p_data)\n",
    "db_S5.SetSite('GUAM_CC_S5')\n",
    "\n",
    "\n",
    "# climate emulator simulation modified path\n",
    "p_S5_CE_sims = op.join(db_S5.paths.site.EXTREMES.climate_emulator, 'Simulations')\n"
   ]
  },
  {
   "cell_type": "code",
   "execution_count": 3,
   "metadata": {},
   "outputs": [],
   "source": [
    "# --------------------------------------\n",
    "# Load data for climate emulator simulation (Simulate_Waves): ESTELA DWT \n",
    "\n",
    "DWTs_sim = db_S5.Load_ESTELA_DWT_sim()\n",
    "\n",
    "# --------------------------------------\n",
    "# Load data for climate emulator simulation (Simulate_TCs): TCs (MU, TAU) for N, S & E\n",
    "TCs_params = db.Load_TCs_r2_sim_params()    # TCs parameters (copula generated) \n",
    "TCs_RBFs = db.Load_TCs_sim_r2_rbf_output()  # TCs numerical_IH-RBFs_interpolation output\n",
    "\n",
    "probs_TCs =  db.Load_TCs_probs_synth()      # TCs synthetic probabilities\n",
    "pchange_TCs = probs_TCs['category_change_cumsum'].values[:]\n",
    "\n",
    "l_mutau_wt = db.Load_MU_TAU_hydrograms()   # MU - TAU intradaily hidrographs for each WWT\n",
    "MU_WT = np.array([x.MU.values[:] for x in l_mutau_wt])  # MU and TAU numpy arrays\n",
    "TAU_WT = np.array([x.TAU.values[:] for x in l_mutau_wt])"
   ]
  },
  {
   "cell_type": "code",
   "execution_count": 4,
   "metadata": {},
   "outputs": [
    {
     "name": "stdout",
     "output_type": "stream",
     "text": [
      "<xarray.Dataset>\n",
      "Dimensions:      (n_sim: 10, time: 365244)\n",
      "Coordinates:\n",
      "  * time         (time) object 2000-01-01 00:00:00 ... 3000-01-01 00:00:00\n",
      "Dimensions without coordinates: n_sim\n",
      "Data variables:\n",
      "    evbmus_sims  (time, n_sim) float32 ...\n",
      "Attributes:\n",
      "    source:   teslakit_v0.9.1\n"
     ]
    }
   ],
   "source": [
    "# solve first 10 DWTs simulations\n",
    "\n",
    "DWTs_sim = DWTs_sim.isel(n_sim=slice(0, 10))\n",
    "\n",
    "print(DWTs_sim)\n"
   ]
  },
  {
   "cell_type": "code",
   "execution_count": 5,
   "metadata": {
    "scrolled": true
   },
   "outputs": [],
   "source": [
    "# --------------------------------------\n",
    "# Climate Emulator extremes model fitting\n",
    "\n",
    "# climate emulator object\n",
    "CE = Climate_Emulator(db.paths.site.EXTREMES.climate_emulator)\n",
    "CE.Load()\n",
    "\n",
    "# set a new path for S5 simulations\n",
    "CE.Set_Simulation_Folder(p_S5_CE_sims, copy_WAVES_noTCs = False)  # climate change waves (no TCs) not simulated, DWTs have changed\n",
    "\n",
    "\n",
    "    \n",
    "# optional: list variables to override distribution to empirical\n",
    "#CE.sim_icdf_empirical_override = ['sea_Hs_31',\n",
    "#                                  'swell_1_Hs_1','swell_1_Tp_1',\n",
    "#                                  'swell_1_Hs_2','swell_1_Tp_2',]\n",
    "\n",
    "# set simulated waves min-max filter\n",
    "CE.sim_waves_filter.update({\n",
    "    'hs': (0, 12),\n",
    "    'tp': (2, 25),\n",
    "    'ws': (0, 0.06),\n",
    "})\n"
   ]
  },
  {
   "cell_type": "markdown",
   "metadata": {},
   "source": [
    "\n",
    "## Climate Emulator - Simulation"
   ]
  },
  {
   "cell_type": "code",
   "execution_count": null,
   "metadata": {},
   "outputs": [],
   "source": [
    "# --------------------------------------\n",
    "#  Climate Emulator simulation\n",
    "\n",
    "# each DWT series will generate a different set of waves\n",
    "for n in DWTs_sim.n_sim[:]:\n",
    "    print('- Sim: {0} -'.format(int(n)+1))\n",
    "    \n",
    "    # Select DWTs simulation\n",
    "    DWTs = DWTs_sim.sel(n_sim=n)\n",
    "\n",
    "    # Simulate waves\n",
    "    n_ce = 1  # (one CE sim. for each DWT sim.)\n",
    "    WVS_sim = CE.Simulate_Waves(DWTs, n_ce, filters={'hs':True, 'tp':True, 'ws':True})\n",
    "\n",
    "    # Simulate TCs and update simulated waves\n",
    "    TCs_sim, WVS_upd = CE.Simulate_TCs(DWTs, WVS_sim, TCs_params, TCs_RBFs, pchange_TCs, MU_WT, TAU_WT, extra_vars_update=['wind_speed', 'wind_dir'])\n",
    "    \n",
    "    # store simulation data\n",
    "    CE.SaveSim(WVS_sim, TCs_sim, WVS_upd, int(n))    \n",
    "   \n",
    "\n"
   ]
  },
  {
   "cell_type": "code",
   "execution_count": null,
   "metadata": {},
   "outputs": [],
   "source": []
  }
 ],
 "metadata": {
  "kernelspec": {
   "display_name": "Python 3",
   "language": "python",
   "name": "python3"
  },
  "language_info": {
   "codemirror_mode": {
    "name": "ipython",
    "version": 3
   },
   "file_extension": ".py",
   "mimetype": "text/x-python",
   "name": "python",
   "nbconvert_exporter": "python",
   "pygments_lexer": "ipython3",
   "version": "3.6.12"
  }
 },
 "nbformat": 4,
 "nbformat_minor": 4
}
