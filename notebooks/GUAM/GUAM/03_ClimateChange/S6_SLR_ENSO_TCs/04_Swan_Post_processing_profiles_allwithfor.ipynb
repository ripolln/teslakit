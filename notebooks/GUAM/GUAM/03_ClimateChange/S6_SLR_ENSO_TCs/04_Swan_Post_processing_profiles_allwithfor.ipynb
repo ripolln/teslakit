{
 "cells": [
  {
   "cell_type": "markdown",
   "metadata": {},
   "source": [
    "## Plotting of profile results"
   ]
  },
  {
   "cell_type": "code",
   "execution_count": 1,
   "metadata": {},
   "outputs": [],
   "source": [
    "#!/usr/bin/env python\n",
    "# -*- coding: utf-8 -*-\n",
    "\n",
    "# common\n",
    "import os\n",
    "import os.path as op\n",
    "\n",
    "# pip\n",
    "import numpy as np\n",
    "import pandas as pd\n",
    "import xarray as xr\n",
    "import matplotlib.pyplot as plt\n",
    "from matplotlib import gridspec\n",
    "\n",
    "# DEV: override installed teslakit\n",
    "import sys\n",
    "sys.path.insert(0, op.join(os.path.abspath(''), '..', '..', '..', '..'))\n",
    "\n",
    "# teslakit\n",
    "from teslakit.database import Database, hyswan_db\n"
   ]
  },
  {
   "cell_type": "code",
   "execution_count": 2,
   "metadata": {},
   "outputs": [],
   "source": [
    "from teslakit.database import SplitStorage\n",
    "def Load_SIM_NEARSHORE_all(db, vns=[], decode_times=False, use_cftime=False, prf=[]):\n",
    "        ps = db.paths.site.SIMULATION.nearshore\n",
    "\n",
    "        # locate simulations\n",
    "        #sims = sorted([x for x in os.listdir(ps) if x.isdigit() and op.isdir(op.join(ps, x))])\n",
    "        sims = sorted([x for x in os.listdir(ps) if x.endswith(\"_prf_\"+str(prf))])\n",
    "\n",
    "        # read all simulations\n",
    "        for c, nm in enumerate(sims):\n",
    "            ps_sim = op.join(ps, nm)\n",
    "            s = SplitStorage(ps_sim)\n",
    "\n",
    "            # read time and variables from first file\n",
    "            if c==0:\n",
    "                ds = s.Load(vns=vns, decode_times=False)\n",
    "\n",
    "                # generate output xarray.Dataset, dims and vars\n",
    "                out = xr.Dataset({}, coords={'time': ds.time, 'n_sim':range(len(sims))})\n",
    "                for vds in ds.variables:\n",
    "                    if vds == 'time': continue\n",
    "                    out[vds] = (('time', 'n_sim',), np.nan*np.zeros((len(out.time), len(out.n_sim))))\n",
    "                    out[vds].loc[dict(n_sim=c)] = ds[vds]\n",
    "\n",
    "            else:\n",
    "                ds = s.Load(vns=vns, decode_times=False)\n",
    "\n",
    "                # fill output xarray.Dataset\n",
    "                for vds in ds.variables:\n",
    "                    if vds == 'time': continue\n",
    "                    out[vds].loc[dict(n_sim=c)] = ds[vds]\n",
    "\n",
    "        # optional decode times to cftime \n",
    "        if decode_times:\n",
    "            out = xr.decode_cf(out, use_cftime=use_cftime)\n",
    "\n",
    "        return out"
   ]
  },
  {
   "cell_type": "code",
   "execution_count": 3,
   "metadata": {},
   "outputs": [],
   "source": [
    "# --------------------------------------\n",
    "# Teslakit database\n",
    "p_data = r'/media/administrador/HD/Dropbox/Guam/teslakit/data'\n",
    "# p_data=r'/Users/laurac/Dropbox/Guam/teslakit/data'\n",
    "# offshore\n",
    "db = Database(p_data)\n",
    "db.SetSite('GUAM')\n",
    "\n",
    "# climate change - S6\n",
    "db_S6 = Database(p_data)\n",
    "db_S6.SetSite('GUAM_CC_S6')\n",
    "\n",
    "# hyswan simulation database\n",
    "db_sim = hyswan_db(db.paths.site.HYSWAN.sim)\n",
    "db_sim_S6 = hyswan_db(db_S6.paths.site.HYSWAN.sim)"
   ]
  },
  {
   "cell_type": "markdown",
   "metadata": {},
   "source": [
    "### Set profile and load data"
   ]
  },
  {
   "cell_type": "code",
   "execution_count": 4,
   "metadata": {},
   "outputs": [],
   "source": [
    "def Plot_profile(profile):\n",
    "    colors=['royalblue','crimson','gold','darkmagenta','darkgreen','darkorange','mediumpurple','coral','pink','lightgreen','darkgreen','darkorange']\n",
    "    fig=plt.figure(figsize=[17,4])\n",
    "    gs1=gridspec.GridSpec(1,1)\n",
    "    ax=fig.add_subplot(gs1[0])\n",
    "\n",
    "    ax.plot(profile.Distance_profile, profile.Elevation,linewidth=3,color=colors[prf],alpha=0.7,label='Profile: ' + str(prf))\n",
    "    s=np.where(profile.Elevation<0)[0][0]\n",
    "    ax.plot(profile.Distance_profile[s],profile.Elevation[s],'s',color=colors[prf],markersize=10)\n",
    "    ax.plot([0,1500],[0,0],':',color='plum',alpha=0.7)\n",
    "    ax.plot([0,1500],[np.nanmin(profile.Elevation),np.nanmin(profile.Elevation)],':',color='plum',alpha=0.7)\n",
    "\n",
    "    ax.set_xlabel(r'Distance (m)', fontsize=14)\n",
    "    ax.set_ylabel(r'Elevation (m)', fontsize=14)\n",
    "    ax.legend()\n",
    "    ax.set_xlim([0,np.nanmax(profile.Distance_profile)])"
   ]
  },
  {
   "cell_type": "code",
   "execution_count": 6,
   "metadata": {},
   "outputs": [
    {
     "name": "stdout",
     "output_type": "stream",
     "text": [
      "Profile_ 0\n",
      "Profile_ 1\n",
      "Profile_ 2\n",
      "Profile_ 3\n",
      "Profile_ 4\n",
      "Profile_ 5\n",
      "Profile_ 6\n",
      "Profile_ 7\n",
      "Profile_ 8\n",
      "Profile_ 9\n",
      "Profile_ 10\n",
      "Profile_ 11\n"
     ]
    }
   ],
   "source": [
    "# prf=11\n",
    "\n",
    "for prf in range(12):\n",
    "    \n",
    "    print('Profile_ ' + str(prf))\n",
    "    \n",
    "    profiles=xr.open_dataset('/media/administrador/HD/Dropbox/Guam/bati guam/Profiles_Guam_curt.nc')\n",
    "    profile=profiles.sel(profile=prf)\n",
    "    profile\n",
    "#     Plot_profile(profile)\n",
    "    \n",
    "    # Simulation\n",
    "    sim=Load_SIM_NEARSHORE_all(db_S6,vns=['Hs','Tp','Dir'], decode_times=False, use_cftime=False, prf=prf)\n",
    "    sim2=db_S6.Load_SIM_OFFSHORE_all(vns=['level','wind_dir','wind_speed'], decode_times=False, use_cftime=False) #Level=SS+AT+MMSL\n",
    "    sim['level']=sim2.level\n",
    "    sim['wind_dir']=sim2.wind_dir\n",
    "    sim['wind_speed']=sim2.wind_speed\n",
    "    \n",
    "    SIM=sim.to_dataframe().reset_index()\n",
    "    SIM.to_pickle(os.path.join(db_S6.paths.site.SIMULATION.nearshore,'Simulations_profile_'+str(prf)))\n",
    "\n"
   ]
  },
  {
   "cell_type": "raw",
   "metadata": {},
   "source": [
    "fig=plt.figure(figsize=[14,8])\n",
    "vars=['Hs','Tp','Dir','level','wind_dir','wind_speed']\n",
    "units=[' (m)',' (s)',' (º)',' (m)',' (º)',' (m/s)']\n",
    "\n",
    "gs1=gridspec.GridSpec(2,3)\n",
    "\n",
    "for a in range(len(vars)):\n",
    "    ax=fig.add_subplot(gs1[a])\n",
    "    ax.hist(SIM[vars[a]],90,density=True,color='darkmagenta')\n",
    "    ax.set_xlabel(vars[a] + units[a],fontsize=13)"
   ]
  },
  {
   "cell_type": "code",
   "execution_count": null,
   "metadata": {},
   "outputs": [],
   "source": []
  }
 ],
 "metadata": {
  "kernelspec": {
   "display_name": "Python 3",
   "language": "python",
   "name": "python3"
  },
  "language_info": {
   "codemirror_mode": {
    "name": "ipython",
    "version": 3
   },
   "file_extension": ".py",
   "mimetype": "text/x-python",
   "name": "python",
   "nbconvert_exporter": "python",
   "pygments_lexer": "ipython3",
   "version": "3.6.12"
  }
 },
 "nbformat": 4,
 "nbformat_minor": 4
}
