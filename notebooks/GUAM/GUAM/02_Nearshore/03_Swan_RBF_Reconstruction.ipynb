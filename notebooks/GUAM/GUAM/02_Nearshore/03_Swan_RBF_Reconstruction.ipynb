{
 "cells": [
  {
   "cell_type": "markdown",
   "metadata": {},
   "source": [
    "\n",
    "... ***CURRENTLY UNDER DEVELOPMENT*** ...\n"
   ]
  },
  {
   "cell_type": "markdown",
   "metadata": {},
   "source": [
    "## RBFs reconstruction of historical and synthetic data\n",
    "\n",
    "inputs required: \n",
    "  * Synthetic offshore waves - emulator output\n",
    "  * Sea and swell **SWAN simulated cases**\n",
    "\n",
    "in this notebook:\n",
    "  * RBF reconstruction simulated storms\n",
    "  * Generation of hourly nearshore waves with Intradaily Hydrographs\n"
   ]
  },
  {
   "cell_type": "markdown",
   "metadata": {},
   "source": [
    "\n",
    "### Workflow:\n",
    "\n",
    "<div>\n",
    "<img src=\"../resources/nb02_03.png\" width=\"400px\">\n",
    "</div>\n",
    "\n"
   ]
  },
  {
   "cell_type": "code",
   "execution_count": 1,
   "metadata": {},
   "outputs": [],
   "source": [
    "#!/usr/bin/env python\n",
    "# -*- coding: utf-8 -*-\n",
    "\n",
    "# common\n",
    "import os\n",
    "import os.path as op\n",
    "\n",
    "# pip\n",
    "import numpy as np\n",
    "import pandas as pd\n",
    "import xarray as xr\n",
    "import matplotlib.pyplot as plt\n",
    "\n",
    "# DEV: override installed teslakit\n",
    "import sys\n",
    "sys.path.insert(0, op.join(os.path.abspath(''), '..', '..',  '..'))\n",
    "\n",
    "# teslakit\n",
    "from teslakit.database import Database, hyswan_db\n",
    "from teslakit.rbf import RBF_Reconstruction, RBF_Validation\n",
    "from teslakit.waves import Aggregate_WavesFamilies, AWL, Intradaily_Hydrograph, Snell_Propagation\n",
    "from teslakit.climate_emulator import Climate_Emulator\n",
    "from teslakit.util.time_operations import repair_times_hourly, add_max_storms_mask\n"
   ]
  },
  {
   "cell_type": "markdown",
   "metadata": {},
   "source": [
    "\n",
    "## Database and Site parameters"
   ]
  },
  {
   "cell_type": "code",
   "execution_count": 2,
   "metadata": {},
   "outputs": [],
   "source": [
    "# --------------------------------------\n",
    "# Teslakit database\n",
    "\n",
    "p_data = r'/media/administrador/HD/Dropbox/Guam/teslakit/data'\n",
    "# p_data=r'/Users/laurac/Dropbox/Guam/teslakit/data'\n",
    "db = Database(p_data)\n",
    "\n",
    "# set site\n",
    "db.SetSite('GUAM')\n",
    "\n",
    "# hyswan simulation database\n",
    "db_sim = hyswan_db(db.paths.site.HYSWAN.sim)\n"
   ]
  },
  {
   "cell_type": "markdown",
   "metadata": {},
   "source": [
    "## Define profile to run"
   ]
  },
  {
   "cell_type": "code",
   "execution_count": 3,
   "metadata": {},
   "outputs": [],
   "source": [
    "prf=12"
   ]
  },
  {
   "cell_type": "code",
   "execution_count": 4,
   "metadata": {},
   "outputs": [],
   "source": [
    "# --------------------------------------\n",
    "# aux.\n",
    "\n",
    "def fix_target_nans(subset, target):\n",
    "    'remove NaN data indexes from subset and target. RBF does not handle NaNs'\n",
    "    \n",
    "    r_nan = target.isnull().any(axis=1)  # find any row with nans\n",
    "\n",
    "    if r_nan.any():\n",
    "        # log\n",
    "        print('remove nan data found at target:')\n",
    "        print(target[r_nan])\n",
    "        \n",
    "        # clean data\n",
    "        target = target[~r_nan]\n",
    "        subset = subset[~r_nan]\n",
    "        \n",
    "    return subset, target\n",
    "\n",
    "\n",
    "# Snell propagation 400m -> 21m\n",
    "def snell_prop_data(waves_dset, d1, d2, ob):\n",
    "    'teslakit/waves.py Snell_Propagation func. parser'\n",
    "    \n",
    "    # get variables\n",
    "    Tp = waves_dset['TPsmoo'].values[:]\n",
    "    Hs = waves_dset['Hsig'].values[:]\n",
    "    Dir = waves_dset['Dir'].values[:]\n",
    "  \n",
    "    # TODO: check dir modifications and refactor\n",
    "    dir_I = Dir.copy()\n",
    "\n",
    "    # El angulo definido entre -90 y 90\n",
    "    dir_I[np.where(dir_I > 180)[0]] = dir_I[np.where(dir_I > 180)[0]] - 360\n",
    "\n",
    "    # Obligamos que el angulo este en este sector\n",
    "    dir_I[np.where(dir_I > 90)[0]] = 85\n",
    "    dir_I[np.where(dir_I <= -90)[0]] = -85\n",
    "\n",
    "    Hs_p, Dir_p, ks, kp = Snell_Propagation(Tp, Hs, dir_I, d1, d2, ob)\n",
    "    \n",
    "    # return copy of input\n",
    "    out = waves_dset.copy()\n",
    "    out['Hsig'] = Hs_p\n",
    "    out['Dir'] = Dir_p\n",
    "    \n",
    "    return out\n"
   ]
  },
  {
   "cell_type": "markdown",
   "metadata": {},
   "source": [
    "\n",
    "## SIMULATION Waves Reconstruction"
   ]
  },
  {
   "cell_type": "code",
   "execution_count": 5,
   "metadata": {},
   "outputs": [],
   "source": [
    "# --------------------------------------\n",
    "# RBF Reconstruction data\n",
    "\n",
    "# historical sea\n",
    "wvs_sea_dataset = db_sim.Load('sea_dataset').loc[:,['hs','tp','dir']] \n",
    "wvs_sea_subset = db_sim.Load('sea_subset').loc[:,['hs','tp','dir']] \n",
    "wvs_sea_target = db_sim.Load('sea_target').reset_index() \n",
    "\n",
    "# historical swells\n",
    "wvs_swl_dataset = db_sim.Load('swl_dataset').loc[:,['hs','tp','dir']]  \n",
    "wvs_swl_subset = db_sim.Load('swl_subset').loc[:,['hs','tp','dir']] \n",
    "wvs_swl_target = db_sim.Load('swl_target').reset_index() \n",
    "\n",
    "wvs_swl_target=wvs_swl_target.loc[wvs_swl_target['profile'] ==prf].reset_index().loc[:,['Hsig','TPsmoo','Dir']]\n",
    "wvs_sea_target=wvs_sea_target.loc[wvs_sea_target['profile'] ==prf].reset_index().loc[:,['Hsig','TPsmoo','Dir']]\n"
   ]
  },
  {
   "cell_type": "code",
   "execution_count": 6,
   "metadata": {},
   "outputs": [
    {
     "name": "stdout",
     "output_type": "stream",
     "text": [
      "remove nan data found at target:\n",
      "     Hsig  TPsmoo  Dir\n",
      "0     NaN     NaN  NaN\n",
      "1     NaN     NaN  NaN\n",
      "2     NaN     NaN  NaN\n",
      "3     NaN     NaN  NaN\n",
      "4     NaN     NaN  NaN\n",
      "..    ...     ...  ...\n",
      "495   NaN     NaN  NaN\n",
      "496   NaN     NaN  NaN\n",
      "497   NaN     NaN  NaN\n",
      "498   NaN     NaN  NaN\n",
      "499   NaN     NaN  NaN\n",
      "\n",
      "[500 rows x 3 columns]\n"
     ]
    }
   ],
   "source": [
    "# --------------------------------------\n",
    "# prepare dataset, subset and target data (propagated waves)\n",
    "\n",
    "# solve Hs coefficient\n",
    "wvs_sea_target['Hsig'] = wvs_sea_target['Hsig']\n",
    "wvs_swl_target['Hsig'] = wvs_swl_target['Hsig'] * wvs_swl_subset['hs']\n",
    "\n",
    "# Snell propagation \n",
    "# depth_1, depth_2, bathy_dir = 400, 21, 0\n",
    "# wvs_sea_target = snell_prop_data(wvs_sea_target, depth_1, depth_2, bathy_dir)\n",
    "# wvs_swl_target = snell_prop_data(wvs_swl_target, depth_1, depth_2, bathy_dir)\n",
    "\n",
    "\n",
    "# remove nans (if any) from subset and target\n",
    "wvs_sea_subset, wvs_sea_target = fix_target_nans(wvs_sea_subset, wvs_sea_target)\n",
    "wvs_swl_subset, wvs_swl_target = fix_target_nans(wvs_swl_subset, wvs_swl_target)\n",
    "\n",
    "\n",
    "# ensure dataset and subset have same variables and column order\n",
    "vns_ds = ['hs', 'tp', 'dir']\n",
    "\n",
    "wvs_sea_dataset = wvs_sea_dataset[vns_ds].values\n",
    "wvs_sea_subset = wvs_sea_subset[vns_ds].values\n",
    "\n",
    "wvs_swl_dataset = wvs_swl_dataset[vns_ds].values\n",
    "wvs_swl_subset = wvs_swl_subset[vns_ds].values\n",
    "\n",
    "\n",
    "# select target variables\n",
    "vns_tgt = ['Hsig', 'TPsmoo', 'Dir']\n",
    "\n",
    "wvs_sea_target = wvs_sea_target[vns_tgt].values\n",
    "wvs_swl_target = wvs_swl_target[vns_tgt].values\n"
   ]
  },
  {
   "cell_type": "code",
   "execution_count": 7,
   "metadata": {},
   "outputs": [],
   "source": [
    "# --------------------------------------\n",
    "# RBF Reconstruction library\n",
    "\n",
    "# subset - scalar / directional indexes\n",
    "ix_scalar_subset = [0,1]      # scalar (hs, tp)\n",
    "ix_directional_subset = [2]   # directional (dir)\n",
    "\n",
    "# target - scalar / directional indexes\n",
    "ix_scalar_target = [0,1]      # scalar (Hsig, Tpsmoo, Dir)\n",
    "ix_directional_target = [2]   # directional (Dir)\n",
    "\n",
    "\n",
    "# RBF wrappers \n",
    "def RBF_Reconstruction_sea(dataset_input):\n",
    "    \n",
    "    return RBF_Reconstruction(\n",
    "    wvs_sea_subset, ix_scalar_subset, ix_directional_subset,\n",
    "    wvs_sea_target, ix_scalar_target, ix_directional_target,\n",
    "    dataset_input)\n",
    "\n",
    "def RBF_Reconstruction_swell(dataset_input):\n",
    "    \n",
    "    return RBF_Reconstruction(\n",
    "    wvs_swl_subset, ix_scalar_subset, ix_directional_subset,\n",
    "    wvs_swl_target, ix_scalar_target, ix_directional_target,\n",
    "    dataset_input)\n",
    "\n",
    "def RBF_Reconstruction_families(data):\n",
    "   \n",
    "    # sea\n",
    "    vs = ['sea_Hs', 'sea_Tp', 'sea_Dir']\n",
    "    data_sea = data[vs].dropna()\n",
    "    data_sea.drop(data_sea[(data_sea['sea_Dir'] >= 360)].index, inplace=True)  # fix sea_Dir >> 360 bug    \n",
    "    rec_sea = RBF_Reconstruction_sea(data_sea.values)\n",
    "    rec_sea = pd.DataFrame(data=rec_sea, columns=vs, index=data_sea.index)\n",
    "\n",
    "    # swell 1\n",
    "    vs = ['swell_1_Hs', 'swell_1_Tp', 'swell_1_Dir']\n",
    "    data_swl_1 = data[vs].dropna()\n",
    "    rec_swl_1 = RBF_Reconstruction_swell(data_swl_1.values)\n",
    "    rec_swl_1 = pd.DataFrame(data=rec_swl_1, columns=vs, index=data_swl_1.index)\n",
    "\n",
    "    # swell 2\n",
    "    vs = ['swell_2_Hs', 'swell_2_Tp', 'swell_2_Dir']\n",
    "    data_swl_2 = data[vs].dropna()\n",
    "    rec_swl_2 = RBF_Reconstruction_swell(data_swl_2.values)\n",
    "    rec_swl_2 = pd.DataFrame(data=rec_swl_2, columns=vs, index=data_swl_2.index)\n",
    "    \n",
    "    # join nearshore reconstructed data and parse to xarray.Dataset\n",
    "    rec_waves = pd.concat([rec_sea, rec_swl_1, rec_swl_2], axis=1)\n",
    "\n",
    "    # return pandas.dataframe\n",
    "    return rec_waves\n"
   ]
  },
  {
   "cell_type": "code",
   "execution_count": 8,
   "metadata": {},
   "outputs": [
    {
     "ename": "LinAlgError",
     "evalue": "Incompatible dimensions",
     "output_type": "error",
     "traceback": [
      "\u001b[0;31m---------------------------------------------------------------------------\u001b[0m",
      "\u001b[0;31mLinAlgError\u001b[0m                               Traceback (most recent call last)",
      "\u001b[0;32m<ipython-input-8-d5fb0dfae18c>\u001b[0m in \u001b[0;36m<module>\u001b[0;34m\u001b[0m\n\u001b[1;32m     10\u001b[0m \u001b[0;34m\u001b[0m\u001b[0m\n\u001b[1;32m     11\u001b[0m \u001b[0;31m# Reconstruct waves by families\u001b[0m\u001b[0;34m\u001b[0m\u001b[0;34m\u001b[0m\u001b[0;34m\u001b[0m\u001b[0m\n\u001b[0;32m---> 12\u001b[0;31m \u001b[0mWVS_rec\u001b[0m \u001b[0;34m=\u001b[0m \u001b[0mRBF_Reconstruction_families\u001b[0m\u001b[0;34m(\u001b[0m\u001b[0mWVS\u001b[0m\u001b[0;34m)\u001b[0m\u001b[0;34m\u001b[0m\u001b[0;34m\u001b[0m\u001b[0m\n\u001b[0m\u001b[1;32m     13\u001b[0m \u001b[0;34m\u001b[0m\u001b[0m\n\u001b[1;32m     14\u001b[0m \u001b[0;34m\u001b[0m\u001b[0m\n",
      "\u001b[0;32m<ipython-input-7-bb38caf76650>\u001b[0m in \u001b[0;36mRBF_Reconstruction_families\u001b[0;34m(data)\u001b[0m\n\u001b[1;32m     32\u001b[0m     \u001b[0mdata_sea\u001b[0m \u001b[0;34m=\u001b[0m \u001b[0mdata\u001b[0m\u001b[0;34m[\u001b[0m\u001b[0mvs\u001b[0m\u001b[0;34m]\u001b[0m\u001b[0;34m.\u001b[0m\u001b[0mdropna\u001b[0m\u001b[0;34m(\u001b[0m\u001b[0;34m)\u001b[0m\u001b[0;34m\u001b[0m\u001b[0;34m\u001b[0m\u001b[0m\n\u001b[1;32m     33\u001b[0m     \u001b[0mdata_sea\u001b[0m\u001b[0;34m.\u001b[0m\u001b[0mdrop\u001b[0m\u001b[0;34m(\u001b[0m\u001b[0mdata_sea\u001b[0m\u001b[0;34m[\u001b[0m\u001b[0;34m(\u001b[0m\u001b[0mdata_sea\u001b[0m\u001b[0;34m[\u001b[0m\u001b[0;34m'sea_Dir'\u001b[0m\u001b[0;34m]\u001b[0m \u001b[0;34m>=\u001b[0m \u001b[0;36m360\u001b[0m\u001b[0;34m)\u001b[0m\u001b[0;34m]\u001b[0m\u001b[0;34m.\u001b[0m\u001b[0mindex\u001b[0m\u001b[0;34m,\u001b[0m \u001b[0minplace\u001b[0m\u001b[0;34m=\u001b[0m\u001b[0;32mTrue\u001b[0m\u001b[0;34m)\u001b[0m  \u001b[0;31m# fix sea_Dir >> 360 bug\u001b[0m\u001b[0;34m\u001b[0m\u001b[0;34m\u001b[0m\u001b[0m\n\u001b[0;32m---> 34\u001b[0;31m     \u001b[0mrec_sea\u001b[0m \u001b[0;34m=\u001b[0m \u001b[0mRBF_Reconstruction_sea\u001b[0m\u001b[0;34m(\u001b[0m\u001b[0mdata_sea\u001b[0m\u001b[0;34m.\u001b[0m\u001b[0mvalues\u001b[0m\u001b[0;34m)\u001b[0m\u001b[0;34m\u001b[0m\u001b[0;34m\u001b[0m\u001b[0m\n\u001b[0m\u001b[1;32m     35\u001b[0m     \u001b[0mrec_sea\u001b[0m \u001b[0;34m=\u001b[0m \u001b[0mpd\u001b[0m\u001b[0;34m.\u001b[0m\u001b[0mDataFrame\u001b[0m\u001b[0;34m(\u001b[0m\u001b[0mdata\u001b[0m\u001b[0;34m=\u001b[0m\u001b[0mrec_sea\u001b[0m\u001b[0;34m,\u001b[0m \u001b[0mcolumns\u001b[0m\u001b[0;34m=\u001b[0m\u001b[0mvs\u001b[0m\u001b[0;34m,\u001b[0m \u001b[0mindex\u001b[0m\u001b[0;34m=\u001b[0m\u001b[0mdata_sea\u001b[0m\u001b[0;34m.\u001b[0m\u001b[0mindex\u001b[0m\u001b[0;34m)\u001b[0m\u001b[0;34m\u001b[0m\u001b[0;34m\u001b[0m\u001b[0m\n\u001b[1;32m     36\u001b[0m \u001b[0;34m\u001b[0m\u001b[0m\n",
      "\u001b[0;32m<ipython-input-7-bb38caf76650>\u001b[0m in \u001b[0;36mRBF_Reconstruction_sea\u001b[0;34m(dataset_input)\u001b[0m\n\u001b[1;32m     17\u001b[0m     \u001b[0mwvs_sea_subset\u001b[0m\u001b[0;34m,\u001b[0m \u001b[0mix_scalar_subset\u001b[0m\u001b[0;34m,\u001b[0m \u001b[0mix_directional_subset\u001b[0m\u001b[0;34m,\u001b[0m\u001b[0;34m\u001b[0m\u001b[0;34m\u001b[0m\u001b[0m\n\u001b[1;32m     18\u001b[0m     \u001b[0mwvs_sea_target\u001b[0m\u001b[0;34m,\u001b[0m \u001b[0mix_scalar_target\u001b[0m\u001b[0;34m,\u001b[0m \u001b[0mix_directional_target\u001b[0m\u001b[0;34m,\u001b[0m\u001b[0;34m\u001b[0m\u001b[0;34m\u001b[0m\u001b[0m\n\u001b[0;32m---> 19\u001b[0;31m     dataset_input)\n\u001b[0m\u001b[1;32m     20\u001b[0m \u001b[0;34m\u001b[0m\u001b[0m\n\u001b[1;32m     21\u001b[0m \u001b[0;32mdef\u001b[0m \u001b[0mRBF_Reconstruction_swell\u001b[0m\u001b[0;34m(\u001b[0m\u001b[0mdataset_input\u001b[0m\u001b[0;34m)\u001b[0m\u001b[0;34m:\u001b[0m\u001b[0;34m\u001b[0m\u001b[0;34m\u001b[0m\u001b[0m\n",
      "\u001b[0;32m/media/administrador/HD/Dropbox/Guam/teslakit/notebooks/GUAM/02_Nearshore/../../../teslakit/rbf.py\u001b[0m in \u001b[0;36mRBF_Reconstruction\u001b[0;34m(subset, ix_scalar_subset, ix_directional_subset, target, ix_scalar_target, ix_directional_target, dataset)\u001b[0m\n\u001b[1;32m    143\u001b[0m         \u001b[0mt0\u001b[0m \u001b[0;34m=\u001b[0m \u001b[0mtime\u001b[0m\u001b[0;34m.\u001b[0m\u001b[0mtime\u001b[0m\u001b[0;34m(\u001b[0m\u001b[0;34m)\u001b[0m  \u001b[0;31m# time counter\u001b[0m\u001b[0;34m\u001b[0m\u001b[0;34m\u001b[0m\u001b[0m\n\u001b[1;32m    144\u001b[0m         opt_sigma = fminbound(\n\u001b[0;32m--> 145\u001b[0;31m             \u001b[0mCostEps\u001b[0m\u001b[0;34m,\u001b[0m \u001b[0msigma_min\u001b[0m\u001b[0;34m,\u001b[0m \u001b[0msigma_max\u001b[0m\u001b[0;34m,\u001b[0m \u001b[0margs\u001b[0m\u001b[0;34m=\u001b[0m\u001b[0;34m(\u001b[0m\u001b[0msubset_norm\u001b[0m\u001b[0;34m.\u001b[0m\u001b[0mT\u001b[0m\u001b[0;34m,\u001b[0m \u001b[0mv\u001b[0m\u001b[0;34m)\u001b[0m\u001b[0;34m\u001b[0m\u001b[0;34m\u001b[0m\u001b[0m\n\u001b[0m\u001b[1;32m    146\u001b[0m         )\n\u001b[1;32m    147\u001b[0m         \u001b[0mt1\u001b[0m \u001b[0;34m=\u001b[0m \u001b[0mtime\u001b[0m\u001b[0;34m.\u001b[0m\u001b[0mtime\u001b[0m\u001b[0;34m(\u001b[0m\u001b[0;34m)\u001b[0m  \u001b[0;31m# optimization time\u001b[0m\u001b[0;34m\u001b[0m\u001b[0;34m\u001b[0m\u001b[0m\n",
      "\u001b[0;32m~/anaconda3/envs/tkit/lib/python3.6/site-packages/scipy/optimize/optimize.py\u001b[0m in \u001b[0;36mfminbound\u001b[0;34m(func, x1, x2, args, xtol, maxfun, full_output, disp)\u001b[0m\n\u001b[1;32m   1874\u001b[0m                'disp': disp}\n\u001b[1;32m   1875\u001b[0m \u001b[0;34m\u001b[0m\u001b[0m\n\u001b[0;32m-> 1876\u001b[0;31m     \u001b[0mres\u001b[0m \u001b[0;34m=\u001b[0m \u001b[0m_minimize_scalar_bounded\u001b[0m\u001b[0;34m(\u001b[0m\u001b[0mfunc\u001b[0m\u001b[0;34m,\u001b[0m \u001b[0;34m(\u001b[0m\u001b[0mx1\u001b[0m\u001b[0;34m,\u001b[0m \u001b[0mx2\u001b[0m\u001b[0;34m)\u001b[0m\u001b[0;34m,\u001b[0m \u001b[0margs\u001b[0m\u001b[0;34m,\u001b[0m \u001b[0;34m**\u001b[0m\u001b[0moptions\u001b[0m\u001b[0;34m)\u001b[0m\u001b[0;34m\u001b[0m\u001b[0;34m\u001b[0m\u001b[0m\n\u001b[0m\u001b[1;32m   1877\u001b[0m     \u001b[0;32mif\u001b[0m \u001b[0mfull_output\u001b[0m\u001b[0;34m:\u001b[0m\u001b[0;34m\u001b[0m\u001b[0;34m\u001b[0m\u001b[0m\n\u001b[1;32m   1878\u001b[0m         \u001b[0;32mreturn\u001b[0m \u001b[0mres\u001b[0m\u001b[0;34m[\u001b[0m\u001b[0;34m'x'\u001b[0m\u001b[0;34m]\u001b[0m\u001b[0;34m,\u001b[0m \u001b[0mres\u001b[0m\u001b[0;34m[\u001b[0m\u001b[0;34m'fun'\u001b[0m\u001b[0;34m]\u001b[0m\u001b[0;34m,\u001b[0m \u001b[0mres\u001b[0m\u001b[0;34m[\u001b[0m\u001b[0;34m'status'\u001b[0m\u001b[0;34m]\u001b[0m\u001b[0;34m,\u001b[0m \u001b[0mres\u001b[0m\u001b[0;34m[\u001b[0m\u001b[0;34m'nfev'\u001b[0m\u001b[0;34m]\u001b[0m\u001b[0;34m\u001b[0m\u001b[0;34m\u001b[0m\u001b[0m\n",
      "\u001b[0;32m~/anaconda3/envs/tkit/lib/python3.6/site-packages/scipy/optimize/optimize.py\u001b[0m in \u001b[0;36m_minimize_scalar_bounded\u001b[0;34m(func, bounds, args, xatol, maxiter, disp, **unknown_options)\u001b[0m\n\u001b[1;32m   1923\u001b[0m     \u001b[0mrat\u001b[0m \u001b[0;34m=\u001b[0m \u001b[0me\u001b[0m \u001b[0;34m=\u001b[0m \u001b[0;36m0.0\u001b[0m\u001b[0;34m\u001b[0m\u001b[0;34m\u001b[0m\u001b[0m\n\u001b[1;32m   1924\u001b[0m     \u001b[0mx\u001b[0m \u001b[0;34m=\u001b[0m \u001b[0mxf\u001b[0m\u001b[0;34m\u001b[0m\u001b[0;34m\u001b[0m\u001b[0m\n\u001b[0;32m-> 1925\u001b[0;31m     \u001b[0mfx\u001b[0m \u001b[0;34m=\u001b[0m \u001b[0mfunc\u001b[0m\u001b[0;34m(\u001b[0m\u001b[0mx\u001b[0m\u001b[0;34m,\u001b[0m \u001b[0;34m*\u001b[0m\u001b[0margs\u001b[0m\u001b[0;34m)\u001b[0m\u001b[0;34m\u001b[0m\u001b[0;34m\u001b[0m\u001b[0m\n\u001b[0m\u001b[1;32m   1926\u001b[0m     \u001b[0mnum\u001b[0m \u001b[0;34m=\u001b[0m \u001b[0;36m1\u001b[0m\u001b[0;34m\u001b[0m\u001b[0;34m\u001b[0m\u001b[0m\n\u001b[1;32m   1927\u001b[0m     \u001b[0mfmin_data\u001b[0m \u001b[0;34m=\u001b[0m \u001b[0;34m(\u001b[0m\u001b[0;36m1\u001b[0m\u001b[0;34m,\u001b[0m \u001b[0mxf\u001b[0m\u001b[0;34m,\u001b[0m \u001b[0mfx\u001b[0m\u001b[0;34m)\u001b[0m\u001b[0;34m\u001b[0m\u001b[0;34m\u001b[0m\u001b[0m\n",
      "\u001b[0;32m/media/administrador/HD/Dropbox/Guam/teslakit/notebooks/GUAM/02_Nearshore/../../../teslakit/rbf.py\u001b[0m in \u001b[0;36mCostEps\u001b[0;34m(ep, x, y)\u001b[0m\n\u001b[1;32m     55\u001b[0m \u001b[0;34m\u001b[0m\u001b[0m\n\u001b[1;32m     56\u001b[0m     \u001b[0;31m# rbf coeff and A matrix calculation\u001b[0m\u001b[0;34m\u001b[0m\u001b[0;34m\u001b[0m\u001b[0;34m\u001b[0m\u001b[0m\n\u001b[0;32m---> 57\u001b[0;31m     \u001b[0mrbf_coeff\u001b[0m\u001b[0;34m,\u001b[0m \u001b[0mA\u001b[0m \u001b[0;34m=\u001b[0m \u001b[0mCalcRBF_Coeff\u001b[0m\u001b[0;34m(\u001b[0m\u001b[0mep\u001b[0m\u001b[0;34m,\u001b[0m \u001b[0mx\u001b[0m\u001b[0;34m,\u001b[0m \u001b[0my\u001b[0m\u001b[0;34m)\u001b[0m\u001b[0;34m\u001b[0m\u001b[0;34m\u001b[0m\u001b[0m\n\u001b[0m\u001b[1;32m     58\u001b[0m \u001b[0;34m\u001b[0m\u001b[0m\n\u001b[1;32m     59\u001b[0m     \u001b[0;31m# rbf cost calculation\u001b[0m\u001b[0;34m\u001b[0m\u001b[0;34m\u001b[0m\u001b[0;34m\u001b[0m\u001b[0m\n",
      "\u001b[0;32m/media/administrador/HD/Dropbox/Guam/teslakit/notebooks/GUAM/02_Nearshore/../../../teslakit/rbf.py\u001b[0m in \u001b[0;36mCalcRBF_Coeff\u001b[0;34m(ep, x, y)\u001b[0m\n\u001b[1;32m     76\u001b[0m     \u001b[0mA\u001b[0m \u001b[0;34m=\u001b[0m \u001b[0mRBF_Assemble\u001b[0m\u001b[0;34m(\u001b[0m\u001b[0mx\u001b[0m\u001b[0;34m,\u001b[0m \u001b[0mrbfphi_gaussian\u001b[0m\u001b[0;34m,\u001b[0m \u001b[0mep\u001b[0m\u001b[0;34m,\u001b[0m \u001b[0;36m0\u001b[0m\u001b[0;34m)\u001b[0m\u001b[0;34m\u001b[0m\u001b[0;34m\u001b[0m\u001b[0m\n\u001b[1;32m     77\u001b[0m     \u001b[0mb\u001b[0m \u001b[0;34m=\u001b[0m \u001b[0mnp\u001b[0m\u001b[0;34m.\u001b[0m\u001b[0mconcatenate\u001b[0m\u001b[0;34m(\u001b[0m\u001b[0;34m(\u001b[0m\u001b[0my\u001b[0m\u001b[0;34m,\u001b[0m \u001b[0mnp\u001b[0m\u001b[0;34m.\u001b[0m\u001b[0mzeros\u001b[0m\u001b[0;34m(\u001b[0m\u001b[0;34m(\u001b[0m\u001b[0mm\u001b[0m\u001b[0;34m+\u001b[0m\u001b[0;36m1\u001b[0m\u001b[0;34m,\u001b[0m\u001b[0;34m)\u001b[0m\u001b[0;34m)\u001b[0m\u001b[0;34m)\u001b[0m\u001b[0;34m)\u001b[0m\u001b[0;34m.\u001b[0m\u001b[0mreshape\u001b[0m\u001b[0;34m(\u001b[0m\u001b[0;34m-\u001b[0m\u001b[0;36m1\u001b[0m\u001b[0;34m,\u001b[0m\u001b[0;36m1\u001b[0m\u001b[0;34m)\u001b[0m\u001b[0;34m\u001b[0m\u001b[0;34m\u001b[0m\u001b[0m\n\u001b[0;32m---> 78\u001b[0;31m     \u001b[0mrbfcoeff\u001b[0m\u001b[0;34m,\u001b[0m \u001b[0m_\u001b[0m\u001b[0;34m,\u001b[0m \u001b[0m_\u001b[0m \u001b[0;34m,\u001b[0m\u001b[0m_\u001b[0m \u001b[0;34m=\u001b[0m \u001b[0mnp\u001b[0m\u001b[0;34m.\u001b[0m\u001b[0mlinalg\u001b[0m\u001b[0;34m.\u001b[0m\u001b[0mlstsq\u001b[0m\u001b[0;34m(\u001b[0m\u001b[0mA\u001b[0m\u001b[0;34m,\u001b[0m \u001b[0mb\u001b[0m\u001b[0;34m,\u001b[0m \u001b[0mrcond\u001b[0m\u001b[0;34m=\u001b[0m\u001b[0;32mNone\u001b[0m\u001b[0;34m)\u001b[0m  \u001b[0;31m# inverse\u001b[0m\u001b[0;34m\u001b[0m\u001b[0;34m\u001b[0m\u001b[0m\n\u001b[0m\u001b[1;32m     79\u001b[0m \u001b[0;34m\u001b[0m\u001b[0m\n\u001b[1;32m     80\u001b[0m     \u001b[0;32mreturn\u001b[0m \u001b[0mrbfcoeff\u001b[0m\u001b[0;34m,\u001b[0m \u001b[0mA\u001b[0m\u001b[0;34m\u001b[0m\u001b[0;34m\u001b[0m\u001b[0m\n",
      "\u001b[0;32m<__array_function__ internals>\u001b[0m in \u001b[0;36mlstsq\u001b[0;34m(*args, **kwargs)\u001b[0m\n",
      "\u001b[0;32m~/anaconda3/envs/tkit/lib/python3.6/site-packages/numpy/linalg/linalg.py\u001b[0m in \u001b[0;36mlstsq\u001b[0;34m(a, b, rcond)\u001b[0m\n\u001b[1;32m   2273\u001b[0m     \u001b[0mm2\u001b[0m\u001b[0;34m,\u001b[0m \u001b[0mn_rhs\u001b[0m \u001b[0;34m=\u001b[0m \u001b[0mb\u001b[0m\u001b[0;34m.\u001b[0m\u001b[0mshape\u001b[0m\u001b[0;34m[\u001b[0m\u001b[0;34m-\u001b[0m\u001b[0;36m2\u001b[0m\u001b[0;34m:\u001b[0m\u001b[0;34m]\u001b[0m\u001b[0;34m\u001b[0m\u001b[0;34m\u001b[0m\u001b[0m\n\u001b[1;32m   2274\u001b[0m     \u001b[0;32mif\u001b[0m \u001b[0mm\u001b[0m \u001b[0;34m!=\u001b[0m \u001b[0mm2\u001b[0m\u001b[0;34m:\u001b[0m\u001b[0;34m\u001b[0m\u001b[0;34m\u001b[0m\u001b[0m\n\u001b[0;32m-> 2275\u001b[0;31m         \u001b[0;32mraise\u001b[0m \u001b[0mLinAlgError\u001b[0m\u001b[0;34m(\u001b[0m\u001b[0;34m'Incompatible dimensions'\u001b[0m\u001b[0;34m)\u001b[0m\u001b[0;34m\u001b[0m\u001b[0;34m\u001b[0m\u001b[0m\n\u001b[0m\u001b[1;32m   2276\u001b[0m \u001b[0;34m\u001b[0m\u001b[0m\n\u001b[1;32m   2277\u001b[0m     \u001b[0mt\u001b[0m\u001b[0;34m,\u001b[0m \u001b[0mresult_t\u001b[0m \u001b[0;34m=\u001b[0m \u001b[0m_commonType\u001b[0m\u001b[0;34m(\u001b[0m\u001b[0ma\u001b[0m\u001b[0;34m,\u001b[0m \u001b[0mb\u001b[0m\u001b[0;34m)\u001b[0m\u001b[0;34m\u001b[0m\u001b[0;34m\u001b[0m\u001b[0m\n",
      "\u001b[0;31mLinAlgError\u001b[0m: Incompatible dimensions"
     ]
    }
   ],
   "source": [
    "# --------------------------------------\n",
    "# Load simulation waves families\n",
    "\n",
    "n_sims_DWTs = 10\n",
    "\n",
    "CE = Climate_Emulator(db.paths.site.EXTREMES.climate_emulator)\n",
    "CE.Load()\n",
    "\n",
    "WVS = CE.LoadSim_All()\n",
    "\n",
    "# Reconstruct waves by families\n",
    "WVS_rec = RBF_Reconstruction_families(WVS)\n",
    "\n",
    "\n",
    "# set indexes values\n",
    "WVS_rec['n_sim'] = WVS.n_sim\n",
    "WVS_rec['time'] = WVS.time\n",
    "WVS_rec['wind_speed'] = WVS.wind_speed\n",
    "WVS_rec['wind_dir'] = WVS.wind_dir\n",
    "WVS_rec['mu'] = WVS.mu\n",
    "WVS_rec['tau'] = WVS.tau\n",
    "WVS_rec['ss'] = WVS.ss\n",
    "\n",
    "# store reconstruction\n",
    "# db_sim.Save('reconstruction_prof'+ str(prf), WVS_rec)\n"
   ]
  },
  {
   "cell_type": "code",
   "execution_count": null,
   "metadata": {},
   "outputs": [],
   "source": [
    "key=os.path.join(db_sim.p_base,'Reconstruction_profile' + str(prf))\n",
    "WVS_rec.to_pickle(key)\n",
    "print ('Profile '+ str(prf)+' --> Saved in: ' + key)"
   ]
  },
  {
   "cell_type": "code",
   "execution_count": null,
   "metadata": {},
   "outputs": [],
   "source": [
    "#We change the funcion from teslakit.database to include profile number\n",
    "\n",
    "from teslakit.database import SplitStorage\n",
    "\n",
    "def Save_SIM_NEARSHORE(self, xds, n_sim, prf):\n",
    "    ps = self.paths.site.SIMULATION.nearshore\n",
    "\n",
    "    nm = '{0:08d}'.format(n_sim)  # sim code\n",
    "    ps_sim = op.join(ps, nm + '_prf_' + str(prf))\n",
    "\n",
    "    s =  SplitStorage(ps_sim)\n",
    "    s.Save(xds, safe_time=True)"
   ]
  },
  {
   "cell_type": "code",
   "execution_count": null,
   "metadata": {},
   "outputs": [],
   "source": [
    "def waves_hourly(CE, WVS_SIM_rec, n_sim_ce=0, db=[], prf=0):\n",
    "    '''\n",
    "    Generate nearshore hourly simulation output. \n",
    "    \n",
    "    - aggregate nearshore waves storms\n",
    "    - generate hourly hydrographs\n",
    "    - calculates AWL\n",
    "    \n",
    "    Stores simulation nearshore waves at teslakit site database\n",
    "    '''\n",
    "    \n",
    "    # iterate simulations\n",
    "    for n in range(n_sims_DWTs):\n",
    "        \n",
    "        # select simulation\n",
    "        WVS_SIM_rec_n = WVS_SIM_rec.loc[WVS_SIM_rec['n_sim'] == n]\n",
    "\n",
    "        # aggregate nearshore variables (Tp from max. energy waves family)\n",
    "        wvs_agr = Aggregate_WavesFamilies(WVS_SIM_rec_n, a_tp='max_energy')                \n",
    "        \n",
    "        # Load TCs storm data from climate emulator\n",
    "        _, TCS_sim, _ = CE.LoadSim(n_sim = n)    \n",
    "        TCS_sim = TCS_sim.isel(n_sim = n_sim_ce).copy() \n",
    "        TCS_sim = TCS_sim.sel(time=wvs_agr.time)\n",
    "        \n",
    "        # calculate intradaily hourly hydrographs for simulated storms\n",
    "        wvs_h = Intradaily_Hydrograph(wvs_agr, TCS_sim)\n",
    "        \n",
    "        # calculate AWL\n",
    "        wvs_h['AWL'] = AWL(wvs_h.Hs, wvs_h.Tp)\n",
    "        \n",
    "        # store hourly simulation offshore data\n",
    "#         db.Save_SIM_NEARSHORE(wvs_h, n)\n",
    "        Save_SIM_NEARSHORE(db, wvs_h, n, prf)\n",
    "                \n",
    "        print('simulation {0} processed.'.format(n))\n",
    "\n",
    "# generate intradaily hydrographs\n"
   ]
  },
  {
   "cell_type": "code",
   "execution_count": null,
   "metadata": {},
   "outputs": [],
   "source": [
    "waves_hourly(CE, WVS_rec, db=db, prf=prf)  "
   ]
  },
  {
   "cell_type": "code",
   "execution_count": null,
   "metadata": {},
   "outputs": [],
   "source": []
  }
 ],
 "metadata": {
  "kernelspec": {
   "display_name": "Python 3",
   "language": "python",
   "name": "python3"
  },
  "language_info": {
   "codemirror_mode": {
    "name": "ipython",
    "version": 3
   },
   "file_extension": ".py",
   "mimetype": "text/x-python",
   "name": "python",
   "nbconvert_exporter": "python",
   "pygments_lexer": "ipython3",
   "version": "3.6.12"
  }
 },
 "nbformat": 4,
 "nbformat_minor": 4
}
