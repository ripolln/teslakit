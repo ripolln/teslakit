{
 "cells": [
  {
   "cell_type": "markdown",
   "metadata": {},
   "source": [
    "\n",
    "... ***CURRENTLY UNDER DEVELOPMENT*** ...\n"
   ]
  },
  {
   "cell_type": "markdown",
   "metadata": {},
   "source": [
    "## HyCReWW runup estimation \n",
    "\n",
    "inputs required: \n",
    "  * Nearshore reconstructed historical storms\n",
    "  * Nearshore reconstructed simulated storms\n",
    "  * Historical water levels\n",
    "  * Synthetic water levels \n",
    "\n",
    "in this notebook:\n",
    "  * HyCReWW runup estimation of historical and synthetic events\n",
    "  * Extreme value analysis and validation"
   ]
  },
  {
   "cell_type": "markdown",
   "metadata": {},
   "source": [
    "\n",
    "### Workflow:\n",
    "\n",
    "<div>\n",
    "<img src=\"resources/nb02_04.png\" width=\"400px\">\n",
    "</div>\n",
    "\n"
   ]
  },
  {
   "cell_type": "markdown",
   "metadata": {},
   "source": [
    "**HyCReWW** provides wave-driven run-up estimations along coral reef-lined shorelines under a wide range of fringing reef morphologies and offshore forcing characteristics. The metamodel is based on two models: (a) a full factorial design of recent XBeach Non-Hydrostatic simulations under different reef configurations and offshore wave and water level conditions (Pearson et al, 2017); and (b) Radial Basis Functions (RBFs) for approximating the non-linear function of run-up for the set of multivariate parameters:\n",
    "\n",
    "&nbsp;&nbsp;&nbsp;&nbsp;&nbsp;&nbsp;&nbsp;Runup = RBF($\\eta_0$, $H_0$, ${H_0/L_0}$, $\\beta_f$,$W_reef$, $\\beta_b$, $c_f$ );&nbsp;&nbsp;&nbsp;&nbsp;</center>\n",
    "\n",
    "Where, the hydrodynamic variables defined are offshore water level ($\\eta_0$), significant wave height ($H_0$), and wave steepness (${H_0/L_0}$); the reef morphologic parameters include fore reef slope ($\\beta_f$), reef flat width ($W_reef$), beach slope ($\\beta_b$), and seabed roughness ($c_f$). ${L_0}$ is the deep water wave length $L_0=gT_p^2/2pi$, and $T_p$ is the peak period. Beach crest elevation ($z_b$) was fixed at a height of 30 m to focus on run-up as a proxy for coastal inundation.\n",
    "\n",
    "<img src=\"resources/nb02_04_profile.png\">\n"
   ]
  },
  {
   "cell_type": "code",
   "execution_count": 1,
   "metadata": {},
   "outputs": [],
   "source": [
    "#!/usr/bin/env python\n",
    "# -*- coding: utf-8 -*-\n",
    "\n",
    "# common\n",
    "import os\n",
    "import os.path as op\n",
    "\n",
    "# pip\n",
    "import numpy as np\n",
    "import pandas as pd\n",
    "import xarray as xr\n",
    "from scipy.interpolate import griddata\n",
    "\n",
    "# DEV: override installed teslakit\n",
    "import sys\n",
    "sys.path.insert(0, op.join(os.path.abspath(''), '..', '..', '..'))\n",
    "\n",
    "# teslakit\n",
    "from teslakit.database import Database\n",
    "from teslakit.rbf import RBF_Interpolation, RBF_Reconstruction\n",
    "from teslakit.mda import Normalize, MaxDiss_Simplified_NoThreshold, nearest_indexes\n",
    "\n",
    "from teslakit.plotting.extremes import Plot_ReturnPeriodValidation\n"
   ]
  },
  {
   "cell_type": "markdown",
   "metadata": {},
   "source": [
    "\n",
    "## Database and Site parameters"
   ]
  },
  {
   "cell_type": "code",
   "execution_count": 2,
   "metadata": {},
   "outputs": [],
   "source": [
    "# --------------------------------------\n",
    "# Teslakit database\n",
    "\n",
    "p_data = r'/Users/nico/Projects/TESLA-kit/TeslaKit/data'\n",
    "db = Database(p_data)\n",
    "\n",
    "# set site\n",
    "db.SetSite('ROI')\n"
   ]
  },
  {
   "cell_type": "markdown",
   "metadata": {},
   "source": [
    "\n",
    "## HyCReWW - RBFs configuration\n",
    "\n",
    "runup has been calculated for a total of 15 scenarios (hs, hs_lo) and a set of reef characteristics \n"
   ]
  },
  {
   "cell_type": "code",
   "execution_count": 3,
   "metadata": {},
   "outputs": [],
   "source": [
    "# 15 scenarios of runup model execution\n",
    "\n",
    "# RBF wave conditions \n",
    "rbf_hs = [1, 1, 1, 2, 2, 2, 3, 3, 3, 4, 4, 4, 5, 5, 5]\n",
    "rbf_hs_lo = [0.005, 0.025, 0.05, 0.005, 0.025, 0.05, 0.005, 0.025, 0.05, 0.005, 0.025, 0.05, 0.005, 0.025, 0.05]\n",
    "\n",
    "# load trained RBF coefficients and variables min. and max. limits\n",
    "var_lims, rbf_coeffs = db.Load_HYCREWW()\n",
    "\n",
    "# reef characteristics\n",
    "reef_cs = {\n",
    "    'rslope': 0.0505,\n",
    "    'bslope': 0.1667,\n",
    "    'rwidth': 250,\n",
    "    'cf': 0.0105,\n",
    "}\n",
    "\n",
    "# rbf variables names: level is our teslakit input data\n",
    "rbf_vns = ['level', 'rslope', 'bslope', 'rwidth', 'cf']\n"
   ]
  },
  {
   "cell_type": "markdown",
   "metadata": {},
   "source": [
    "## HyCReWW methodology library"
   ]
  },
  {
   "cell_type": "code",
   "execution_count": 4,
   "metadata": {},
   "outputs": [],
   "source": [
    "def HyCReWW_RU(df):\n",
    "    '''\n",
    "    Calculates runup using HyCReWW RBFs (level, reef variables) \n",
    "    and a linear interpolation (hs, hs_lo2) to input dataset\n",
    "    \n",
    "    var_lims   - HyCReWW variables min and max limits\n",
    "    rbf_coeffs - HyCReWW rbf coefficients\n",
    "    reef_cs    - reef characteristics\n",
    "    rbf_vns    - rbf variables\n",
    "\n",
    "    df         - input pandas.dataframe (time,), vars: level, hs, tp, dir, hs_lo2\n",
    "    '''\n",
    "    \n",
    "    \n",
    "    # 1. Prepare input data\n",
    "    # -----------------------------------------------------------------\n",
    "    \n",
    "    # add reef characteristics to input dataset\n",
    "    for p in reef_cs.keys(): df[p] = reef_cs[p]\n",
    "        \n",
    "    # filter data: all variables inside limits\n",
    "    lp = []\n",
    "    for vn in var_lims.keys():\n",
    "        ps = (df[vn] > var_lims[vn][0]) & (df[vn] < var_lims[vn][1])\n",
    "        lp.append(ps)\n",
    "    ix_in = np.where(np.all(lp, axis=0))[0]\n",
    "        \n",
    "    # select dataset to interpolate at RBFs\n",
    "    ds_in = df.iloc[ix_in]\n",
    "    ds_rbf_in = ds_in[rbf_vns]\n",
    "    \n",
    "    \n",
    "    \n",
    "    # 2. Calculate RUNUP with input LEVEL for the 15 RBF scenarios\n",
    "    # -----------------------------------------------------------------   \n",
    "    \n",
    "    # parameters\n",
    "    ix_sc = [0, 1, 2, 3, 4]\n",
    "    ix_dr = []\n",
    "    minis = [var_lims[x][0] for x in rbf_vns]\n",
    "    maxis = [var_lims[x][1] for x in rbf_vns]\n",
    "\n",
    "    # Normalize data\n",
    "    ds_nm ,_ ,_ = Normalize(ds_rbf_in.values, ix_sc, ix_dr, minis=minis, maxis=maxis)\n",
    "\n",
    "    # RBF interpolate level for the 15 scenarios\n",
    "    aux_1 = []\n",
    "    for rc in rbf_coeffs:\n",
    "        ro = RBF_Interpolation(rc['constant'], rc['coeff'], rc['nodes'], ds_nm.T)\n",
    "        aux_1.append(ro)\n",
    "    ru_z = np.array(aux_1)\n",
    "\n",
    "    \n",
    "    \n",
    "    # 3. interpolate RUNUP for input WAVES with the 15 RBF scenarios\n",
    "    # -----------------------------------------------------------------   \n",
    "     \n",
    "    # RU linear interpolation (15 sets: hs, hs_lo -> runup)\n",
    "    #ru_in = np.zeros(ds_in.shape[0]) * np.nan\n",
    "    #for c, (_, r) in enumerate(ds_in.iterrows()):\n",
    "    #    ru_in[c] = griddata((rbf_hs, rbf_hs_lo), ru_z[:,c], (r['hs'], r['hs_lo2']), method='linear')\n",
    "    \n",
    "    # RU linear interpolation (15 sets: hs, hs_lo -> runup)  (*faster than loop)\n",
    "    def axis_ipl_rbfs(inp):\n",
    "        return griddata((rbf_hs, rbf_hs_lo), inp[:15], (inp[15], inp[16]), method='linear')\n",
    "\n",
    "    inp = np.concatenate((ru_z, ds_in[['hs', 'hs_lo2']].T))      \n",
    "    ru_in = np.apply_along_axis(axis_ipl_rbfs, 0, inp)\n",
    "    \n",
    "    \n",
    "    \n",
    "    # 4. Prepare output \n",
    "    # -----------------------------------------------------------------\n",
    "    \n",
    "    # add level to run_up\n",
    "    ru_in = ru_in + ds_in['level']\n",
    "    \n",
    "    # return runup \n",
    "    ru_out = np.zeros(len(df.index)) * np.nan\n",
    "    ru_out[ix_in] = ru_in\n",
    "    \n",
    "    xds_ru = xr.Dataset({'runup': (('time',), ru_out)}, coords={'time': df.index})\n",
    "\n",
    "    return xds_ru\n"
   ]
  },
  {
   "cell_type": "markdown",
   "metadata": {},
   "source": [
    "## HyCReWW MDA-RBF statistical wrap "
   ]
  },
  {
   "cell_type": "code",
   "execution_count": 5,
   "metadata": {},
   "outputs": [],
   "source": [
    "def mdarbf_HyCReWW(dataset):\n",
    "    '''\n",
    "    Solves HyCReWW methodology using a MDA-RBFs statistical wrap. \n",
    "    This results in a substantial reduce in computational cost.\n",
    "    \n",
    "    A Statistical representative subset will be selected with MaxDiss algorithm from input dataset.\n",
    "    This subset will be solved using HyCReWW methodology.\n",
    "    This subset and its runup HyCReWW output will be used to fit Radial Basis Functions.\n",
    "    \n",
    "    Using RBFs, the entire input dataset is statistically solved\n",
    "    '''\n",
    "\n",
    "    base_dataset = dataset.copy()\n",
    "    \n",
    "    # 1. MaxDiss \n",
    "    # -----------------------------------------------------------------\n",
    "\n",
    "    vns_mda = ['hs', 'hs_lo2','level']  # variables used at classification\n",
    "    n_subset = 100\n",
    "    ix_scalar = [0, 1, 2]\n",
    "    ix_directional = []\n",
    "    \n",
    "    # remove nan data from input dataset\n",
    "    dataset.dropna(inplace=True)\n",
    " \n",
    "    # data for MDA\n",
    "    data = dataset[vns_mda]\n",
    "    \n",
    "    # MDA algorithm\n",
    "    sel = MaxDiss_Simplified_NoThreshold(data.values[:], n_subset, ix_scalar, ix_directional)\n",
    "    subset = pd.DataFrame(data=sel, columns=vns_mda)\n",
    "\n",
    "    # fill subset variables\n",
    "    ix_n = nearest_indexes(subset[vns_mda].values[:], data.values[:], ix_scalar, ix_directional)\n",
    "    vns_fill = ['tp', 'dir']\n",
    "    for vn in vns_fill:\n",
    "        subset[vn] = dataset[vn].iloc[ix_n].values[:]\n",
    "        \n",
    "    # calculate runup with HyCReWW\n",
    "    ru_sel = HyCReWW_RU(subset)\n",
    "    target = ru_sel.runup.to_dataframe()\n",
    "    \n",
    "    # clean subset variables\n",
    "    subset.drop(columns=['rslope', 'bslope', 'rwidth', 'cf'], inplace=True)\n",
    "    \n",
    "    # clean nans from runup target and input subset\n",
    "    ix_rm = np.where(np.isnan(target.values))[0]\n",
    "    subset.drop(index=ix_rm, inplace=True)\n",
    "    target.drop(index=ix_rm, inplace=True)\n",
    "\n",
    "    \n",
    "    # 2. RBF RunUp Reconstruction\n",
    "    # -----------------------------------------------------------------\n",
    "    vs_recon = ['hs', 'hs_lo2','level'] \n",
    "    subset_r = subset[vs_recon]\n",
    "    dataset_r = base_dataset[vs_recon]  # to maintain input indexes and put nan where there is no output\n",
    "    \n",
    "    ix_scalar_subset = [0, 1, 2]\n",
    "    ix_scalar_target = [0]\n",
    "    \n",
    "    recon = RBF_Reconstruction(\n",
    "        subset_r.values, ix_scalar_subset, [],\n",
    "        target.values, ix_scalar_target, [],\n",
    "        dataset_r.values\n",
    "    )\n",
    "    \n",
    "    xds_ru = xr.Dataset({'runup': (('time',), recon.squeeze())}, coords={'time': base_dataset.index})\n",
    "    \n",
    "    return xds_ru\n"
   ]
  },
  {
   "cell_type": "markdown",
   "metadata": {},
   "source": [
    "\n",
    "## HyCReWW RBF Interpolation: Historical"
   ]
  },
  {
   "cell_type": "code",
   "execution_count": 6,
   "metadata": {
    "scrolled": false
   },
   "outputs": [
    {
     "name": "stdout",
     "output_type": "stream",
     "text": [
      "\n",
      "MaxDiss dataset: 116755 --> 100\n",
      "\n",
      "   MDA centroids: 100/100\n",
      "\n",
      "ix_scalar: 0,  optimization: 0.64 | interpolation: 33.96\n"
     ]
    }
   ],
   "source": [
    "# Load complete historical data and nearshore waves\n",
    "\n",
    "# offshore level \n",
    "level = db.Load_HIST_OFFSHORE(vns=['level'], decode_times=True)\n",
    "\n",
    "# nearshore waves\n",
    "waves = db.Load_HIST_NEARSHORE(vns=['Hs', 'Tp', 'Dir'], decode_times=True)\n",
    "waves[\"time\"] = waves[\"time\"].dt.round(\"H\")  # fix waves times: round to nearest hour\n",
    "\n",
    "# use same time for nearshore calculations\n",
    "level = level.sel(time=waves.time)\n",
    "\n",
    "# prepare data for HyCReWW\n",
    "waves = waves.rename_vars({\"Hs\": \"hs\", \"Tp\": \"tp\", 'Dir':'dir'})  # rename vars\n",
    "waves['hs_lo2'] = waves['hs']/(1.5613*waves['tp']**2)             # calc. hs_lo2\n",
    "waves['level'] = level['level']                                   # add level\n",
    "\n",
    "dataset = waves[['hs', 'tp', 'dir', 'level', 'hs_lo2']].to_dataframe()\n",
    "\n",
    "\n",
    "# calculate runup with HyCReWW\n",
    "#ru_hist = HyCReWW_RU(dataset)\n",
    "\n",
    "# calculate runup with HyCReWW MDA-RBF wrap\n",
    "ru_hist = mdarbf_HyCReWW(dataset)\n",
    "\n",
    "\n",
    "# store historical runup\n",
    "db.Save_HIST_NEARSHORE(ru_hist)\n"
   ]
  },
  {
   "cell_type": "markdown",
   "metadata": {},
   "source": [
    "\n",
    "## HyCREWW RBF Interpolation: Simulation\n"
   ]
  },
  {
   "cell_type": "code",
   "execution_count": 7,
   "metadata": {},
   "outputs": [],
   "source": [
    "# offshore level \n",
    "level = db.Load_SIM_OFFSHORE_all(vns=['level'], decode_times=False)\n",
    "\n",
    "# nearshore waves\n",
    "waves = db.Load_SIM_NEARSHORE_all(vns=['Hs', 'Tp', 'Dir', 'max_storms'], decode_times=False)\n",
    "\n",
    "# prepare data for hycreww\n",
    "waves = waves.rename_vars({\"Hs\": \"hs\", \"Tp\": \"tp\", 'Dir':'dir'})  # rename vars\n",
    "waves['hs_lo2'] = waves['hs']/(1.5613*waves['tp']**2)             # calc. hs_lo2\n",
    "waves['level'] = level['level']                                   # add level\n",
    "\n",
    "# fix simulation times (cftimes)\n",
    "tmpt = db.Load_SIM_NEARSHORE_all(vns=['Hs'], decode_times=True, use_cftime=True)\n",
    "waves['time'] = tmpt['time']\n"
   ]
  },
  {
   "cell_type": "code",
   "execution_count": 15,
   "metadata": {},
   "outputs": [],
   "source": [
    "# iterate  simulations\n",
    "for n in waves.n_sim:\n",
    "    waves_n = waves.sel(n_sim=int(n))\n",
    "    \n",
    "    dataset = waves_n[['hs', 'tp', 'dir', 'level', 'hs_lo2']].to_dataframe()\n",
    "\n",
    "    # calculate runup with HyCReWW\n",
    "    #ru_sim_n = HyCREWW_RU(dataset)\n",
    "    \n",
    "    # calculate runup with HyCReWW MDA-RBF wrap\n",
    "    ru_sim_n = mdarbf_HyCReWW(dataset)\n",
    "    \n",
    "    # store simulation runup\n",
    "    db.Save_SIM_NEARSHORE(ru_sim_n, int(n))\n",
    "    \n",
    "    print('simulation {0} processed.'.format(int(n)))\n",
    "    "
   ]
  },
  {
   "cell_type": "markdown",
   "metadata": {},
   "source": [
    "\n",
    "## Methodology Validation: Annual Maxima"
   ]
  },
  {
   "cell_type": "code",
   "execution_count": 14,
   "metadata": {
    "scrolled": false
   },
   "outputs": [
    {
     "data": {
      "image/png": "[encoded data removed]",
      "text/plain": [
       "<Figure size 1141.66x705.6 with 1 Axes>"
      ]
     },
     "metadata": {
      "needs_background": "light"
     },
     "output_type": "display_data"
    }
   ],
   "source": [
    "# load all simulations\n",
    "ru_sims = db.Load_SIM_NEARSHORE_all(vns=['runup'], decode_times=True, use_cftime=True)\n",
    "\n",
    "\n",
    "# compare historical and simulations runup annual maxima\n",
    "hist_A = ru_hist['runup'].groupby('time.year').max(dim='time')\n",
    "sim_A = ru_sims['runup'].groupby('time.year').max(dim='time')\n",
    "\n",
    "# Return Period historical vs. simulations\n",
    "Plot_ReturnPeriodValidation(hist_A, sim_A.transpose());\n",
    "    "
   ]
  },
  {
   "cell_type": "code",
   "execution_count": null,
   "metadata": {},
   "outputs": [],
   "source": []
  }
 ],
 "metadata": {
  "kernelspec": {
   "display_name": "Python 3",
   "language": "python",
   "name": "python3"
  }
 },
 "nbformat": 4,
 "nbformat_minor": 2
}
