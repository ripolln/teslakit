{
 "cells": [
  {
   "cell_type": "markdown",
   "metadata": {},
   "source": [
    "\n",
    "... ***CURRENTLY UNDER DEVELOPMENT*** ...\n"
   ]
  },
  {
   "cell_type": "markdown",
   "metadata": {},
   "source": [
    "## HyCReeW runup estimation \n",
    "\n",
    "inputs required: \n",
    "  * Nearshore reconstructed historical storms\n",
    "  * Nearshore reconstructed simulated storms\n",
    "  * Historical water levels\n",
    "  * Synthetic water levels \n",
    "\n",
    "in this notebook:\n",
    "  * HyCReWW runup estimation of historical and synthetic events\n",
    "  * Extreme value analysis and validation"
   ]
  },
  {
   "attachments": {},
   "cell_type": "markdown",
   "metadata": {},
   "source": [
    "\n",
    "### Workflow:\n",
    "\n",
    "<div>\n",
    "<img src=\"resources/nb02_04.png\" width=\"400px\">\n",
    "</div>\n",
    "\n"
   ]
  },
  {
   "attachments": {},
   "cell_type": "markdown",
   "metadata": {},
   "source": [
    "**HyCReWW** provides wave-driven run-up estimations along coral reef-lined shorelines under a wide range of fringing reef morphologies and offshore forcing characteristics. The metamodel is based on two models: (a) a full factorial design of recent XBeach Non-Hydrostatic simulations under different reef configurations and offshore wave and water level conditions (Pearson et al, 2017); and (b) Radial Basis Functions (RBFs) for approximating the non-linear function of run-up for the set of multivariate parameters:\n",
    "\n",
    "&nbsp;&nbsp;&nbsp;&nbsp;&nbsp;&nbsp;&nbsp;Runup = RBF($\\eta_0$, $H_0$, ${H_0/L_0}$, $\\beta_f$,$W_reef$, $\\beta_b$, $c_f$ );&nbsp;&nbsp;&nbsp;&nbsp;</center>\n",
    "\n",
    "Where, the hydrodynamic variables defined are offshore water level ($\\eta_0$), significant wave height ($H_0$), and wave steepness (${H_0/L_0}$); the reef morphologic parameters include fore reef slope ($\\beta_f$), reef flat width ($W_reef$), beach slope ($\\beta_b$), and seabed roughness ($c_f$). ${L_0}$ is the deep water wave length $L_0=gT_p^2/2pi$, and $T_p$ is the peak period. Beach crest elevation ($z_b$) was fixed at a height of 30 m to focus on run-up as a proxy for coastal inundation.\n",
    "\n",
    "<img src=\"resources/nb02_04_profile.png\">\n"
   ]
  },
  {
   "cell_type": "code",
   "execution_count": 1,
   "metadata": {},
   "outputs": [],
   "source": [
    "#!/usr/bin/env python\n",
    "# -*- coding: utf-8 -*-\n",
    "\n",
    "# common\n",
    "import os\n",
    "import os.path as op\n",
    "\n",
    "# pip\n",
    "import numpy as np\n",
    "import pandas as pd\n",
    "import xarray as xr\n",
    "from scipy.interpolate import griddata\n",
    "\n",
    "# DEV: override installed teslakit\n",
    "import sys\n",
    "sys.path.insert(0, op.join(os.path.abspath(''), '..', '..', '..'))\n",
    "\n",
    "# teslakit\n",
    "from teslakit.database import Database\n",
    "from teslakit.rbf import RBF_Interpolation\n",
    "from teslakit.mda import Normalize\n",
    "\n",
    "from teslakit.plotting.extremes import Plot_ReturnPeriodValidation\n"
   ]
  },
  {
   "cell_type": "markdown",
   "metadata": {},
   "source": [
    "\n",
    "## Database and Site parameters"
   ]
  },
  {
   "cell_type": "code",
   "execution_count": 68,
   "metadata": {},
   "outputs": [],
   "source": [
    "# --------------------------------------\n",
    "# Teslakit database\n",
    "\n",
    "p_data = r'/Users/anacrueda/Documents/Proyectos/TESLA/data'\n",
    "db = Database(p_data)\n",
    "\n",
    "# set site\n",
    "db.SetSite('ROI')\n",
    "\n",
    "\n",
    "# reef characteristics\n",
    "reef_cs = {\n",
    "    'rslope': 0.0505,\n",
    "    'bslope': 0.1667,\n",
    "    'rwidth': 250,\n",
    "    'cf': 0.0105,\n",
    "}\n",
    "\n",
    "\n",
    "# load Hycreww RBF coefficients and sim. variables min. and max.\n",
    "var_lims, rbf_coeffs = db.Load_HYCREWW()\n"
   ]
  },
  {
   "cell_type": "code",
   "execution_count": 92,
   "metadata": {},
   "outputs": [],
   "source": [
    "# hycreww interpolation \n",
    "\n",
    "def hycreww_runup(var_lims, rbf_coeffs, dset):\n",
    "    '''\n",
    "    Calculates RunUp using hycreww RBFs (level) and linear interpolation (Runup)\n",
    "    \n",
    "    var_lims   - hycreww variables min and max limits\n",
    "    rbf_coeffs - hycreww rbf coefficients\n",
    "    dset       - input dataset (pandas.DataFrame with \"rbf_vns\" columns)\n",
    "    \n",
    "    '''\n",
    "    print(len(dset))\n",
    "\n",
    "    # RBF wave conditions \n",
    "    rbf_hs = [1, 1, 1, 2, 2, 2, 3, 3, 3, 4, 4, 4, 5, 5, 5]\n",
    "    rbf_hs_lo = [0.005, 0.025, 0.05, 0.005, 0.025, 0.05, 0.005, 0.025, 0.05, 0.005, 0.025, 0.05, 0.005, 0.025, 0.05 ]\n",
    "    rbf_vns = ['level', 'rslope', 'bslope', 'rwidth', 'cf']\n",
    "    \n",
    "    # RBF parameters\n",
    "    ix_sc = [0, 1, 2, 3, 4]\n",
    "    ix_dr = []\n",
    "    minis = [var_lims[x][0] for x in rbf_vns]\n",
    "    maxis = [var_lims[x][1] for x in rbf_vns]\n",
    "    \n",
    "    \n",
    "    # add reef characteristics\n",
    "    for p in reef_cs.keys():\n",
    "        dset[p] = reef_cs[p]\n",
    "        \n",
    "    #d_out = dset.copy()\n",
    "    #print(d_out)\n",
    "    # discard data outside limits\n",
    "    for vn in var_lims.keys():\n",
    "        dset = dset[(dset[vn] > var_lims[vn][0]) &(dset[vn] < var_lims[vn][1])]\n",
    "        #d_out = d_out[(dset[vn] < var_lims[vn][0]) &(dset[vn] > var_lims[vn][1])]\n",
    "    \n",
    "    # RBF dataset to interpolate\n",
    "    ds_in = dset[rbf_vns]\n",
    "    \n",
    "    print(len(dset))\n",
    "    print(len(ds_in))\n",
    "    #print(d_out)\n",
    "\n",
    "    # normalize data\n",
    "    ds_nm ,_ ,_ = Normalize(ds_in.values, ix_sc, ix_dr, minis=minis, maxis=maxis)\n",
    "\n",
    "    # RBF interpolation (with all cases?)\n",
    "    ru_out = []\n",
    "    for rc in rbf_coeffs:\n",
    "        ro = RBF_Interpolation(rc['constant'], rc['coeff'], rc['nodes'], ds_nm.T)\n",
    "        ru_out.append(ro)\n",
    "    ru_z = np.array(ru_out)\n",
    "    \n",
    "    # RU Linear interpolation (hs, hs_lo -> runup)\n",
    "    RU = []\n",
    "    for c, (_, r) in enumerate(dset.iterrows()):\n",
    "        vq = griddata((rbf_hs, rbf_hs_lo), ru_z[:,c], (r['hs'], r['hs_lo2']), method='linear')\n",
    "        RU.append(vq)\n",
    "    RU = np.array(RU)\n",
    "    \n",
    "    # store runup alongside input data\n",
    "    dset_out = dset.copy()\n",
    "    dset_out['runup'] = dset_out['level'] + RU\n",
    "\n",
    "    return dset_out\n"
   ]
  },
  {
   "cell_type": "markdown",
   "metadata": {},
   "source": [
    "\n",
    "## Hycreww RBF Interpolation: Historical"
   ]
  },
  {
   "cell_type": "code",
   "execution_count": 93,
   "metadata": {
    "scrolled": false
   },
   "outputs": [
    {
     "name": "stdout",
     "output_type": "stream",
     "text": [
      "4163\n",
      "1872\n",
      "1872\n",
      "                  hs         tp        dir  level    hs_lo2  rslope  bslope  \\\n",
      "time                                                                          \n",
      "1979-02-14  1.455193   7.801798  20.754320    NaN  0.015312  0.0505  0.1667   \n",
      "1979-02-17  1.350300  10.981978   3.171029    NaN  0.007171  0.0505  0.1667   \n",
      "1979-02-19  1.400128   9.338189  16.025290    NaN  0.010284  0.0505  0.1667   \n",
      "1979-02-22  1.419922  10.184916   3.145112    NaN  0.008767  0.0505  0.1667   \n",
      "1979-02-26  1.446609   7.566327  28.476938    NaN  0.016184  0.0505  0.1667   \n",
      "...              ...        ...        ...    ...       ...     ...     ...   \n",
      "2016-12-25  1.335010  10.112284  21.921824    NaN  0.008362  0.0505  0.1667   \n",
      "2016-12-26  1.585926   9.785069  47.127159    NaN  0.010609  0.0505  0.1667   \n",
      "2016-12-27  1.475289   8.552520  30.575266    NaN  0.012918  0.0505  0.1667   \n",
      "2016-12-29  1.458611   8.347192  14.858302    NaN  0.013408  0.0505  0.1667   \n",
      "2016-12-31  1.444937   8.002734  31.361105    NaN  0.014451  0.0505  0.1667   \n",
      "\n",
      "            rwidth      cf  \n",
      "time                        \n",
      "1979-02-14     250  0.0105  \n",
      "1979-02-17     250  0.0105  \n",
      "1979-02-19     250  0.0105  \n",
      "1979-02-22     250  0.0105  \n",
      "1979-02-26     250  0.0105  \n",
      "...            ...     ...  \n",
      "2016-12-25     250  0.0105  \n",
      "2016-12-26     250  0.0105  \n",
      "2016-12-27     250  0.0105  \n",
      "2016-12-29     250  0.0105  \n",
      "2016-12-31     250  0.0105  \n",
      "\n",
      "[4163 rows x 9 columns]\n"
     ]
    }
   ],
   "source": [
    "# Load complete historical data and nearshore waves\n",
    "data = db.Load_HIST_Complete_daily() \n",
    "waves = db.Load_NEARSHORE_RECONSTRUCTION_HIST_storms()\n",
    "\n",
    "waves = waves.rename_vars({\"Hs\": \"hs\", \"Tp\": \"tp\", 'Dir':'dir'})  # rename vars\n",
    "waves['hs_lo2'] = waves['hs']/(1.5613*waves['tp']**2)             # calc. hs_lo2\n",
    "waves['level'] = data.sel(time=waves.time).level                  # add level\n",
    "\n",
    "\n",
    "# calculate runup with hycreww\n",
    "dset = waves[['hs', 'tp', 'dir', 'level', 'hs_lo2']].to_dataframe()\n",
    "out_hist = hycreww_runup(var_lims, rbf_coeffs, dset)\n",
    "print(dset)\n",
    "# store historical runup\n",
    "#db.Save_NEARSHORE_RUNUP_HIST(out_hist)\n"
   ]
  },
  {
   "cell_type": "markdown",
   "metadata": {},
   "source": [
    "\n",
    "## Hycreww RBF Interpolation: Simulation"
   ]
  },
  {
   "cell_type": "code",
   "execution_count": 5,
   "metadata": {
    "scrolled": false
   },
   "outputs": [],
   "source": [
    "# Load complete simulations data and nearshore waves\n",
    "\n",
    "n_sims_DWT = 10\n",
    "data_list = db.Load_SIM_Complete_storms(n_sims=n_sims_DWT)\n",
    "waves_list = db.Load_NEARSHORE_RECONSTRUCTION_SIM_storms(n_sims=n_sims_DWT)\n",
    "\n",
    "# iterate storms waves simulations\n",
    "l_sims = []\n",
    "for dd, ww in zip(data_list, waves_list):\n",
    "    \n",
    "    ww = ww.rename_vars({\"Hs\": \"hs\", \"Tp\": \"tp\", 'Dir':'dir'})  # rename vars\n",
    "    ww['hs_lo2'] = ww['hs']/(1.5613*ww['tp']**2)                # calc. hs_lo2\n",
    "    ww['level'] = dd.sel(time=ww.time).level                    # add level\n",
    "    \n",
    "    # calculate runup with hycreww\n",
    "    dset = ww[['hs', 'tp', 'dir', 'level', 'hs_lo2']].to_dataframe()\n",
    "    out_sim = hycreww_runup(var_lims, rbf_coeffs, dset)\n",
    "    \n",
    "    l_sims.append(out_sim)\n",
    "\n",
    "    \n",
    "# store simulation runup\n",
    "db.Save_NEARSHORE_RUNUP_SIM(l_sims)\n"
   ]
  },
  {
   "cell_type": "code",
   "execution_count": 41,
   "metadata": {},
   "outputs": [],
   "source": [
    "data = db.Load_HIST_Complete_daily() \n",
    "waves = db.Load_NEARSHORE_RECONSTRUCTION_HIST_storms()\n",
    "hist_A = db.Load_NEARSHORE_RUNUP_HIST()\n",
    "\n",
    "waves = waves.rename_vars({\"Hs\": \"hs\", \"Tp\": \"tp\", 'Dir':'dir'})  # rename vars\n",
    "waves['hs_lo2'] = waves['hs']/(1.5613*waves['tp']**2)             # calc. hs_lo2\n",
    "waves['level'] = data.sel(time=waves.time).level                  # add level\n",
    "\n",
    "n_sims_DWT = 10\n",
    "\n",
    "data_list = db.Load_SIM_Complete_storms(n_sims=n_sims_DWT)\n",
    "waves_list = db.Load_NEARSHORE_RECONSTRUCTION_SIM_storms(n_sims=n_sims_DWT)\n",
    "sim_A = db.Load_NEARSHORE_RUNUP_SIM(n_sims=n_sims_DWT)"
   ]
  },
  {
   "cell_type": "code",
   "execution_count": 98,
   "metadata": {},
   "outputs": [
    {
     "name": "stdout",
     "output_type": "stream",
     "text": [
      "Historical 1933 1872\n",
      "percentage outside limi9ts: 3.1557165028453227\n",
      "hs<1: 109\n",
      "hs_lo2<0.005: 33\n",
      "Simulated sim 0 113899 108118\n",
      "percentage outside limits: 5.07554939024925\n",
      "limits\n",
      "{'level': array([-1.,  3.]), 'hs': array([1., 5.]), 'tp': array([ 3.4, 25.5]), 'rslope': array([0.05, 0.5 ]), 'bslope': array([0.05, 0.2 ]), 'rwidth': array([   0., 1500.]), 'cf': array([0.01, 0.1 ]), 'hs_lo2': [0.005, 0.05]}\n"
     ]
    }
   ],
   "source": [
    "print('Historical', len(waves.hs[~np.isnan(waves.level)]), len(hist_A.runup))\n",
    "print('percentage outside limi9ts:',100-(len(hist_A.runup)*100/len(waves.hs[~np.isnan(waves.level)])) )\n",
    "print('hs<1:', len(waves.hs[waves.hs<1]))\n",
    "print('hs_lo2<0.005:', len(waves.hs_lo2[waves.hs_lo2<0.005]))\n",
    "\n",
    "print('Simulated sim 0', len(waves_list[0].Hs), len(sim_A[0].runup))\n",
    "print('percentage outside limits:',100 -(len(sim_A[0].runup)*100/len(waves_list[0].Hs)) )\n",
    "\n",
    "print('limits')\n",
    "print(var_lims)"
   ]
  },
  {
   "cell_type": "code",
   "execution_count": 95,
   "metadata": {},
   "outputs": [
    {
     "data": {
      "image/png": "[encoded data removed]",
      "text/plain": [
       "<Figure size 432x288 with 1 Axes>"
      ]
     },
     "metadata": {
      "needs_background": "light"
     },
     "output_type": "display_data"
    }
   ],
   "source": [
    "import matplotlib.pyplot as plt\n",
    "import matplotlib.gridspec as gridspec\n",
    "\n",
    "plt.figure()\n",
    "#gs = gridspec.GridSpec(1, 1, wspace=0.2, hspace=0.2)\n",
    "ax = plt.subplot()\n",
    "ax.scatter(\n",
    "    waves.hs_lo2, waves.tp,\n",
    "    marker = '.',\n",
    "    c = 'k',\n",
    "    s = 6, label = 'historical'\n",
    ")\n",
    "\n",
    "# mda selection\n",
    "ax.scatter(\n",
    "    hist_A.hs_lo2, hist_A.tp,\n",
    "    marker = '.',\n",
    "    c = 'lightblue',\n",
    "    s = 4, label='historical-runup'\n",
    ")\n",
    "plt.show()"
   ]
  },
  {
   "cell_type": "markdown",
   "metadata": {},
   "source": [
    "\n",
    "## Methodology Validation: Annual Maxima"
   ]
  },
  {
   "cell_type": "code",
   "execution_count": 6,
   "metadata": {
    "scrolled": false
   },
   "outputs": [
    {
     "data": {
      "image/png": "[encoded data removed]",
      "text/plain": [
       "<Figure size 1141.66x705.6 with 1 Axes>"
      ]
     },
     "metadata": {
      "needs_background": "light"
     },
     "output_type": "display_data"
    }
   ],
   "source": [
    "\n",
    "# compare historical and simulations runup annual maxima\n",
    "hist_A = out_hist.to_xarray()['runup'].groupby('time.year').max(dim='time')\n",
    "sim_A = xr.concat([x.to_xarray()['runup'].groupby('time.year').max(dim='time') for x in l_sims], 'n_sim')\n",
    "\n",
    "# Return Period historical vs. simulations\n",
    "Plot_ReturnPeriodValidation(hist_A, sim_A);\n",
    "\n",
    "\n",
    "    "
   ]
  },
  {
   "cell_type": "code",
   "execution_count": null,
   "metadata": {},
   "outputs": [],
   "source": []
  }
 ],
 "metadata": {
  "kernelspec": {
   "display_name": "Python 3",
   "language": "python",
   "name": "python3"
  },
  "language_info": {
   "codemirror_mode": {
    "name": "ipython",
    "version": 3
   },
   "file_extension": ".py",
   "mimetype": "text/x-python",
   "name": "python",
   "nbconvert_exporter": "python",
   "pygments_lexer": "ipython3",
   "version": "3.7.2"
  }
 },
 "nbformat": 4,
 "nbformat_minor": 2
}
