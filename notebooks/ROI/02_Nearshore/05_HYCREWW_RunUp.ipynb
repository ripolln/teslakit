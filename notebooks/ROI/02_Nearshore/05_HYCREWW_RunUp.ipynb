{
 "cells": [
  {
   "cell_type": "markdown",
   "metadata": {},
   "source": [
    "\n",
    "... ***CURRENTLY UNDER DEVELOPMENT*** ...\n"
   ]
  },
  {
   "cell_type": "markdown",
   "metadata": {},
   "source": [
    "## HyCReeW runup estimation \n",
    "\n",
    "inputs required: \n",
    "  * Nearshore reconstructed historical storms\n",
    "  * Nearshore reconstructed simulated storms\n",
    "  * Historical water levels\n",
    "  * Synthetic water levels \n",
    "\n",
    "in this notebook:\n",
    "  * HyCReWW runup estimation of historical and synthetic events\n",
    "  * Extreme value analysis and validation"
   ]
  },
  {
   "cell_type": "markdown",
   "metadata": {},
   "source": [
    "\n",
    "### Workflow:\n",
    "\n",
    "<div>\n",
    "<img src=\"resources/nb02_04.png\" width=\"400px\">\n",
    "</div>\n",
    "\n"
   ]
  },
  {
   "cell_type": "markdown",
   "metadata": {},
   "source": [
    "**HyCReWW** provides wave-driven run-up estimations along coral reef-lined shorelines under a wide range of fringing reef morphologies and offshore forcing characteristics. The metamodel is based on two models: (a) a full factorial design of recent XBeach Non-Hydrostatic simulations under different reef configurations and offshore wave and water level conditions (Pearson et al, 2017); and (b) Radial Basis Functions (RBFs) for approximating the non-linear function of run-up for the set of multivariate parameters:\n",
    "\n",
    "&nbsp;&nbsp;&nbsp;&nbsp;&nbsp;&nbsp;&nbsp;Runup = RBF($\\eta_0$, $H_0$, ${H_0/L_0}$, $\\beta_f$,$W_reef$, $\\beta_b$, $c_f$ );&nbsp;&nbsp;&nbsp;&nbsp;</center>\n",
    "\n",
    "Where, the hydrodynamic variables defined are offshore water level ($\\eta_0$), significant wave height ($H_0$), and wave steepness (${H_0/L_0}$); the reef morphologic parameters include fore reef slope ($\\beta_f$), reef flat width ($W_reef$), beach slope ($\\beta_b$), and seabed roughness ($c_f$). ${L_0}$ is the deep water wave length $L_0=gT_p^2/2pi$, and $T_p$ is the peak period. Beach crest elevation ($z_b$) was fixed at a height of 30 m to focus on run-up as a proxy for coastal inundation.\n",
    "\n",
    "<img src=\"resources/nb02_04_profile.png\">\n"
   ]
  },
  {
   "cell_type": "code",
   "execution_count": null,
   "metadata": {},
   "outputs": [],
   "source": [
    "#!/usr/bin/env python\n",
    "# -*- coding: utf-8 -*-\n",
    "\n",
    "# common\n",
    "import os\n",
    "import os.path as op\n",
    "\n",
    "# pip\n",
    "import numpy as np\n",
    "import pandas as pd\n",
    "import xarray as xr\n",
    "from scipy.interpolate import griddata\n",
    "\n",
    "# DEV: override installed teslakit\n",
    "import sys\n",
    "sys.path.insert(0, op.join(os.path.abspath(''), '..', '..', '..'))\n",
    "\n",
    "# teslakit\n",
    "from teslakit.database import Database\n",
    "from teslakit.rbf import RBF_Interpolation\n",
    "from teslakit.mda import Normalize\n",
    "\n",
    "from teslakit.plotting.extremes import Plot_ReturnPeriodValidation\n"
   ]
  },
  {
   "cell_type": "markdown",
   "metadata": {},
   "source": [
    "\n",
    "## Database and Site parameters"
   ]
  },
  {
   "cell_type": "code",
   "execution_count": null,
   "metadata": {},
   "outputs": [],
   "source": [
    "# --------------------------------------\n",
    "# Teslakit database\n",
    "\n",
    "p_data = r'/Users/nico/Projects/TESLA-kit/TeslaKit/data'\n",
    "db = Database(p_data)\n",
    "\n",
    "# set site\n",
    "db.SetSite('ROI')\n"
   ]
  },
  {
   "cell_type": "code",
   "execution_count": null,
   "metadata": {},
   "outputs": [],
   "source": [
    "# load Hycreww RBF coefficients and sim. variables min. and max.\n",
    "var_lims, rbf_coeffs = db.Load_HYCREWW()\n",
    "\n",
    "# reef characteristics\n",
    "reef_cs = {\n",
    "    'rslope': 0.0505,\n",
    "    'bslope': 0.1667,\n",
    "    'rwidth': 250,\n",
    "    'cf': 0.0105,\n",
    "}"
   ]
  },
  {
   "cell_type": "code",
   "execution_count": null,
   "metadata": {},
   "outputs": [],
   "source": [
    "# hycreww interpolation \n",
    "\n",
    "def hycreww_runup(xds):\n",
    "    '''\n",
    "    Calculates RunUp using hycreww RBFs (level) and linear interpolation (Runup)\n",
    "    \n",
    "    var_lims   - hycreww variables min and max limits\n",
    "    rbf_coeffs - hycreww rbf coefficients\n",
    "    reef_cs    - reef characteristics\n",
    "    \n",
    "    xds       - input dataset (xarray.Dataset with \"rbf_vns\" variables)\n",
    "    '''\n",
    "    \n",
    "    # parse input to pandas.dataframe\n",
    "    df = xds[['hs', 'tp', 'dir', 'level', 'hs_lo2']].to_dataframe()\n",
    "    \n",
    "    # RBF wave conditions \n",
    "    rbf_hs = [1, 1, 1, 2, 2, 2, 3, 3, 3, 4, 4, 4, 5, 5, 5]\n",
    "    rbf_hs_lo = [0.005, 0.025, 0.05, 0.005, 0.025, 0.05, 0.005, 0.025, 0.05, 0.005, 0.025, 0.05, 0.005, 0.025, 0.05 ]\n",
    "    rbf_vns = ['level', 'rslope', 'bslope', 'rwidth', 'cf']\n",
    "    \n",
    "    # RBF parameters\n",
    "    ix_sc = [0, 1, 2, 3, 4]\n",
    "    ix_dr = []\n",
    "    minis = [var_lims[x][0] for x in rbf_vns]\n",
    "    maxis = [var_lims[x][1] for x in rbf_vns]\n",
    "\n",
    "    # add reef characteristics\n",
    "    for p in reef_cs.keys(): df[p] = reef_cs[p]\n",
    "        \n",
    "    # data inside hycrew limits \n",
    "    lp = []\n",
    "    for vn in var_lims.keys():\n",
    "        ps = (df[vn] > var_lims[vn][0]) & (df[vn] < var_lims[vn][1])\n",
    "        lp.append(ps)\n",
    "    ix_in = np.where(np.all(lp, axis=0))[0]  # all variables inside limits\n",
    "    \n",
    "\n",
    "    # RBF dataset to interpolate\n",
    "    ds_in = df.iloc[ix_in]  # index inside limits\n",
    "    ds_rbf_in = ds_in[rbf_vns]  # rbf variables\n",
    "\n",
    "    # normalize data\n",
    "    ds_nm ,_ ,_ = Normalize(ds_rbf_in.values, ix_sc, ix_dr, minis=minis, maxis=maxis)\n",
    "\n",
    "    # RBF interpolation (with all cases?)\n",
    "    aux_1 = []\n",
    "    for rc in rbf_coeffs:\n",
    "        ro = RBF_Interpolation(rc['constant'], rc['coeff'], rc['nodes'], ds_nm.T)\n",
    "        aux_1.append(ro)\n",
    "    ru_z = np.array(aux_1)\n",
    "    \n",
    "    \n",
    "    # TODO upgrade interpolation for\n",
    "    \n",
    "    # RU Linear interpolation (hs, hs_lo -> runup)\n",
    "    aux_2 = []\n",
    "    for c, (_, r) in enumerate(ds_in.iterrows()):\n",
    "        vq = griddata((rbf_hs, rbf_hs_lo), ru_z[:,c], (r['hs'], r['hs_lo2']), method='linear')\n",
    "        aux_2.append(vq)\n",
    "    ru_in = np.array(aux_2)\n",
    "    \n",
    "    # add level to run_up\n",
    "    ru_in = ru_in + ds_in['level']\n",
    "    \n",
    "    # return runup \n",
    "    ru_out = np.zeros(len(df.index)) * np.nan\n",
    "    ru_out[ix_in] = ru_in\n",
    "    \n",
    "    xds_ru = xr.Dataset(\n",
    "        {\n",
    "            'runup': (('time',), ru_out)\n",
    "        },\n",
    "        coords={'time': df.index},\n",
    "    )\n",
    "\n",
    "    return xds_ru\n"
   ]
  },
  {
   "cell_type": "markdown",
   "metadata": {},
   "source": [
    "\n",
    "## Hycreww RBF Interpolation: Historical"
   ]
  },
  {
   "cell_type": "code",
   "execution_count": null,
   "metadata": {
    "scrolled": false
   },
   "outputs": [],
   "source": [
    "# Load complete historical data and nearshore waves\n",
    "\n",
    "data = db.Load_HIST_OFFSHORE(decode_times=True, vns=['level'])  # offshore data (level)\n",
    "waves = db.Load_HIST_NEARSHORE(decode_times=True, vns=['Hs', 'Tp', 'Dir'])  # nearshore waves\n",
    "\n",
    "# ensure data share waves time array\n",
    "data = data.sel(time = waves.time)\n",
    "\n",
    "# prepare data for hycreww\n",
    "waves = waves.rename_vars({\"Hs\": \"hs\", \"Tp\": \"tp\", 'Dir':'dir'})  # rename vars\n",
    "waves['hs_lo2'] = waves['hs']/(1.5613*waves['tp']**2)             # calc. hs_lo2\n",
    "waves['level'] = data.level                                       # add level\n",
    "\n",
    "# calculate runup with hycreww\n",
    "ru_hist = hycreww_runup(waves)\n",
    "\n",
    "# store historical runup\n",
    "db.Save_HIST_NEARSHORE(ru_hist)\n"
   ]
  },
  {
   "cell_type": "markdown",
   "metadata": {},
   "source": [
    "\n",
    "## Hycreww RBF Interpolation: Simulation"
   ]
  },
  {
   "cell_type": "code",
   "execution_count": null,
   "metadata": {
    "scrolled": false
   },
   "outputs": [],
   "source": [
    "# Load offshore simulations level \n",
    "data = db.Load_SIM_OFFSHORE_all(decode_times=False, vns=['level'])\n",
    "\n",
    "# iterate  simulations\n",
    "for n in data.n_sim:\n",
    "    data_n = data.sel(n_sim=int(n))\n",
    "    waves_n = db.Load_SIM_NEARSHORE(int(n), vns=['Hs', 'Tp', 'Dir'])\n",
    "    \n",
    "    # prepare data for hycreww\n",
    "    waves_n = waves_n.rename_vars({\"Hs\": \"hs\", \"Tp\": \"tp\", 'Dir':'dir'})  # rename vars\n",
    "    waves_n['hs_lo2'] = waves_n['hs']/(1.5613*waves_n['tp']**2)           # calc. hs_lo2\n",
    "    waves_n['level'] = data_n.level                                       # add level\n",
    "    \n",
    "    # calculate runup with hycreww\n",
    "    ru_sim_n = hycreww_runup(waves_n)\n",
    "    \n",
    "    # store simulation runup\n",
    "    db.Save_SIM_NEARSHORE(ru_sim_n, int(n))\n",
    "    \n",
    "    print('simulation {0} processed.'.format(int(n)))\n",
    "\n"
   ]
  },
  {
   "cell_type": "markdown",
   "metadata": {},
   "source": [
    "\n",
    "## Methodology Validation: Annual Maxima"
   ]
  },
  {
   "cell_type": "code",
   "execution_count": null,
   "metadata": {
    "scrolled": false
   },
   "outputs": [],
   "source": [
    "# load all simulations\n",
    "ru_sims = db.Load_SIM_NEARSHORE_all(vns=['runup'], decode_times=True)\n",
    "\n",
    "\n",
    "# compare historical and simulations runup annual maxima\n",
    "hist_A = ru_hist['runup'].groupby('time.year').max(dim='time')\n",
    "sim_A = ru_sims['runup'].groupby('time.year').max(dim='time')\n",
    "\n",
    "# Return Period historical vs. simulations\n",
    "Plot_ReturnPeriodValidation(hist_A, sim_A);\n",
    "    "
   ]
  },
  {
   "cell_type": "code",
   "execution_count": null,
   "metadata": {},
   "outputs": [],
   "source": []
  }
 ],
 "metadata": {
  "kernelspec": {
   "display_name": "Python 3",
   "language": "python",
   "name": "python3"
  },
  "language_info": {
   "codemirror_mode": {
    "name": "ipython",
    "version": 3
   },
   "file_extension": ".py",
   "mimetype": "text/x-python",
   "name": "python",
   "nbconvert_exporter": "python",
   "pygments_lexer": "ipython3",
   "version": "3.7.2"
  }
 },
 "nbformat": 4,
 "nbformat_minor": 2
}
