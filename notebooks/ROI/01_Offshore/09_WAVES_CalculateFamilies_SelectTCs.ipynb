{
 "cells": [
  {
   "cell_type": "markdown",
   "metadata": {},
   "source": [
    "\n",
    "... ***CURRENTLY UNDER DEVELOPMENT*** ...\n"
   ]
  },
  {
   "cell_type": "markdown",
   "metadata": {},
   "source": [
    "## Obtain wave families\n",
    "### In this case, two swell systems, one local sea\n",
    "\n",
    "inputs required: \n",
    "  * Historical wave conditions (GOW2 hindcast)\n",
    "  * Wave families sectors; the split is based on wave direction\n",
    "  \n",
    "in this notebook:\n",
    "  * Split energy based on defined sectors\n",
    "  * Remove TC associated waves to avoid double counting "
   ]
  },
  {
   "cell_type": "markdown",
   "metadata": {},
   "source": [
    "\n",
    "### Workflow:\n",
    "\n",
    "<div>\n",
    "<img src=\"resources/nb01_09.png\" width=\"300px\">\n",
    "</div>\n"
   ]
  },
  {
   "cell_type": "code",
   "execution_count": 1,
   "metadata": {},
   "outputs": [],
   "source": [
    "#!/usr/bin/env python\n",
    "# -*- coding: utf-8 -*-\n",
    "\n",
    "# common\n",
    "import os\n",
    "import os.path as op\n",
    "from datetime import datetime\n",
    "\n",
    "# pip\n",
    "import numpy as np\n",
    "import xarray as xr\n",
    "\n",
    "# DEV: override installed teslakit\n",
    "import sys\n",
    "sys.path.insert(0, op.join(os.path.abspath(''), '..', '..', '..'))\n",
    "\n",
    "# teslakit\n",
    "from teslakit.database import Database\n",
    "from teslakit.waves import GetDistribution_gow, GetDistribution_ws\n",
    "\n",
    "# wavespectra\n",
    "from wavespectra.specdataset import SpecDataset\n"
   ]
  },
  {
   "cell_type": "markdown",
   "metadata": {},
   "source": [
    "\n",
    "## Database and Site parameters"
   ]
  },
  {
   "cell_type": "code",
   "execution_count": 2,
   "metadata": {},
   "outputs": [],
   "source": [
    "# --------------------------------------\n",
    "# Teslakit database\n",
    "\n",
    "p_data = r'/Users/nico/Projects/TESLA-kit/TeslaKit/data'\n",
    "db = Database(p_data)\n",
    "\n",
    "# set site\n",
    "db.SetSite('ROI')\n"
   ]
  },
  {
   "cell_type": "code",
   "execution_count": 3,
   "metadata": {},
   "outputs": [],
   "source": [
    "# --------------------------------------\n",
    "# set waves families parameters\n",
    "\n",
    "_, TCs_r1_params = db.Load_TCs_r1_hist()   # TCs historical parameters inside big radius\n",
    "_, TCs_r2_params = db.Load_TCs_r2_hist()   # TCs historical parameters inside small radius\n",
    "\n",
    "# wave families sectors\n",
    "fams_sectors = [(210, 22.5), (22.5, 135)]\n",
    "\n",
    "# date limits for TCs removal from waves data, and TC time window (hours)\n",
    "tc_rm_date1 = '1979-01-01'\n",
    "tc_rm_date2 = '2015-12-31'\n",
    "tc_time_window = 12\n"
   ]
  },
  {
   "cell_type": "markdown",
   "metadata": {},
   "source": [
    "\n",
    "## Calculate Waves Partitions from Waves Spectra (CSIRO + wavespectra) "
   ]
  },
  {
   "cell_type": "code",
   "execution_count": 4,
   "metadata": {},
   "outputs": [],
   "source": [
    "# aux.\n",
    "\n",
    "def fix_dir(base_dirs):\n",
    "    'fix csiro direction for wavespectra (from -> to)'\n",
    "    new_dirs = base_dirs + 180\n",
    "    new_dirs[np.where(new_dirs>=360)] = new_dirs[np.where(new_dirs>=360)] - 360\n",
    "    \n",
    "    return new_dirs\n"
   ]
  },
  {
   "cell_type": "code",
   "execution_count": 5,
   "metadata": {
    "scrolled": false
   },
   "outputs": [
    {
     "name": "stdout",
     "output_type": "stream",
     "text": [
      "<xarray.Dataset>\n",
      "Dimensions:       (direction: 24, frequency: 29, string16: 16, time: 364266)\n",
      "Coordinates:\n",
      "    station       int32 ...\n",
      "  * frequency     (frequency) float32 0.035 0.0385 ... 0.45885003 0.50473505\n",
      "  * direction     (direction) float32 82.5 67.5 52.5 37.5 ... 127.5 112.5 97.5\n",
      "  * string16      (string16) int32 -2147483647 -2147483647 ... -2147483647\n",
      "  * time          (time) datetime64[ns] 1979-01-01 ... 2020-07-01\n",
      "Data variables:\n",
      "    station_name  (time) |S64 ...\n",
      "    frequency1    (time, frequency) float32 ...\n",
      "    frequency2    (time, frequency) float32 ...\n",
      "    longitude     (time) float32 ...\n",
      "    latitude      (time) float32 ...\n",
      "    Efth          (time, frequency, direction) float32 ...\n",
      "    depth         (time) float32 ...\n",
      "    u10m          (time) float32 ...\n",
      "    udir          (time) float32 ...\n",
      "    curr          (time) float32 ...\n",
      "    currdir       (time) float32 ...\n",
      "Attributes:\n",
      "    product_name:                    ww3.197901_spec.nc\n",
      "    area:                            spectral resolution for points\n",
      "    data_type:                       OCO spectra 2D\n",
      "    format_version:                  1.1\n",
      "    southernmost_latitude:           -70.0000000°\n",
      "    northernmost_latitude:           71.5999985°\n",
      "    latitude_resolution:             n/a\n",
      "    westernmost_longitude:           -178.0000000°\n",
      "    easternmost_longitude:           350.0000000°\n",
      "    longitude_resolution:            n/a\n",
      "    minimum_altitude:                n/a\n",
      "    maximum_altitude:                n/a\n",
      "    altitude_resolution:             n/a\n",
      "    start_date:                      1979-01-01T00:00:00Z\n",
      "    stop_date:                       1979-02-01T00:00:00Z\n",
      "    field_type:                      hourly\n",
      "    date_created:                    2012-09-10T21:32:00Z\n",
      "    author:                          Durrant, Hemer, Trenham and Greenslade\n",
      "    contact:                         Mark.Hemer@csiro.au,T.Durrant@bom.gov.au\n",
      "    DOI:                             http://dx.doi.org/10.4225/08/523168703DCC5\n",
      "    related_materials:               Centre for Australian Weather and Climat...\n",
      "    creation_method:                 The hindcast was performed using the WAV...\n",
      "    license:                         Please note that the licensee is require...\n",
      "    DODS.strlen:                     16\n",
      "    DODS.dimName:                    string16\n",
      "    DODS_EXTRA.Unlimited_Dimension:  time\n",
      "\n",
      "<xarray.Dataset>\n",
      "Dimensions:  (part: 9, time: 364266)\n",
      "Coordinates:\n",
      "  * part     (part) int64 0 1 2 3 4 5 6 7 8\n",
      "  * time     (time) datetime64[ns] 1979-01-01 ... 2020-07-01\n",
      "Data variables:\n",
      "    hs       (part, time) float64 0.0 0.5263 0.8362 1.063 ... 0.0 0.0 0.0 0.0\n",
      "    tp       (part, time) float64 nan 2.781 3.527 4.161 ... nan nan nan nan\n",
      "    tm02     (part, time) float64 nan 2.614 3.11 3.485 3.78 ... nan nan nan nan\n",
      "    dpm      (part, time) float64 nan 68.27 70.86 73.55 74.1 ... nan nan nan nan\n",
      "    dspr     (part, time) float64 nan 30.58 29.91 30.43 ... nan nan nan nan\n",
      "    Hs       (time) float64 0.0 0.5263 0.8362 1.063 ... 0.9737 0.9703 0.9678\n",
      "    Tp       (time) float64 nan 2.781 3.527 4.161 ... 8.03 8.03 8.024 8.014\n",
      "    Dir      (time) float64 nan 68.27 70.86 73.55 74.1 ... 62.78 62.1 61.52 61.1\n",
      "Attributes:\n",
      "    source:   teslakit_v0.9.1\n"
     ]
    }
   ],
   "source": [
    "# --------------------------------------\n",
    "# load waves spectra point (CSIRO spec)\n",
    "\n",
    "WVS_spec = db.Load_WAVES_spectra()\n",
    "print(WVS_spec)\n",
    "print()\n",
    "\n",
    "# direction data fix\n",
    "WVS_spec['direction'] = fix_dir(WVS_spec['direction'])\n",
    "\n",
    "# rename variables\n",
    "WVS_spec = WVS_spec.rename(\n",
    "    {\n",
    "        'frequency':'freq',\n",
    "        'direction':'dir',\n",
    "        'Efth':'efth',\n",
    "    }\n",
    ").set_coords({'freq','dir'})\n",
    "\n",
    "# efth: rad to º\n",
    "WVS_spec['efth'] = WVS_spec['efth'] * np.pi/180\n",
    "\n",
    "\n",
    "# wavespectra parameters\n",
    "wcut = 0.00000000001  # wcut = 0.3333\n",
    "msw = 8\n",
    "agef = 1.7\n",
    "\n",
    "# bulk wavespectra\n",
    "bulk_params = WVS_spec.spec.stats(['hs','tp','tm02','dpm','dspr'])\n",
    "\n",
    "# partitions\n",
    "ds_part = WVS_spec.spec.partition(\n",
    "    WVS_spec.u10m, WVS_spec.udir, WVS_spec.depth, \n",
    "    wscut = wcut, max_swells = msw, agefac = agef,\n",
    ")\n",
    "WVS_parts = ds_part.spec.stats(['hs','tp','tm02','dpm','dspr']) \n",
    "\n",
    "# Add bulk Hs, Tp, Dir variables\n",
    "WVS_parts['Hs'] = bulk_params['hs']\n",
    "WVS_parts['Tp'] = bulk_params['tp']\n",
    "WVS_parts['Dir'] = bulk_params['dpm']\n",
    "\n",
    "# drop station id\n",
    "WVS_parts = WVS_parts.drop('station')\n",
    "\n",
    "# Save partitions data\n",
    "db.Save_WAVES_partitions(WVS_parts)\n",
    "\n",
    "print(WVS_parts)\n"
   ]
  },
  {
   "cell_type": "markdown",
   "metadata": {},
   "source": [
    "\n",
    "## Calculate Historical Waves Families (CSIRO + wavespectra)"
   ]
  },
  {
   "cell_type": "code",
   "execution_count": 6,
   "metadata": {},
   "outputs": [
    {
     "name": "stdout",
     "output_type": "stream",
     "text": [
      "<xarray.Dataset>\n",
      "Dimensions:      (time: 363769)\n",
      "Coordinates:\n",
      "  * time         (time) datetime64[ns] 1979-01-01 ... 2020-07-01\n",
      "Data variables:\n",
      "    sea_Hs       (time) float64 nan 0.5263 0.8362 1.063 ... 0.8997 0.8783 0.8734\n",
      "    sea_Tp       (time) float64 nan 2.781 3.527 4.161 ... 7.658 7.703 7.673\n",
      "    sea_Dir      (time) float64 nan 68.27 70.86 73.55 ... 72.4 62.49 67.48 67.43\n",
      "    swell_1_Hs   (time) float64 nan nan nan nan ... 0.295 0.2945 0.3415 0.3449\n",
      "    swell_1_Tp   (time) float64 nan nan nan nan nan ... 9.092 9.107 9.537 8.92\n",
      "    swell_1_Dir  (time) float64 nan nan nan nan nan ... 14.96 15.68 20.19 17.65\n",
      "    swell_2_Hs   (time) float64 nan nan nan nan ... 0.03289 0.0339 0.03474\n",
      "    swell_2_Tp   (time) float64 nan nan nan nan nan ... 14.57 14.54 14.52 14.51\n",
      "    swell_2_Dir  (time) float64 nan nan nan nan nan ... 125.9 125.9 125.8 125.8\n",
      "    Hs           (time) float64 ...\n",
      "    Tp           (time) float64 ...\n",
      "    Dir          (time) float64 ...\n"
     ]
    }
   ],
   "source": [
    "# --------------------------------------\n",
    "# Calculate wave families from waves partitions data and waves sectors\n",
    "\n",
    "WVS_pts = db.Load_WAVES_partitions()       # waves partitions data (from CSIRO spectra and wavespectra toolbox)\n",
    "\n",
    "WVS = GetDistribution_ws(WVS_pts, fams_sectors, n_partitions=8)\n",
    "\n",
    "# Add wavespectra bulk Hs, Tp, Dir variables\n",
    "WVS['Hs'] = WVS_pts['Hs']\n",
    "WVS['Tp'] = WVS_pts['Tp']\n",
    "WVS['Dir'] = WVS_pts['Dir']\n",
    "\n",
    "# ensure time dimension does not repeat values\n",
    "_, index = np.unique(WVS['time'], return_index=True)\n",
    "WVS = WVS.isel(time=index)\n",
    "\n",
    "print(WVS)\n"
   ]
  },
  {
   "cell_type": "markdown",
   "metadata": {},
   "source": [
    "\n",
    "## Calculate Historical Waves Families (GOW)"
   ]
  },
  {
   "cell_type": "code",
   "execution_count": 7,
   "metadata": {},
   "outputs": [],
   "source": [
    "# --------------------------------------\n",
    "# Calculate wave families from waves partitions data and waves sectors\n",
    "\n",
    "#WVS_pts = db.Load_WAVES_partitions_GOW()  # waves partitions data (GOW)\n",
    "\n",
    "#WVS = GetDistribution_gow(WVS_pts, fams_sectors, n_partitions=5)\n",
    "\n",
    "# Add GOW Hs, Tp, Dir variables\n",
    "#WVS['Hs'] = WVS_pts['hs']\n",
    "#WVS['Tp'] = WVS_pts['tp']\n",
    "#WVS['Dir'] = WVS_pts['dir']\n"
   ]
  },
  {
   "cell_type": "markdown",
   "metadata": {},
   "source": [
    "\n",
    "## TCs: Waves  Selection "
   ]
  },
  {
   "cell_type": "code",
   "execution_count": 8,
   "metadata": {
    "scrolled": false
   },
   "outputs": [
    {
     "name": "stdout",
     "output_type": "stream",
     "text": [
      "<xarray.Dataset>\n",
      "Dimensions:      (time: 363769)\n",
      "Coordinates:\n",
      "  * time         (time) datetime64[ns] 1979-01-01 ... 2020-07-01\n",
      "Data variables:\n",
      "    sea_Hs       (time) float64 nan 0.5263 0.8362 1.063 ... 0.8997 0.8783 0.8734\n",
      "    sea_Tp       (time) float64 nan 2.781 3.527 4.161 ... 7.658 7.703 7.673\n",
      "    sea_Dir      (time) float64 nan 68.27 70.86 73.55 ... 72.4 62.49 67.48 67.43\n",
      "    swell_1_Hs   (time) float64 nan nan nan nan ... 0.295 0.2945 0.3415 0.3449\n",
      "    swell_1_Tp   (time) float64 nan nan nan nan nan ... 9.092 9.107 9.537 8.92\n",
      "    swell_1_Dir  (time) float64 nan nan nan nan nan ... 14.96 15.68 20.19 17.65\n",
      "    swell_2_Hs   (time) float64 nan nan nan nan ... 0.03289 0.0339 0.03474\n",
      "    swell_2_Tp   (time) float64 nan nan nan nan nan ... 14.57 14.54 14.52 14.51\n",
      "    swell_2_Dir  (time) float64 nan nan nan nan nan ... 125.9 125.9 125.8 125.8\n",
      "    Hs           (time) float64 ...\n",
      "    Tp           (time) float64 ...\n",
      "    Dir          (time) float64 ...\n",
      "    TC_category  (time) float64 nan nan nan nan nan nan ... nan nan nan nan nan\n"
     ]
    }
   ],
   "source": [
    "# --------------------------------------\n",
    "# Locate TCs and set category alongside WAVES data  \n",
    "\n",
    "# remove TCs before 1979 and after 2015 (r1)\n",
    "dds = TCs_r1_params.dmin_date.values[:]\n",
    "ix = np.where((dds >= np.datetime64(tc_rm_date1)) & (dds <= np.datetime64(tc_rm_date2)))[0]\n",
    "TCs_r1_params = TCs_r1_params.isel(storm=ix)\n",
    "\n",
    "# select storms inside big circle \n",
    "storms_sel = TCs_r1_params.storm.values[:]\n",
    "\n",
    "# add TCs category alongside WAVES data\n",
    "WVS['TC_category'] = (('time',), np.empty(len(WVS.time))*np.nan)\n",
    "\n",
    "for s in storms_sel:\n",
    "\n",
    "    # waves at storm dates\n",
    "    ss = TCs_r1_params.sel(storm=s)     \n",
    "    wvs_s = WVS.sel(time = slice(ss.dmin_date, ss.last_date))\n",
    "    \n",
    "    # get hs_max date \n",
    "    t_hs_max = wvs_s.where(wvs_s.Hs ==  wvs_s.Hs.max(), drop=True).time.values[:][0]\n",
    "        \n",
    "    # hs_max time window \n",
    "    w1 = t_hs_max - np.timedelta64(tc_time_window,'h')\n",
    "    w2 = t_hs_max + np.timedelta64(tc_time_window,'h')\n",
    "    \n",
    "    # set category alongside WAVES data\n",
    "    ixs = np.where((WVS.time >= w1) & (WVS.time <= w2))[0]\n",
    "    WVS['TC_category'][ixs] = ss.category \n",
    "    \n",
    "print(WVS)\n",
    "\n",
    "# Store historical WAVES data\n",
    "db.Save_WAVES_hist(WVS)\n"
   ]
  },
  {
   "cell_type": "code",
   "execution_count": null,
   "metadata": {},
   "outputs": [],
   "source": []
  }
 ],
 "metadata": {
  "kernelspec": {
   "display_name": "Python 3",
   "language": "python",
   "name": "python3"
  },
  "language_info": {
   "codemirror_mode": {
    "name": "ipython",
    "version": 3
   },
   "file_extension": ".py",
   "mimetype": "text/x-python",
   "name": "python",
   "nbconvert_exporter": "python",
   "pygments_lexer": "ipython3",
   "version": "3.7.2"
  }
 },
 "nbformat": 4,
 "nbformat_minor": 2
}
