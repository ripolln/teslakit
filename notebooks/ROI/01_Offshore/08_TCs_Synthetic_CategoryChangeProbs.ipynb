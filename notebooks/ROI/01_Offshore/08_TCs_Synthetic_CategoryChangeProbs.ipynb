{
 "cells": [
  {
   "cell_type": "markdown",
   "metadata": {},
   "source": [
    "\n",
    "... ***CURRENTLY UNDER DEVELOPMENT*** ...\n"
   ]
  },
  {
   "cell_type": "code",
   "execution_count": 1,
   "metadata": {},
   "outputs": [],
   "source": [
    "#!/usr/bin/env python\n",
    "# -*- coding: utf-8 -*-\n",
    "\n",
    "# common\n",
    "import os\n",
    "import os.path as op\n",
    "\n",
    "# pip\n",
    "import xarray as xr\n",
    "import numpy as np\n",
    "import matplotlib.pyplot as plt\n",
    "\n",
    "# DEV: override installed teslakit\n",
    "import sys\n",
    "sys.path.insert(0, op.join(os.path.abspath(''), '..', '..', '..'))\n",
    "\n",
    "# teslakit \n",
    "from teslakit.database import Database\n",
    "from teslakit.storms import Extract_Circle, GetCategoryChangeProbs\n",
    "\n",
    "from teslakit.plotting.storms import Plot_Category_Change\n"
   ]
  },
  {
   "cell_type": "markdown",
   "metadata": {},
   "source": [
    "\n",
    "## Database and Site parameters"
   ]
  },
  {
   "cell_type": "code",
   "execution_count": 2,
   "metadata": {},
   "outputs": [],
   "source": [
    "# --------------------------------------\n",
    "# Teslakit database\n",
    "\n",
    "p_data = r'/Users/nico/Projects/TESLA-kit/TeslaKit/data'\n",
    "db = Database(p_data)\n",
    "\n",
    "# set site\n",
    "db.SetSite('ROI')\n"
   ]
  },
  {
   "cell_type": "code",
   "execution_count": 3,
   "metadata": {},
   "outputs": [],
   "source": [
    "# --------------------------------------\n",
    "# load data and set parameters\n",
    "\n",
    "TCs_Nakajo = db.Load_TCs_Nakajo()  # Nakajo simulations\n",
    "\n",
    "# wave point longitude and latitude\n",
    "pnt_lon = 167.5\n",
    "pnt_lat = 9.75\n",
    "\n",
    "# radius for TCs selection (º)\n",
    "r1 = 14\n",
    "r2 = 4\n"
   ]
  },
  {
   "cell_type": "markdown",
   "metadata": {},
   "source": [
    "\n",
    "## Synthetic TCs - Category Change Probabilities"
   ]
  },
  {
   "cell_type": "code",
   "execution_count": 4,
   "metadata": {},
   "outputs": [
    {
     "name": "stdout",
     "output_type": "stream",
     "text": [
      "<xarray.Dataset>\n",
      "Dimensions:        (storm: 61125)\n",
      "Coordinates:\n",
      "  * storm          (storm) int64 5 8 14 50 52 ... 999974 999982 999986 999990\n",
      "Data variables:\n",
      "    pressure_min   (storm) float64 983.2 932.8 960.5 978.9 ... 968.4 973.3 992.4\n",
      "    pressure_mean  (storm) float64 988.5 970.4 990.6 990.9 ... 989.3 995.5 998.9\n",
      "    velocity_mean  (storm) float64 175.1 11.85 22.53 53.32 ... 11.99 19.86 9.651\n",
      "    gamma          (storm) float64 114.2 166.6 73.03 60.19 ... 138.9 116.8 117.4\n",
      "    delta          (storm) float64 113.0 225.8 24.94 25.63 ... 150.2 131.7 110.1\n",
      "    category       (storm) int64 1 4 3 2 1 0 0 0 1 5 1 ... 0 4 1 2 1 1 4 0 2 2 1\n",
      "    dmin_date      (storm) float64 45.4 63.0 42.0 264.0 ... 6.0 0.0 24.0 0.0\n",
      "    last_date      (storm) float64 54.4 288.0 259.5 400.5 ... 150.0 259.5 177.0\n",
      "    index_in       (storm) int64 61 0 1 90 0 0 4 6 0 31 ... 7 0 0 0 0 0 0 0 0 0\n",
      "    index_out      (storm) int64 86 39 33 110 19 14 31 ... 27 16 26 9 38 30 18\n",
      "Attributes:\n",
      "    point_lon:  167.5\n",
      "    point_lat:  9.75\n",
      "    point_r:    14\n",
      "<xarray.Dataset>\n",
      "Dimensions:        (storm: 12160)\n",
      "Coordinates:\n",
      "  * storm          (storm) int64 5 296 299 387 ... 999846 999877 999982 999986\n",
      "Data variables:\n",
      "    pressure_min   (storm) float64 988.1 961.0 998.7 ... 976.4 1.007e+03 998.5\n",
      "    pressure_mean  (storm) float64 988.7 977.2 1.002e+03 ... 1.007e+03 1.001e+03\n",
      "    velocity_mean  (storm) float64 172.6 21.28 17.16 89.95 ... 18.78 6.065 14.21\n",
      "    gamma          (storm) float64 114.0 104.0 122.9 99.87 ... 94.51 107.9 130.4\n",
      "    delta          (storm) float64 98.43 84.54 144.1 86.74 ... 113.7 114.5 170.3\n",
      "    category       (storm) int64 1 3 1 1 2 4 0 2 0 0 1 ... 3 1 2 3 2 1 1 0 2 0 1\n",
      "    dmin_date      (storm) float64 45.4 117.0 6.0 16.5 ... 0.0 114.0 0.0 24.0\n",
      "    last_date      (storm) float64 54.4 183.0 162.0 90.0 ... 342.0 150.0 259.5\n",
      "    index_in       (storm) int64 71 33 0 9 13 58 0 16 2 ... 13 26 19 3 0 31 0 0\n",
      "    index_out      (storm) int64 77 46 10 16 27 72 4 30 ... 36 25 10 1 45 3 14\n",
      "Attributes:\n",
      "    point_lon:  167.5\n",
      "    point_lat:  9.75\n",
      "    point_r:    4\n"
     ]
    }
   ],
   "source": [
    "# --------------------------------------\n",
    "# Select Nakajo TCs inside circle\n",
    "\n",
    "# dictionary with needed variable names\n",
    "d_vns = {\n",
    "    'longitude':'ylon_TC',\n",
    "    'latitude':'ylat_TC',\n",
    "    'time': 'yts',\n",
    "    'pressure':'yCPRES',\n",
    "}\n",
    "\n",
    "# Extract TCs inside R=14 and positions\n",
    "_, TCs_r1 = Extract_Circle(TCs_Nakajo, pnt_lon, pnt_lat, r1, d_vns)\n",
    "print(TCs_r1)\n",
    "\n",
    "# Extract TCs inside R=4 and positions\n",
    "_, TCs_r2 = Extract_Circle(TCs_Nakajo, pnt_lon, pnt_lat, r2, d_vns)\n",
    "print(TCs_r2)\n"
   ]
  },
  {
   "cell_type": "code",
   "execution_count": 5,
   "metadata": {},
   "outputs": [
    {
     "name": "stdout",
     "output_type": "stream",
     "text": [
      "<xarray.Dataset>\n",
      "Dimensions:                  (category: 6)\n",
      "Coordinates:\n",
      "  * category                 (category) int64 0 1 2 3 4 5\n",
      "Data variables:\n",
      "    category_change_count    (category, category) int64 1739 1281 263 ... 0 281\n",
      "    category_change_sum      (category) int64 19967 18496 3709 4183 1857 969\n",
      "    category_change_probs    (category, category) float64 0.08012 ... 0.1148\n",
      "    category_nochange_probs  (category) float64 0.9199 0.8809 ... 0.4367 0.396\n",
      "    category_change_cumsum   (category, category) float64 0.08012 ... 0.604\n"
     ]
    }
   ],
   "source": [
    "# --------------------------------------\n",
    "# Calculate Syntethic TCs category change probabilities\n",
    "\n",
    "categ_cp = GetCategoryChangeProbs(TCs_r1, TCs_r2)\n",
    "print(categ_cp)\n",
    "\n",
    "db.Save_TCs_probs_synth(categ_cp)\n"
   ]
  },
  {
   "cell_type": "code",
   "execution_count": 6,
   "metadata": {},
   "outputs": [
    {
     "data": {
      "image/png": "[encoded data removed]",
      "text/plain": [
       "<Figure size 570.83x380.554 with 2 Axes>"
      ]
     },
     "metadata": {
      "needs_background": "light"
     },
     "output_type": "display_data"
    }
   ],
   "source": [
    "# plot category change probabilities\n",
    "\n",
    "Plot_Category_Change(categ_cp);\n"
   ]
  },
  {
   "cell_type": "code",
   "execution_count": null,
   "metadata": {},
   "outputs": [],
   "source": []
  }
 ],
 "metadata": {
  "kernelspec": {
   "display_name": "Python 3",
   "language": "python",
   "name": "python3"
  },
  "language_info": {
   "codemirror_mode": {
    "name": "ipython",
    "version": 3
   },
   "file_extension": ".py",
   "mimetype": "text/x-python",
   "name": "python",
   "nbconvert_exporter": "python",
   "pygments_lexer": "ipython3",
   "version": "3.7.2"
  }
 },
 "nbformat": 4,
 "nbformat_minor": 2
}
