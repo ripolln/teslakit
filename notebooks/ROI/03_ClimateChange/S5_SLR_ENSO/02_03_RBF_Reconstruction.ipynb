{
 "cells": [
  {
   "cell_type": "markdown",
   "metadata": {},
   "source": [
    "\n",
    "... ***CURRENTLY UNDER DEVELOPMENT*** ...\n"
   ]
  },
  {
   "cell_type": "markdown",
   "metadata": {},
   "source": [
    "## RBFs reconstruction and validation of historical and synthetic data\n",
    "\n",
    "inputs required: \n",
    "  * Historical offshore waves (for plotting)\n",
    "  * Synthetic offshore waves - emulator output climate change\n",
    "  * Sea and swell SWAN simulated cases from ***Notebook 02_02***\n",
    "\n",
    "in this notebook:\n",
    "  * RBF reconstruction simulated storms\n",
    "  * Return period comparison of historical and synthetic storms (with and without climate change)\n",
    "  * Validation: AWAC measurement - Synthetic and historical histograms - Extremes  "
   ]
  },
  {
   "attachments": {
    "slr.png": {
     "image/png": "[encoded data removed]"
    }
   },
   "cell_type": "markdown",
   "metadata": {},
   "source": [
    "### TODO\n",
    "\n",
    "(NICO) Mi duda viene de los resultados de la propagación a nearshore que vemos aqui, no veo diferencias después de modificar los TCs, entiendo que las olas más grandes rompen igualmente en SWAN... a no ser que incorporemos la variable level...\n",
    "\n",
    "¿Tendría sentido aplicar SLR antes de llegar aquí? Voy por partes:\n",
    "    \n",
    "    * En el siguiente notebook (02_04_Hycreww_RunUp) se suma el SLR.scenario=1.0 al nivel\n",
    "![slr.png](attachment:slr.png)\n",
    "\n",
    "    * Las RBF que usamos aquí se han entrenado con un subset de casos SWAN que no consideran este aumento. \n",
    "    * Los casos swan son STATIONARY (no time), pero podríamos incorporar al MDA los valores SLR.scenario=1.0 \n",
    "      como una dimension más y volver a clasificar->propagar->alimentar RBF.\n",
    "\n",
    "Quiero indicar que sería laborioso, ya que habría que hacer varios cambios: \n",
    "    \n",
    "    1. Añadir, Alterar y reejecutar 02_01_WAVES_MDA_Classification.ipynb, con la dimensión extra SLR\n",
    "       y crear nuevo dataset / subset\n",
    "    2. Alterar mw_deltares/swan.py para permitir lanzar un subset SWAN con casos \n",
    "       que tengan diferentes valores de level y añadir un 02_02_SWAN_Numerical_Propagation.ipynb\n",
    "    3. Alimentar unas nuevas RBFs con este nuevo subset de casos resueltos (que tienen en cuenta diferente level)\n",
    "    4. Utilizar esas RBFs en este notebook para llevar a nearshore nuestros casos con diferente level\n",
    "    \n",
    "Creo que puede ser mucho trabajo para poco resultado. Pero dejo aquí mis comentarios. \n",
    "\n",
    "Para ésto también habria que sumar SLR antes y no al final en hycreww.\n"
   ]
  },
  {
   "cell_type": "code",
   "execution_count": null,
   "metadata": {},
   "outputs": [],
   "source": [
    "#!/usr/bin/env python\n",
    "# -*- coding: utf-8 -*-\n",
    "\n",
    "# common\n",
    "import os\n",
    "import os.path as op\n",
    "\n",
    "# pip\n",
    "import numpy as np\n",
    "import pandas as pd\n",
    "import xarray as xr\n",
    "\n",
    "# DEV: override installed teslakit\n",
    "import sys\n",
    "sys.path.insert(0, op.join(os.path.abspath(''), '..', '..', '..', '..'))\n",
    "\n",
    "# teslakit\n",
    "from teslakit.database import Database\n",
    "from teslakit.rbf import RBF_Reconstruction, RBF_Validation\n",
    "from teslakit.waves import Aggregate_WavesFamilies, AWL\n",
    "from teslakit.climate_emulator import Climate_Emulator\n",
    "\n",
    "from teslakit.plotting.extremes import Plot_ReturnPeriodValidation_v2\n",
    "from teslakit.plotting.waves import Plot_Waves_Histogram_FitSim\n"
   ]
  },
  {
   "cell_type": "markdown",
   "metadata": {},
   "source": [
    "\n",
    "## Database and Site parameters"
   ]
  },
  {
   "cell_type": "code",
   "execution_count": null,
   "metadata": {},
   "outputs": [],
   "source": [
    "# --------------------------------------\n",
    "# Teslakit database\n",
    "\n",
    "p_data = r'/Users/albacid/Projects/TeslaKit_projects'\n",
    "\n",
    "# offshore\n",
    "db = Database(p_data)\n",
    "db.SetSite('ROI')\n",
    "\n",
    "# climate change - S5\n",
    "db_S5 = Database(p_data)\n",
    "db_S5.SetSite('ROI_CC_S5')\n"
   ]
  },
  {
   "cell_type": "markdown",
   "metadata": {},
   "source": [
    "## Prepare Sea and Swells data"
   ]
  },
  {
   "cell_type": "code",
   "execution_count": null,
   "metadata": {},
   "outputs": [],
   "source": [
    "def split_sea_swells(WVS):\n",
    "    '''\n",
    "    splits WVS dataframe data into sea waves & swell waves dataframes\n",
    "    \n",
    "    requires WVS to contain variables with these names:\n",
    "        'sea_Hs', 'sea_Tp', 'sea_Dir'\n",
    "        'swell_1_Hs', 'swell_1_Tp', 'swell_1_Dir'\n",
    "        'swell_2_Hs', 'swell_2_Tp', 'swell_2_Dir'\n",
    "        ...\n",
    "    \n",
    "    '''\n",
    "    \n",
    "    # store n_sim if found in WVS dataset\n",
    "    vns_extra = []\n",
    "    if 'n_sim' in list(WVS.columns):\n",
    "        vns_extra.append('n_sim') \n",
    "\n",
    "    \n",
    "    # Prepare SEA waves\n",
    "    vns_sea = ['sea_Hs', 'sea_Tp', 'sea_Dir'] + vns_extra\n",
    "    \n",
    "    wvs_sea = WVS[vns_sea]\n",
    "    wvs_sea.dropna(inplace=True)  # clean nans\n",
    "    wvs_sea.rename(columns={\"sea_Hs\":\"hs\", \"sea_Tp\":\"tp\", \"sea_Dir\": \"dir\"}, inplace=True)  # rename columns\n",
    "    wvs_sea = wvs_sea[wvs_sea[\"dir\"]<=360]  # filter data\n",
    "    \n",
    "    # Prepare SWELL_1 waves\n",
    "    vns_swell_1 = ['swell_1_Hs', 'swell_1_Tp', 'swell_1_Dir'] + vns_extra\n",
    "\n",
    "    wvs_swell_1 = WVS[vns_swell_1]\n",
    "    wvs_swell_1.dropna(inplace=True)\n",
    "    wvs_swell_1.rename(columns={\"swell_1_Hs\":\"hs\", \"swell_1_Tp\":\"tp\", \"swell_1_Dir\": \"dir\"}, inplace=True)\n",
    "    wvs_swell_1 = wvs_swell_1[wvs_swell_1[\"dir\"]<=360]  \n",
    "\n",
    "    # Prepare SWELL_2 waves\n",
    "    vns_swell_2 = ['swell_2_Hs', 'swell_2_Tp', 'swell_2_Dir'] + vns_extra\n",
    "\n",
    "    wvs_swell_2 = WVS[vns_swell_2]\n",
    "    wvs_swell_2.dropna(inplace=True)\n",
    "    wvs_swell_2.rename(columns={\"swell_2_Hs\":\"hs\", \"swell_2_Tp\":\"tp\", \"swell_2_Dir\": \"dir\"}, inplace=True)\n",
    "    wvs_swell_2 = wvs_swell_2[wvs_swell_2[\"dir\"]<=360]  \n",
    "\n",
    "\n",
    "    # join swell data\n",
    "    wvs_swell = pd.concat([wvs_swell_1, wvs_swell_2], ignore_index=True)\n",
    "    \n",
    "    return wvs_sea, wvs_swell\n",
    "\n",
    "\n",
    "# --------------------------------------\n",
    "# Waves data\n",
    "\n",
    "# Climate Emulator DWTs-WVS simulations climate change\n",
    "WVS_sim_CC = db_S5.Load_CE_AllSims()\n",
    "\n",
    "\n",
    "# --------------------------------------\n",
    "# split waves data by family\n",
    "\n",
    "# Prepare Simulated waves: split sea, swells\n",
    "wvs_sea_sim_CC, wvs_swl_sim_CC = split_sea_swells(WVS_sim_CC)\n",
    "db_S5.Save_NEARSHORE_SIM_sea(wvs_sea_sim_CC)\n",
    "db_S5.Save_NEARSHORE_SIM_swell(wvs_swl_sim_CC)\n"
   ]
  },
  {
   "cell_type": "code",
   "execution_count": null,
   "metadata": {},
   "outputs": [],
   "source": [
    "# input files: dataset, subset (MDA classification), and target (SWAN simulations output)\n",
    "\n",
    "# sea \n",
    "wvs_sea_dataset_sim_CC = db_S5.Load_NEARSHORE_SIM_sea() # offshore climate change\n",
    "wvs_sea_subset = db.Load_NEARSHORE_MDA_sea()\n",
    "wvs_sea_target = db.Load_NEARSHORE_TARGET_sea() # SWAN simulation outputs\n",
    "\n",
    "# swells \n",
    "wvs_swell_dataset_sim_CC = db_S5.Load_NEARSHORE_SIM_swell() # offshore climate change\n",
    "wvs_swell_subset = db.Load_NEARSHORE_MDA_swell()\n",
    "wvs_swell_target = db.Load_NEARSHORE_TARGET_swell() # SWAN simulation outputs\n",
    "\n",
    "# keep datasets n_sim column\n",
    "sea_n_sim_CC = wvs_sea_dataset_sim_CC['n_sim']\n",
    "swl_n_sim_CC = wvs_swell_dataset_sim_CC['n_sim']\n",
    "\n",
    "\n",
    "# remove nans (if any) from subset and target\n",
    "def fix_target_nans(subset, target):\n",
    "    'remove NaN data indexes from subset and target. RBF does not handle NaNs'\n",
    "    \n",
    "    r_nan = target.isnull().any(axis=1)  # find any row with nans\n",
    "\n",
    "    if r_nan.any():\n",
    "        # log\n",
    "        print('remove nan data found at target:')\n",
    "        print(target[r_nan])\n",
    "        \n",
    "        # clean data\n",
    "        target = target[~r_nan]\n",
    "        subset = subset[~r_nan]\n",
    "        \n",
    "    return subset, target\n",
    "\n",
    "wvs_sea_subset, wvs_sea_target = fix_target_nans(wvs_sea_subset, wvs_sea_target)\n",
    "wvs_swell_subset, wvs_swell_target = fix_target_nans(wvs_swell_subset, wvs_swell_target)\n",
    "\n",
    "\n",
    "# ensure dataset and subset have same variables and column order\n",
    "vns_ds = ['hs', 'tp', 'dir']\n",
    "\n",
    "wvs_sea_dataset_sim_CC = wvs_sea_dataset_sim_CC[vns_ds].values\n",
    "wvs_sea_subset = wvs_sea_subset[vns_ds].values\n",
    "\n",
    "wvs_swell_dataset_sim_CC = wvs_swell_dataset_sim_CC[vns_ds].values\n",
    "wvs_swell_subset = wvs_swell_subset[vns_ds].values\n",
    "\n",
    "\n",
    "# select target variables\n",
    "vns_tgt = ['Hsig', 'TPsmoo', 'Dir']\n",
    "\n",
    "wvs_sea_target = wvs_sea_target[vns_tgt].values\n",
    "wvs_swell_target = wvs_swell_target[vns_tgt].values\n"
   ]
  },
  {
   "cell_type": "code",
   "execution_count": null,
   "metadata": {},
   "outputs": [],
   "source": [
    "# RBF settings\n",
    "\n",
    "# subset - scalar / directional indexes\n",
    "ix_scalar_subset = [0,1]      # scalar (hs, tp)\n",
    "ix_directional_subset = [2]   # directional (dir)\n",
    "\n",
    "# target - scalar / directional indexes\n",
    "ix_scalar_target = [0,1]      # scalar (Hsig, Tpsmoo, Dir)\n",
    "ix_directional_target = [2]   # directional (Dir)\n",
    "\n",
    "\n",
    "# RBF wrappers \n",
    "def RBF_Reconstruction_sea(dataset_input):\n",
    "    \n",
    "    return RBF_Reconstruction(\n",
    "    wvs_sea_subset, ix_scalar_subset, ix_directional_subset,\n",
    "    wvs_sea_target, ix_scalar_target, ix_directional_target,\n",
    "    dataset_input)\n",
    "\n",
    "def RBF_Reconstruction_swell(dataset_input):\n",
    "    \n",
    "    return RBF_Reconstruction(\n",
    "    wvs_swell_subset, ix_scalar_subset, ix_directional_subset,\n",
    "    wvs_swell_target, ix_scalar_target, ix_directional_target,\n",
    "    dataset_input)\n",
    "\n",
    "def RBF_Reconstruction_families(data):\n",
    "   \n",
    "    # sea\n",
    "    vs = ['sea_Hs', 'sea_Tp', 'sea_Dir']\n",
    "    data_sea = data[vs].to_dataframe().dropna()\n",
    "    data_sea.drop(data_sea[(data_sea['sea_Dir'] >= 360)].index, inplace=True)  # fix sea_Dir >> 360 bug    \n",
    "    rec_sea = RBF_Reconstruction_sea(data_sea.values)\n",
    "    rec_sea = pd.DataFrame(data=rec_sea, columns=vs, index=data_sea.index)\n",
    "\n",
    "    # swell 1\n",
    "    vs = ['swell_1_Hs', 'swell_1_Tp', 'swell_1_Dir']\n",
    "    data_swl_1 = data[vs].to_dataframe().dropna()\n",
    "    rec_swl_1 = RBF_Reconstruction_swell(data_swl_1.values)\n",
    "    rec_swl_1 = pd.DataFrame(data=rec_swl_1, columns=vs, index=data_swl_1.index)\n",
    "\n",
    "    # swell 2\n",
    "    vs = ['swell_2_Hs', 'swell_2_Tp', 'swell_2_Dir']\n",
    "    data_swl_2 = data[vs].to_dataframe().dropna()\n",
    "    rec_swl_2 = RBF_Reconstruction_swell(data_swl_2.values)\n",
    "    rec_swl_2 = pd.DataFrame(data=rec_swl_2, columns=vs, index=data_swl_2.index)\n",
    "    \n",
    "    # join nearshore reconstructed data and parse to xarray.Dataset\n",
    "    rec_waves = pd.concat([rec_sea, rec_swl_1, rec_swl_2], axis=1)\n",
    "\n",
    "    return xr.Dataset.from_dataframe(rec_waves)\n",
    "     "
   ]
  },
  {
   "cell_type": "markdown",
   "metadata": {},
   "source": [
    "\n",
    "## RBF Reconstruct SEA Waves"
   ]
  },
  {
   "cell_type": "code",
   "execution_count": null,
   "metadata": {},
   "outputs": [],
   "source": [
    "# --------------------------------------\n",
    "# RBF Interpolation\n",
    "\n",
    "# Simulated SEA waves\n",
    "sea_rec_sim_CC = RBF_Reconstruction_sea(wvs_sea_dataset_sim_CC)\n",
    "df_sea_recon_sim_CC = pd.DataFrame(data=sea_rec_sim_CC, columns=vns_tgt)\n",
    "df_sea_recon_sim_CC['n_sim'] = sea_n_sim_CC  # keep n_sim value\n",
    "\n",
    "\n",
    "# store data\n",
    "db_S5.Save_NEARSHORE_RECONSTRUCTION_SIM_sea(df_sea_recon_sim_CC)\n"
   ]
  },
  {
   "cell_type": "markdown",
   "metadata": {},
   "source": [
    "\n",
    "## RBF Reconstruct SWELL Waves"
   ]
  },
  {
   "cell_type": "code",
   "execution_count": null,
   "metadata": {},
   "outputs": [],
   "source": [
    "# --------------------------------------\n",
    "# RBF Interpolation\n",
    "\n",
    "# Simulated SWELL waves\n",
    "swl_rec_sim_CC = RBF_Reconstruction_swell(wvs_swell_dataset_sim_CC)\n",
    "df_swl_recon_sim_CC = pd.DataFrame(data=swl_rec_sim_CC, columns=vns_tgt)\n",
    "df_swl_recon_sim_CC['n_sim'] = swl_n_sim_CC  # keep n_sim value\n",
    "\n",
    "\n",
    "# store data\n",
    "db_S5.Save_NEARSHORE_RECONSTRUCTION_SIM_swell(df_swl_recon_sim_CC)\n"
   ]
  },
  {
   "cell_type": "markdown",
   "metadata": {},
   "source": [
    "\n",
    "## Load historical and simulated OFFSHORE waves"
   ]
  },
  {
   "cell_type": "code",
   "execution_count": null,
   "metadata": {},
   "outputs": [],
   "source": [
    "# Load climate emulator historical waves (storms)\n",
    "WVS_hist = db.Load_HIST_Complete_storms()\n",
    "WVS_hist['AWL'] = AWL(WVS_hist.Hs, WVS_hist.Tp) # calculate AWL\n",
    "\n",
    "\n",
    "# Load climate emulator simulation waves (storms)\n",
    "n_sims_DWTs = 10\n",
    "l_WVS_sim = db.Load_SIM_Complete_storms(n_sims_DWTs)\n",
    "for WVS_sim in l_WVS_sim: WVS_sim['AWL'] = AWL(WVS_sim.Hs, WVS_sim.Tp) # calculate AWL\n",
    "\n",
    "# Load climate emulator simulation waves (storms) climate change\n",
    "l_WVS_sim_CC = db_S5.Load_SIM_Complete_storms(n_sims_DWTs)\n",
    "for WVS_sim in l_WVS_sim_CC: WVS_sim['AWL'] = AWL(WVS_sim.Hs, WVS_sim.Tp) # calculate AWL\n"
   ]
  },
  {
   "cell_type": "code",
   "execution_count": null,
   "metadata": {
    "scrolled": false
   },
   "outputs": [],
   "source": [
    "# compare historical and simulations annual maxima (for storms)\n",
    "\n",
    "vns = ['Hs', 'Tp', 'AWL']\n",
    "for vn in vns:\n",
    "\n",
    "    # calculate Annual Maxima values for historical and simulated data\n",
    "    hist_A = WVS_hist[vn].groupby('time.year').max(dim='time')\n",
    "    sim_A = xr.concat([x[vn].groupby('time.year').max(dim='time') for x in l_WVS_sim], 'n_sim')\n",
    "    sim_B = xr.concat([x[vn].groupby('time.year').max(dim='time') for x in l_WVS_sim_CC], 'n_sim')\n",
    "\n",
    "    # Return Period historical vs. simulations\n",
    "    Plot_ReturnPeriodValidation_v2(hist_A, sim_A, sim_B);\n"
   ]
  },
  {
   "cell_type": "markdown",
   "metadata": {},
   "source": [
    "\n",
    "##  Reconstructed Historical storms"
   ]
  },
  {
   "cell_type": "code",
   "execution_count": null,
   "metadata": {
    "scrolled": false
   },
   "outputs": [],
   "source": [
    "    \n",
    "# Load historical storms waves reconstruction\n",
    "WVS_HIST_rec = db.Load_NEARSHORE_RECONSTRUCTION_HIST_storms()\n"
   ]
  },
  {
   "cell_type": "markdown",
   "metadata": {},
   "source": [
    "\n",
    "## RBF Reconstruct Simulation storms"
   ]
  },
  {
   "cell_type": "code",
   "execution_count": null,
   "metadata": {
    "scrolled": false
   },
   "outputs": [],
   "source": [
    "\n",
    "l_sims_rec_CC = []\n",
    "for data in l_WVS_sim_CC:\n",
    "    \n",
    "    # Reconstruct waves by families\n",
    "    WVS_SIM_rec = RBF_Reconstruction_families(data)\n",
    "    \n",
    "    # aggregate nearshore variables\n",
    "    WVS_a = Aggregate_WavesFamilies(WVS_SIM_rec)\n",
    "    WVS_SIM_rec = xr.merge([WVS_SIM_rec, WVS_a])\n",
    "    \n",
    "    # calculate AWL\n",
    "    WVS_SIM_rec['AWL'] = AWL(WVS_SIM_rec.Hs, WVS_SIM_rec.Tp)\n",
    "\n",
    "    l_sims_rec_CC.append(WVS_SIM_rec)\n",
    "    \n",
    "    \n",
    "# store simulations storms waves reconstruction\n",
    "db_S5.Save_NEARSHORE_RECONSTRUCTION_SIM_storms(l_sims_rec_CC)\n",
    "\n"
   ]
  },
  {
   "cell_type": "markdown",
   "metadata": {},
   "source": [
    "\n",
    "## Methodology Validation: NEARSHORE Historical - Simulation Annual Maxima"
   ]
  },
  {
   "cell_type": "code",
   "execution_count": null,
   "metadata": {
    "scrolled": false
   },
   "outputs": [],
   "source": [
    "# compare historical and simulations reconstruction vars. annual maxima\n",
    "l_sims_rec = db.Load_NEARSHORE_RECONSTRUCTION_SIM_storms(n_sims=10)\n",
    "\n",
    "vns = ['Hs', 'Tp', 'AWL']\n",
    "for vn in vns:\n",
    "\n",
    "    # calculate Annual Maxima values for historical and simulated data\n",
    "    hist_A = WVS_HIST_rec[vn].groupby('time.year').max(dim='time')\n",
    "    sim_A = xr.concat([x[vn].groupby('time.year').max(dim='time') for x in l_sims_rec], 'n_sim')\n",
    "    sim_B = xr.concat([x[vn].groupby('time.year').max(dim='time') for x in l_sims_rec_CC], 'n_sim')\n",
    "\n",
    "\n",
    "    # Return Period historical vs. simulations\n",
    "    Plot_ReturnPeriodValidation_v2(hist_A, sim_A, sim_B);\n",
    "    "
   ]
  },
  {
   "cell_type": "code",
   "execution_count": null,
   "metadata": {},
   "outputs": [],
   "source": []
  }
 ],
 "metadata": {
  "kernelspec": {
   "display_name": "Python 3",
   "language": "python",
   "name": "python3"
  },
  "language_info": {
   "codemirror_mode": {
    "name": "ipython",
    "version": 3
   },
   "file_extension": ".py",
   "mimetype": "text/x-python",
   "name": "python",
   "nbconvert_exporter": "python",
   "pygments_lexer": "ipython3",
   "version": "3.7.2"
  }
 },
 "nbformat": 4,
 "nbformat_minor": 2
}
