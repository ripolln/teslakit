{
 "cells": [
  {
   "cell_type": "markdown",
   "metadata": {},
   "source": [
    "\n",
    "... ***CURRENTLY UNDER DEVELOPMENT*** ...\n"
   ]
  },
  {
   "cell_type": "markdown",
   "metadata": {},
   "source": [
    "## Obtain synthetic waves and water level timeseries under a climate change scenario (future AWTs occurrence probability)\n",
    "\n",
    "inputs required: \n",
    "  * Historical DWTs (for plotting)\n",
    "  * Historical wave families (for plotting)\n",
    "  * Synthetic DWTs climate change\n",
    "  * Historical intradaily hydrograph parameters  \n",
    "  * TCs waves\n",
    "  * Fitted multivariate extreme model for the waves associated to each DWT\n",
    "\n",
    "  \n",
    "in this notebook:\n",
    "  * Generate synthetic time series of wave conditions   \n",
    " \n"
   ]
  },
  {
   "cell_type": "code",
   "execution_count": 1,
   "metadata": {},
   "outputs": [],
   "source": [
    "#!/usr/bin/env python\n",
    "# -*- coding: utf-8 -*-\n",
    "\n",
    "# common\n",
    "import os\n",
    "import os.path as op\n",
    "\n",
    "# pip\n",
    "import numpy as np\n",
    "import xarray as xr\n",
    "import pandas as pd\n",
    "from datetime import datetime\n",
    "import matplotlib.pyplot as plt\n",
    "\n",
    "# DEV: override installed teslakit\n",
    "import sys\n",
    "sys.path.insert(0, op.join(os.path.abspath(''), '..', '..','..', '..'))\n",
    "\n",
    "# teslakit\n",
    "from teslakit.database import Database\n",
    "from teslakit.climate_emulator import Climate_Emulator\n",
    "from teslakit.waves import AWL, Aggregate_WavesFamilies\n",
    "\n",
    "from teslakit.plotting.outputs import Plot_FitSim_Histograms\n",
    "from teslakit.plotting.extremes import Plot_FitSim_AnnualMax, Plot_FitSim_GevFit, Plot_Fit_QQ\n",
    "\n",
    "from teslakit.plotting.waves import Plot_Waves_Histogram_FitSim\n"
   ]
  },
  {
   "cell_type": "markdown",
   "metadata": {},
   "source": [
    "\n",
    "## Database and Site parameters"
   ]
  },
  {
   "cell_type": "code",
   "execution_count": 2,
   "metadata": {},
   "outputs": [],
   "source": [
    "# --------------------------------------\n",
    "# Teslakit database\n",
    "\n",
    "p_data = r'/Users/anacrueda/Documents/Proyectos/TESLA/data'\n",
    "\n",
    "# offshore\n",
    "db = Database(p_data)\n",
    "db.SetSite('ROI')\n",
    "\n",
    "# climate change - S5\n",
    "db_S5 = Database(p_data)\n",
    "db_S5.SetSite('ROI_CC_S5')\n",
    "\n",
    "\n",
    "# climate emulator simulation modified path\n",
    "p_S5_CE_sims = op.join(db_S5.paths.site.EXTREMES.climate_emulator, 'Simulations')\n"
   ]
  },
  {
   "cell_type": "code",
   "execution_count": 3,
   "metadata": {},
   "outputs": [],
   "source": [
    "# --------------------------------------\n",
    "# Load data for climate emulator simulation climate change: ESTELA DWT and TCs (MU, TAU) \n",
    "\n",
    "DWTs_sim = db_S5.Load_ESTELA_DWT_sim() # DWTs climate change\n",
    "\n",
    "TCs_params = db.Load_TCs_r2_sim_params()    # TCs parameters (copula generated) \n",
    "TCs_RBFs = db.Load_TCs_sim_r2_rbf_output()  # TCs numerical_IH-RBFs_interpolation output\n",
    "\n",
    "probs_TCs =  db.Load_TCs_probs_synth()      # TCs synthetic probabilities\n",
    "pchange_TCs = probs_TCs['category_change_cumsum'].values[:]\n",
    "\n",
    "l_mutau_wt = db.Load_MU_TAU_hydrograms()   # MU - TAU intradaily hidrographs for each DWT\n",
    "MU_WT = np.array([x.MU.values[:] for x in l_mutau_wt])  # MU and TAU numpy arrays\n",
    "TAU_WT = np.array([x.TAU.values[:] for x in l_mutau_wt])\n",
    "\n"
   ]
  },
  {
   "cell_type": "code",
   "execution_count": 4,
   "metadata": {},
   "outputs": [
    {
     "name": "stdout",
     "output_type": "stream",
     "text": [
      "<xarray.Dataset>\n",
      "Dimensions:      (n_sim: 10, time: 365244)\n",
      "Coordinates:\n",
      "  * time         (time) object 2000-01-01 00:00:00 ... 3000-01-01 00:00:00\n",
      "Dimensions without coordinates: n_sim\n",
      "Data variables:\n",
      "    evbmus_sims  (time, n_sim) float32 ...\n",
      "Attributes:\n",
      "    source:   teslakit_v0.9.1\n"
     ]
    }
   ],
   "source": [
    "# solve first 10 DWTs simulations\n",
    "\n",
    "DWTs_sim = DWTs_sim.isel(n_sim=slice(0, 10))\n",
    "#DWTs_sim = DWTs_sim.isel(time=slice(0,365*40+10), n_sim=slice(0,1))\n",
    "\n",
    "print(DWTs_sim)\n"
   ]
  },
  {
   "cell_type": "markdown",
   "metadata": {},
   "source": [
    "\n",
    "## Climate Emulator - Simulation"
   ]
  },
  {
   "cell_type": "code",
   "execution_count": 5,
   "metadata": {},
   "outputs": [],
   "source": [
    "# --------------------------------------\n",
    "# Climate Emulator extremes model fitting\n",
    "\n",
    "# Load Climate Emulator\n",
    "CE = Climate_Emulator(db.paths.site.EXTREMES.climate_emulator)\n",
    "CE.Load()\n",
    "\n",
    "# set a new path for S5 simulations\n",
    "CE.Set_Simulation_Folder(p_S5_CE_sims, copy_WAVES_noTCs = False)  # climate change waves (no TCs) not simulated, DWTs have changed\n",
    "\n",
    "\n",
    "    \n",
    "# optional: list variables to override distribution to empirical\n",
    "#CE.sim_icdf_empirical_override = ['sea_Hs_31',\n",
    "#                                  'swell_1_Hs_1','swell_1_Tp_1',\n",
    "#                                  'swell_1_Hs_2','swell_1_Tp_2',]\n",
    "\n",
    "# set simulated waves min-max filter\n",
    "CE.sim_waves_filter.update({\n",
    "    'hs': (0, 8),\n",
    "    'tp': (2, 25),\n",
    "    'ws': (0, 0.06),\n",
    "})\n"
   ]
  },
  {
   "cell_type": "code",
   "execution_count": 6,
   "metadata": {
    "scrolled": false
   },
   "outputs": [
    {
     "name": "stdout",
     "output_type": "stream",
     "text": [
      "- Sim: 1 -\n"
     ]
    },
    {
     "name": "stderr",
     "output_type": "stream",
     "text": [
      "C.E: Sim. Waves: 100%|██████████| 107133/107133 [2:02:09<00:00, 14.62it/s]  \n",
      "C.E: Sim. TCs  : 100%|██████████| 107133/107133 [00:03<00:00, 28205.99it/s]\n"
     ]
    },
    {
     "name": "stdout",
     "output_type": "stream",
     "text": [
      "- Sim: 2 -\n"
     ]
    },
    {
     "name": "stderr",
     "output_type": "stream",
     "text": [
      "C.E: Sim. Waves: 100%|██████████| 107538/107538 [1:47:06<00:00, 16.73it/s]  \n",
      "C.E: Sim. TCs  : 100%|██████████| 107538/107538 [00:03<00:00, 31453.87it/s]\n"
     ]
    },
    {
     "name": "stdout",
     "output_type": "stream",
     "text": [
      "- Sim: 3 -\n"
     ]
    },
    {
     "name": "stderr",
     "output_type": "stream",
     "text": [
      "C.E: Sim. Waves: 100%|██████████| 106655/106655 [1:47:55<00:00, 16.47it/s] \n",
      "C.E: Sim. TCs  : 100%|██████████| 106655/106655 [00:03<00:00, 30975.01it/s]\n"
     ]
    },
    {
     "name": "stdout",
     "output_type": "stream",
     "text": [
      "- Sim: 4 -\n"
     ]
    },
    {
     "name": "stderr",
     "output_type": "stream",
     "text": [
      "C.E: Sim. Waves: 100%|██████████| 107558/107558 [1:46:53<00:00, 16.77it/s]  \n",
      "C.E: Sim. TCs  : 100%|██████████| 107558/107558 [00:03<00:00, 30403.26it/s]\n"
     ]
    },
    {
     "name": "stdout",
     "output_type": "stream",
     "text": [
      "- Sim: 5 -\n"
     ]
    },
    {
     "name": "stderr",
     "output_type": "stream",
     "text": [
      "C.E: Sim. Waves: 100%|██████████| 107204/107204 [1:43:39<00:00, 17.24it/s] \n",
      "C.E: Sim. TCs  : 100%|██████████| 107204/107204 [00:03<00:00, 31262.81it/s]\n"
     ]
    },
    {
     "name": "stdout",
     "output_type": "stream",
     "text": [
      "- Sim: 6 -\n"
     ]
    },
    {
     "name": "stderr",
     "output_type": "stream",
     "text": [
      "C.E: Sim. Waves: 100%|██████████| 107436/107436 [1:45:39<00:00, 16.95it/s]  \n",
      "C.E: Sim. TCs  : 100%|██████████| 107436/107436 [00:03<00:00, 31845.82it/s]\n"
     ]
    },
    {
     "name": "stdout",
     "output_type": "stream",
     "text": [
      "- Sim: 7 -\n"
     ]
    },
    {
     "name": "stderr",
     "output_type": "stream",
     "text": [
      "C.E: Sim. Waves: 100%|██████████| 107244/107244 [1:46:31<00:00, 16.78it/s] \n",
      "C.E: Sim. TCs  : 100%|██████████| 107244/107244 [00:03<00:00, 31835.53it/s]\n"
     ]
    },
    {
     "name": "stdout",
     "output_type": "stream",
     "text": [
      "- Sim: 8 -\n"
     ]
    },
    {
     "name": "stderr",
     "output_type": "stream",
     "text": [
      "C.E: Sim. Waves: 100%|██████████| 106850/106850 [1:48:23<00:00, 16.43it/s] \n",
      "C.E: Sim. TCs  : 100%|██████████| 106850/106850 [00:03<00:00, 31413.69it/s]\n"
     ]
    },
    {
     "name": "stdout",
     "output_type": "stream",
     "text": [
      "- Sim: 9 -\n"
     ]
    },
    {
     "name": "stderr",
     "output_type": "stream",
     "text": [
      "C.E: Sim. Waves: 100%|██████████| 106755/106755 [1:47:59<00:00, 16.48it/s]  \n",
      "C.E: Sim. TCs  : 100%|██████████| 106755/106755 [00:03<00:00, 31361.83it/s]\n"
     ]
    },
    {
     "name": "stdout",
     "output_type": "stream",
     "text": [
      "- Sim: 10 -\n"
     ]
    },
    {
     "name": "stderr",
     "output_type": "stream",
     "text": [
      "C.E: Sim. Waves: 100%|██████████| 106843/106843 [1:53:18<00:00, 15.72it/s] \n",
      "C.E: Sim. TCs  : 100%|██████████| 106843/106843 [00:03<00:00, 31946.04it/s]\n"
     ]
    }
   ],
   "source": [
    "# --------------------------------------\n",
    "#  Climate Emulator simulation\n",
    "\n",
    "# each DWT series will generate a different set of waves\n",
    "for n in DWTs_sim.n_sim:\n",
    "    print('- Sim: {0} -'.format(int(n)+1))\n",
    "    \n",
    "    # Select DWTs simulation\n",
    "    DWTs = DWTs_sim.sel(n_sim=n)\n",
    "\n",
    "    # Simulate waves\n",
    "    n_ce = 1  # (one CE sim. for each DWT sim.)\n",
    "    WVS_sim = CE.Simulate_Waves(DWTs, n_ce, filters={'hs':True, 'tp':True, 'ws':True})\n",
    "\n",
    "    # Simulate TCs and update simulated waves\n",
    "    TCs_sim, WVS_upd = CE.Simulate_TCs(DWTs, WVS_sim, TCs_params, TCs_RBFs, pchange_TCs, MU_WT, TAU_WT)\n",
    "    \n",
    "    # store simulation data\n",
    "    CE.SaveSim(WVS_sim, TCs_sim, WVS_upd, int(n))\n",
    "    \n",
    "    "
   ]
  },
  {
   "cell_type": "code",
   "execution_count": null,
   "metadata": {},
   "outputs": [],
   "source": []
  },
  {
   "cell_type": "code",
   "execution_count": null,
   "metadata": {},
   "outputs": [],
   "source": []
  }
 ],
 "metadata": {
  "kernelspec": {
   "display_name": "Python 3",
   "language": "python",
   "name": "python3"
  },
  "language_info": {
   "codemirror_mode": {
    "name": "ipython",
    "version": 3
   },
   "file_extension": ".py",
   "mimetype": "text/x-python",
   "name": "python",
   "nbconvert_exporter": "python",
   "pygments_lexer": "ipython3",
   "version": "3.7.2"
  }
 },
 "nbformat": 4,
 "nbformat_minor": 2
}
