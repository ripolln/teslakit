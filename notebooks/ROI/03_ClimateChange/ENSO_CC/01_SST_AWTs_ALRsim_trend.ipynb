{
 "cells": [
  {
   "cell_type": "markdown",
   "metadata": {},
   "source": [
    "\n",
    "... ***CURRENTLY UNDER DEVELOPMENT*** ...\n"
   ]
  },
  {
   "cell_type": "markdown",
   "metadata": {},
   "source": [
    "## Obtain Anual Weather Types (AWT) following the methodology explained in Anderson et al. (2019)\n",
    "\n",
    "inputs required: \n",
    "  * Averaged monthly Sea Surface Temperature (SST) anomalies. Extracted from the Extended Reconstructed Sea Surface Temperature v4 (ERSSTv4; Huang et al., (2015)). Rectangular region from 120°E to 280°E and 5°N to 5°S "
   ]
  },
  {
   "cell_type": "code",
   "execution_count": 1,
   "metadata": {},
   "outputs": [],
   "source": [
    "#!/usr/bin/env python\n",
    "# -*- coding: utf-8 -*-\n",
    "\n",
    "# common\n",
    "import os\n",
    "import os.path as op\n",
    "import pickle\n",
    "from datetime import datetime\n",
    "\n",
    "# pip\n",
    "import xarray as xr\n",
    "import numpy as np\n",
    "\n",
    "# DEV: override installed teslakit\n",
    "import sys\n",
    "sys.path.insert(0, op.join(os.path.abspath(''), '..', '..', '..', '..'))\n",
    "\n",
    "# teslakit \n",
    "from teslakit.database import Database\n",
    "from teslakit.pca import PCA_LatitudeAverage\n",
    "from teslakit.kma import KMA_simple\n",
    "from teslakit.statistical import CopulaSimulation\n",
    "from teslakit.alr import ALR_WRP\n",
    "\n",
    "from teslakit.plotting.awt import Plot_AWTs_EOFs, Plot_AWTs, Plot_AWTs_Dates, Plot_AWTs_Validation\n",
    "from teslakit.plotting.pcs import Plot_PCs_Compare_3D, Plot_PCs_WT\n"
   ]
  },
  {
   "cell_type": "markdown",
   "metadata": {},
   "source": [
    "\n",
    "## Database and Site parameters"
   ]
  },
  {
   "cell_type": "code",
   "execution_count": 2,
   "metadata": {},
   "outputs": [],
   "source": [
    "# --------------------------------------\n",
    "# Teslakit database\n",
    "\n",
    "p_data = r'/Users/albacid/Projects/TeslaKit_projects'\n",
    "db = Database(p_data)\n",
    "\n",
    "# set site\n",
    "db.SetSite('ROI')\n"
   ]
  },
  {
   "cell_type": "code",
   "execution_count": 3,
   "metadata": {},
   "outputs": [],
   "source": [
    "# --------------------------------------\n",
    "# load data and set parameters\n",
    "\n",
    "SST = db.Load_SST()  # SST Predictor\n",
    "var_name = 'SST'\n",
    "\n",
    "# SST Predictor PCA parameters\n",
    "pca_year_ini = 1880\n",
    "pca_year_end = 2016\n",
    "pca_month_ini = 6\n",
    "pca_month_end = 5\n",
    "num_clusters = 6\n",
    "repres = 0.95\n",
    "\n",
    "# ALR parameters\n",
    "alr_markov_order = 2\n",
    "\n",
    "# PCs copula generation parameters (PCs 1, 2, 3)\n",
    "num_PCs_rnd = 1000\n",
    "kernels = ['KDE', 'KDE', 'KDE']\n",
    "\n",
    "# Simulation\n",
    "num_sims = 10\n",
    "y1_sim = 2000\n",
    "y2_sim = 3000\n"
   ]
  },
  {
   "cell_type": "markdown",
   "metadata": {},
   "source": [
    "\n",
    "## SST  - Principal Components Analysis"
   ]
  },
  {
   "cell_type": "code",
   "execution_count": 4,
   "metadata": {},
   "outputs": [],
   "source": [
    "# --------------------------------------\n",
    "# Principal Components Analysis SST data\n",
    "\n",
    "# load SST PCs\n",
    "SST_PCA = db.Load_SST_PCA()\n"
   ]
  },
  {
   "cell_type": "markdown",
   "metadata": {},
   "source": [
    "\n",
    "## SST - KMeans Classification --> Annual Weather Types"
   ]
  },
  {
   "cell_type": "code",
   "execution_count": 5,
   "metadata": {
    "scrolled": true
   },
   "outputs": [],
   "source": [
    "# --------------------------------------\n",
    "# KMA Classification \n",
    "\n",
    "# load SST AWTs\n",
    "SST_AWTs = db.Load_SST_KMA()\n"
   ]
  },
  {
   "cell_type": "code",
   "execution_count": 6,
   "metadata": {},
   "outputs": [],
   "source": [
    "# --------------------------------------\n",
    "# PCs123 random generation with Copulas\n",
    "\n",
    "vari = SST_AWTs.variance.values[:]\n",
    "\n",
    "# store PCs used for fitting and simulated\n",
    "PCs_fit, PCs_rnd = db.Load_SST_PCs_fit_rnd()\n"
   ]
  },
  {
   "cell_type": "markdown",
   "metadata": {},
   "source": [
    "\n",
    "## Autoregressive Logistic Regression"
   ]
  },
  {
   "cell_type": "code",
   "execution_count": 7,
   "metadata": {},
   "outputs": [
    {
     "name": "stdout",
     "output_type": "stream",
     "text": [
      "\n",
      "Fitting autoregressive logistic model ...\n",
      "Optimization done in 0.65 seconds\n",
      "\n",
      "warning - statsmodels MNLogit could not provide p-values\n"
     ]
    }
   ],
   "source": [
    "# --------------------------------------\n",
    "# Autoregressive Logistic Regression - fit model\n",
    "\n",
    "# bmus series\n",
    "bmus_fit = xr.Dataset(\n",
    "    {\n",
    "        'bmus':(('time',), SST_AWTs.bmus.values[:] + 1),\n",
    "    },\n",
    "    coords = {'time': SST_AWTs.time.values[:]}\n",
    ")\n",
    "\n",
    "\n",
    "# ALR terms\n",
    "d_terms_settings = {\n",
    "    'mk_order'  : alr_markov_order,\n",
    "    'constant' : True,\n",
    "    'long_term' : True,\n",
    "    'seasonality': (False, []),\n",
    "}\n",
    "\n",
    "# ALR wrapper\n",
    "ALRW = ALR_WRP(db.paths.site.SST.alrw)\n",
    "ALRW.SetFitData(num_clusters, bmus_fit, d_terms_settings)\n",
    "\n",
    "# ALR model fitting\n",
    "ALRW.FitModel(max_iter=50000)\n",
    "\n",
    "ALRW.Report_Fit()"
   ]
  },
  {
   "cell_type": "code",
   "execution_count": 8,
   "metadata": {
    "scrolled": false
   },
   "outputs": [
    {
     "name": "stdout",
     "output_type": "stream",
     "text": [
      "ALR model fit   : 1880-06-01 --- 2016-06-01\n",
      "ALR model sim   : 1999-06-01 --- 3000-06-01\n",
      "\n",
      "Launching 10 simulations...\n",
      "\n",
      "Sim. Num. 001: 100%|██████████| 1000/1000 [00:00<00:00, 5290.13it/s]\n",
      "Sim. Num. 002: 100%|██████████| 1000/1000 [00:00<00:00, 5772.48it/s]\n",
      "Sim. Num. 003: 100%|██████████| 1000/1000 [00:00<00:00, 5965.81it/s]\n",
      "Sim. Num. 004: 100%|██████████| 1000/1000 [00:00<00:00, 5978.22it/s]\n",
      "Sim. Num. 005: 100%|██████████| 1000/1000 [00:00<00:00, 5955.58it/s]\n",
      "Sim. Num. 006: 100%|██████████| 1000/1000 [00:00<00:00, 4660.71it/s]\n",
      "Sim. Num. 007: 100%|██████████| 1000/1000 [00:00<00:00, 3887.52it/s]\n",
      "Sim. Num. 008: 100%|██████████| 1000/1000 [00:00<00:00, 1588.41it/s]\n",
      "Sim. Num. 009: 100%|██████████| 1000/1000 [00:00<00:00, 1249.43it/s]\n",
      "Sim. Num. 010: 100%|██████████| 1000/1000 [00:00<00:00, 1606.78it/s]\n",
      "\n",
      "<xarray.Dataset>\n",
      "Dimensions:      (n_sim: 10, time: 1002)\n",
      "Coordinates:\n",
      "  * time         (time) object 1999-06-01 2000-06-01 ... 2999-06-01 3000-06-01\n",
      "Dimensions without coordinates: n_sim\n",
      "Data variables:\n",
      "    evbmus_sims  (time, n_sim) int64 5 5 5 5 5 5 5 5 5 5 ... 2 2 2 2 2 2 2 2 2 2\n"
     ]
    },
    {
     "ename": "SystemExit",
     "evalue": "",
     "output_type": "error",
     "traceback": [
      "An exception has occurred, use %tb to see the full traceback.\n",
      "\u001b[0;31mSystemExit\u001b[0m\n"
     ]
    }
   ],
   "source": [
    "# --------------------------------------\n",
    "# Autoregressive Logistic Regression - simulate \n",
    "\n",
    "# simulation dates (annual array)\n",
    "dates_sim = [datetime(y, pca_month_ini,1) for y in range(y1_sim-1, y2_sim+1)]\n",
    "\n",
    "# launch simulation\n",
    "ALR_sim = ALRW.Simulate(num_sims, dates_sim)\n",
    "\n",
    "# store simulated Annual Weather Types\n",
    "SST_AWTs_sim = ALR_sim.evbmus_sims.to_dataset()\n",
    "print(SST_AWTs_sim)\n",
    "\n",
    "sys.exit()\n",
    "#db.Save_SST_AWT_sim(SST_AWTs_sim)\n"
   ]
  },
  {
   "cell_type": "code",
   "execution_count": 9,
   "metadata": {},
   "outputs": [
    {
     "name": "stdout",
     "output_type": "stream",
     "text": [
      "PerpetualYear bmus comparison skipped.\n",
      "timedelta (days): Hist - 365, Sim - 366)\n"
     ]
    },
    {
     "data": {
      "image/png": "[encoded data removed]",
      "text/plain": [
       "<Figure size 1141.66x705.6 with 14 Axes>"
      ]
     },
     "metadata": {
      "needs_background": "light"
     },
     "output_type": "display_data"
    }
   ],
   "source": [
    "# show simulation report\n",
    "ALRW.Report_Sim();\n"
   ]
  },
  {
   "cell_type": "code",
   "execution_count": null,
   "metadata": {
    "scrolled": true
   },
   "outputs": [],
   "source": [
    "# --------------------------------------\n",
    "# PCs generation\n",
    "\n",
    "# solve each ALR simulation\n",
    "l_PCs_sim = []\n",
    "for s in SST_AWTs_sim.n_sim:\n",
    "\n",
    "    evbmus_sim = SST_AWTs_sim.sel(n_sim=s).evbmus_sims.values[:]\n",
    "\n",
    "    # generate random PCs\n",
    "    pcs123_sim = np.empty((len(evbmus_sim),3)) * np.nan\n",
    "    for c, m in enumerate(evbmus_sim):\n",
    "        options = PCs_rnd['{0}'.format(int(m))]\n",
    "        r = np.random.randint(options.shape[0])\n",
    "        pcs123_sim[c,:] = options[r,:]\n",
    "        \n",
    "    # denormalize simulated PCs\n",
    "    PC1_sim = np.multiply(pcs123_sim[:,0], np.sqrt(vari[0]))\n",
    "    PC2_sim = np.multiply(pcs123_sim[:,1], np.sqrt(vari[1]))\n",
    "    PC3_sim = np.multiply(pcs123_sim[:,2], np.sqrt(vari[2]))\n",
    "\n",
    "    # append simulated PCs\n",
    "    l_PCs_sim.append(\n",
    "        xr.Dataset(\n",
    "            {\n",
    "                'PC1'  : (('time',), PC1_sim),\n",
    "                'PC2'  : (('time',), PC2_sim),\n",
    "                'PC3'  : (('time',), PC3_sim),\n",
    "                'evbmus_sim' : (('time',), evbmus_sim),\n",
    "            },\n",
    "            {'time' : dates_sim}\n",
    "        )\n",
    "    )\n",
    "\n",
    "# concatenate simulations\n",
    "SST_PCs_sim = xr.concat(l_PCs_sim, 'n_sim')\n",
    "print(SST_PCs_sim)\n",
    "\n",
    "# store simulated PCs\n",
    "#db.Save_SST_PCs_sim(SST_PCs_sim)\n"
   ]
  },
  {
   "cell_type": "code",
   "execution_count": null,
   "metadata": {},
   "outputs": [],
   "source": []
  }
 ],
 "metadata": {
  "kernelspec": {
   "display_name": "Python 3",
   "language": "python",
   "name": "python3"
  },
  "language_info": {
   "codemirror_mode": {
    "name": "ipython",
    "version": 3
   },
   "file_extension": ".py",
   "mimetype": "text/x-python",
   "name": "python",
   "nbconvert_exporter": "python",
   "pygments_lexer": "ipython3",
   "version": "3.7.2"
  }
 },
 "nbformat": 4,
 "nbformat_minor": 2
}
