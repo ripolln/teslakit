{
 "cells": [
  {
   "cell_type": "markdown",
   "metadata": {},
   "source": [
    "\n",
    "... ***CURRENTLY UNDER DEVELOPMENT*** ...\n"
   ]
  },
  {
   "cell_type": "code",
   "execution_count": 1,
   "metadata": {},
   "outputs": [],
   "source": [
    "#!/usr/bin/env python\n",
    "# -*- coding: utf-8 -*-\n",
    "\n",
    "# common\n",
    "import os\n",
    "import os.path as op\n",
    "\n",
    "# pip\n",
    "import numpy as np\n",
    "import xarray as xr\n",
    "\n",
    "# DEV: override installed teslakit\n",
    "import sys\n",
    "sys.path.insert(0, op.join(os.path.abspath(''), '..', '..','..', '..'))\n",
    "\n",
    "# teslakit \n",
    "from teslakit.alr import ALR_WRP\n",
    "from teslakit.util.time_operations import xds_reindex_daily, xds_common_dates_daily\n",
    "\n",
    "from teslakit.plotting.estela import Plot_DWTs_Probs\n",
    "from teslakit.plotting.wts import Plot_Probs_WT_WT\n",
    "from teslakit.plotting.waves import Plot_Waves_DWTs\n",
    "\n",
    "from teslakit.io.aux_nc import StoreBugXdset\n"
   ]
  },
  {
   "cell_type": "markdown",
   "metadata": {},
   "source": [
    "\n",
    "## Database and Site parameters"
   ]
  },
  {
   "cell_type": "code",
   "execution_count": 2,
   "metadata": {},
   "outputs": [],
   "source": [
    "# Teslakit database\n",
    "\n",
    "site ='ROI'\n",
    "p_data = r'/Users/albacid/Projects/TeslaKit_projects/sites/' + site + '/'\n",
    "\n",
    "p_outputs = p_data + 'ClimateChange/'\n",
    "\n"
   ]
  },
  {
   "cell_type": "code",
   "execution_count": 3,
   "metadata": {},
   "outputs": [],
   "source": [
    "# --------------------------------------\n",
    "# load data and set parameters\n",
    "\n",
    "KMA_fit = xr.open_dataset(p_data + '/ESTELA/pred_SLP/kma.nc') # Historical bmus. ESTELA + TCs Predictor (daily)\n",
    "MJO_sim_all = xr.open_dataset(p_data + '/MJO/MJO_sim.nc')        # MJO simulation (daily)\n",
    "PCs_sim_all = xr.open_dataset(p_outputs + '/CC_SST_PCs_sim_d.nc')     # SST PCs simulation (daily)\n",
    "\n",
    "# ALR fit parameters\n",
    "alr_num_clusters = 42\n",
    "alr_markov_order = 1\n",
    "alr_seasonality = [2, 4]\n",
    "\n",
    "# ALR simulation\n",
    "num_sims = 10 # one simulation for each simulated MJO, SST \n"
   ]
  },
  {
   "cell_type": "code",
   "execution_count": 5,
   "metadata": {},
   "outputs": [],
   "source": [
    "# --------------------------------------\n",
    "# Data used to FIT ALR model and preprocess: \n",
    "\n",
    "# KMA: bmus (daily) (use sorted_bmus_storms, add 1 to get 1-42 bmus set)\n",
    "BMUS_fit = xr.Dataset(\n",
    "    {\n",
    "        'bmus':(('time',), KMA_fit['sorted_bmus_storms'].values[:] + 1),\n",
    "    },\n",
    "    coords = {'time': KMA_fit.time.values[:]}\n",
    ")\n",
    "\n"
   ]
  },
  {
   "cell_type": "markdown",
   "metadata": {},
   "source": [
    "\n",
    "## ESTELA Predictor - Autoregressive Logistic Regression Simulation"
   ]
  },
  {
   "cell_type": "code",
   "execution_count": 8,
   "metadata": {},
   "outputs": [
    {
     "name": "stdout",
     "output_type": "stream",
     "text": [
      "<xarray.Dataset>\n",
      "Dimensions:     (n_covariates: 5, time: 365243)\n",
      "Coordinates:\n",
      "  * time        (time) object 1700-01-01 1700-01-02 ... 2699-12-31 2700-01-01\n",
      "Dimensions without coordinates: n_covariates\n",
      "Data variables:\n",
      "    cov_values  (time, n_covariates) float32 61.475624 -17.110228 ... 0.74786484\n",
      "    cov_names   (n_covariates) <U4 'PC1' 'PC2' 'PC3' 'MJO1' 'MJO2'\n"
     ]
    }
   ],
   "source": [
    "# --------------------------------------\n",
    "# Prepare Covariates for ALR simulations\n",
    "\n",
    "# simulation dates\n",
    "d_sim = xds_common_dates_daily([MJO_sim_all, PCs_sim_all])\n",
    "\n",
    "# join covariates for all MJO, PCs simulations\n",
    "l_cov_sims = []\n",
    "for i in MJO_sim_all.n_sim: \n",
    "\n",
    "    # select simulation\n",
    "    MJO_sim = MJO_sim_all.sel(n_sim=i)\n",
    "    PCs_sim = PCs_sim_all.sel(n_sim=i)\n",
    "\n",
    "    # PCs covar \n",
    "    cov_PCs = PCs_sim.sel(time = slice(d_sim[0], d_sim[-1]))\n",
    "    cov_1 = cov_PCs.PC1.values.reshape(-1,1)\n",
    "    cov_2 = cov_PCs.PC2.values.reshape(-1,1)\n",
    "    cov_3 = cov_PCs.PC3.values.reshape(-1,1)\n",
    "\n",
    "    # MJO covars\n",
    "    cov_MJO = MJO_sim.sel(time = slice(d_sim[0], d_sim[-1]))\n",
    "    cov_4 = cov_MJO.rmm1.values.reshape(-1,1)\n",
    "    cov_5 = cov_MJO.rmm2.values.reshape(-1,1)\n",
    "\n",
    "    # join covars (do not normalize simulation covariates)\n",
    "    cov_T_sim = np.hstack((cov_1, cov_2, cov_3, cov_4, cov_5))\n",
    "    cov_sim = xr.Dataset(\n",
    "        {\n",
    "            'cov_values': (('time','n_covariates'), cov_T_sim),\n",
    "            'cov_names': (('n_covariates',), ['PC1','PC2','PC3','MJO1','MJO2']),\n",
    "        },\n",
    "        coords = {'time': d_sim}\n",
    "    )\n",
    "    l_cov_sims.append(cov_sim)\n",
    "\n",
    "# use \"n_sim\" name to join covariates (ALR.Simulate() will recognize it)\n",
    "cov_sims = xr.concat(l_cov_sims, dim='n_sim')\n",
    "cov_sims = cov_sims.squeeze()\n",
    "\n",
    "print(cov_sims)\n"
   ]
  },
  {
   "cell_type": "code",
   "execution_count": 9,
   "metadata": {},
   "outputs": [],
   "source": [
    "# --------------------------------------\n",
    "# Autoregressive Logistic Regression\n",
    "\n",
    "# ALR terms\n",
    "d_terms_settings = {\n",
    "    'mk_order'  : alr_markov_order,\n",
    "    'constant' : True,\n",
    "    'long_term' : False,\n",
    "    'seasonality': (True, alr_seasonality),\n",
    "    'covariates': (True, cov_sim),  # Ojo: he cambiado cov_fit por cov_sim porque creo que de aquí solo utiliza \n",
    "                                    # cov_names, no los valores. También he añadido cov_names, que antes no se guardaba     \n",
    "}\n",
    "\n",
    "\n",
    "# ALR wrapper\n",
    "model_fit = p_data + 'ESTELA/alr_w/'\n",
    "ALRW = ALR_WRP(model_fit)\n",
    "ALRW.SetFitData(alr_num_clusters, BMUS_fit, d_terms_settings)\n",
    "\n",
    "ALRW.LoadModel()"
   ]
  },
  {
   "cell_type": "code",
   "execution_count": null,
   "metadata": {},
   "outputs": [
    {
     "name": "stdout",
     "output_type": "stream",
     "text": [
      "ALR model fit   : 1979-02-12 --- 2011-03-31\n",
      "ALR model sim   : 1700-01-01 --- 2700-01-01\n",
      "\n",
      "Launching 10 simulations...\n",
      "\n",
      "Sim. Num. 001: 100%|██████████| 365242/365242 [09:04<00:00, 670.71it/s]\n",
      "Sim. Num. 002: 100%|██████████| 365242/365242 [10:39<00:00, 571.43it/s]\n",
      "Sim. Num. 003: 100%|██████████| 365242/365242 [10:06<00:00, 602.00it/s]\n",
      "Sim. Num. 004: 100%|██████████| 365242/365242 [08:15<00:00, 736.84it/s]\n",
      "Sim. Num. 005: 100%|██████████| 365242/365242 [07:56<00:00, 766.29it/s]\n",
      "Sim. Num. 006: 100%|██████████| 365242/365242 [07:56<00:00, 766.96it/s]\n",
      "Sim. Num. 007: 100%|██████████| 365242/365242 [07:56<00:00, 766.55it/s]\n",
      "Sim. Num. 008:  56%|█████▌    | 203052/365242 [04:33<03:52, 696.76it/s] "
     ]
    }
   ],
   "source": [
    "# --------------------------------------\n",
    "# Autoregressive Logistic Regression - simulate \n",
    "\n",
    "# launch simulation\n",
    "xds_alr = ALRW.Simulate(num_sims, d_sim, cov_sims)\n",
    "\n",
    "# Store Daily Weather Types\n",
    "DWT_sim = xds_alr.evbmus_sims.to_dataset()\n",
    "StoreBugXdset(DWT_sim, p_outputs + 'CC_DWT_sim.nc')\n",
    "\n",
    "print(DWT_sim)\n"
   ]
  },
  {
   "cell_type": "code",
   "execution_count": null,
   "metadata": {
    "scrolled": false
   },
   "outputs": [],
   "source": [
    "# show sim report\n",
    "ALRW.Report_Sim(py_month_ini=6);\n",
    " "
   ]
  },
  {
   "cell_type": "code",
   "execution_count": null,
   "metadata": {},
   "outputs": [],
   "source": [
    "# Plot Historical DWTs probabilities (with TCs DWTs)\n",
    "\n",
    "bmus_fit = KMA_fit.sorted_bmus_storms.values[:] + 1\n",
    "dbmus_fit = KMA_fit.time.values[:]\n",
    "\n",
    "Plot_DWTs_Probs(bmus_fit, dbmus_fit, alr_num_clusters);\n"
   ]
  },
  {
   "cell_type": "code",
   "execution_count": null,
   "metadata": {
    "scrolled": false
   },
   "outputs": [],
   "source": [
    "# Plot Simulated DWTs probabilities (with TCs DWTs)\n",
    "\n",
    "bmus_sim = DWT_sim.isel(n_sim=0).evbmus_sims.values[:]\n",
    "dbmus_sim = DWT_sim.time.values[:]\n",
    "\n",
    "Plot_DWTs_Probs(bmus_sim, dbmus_sim, alr_num_clusters);\n"
   ]
  },
  {
   "cell_type": "code",
   "execution_count": null,
   "metadata": {},
   "outputs": [],
   "source": [
    "# Plot AWTs/DWTs Probabilities \n",
    "\n",
    "# clusters to plot (no TCs)\n",
    "n_clusters_AWT = 6\n",
    "n_clusters_DWT = 42\n",
    "n_sim = 0  # simulation to plot\n",
    "\n",
    "# Plot AWTs/DWTs Probs - historical\n",
    "AWT_hist, DWT_hist = db.Load_AWTs_DWTs_Plots_hist()\n",
    "AWT_bmus = AWT_hist.bmus.values[:]\n",
    "DWT_bmus = DWT_hist.bmus.values[:]\n",
    "\n",
    "Plot_Probs_WT_WT(\n",
    "    AWT_bmus, DWT_bmus, n_clusters_AWT, n_clusters_DWT,\n",
    "    wt_colors=True, ttl = 'DWTs Probabilities by AWTs - Historical'\n",
    ");\n",
    "\n",
    "# Plot AWTs/DWTs sim - simulated\n",
    "AWT_sim, DWT_sim = db.Load_AWTs_DWTs_Plots_sim(n_sim=0)\n",
    "AWT_bmus = AWT_sim.bmus.values[:]\n",
    "DWT_bmus = DWT_sim.bmus.values[:]\n",
    "\n",
    "Plot_Probs_WT_WT(\n",
    "    AWT_bmus, DWT_bmus, n_clusters_AWT, n_clusters_DWT,\n",
    "    wt_colors=True, ttl = 'DWTs Probabilities by AWTs - Simulation'\n",
    ");\n"
   ]
  },
  {
   "cell_type": "code",
   "execution_count": null,
   "metadata": {},
   "outputs": [],
   "source": []
  }
 ],
 "metadata": {
  "kernelspec": {
   "display_name": "Python 3",
   "language": "python",
   "name": "python3"
  },
  "language_info": {
   "codemirror_mode": {
    "name": "ipython",
    "version": 3
   },
   "file_extension": ".py",
   "mimetype": "text/x-python",
   "name": "python",
   "nbconvert_exporter": "python",
   "pygments_lexer": "ipython3",
   "version": "3.7.2"
  }
 },
 "nbformat": 4,
 "nbformat_minor": 2
}
