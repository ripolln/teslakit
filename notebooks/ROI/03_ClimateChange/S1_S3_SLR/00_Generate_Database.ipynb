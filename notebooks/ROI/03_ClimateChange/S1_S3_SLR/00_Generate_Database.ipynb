{
 "cells": [
  {
   "cell_type": "code",
   "execution_count": 1,
   "metadata": {},
   "outputs": [],
   "source": [
    "#!/usr/bin/env python\n",
    "# -*- coding: utf-8 -*-\n",
    "\n",
    "# common\n",
    "import os\n",
    "import os.path as op\n",
    "\n",
    "# DEV: override installed teslakit\n",
    "import sys\n",
    "sys.path.insert(0, op.join(os.path.abspath(''), '..', '..', '..', '..'))\n",
    "\n",
    "# teslakit\n",
    "from teslakit.database import Database\n"
   ]
  },
  {
   "cell_type": "markdown",
   "metadata": {},
   "source": [
    "### Generate database - climate change: SLR scenarios S1, S2, S3"
   ]
  },
  {
   "cell_type": "code",
   "execution_count": 2,
   "metadata": {},
   "outputs": [
    {
     "name": "stdout",
     "output_type": "stream",
     "text": [
      "Teslakit Site generated at /Users/albacid/Projects/TeslaKit_projects/sites/ROI_CC_S1\n",
      "Teslakit Site generated at /Users/albacid/Projects/TeslaKit_projects/sites/ROI_CC_S2\n",
      "Teslakit Site generated at /Users/albacid/Projects/TeslaKit_projects/sites/ROI_CC_S3\n"
     ]
    }
   ],
   "source": [
    "# --------------------------------------\n",
    "# Teslakit database\n",
    "\n",
    "p_data = r'/Users/albacid/Projects/TeslaKit_projects'\n",
    "db = Database(p_data)\n",
    "\n",
    "\n",
    "# make new database for climate change Sea Level Rise scenarios :\n",
    "\n",
    "# S1(intermediate low, +0.5m)\n",
    "db.MakeNewSite('ROI_CC_S1')\n",
    "\n",
    "# S2 (intermediate, +1m) \n",
    "db.MakeNewSite('ROI_CC_S2')\n",
    "\n",
    "# S3 (intermediate high, +1.5m)\n",
    "db.MakeNewSite('ROI_CC_S3')\n"
   ]
  },
  {
   "cell_type": "code",
   "execution_count": null,
   "metadata": {},
   "outputs": [],
   "source": []
  }
 ],
 "metadata": {
  "kernelspec": {
   "display_name": "Python 3",
   "language": "python",
   "name": "python3"
  },
  "language_info": {
   "codemirror_mode": {
    "name": "ipython",
    "version": 3
   },
   "file_extension": ".py",
   "mimetype": "text/x-python",
   "name": "python",
   "nbconvert_exporter": "python",
   "pygments_lexer": "ipython3",
   "version": "3.7.2"
  }
 },
 "nbformat": 4,
 "nbformat_minor": 2
}
