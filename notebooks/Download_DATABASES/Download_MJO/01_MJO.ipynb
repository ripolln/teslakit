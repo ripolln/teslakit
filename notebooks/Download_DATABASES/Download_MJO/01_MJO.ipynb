{
 "cells": [
  {
   "cell_type": "markdown",
   "metadata": {},
   "source": [
    "## Download MJO from Australian Government Bureau of Meteorology \n",
    "\n",
    "http://www.bom.gov.au/climate/mjo/graphics/rmm.74toRealtime.txt"
   ]
  },
  {
   "cell_type": "code",
   "execution_count": 1,
   "metadata": {},
   "outputs": [],
   "source": [
    "#!/usr/bin/env python\n",
    "# -*- coding: utf-8 -*-\n",
    "\n",
    "# common\n",
    "import os\n",
    "import os.path as op\n",
    "import sys\n",
    "\n",
    "# mjo downloader\n",
    "from climate_downloader_mjo import download\n"
   ]
  },
  {
   "cell_type": "code",
   "execution_count": 2,
   "metadata": {},
   "outputs": [],
   "source": [
    "# Download MJO to .nc file \n",
    "y1 = '1979-01-01'\n",
    "\n",
    "p_nc_mjo = op.join(os.getcwd(), 'MJO_hist.nc')\n",
    "\n",
    "download(p_nc_mjo, init_year=y1)\n"
   ]
  },
  {
   "cell_type": "code",
   "execution_count": null,
   "metadata": {},
   "outputs": [],
   "source": []
  }
 ],
 "metadata": {
  "kernelspec": {
   "display_name": "Python 3",
   "language": "python",
   "name": "python3"
  },
  "language_info": {
   "codemirror_mode": {
    "name": "ipython",
    "version": 3
   },
   "file_extension": ".py",
   "mimetype": "text/x-python",
   "name": "python",
   "nbconvert_exporter": "python",
   "pygments_lexer": "ipython3",
   "version": "3.7.2"
  }
 },
 "nbformat": 4,
 "nbformat_minor": 4
}
