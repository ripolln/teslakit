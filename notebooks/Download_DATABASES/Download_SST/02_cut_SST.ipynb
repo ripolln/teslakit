{
 "cells": [
  {
   "cell_type": "code",
   "execution_count": 1,
   "metadata": {},
   "outputs": [],
   "source": [
    "#!/usr/bin/env python\n",
    "# -*- coding: utf-8 -*-\n",
    "\n",
    "# common\n",
    "import os\n",
    "import os.path as op\n",
    "import sys\n",
    "import xarray as xr\n",
    "\n",
    "from datetime import datetime\n",
    "\n"
   ]
  },
  {
   "cell_type": "code",
   "execution_count": 2,
   "metadata": {},
   "outputs": [
    {
     "name": "stdout",
     "output_type": "stream",
     "text": [
      "<xarray.DataArray 'sst' (lat: 5, lon: 81, time: 1999)>\n",
      "[809595 values with dtype=float64]\n",
      "Coordinates:\n",
      "  * lat      (lat) float64 -4.0 -2.0 0.0 2.0 4.0\n",
      "  * lon      (lon) float64 120.0 122.0 124.0 126.0 ... 274.0 276.0 278.0 280.0\n",
      "  * time     (time) datetime64[ns] 1854-01-01 1854-02-01 ... 2020-07-01\n",
      "\n",
      "<xarray.DataArray 'sst' (lon: 81, lat: 5, time: 1999)>\n",
      "[809595 values with dtype=float64]\n",
      "Coordinates:\n",
      "  * lat      (lat) float64 -4.0 -2.0 0.0 2.0 4.0\n",
      "  * lon      (lon) float64 120.0 122.0 124.0 126.0 ... 274.0 276.0 278.0 280.0\n",
      "  * time     (time) datetime64[ns] 1854-01-01 1854-02-01 ... 2020-07-01\n",
      "\n",
      "<xarray.DataArray 'sst' (lon: 81, lat: 5, time: 1993)>\n",
      "[807165 values with dtype=float64]\n",
      "Coordinates:\n",
      "  * lat      (lat) float64 -4.0 -2.0 0.0 2.0 4.0\n",
      "  * lon      (lon) float64 120.0 122.0 124.0 126.0 ... 274.0 276.0 278.0 280.0\n",
      "  * time     (time) datetime64[ns] 1854-01-01 1854-02-01 ... 2020-01-01\n"
     ]
    }
   ],
   "source": [
    "# Load monthly sst\n",
    "sst = xr.open_dataset('ersst.v5.nc')\n",
    "\n",
    "\n",
    "# SST extraction coordinates \n",
    "lat1 = -4\n",
    "lat2 = 4\n",
    "lon1 = 120\n",
    "lon2 = 280\n",
    "sst = sst.sst.sel(lat = slice(lat1, lat2), lon = slice(lon1, lon2))\n",
    "print(sst)\n",
    "print()\n",
    "\n",
    "sst = sst.transpose('lon', 'lat', 'time')\n",
    "print(sst)\n",
    "print()\n",
    "\n",
    "\n",
    "# SST from ini to 2019\n",
    "sst = sst.sel(time = slice(datetime(1854,1,1),datetime(2020,1,1)))\n",
    "print(sst)\n"
   ]
  },
  {
   "cell_type": "code",
   "execution_count": 3,
   "metadata": {},
   "outputs": [
    {
     "name": "stdout",
     "output_type": "stream",
     "text": [
      "<xarray.Dataset>\n",
      "Dimensions:    (latitude: 5, longitude: 81, time: 1993)\n",
      "Coordinates:\n",
      "  * latitude   (latitude) float64 -4.0 -2.0 0.0 2.0 4.0\n",
      "  * longitude  (longitude) float64 120.0 122.0 124.0 126.0 ... 276.0 278.0 280.0\n",
      "  * time       (time) datetime64[ns] 1854-01-01 1854-02-01 ... 2020-01-01\n",
      "Data variables:\n",
      "    SST        (longitude, latitude, time) float64 ...\n"
     ]
    }
   ],
   "source": [
    "# Save\n",
    "sst = sst.to_dataset()\n",
    "\n",
    "sst = sst.rename({'sst':'SST', 'lon':'longitude', 'lat':'latitude'})\n",
    "print(sst)\n",
    "\n",
    "sst.to_netcdf('SST_1854_2019_Pacific.nc')\n"
   ]
  },
  {
   "cell_type": "code",
   "execution_count": null,
   "metadata": {},
   "outputs": [],
   "source": []
  }
 ],
 "metadata": {
  "kernelspec": {
   "display_name": "Python 3",
   "language": "python",
   "name": "python3"
  },
  "language_info": {
   "codemirror_mode": {
    "name": "ipython",
    "version": 3
   },
   "file_extension": ".py",
   "mimetype": "text/x-python",
   "name": "python",
   "nbconvert_exporter": "python",
   "pygments_lexer": "ipython3",
   "version": "3.7.2"
  }
 },
 "nbformat": 4,
 "nbformat_minor": 4
}
