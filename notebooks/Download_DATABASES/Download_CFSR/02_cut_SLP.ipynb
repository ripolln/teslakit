{
 "cells": [
  {
   "cell_type": "code",
   "execution_count": 1,
   "metadata": {},
   "outputs": [],
   "source": [
    "#!/usr/bin/env python\n",
    "# -*- coding: utf-8 -*-\n",
    "\n",
    "# common\n",
    "import os\n",
    "import os.path as op\n",
    "import sys\n",
    "import xarray as xr\n",
    "\n",
    "from cfs import ReadSLP\n",
    "\n"
   ]
  },
  {
   "cell_type": "code",
   "execution_count": 2,
   "metadata": {},
   "outputs": [
    {
     "name": "stdout",
     "output_type": "stream",
     "text": [
      "<xarray.Dataset>\n",
      "Dimensions:    (latitude: 80, longitude: 96, time: 356472)\n",
      "Coordinates:\n",
      "  * time       (time) datetime64[ns] 1979-01-01 ... 2019-08-31T23:00:00.000013056\n",
      "  * longitude  (longitude) float32 100.0 102.0 104.0 106.0 ... 286.0 288.0 290.0\n",
      "  * latitude   (latitude) float32 80.0 78.0 76.0 74.0 ... -74.0 -76.0 -78.0\n",
      "Data variables:\n",
      "    SLP        (time, latitude, longitude) float64 ...\n",
      "\n",
      "<xarray.Dataset>\n",
      "Dimensions:    (latitude: 36, longitude: 63, time: 356472)\n",
      "Coordinates:\n",
      "  * time       (time) datetime64[ns] 1979-01-01 ... 2019-08-31T23:00:00.000013056\n",
      "  * longitude  (longitude) float32 116.0 118.0 120.0 122.0 ... 236.0 238.0 240.0\n",
      "  * latitude   (latitude) float32 20.0 18.0 16.0 14.0 ... -46.0 -48.0 -50.0\n",
      "Data variables:\n",
      "    SLP        (time, latitude, longitude) float64 ...\n"
     ]
    }
   ],
   "source": [
    "slp = xr.open_dataset('SLP_complete.nc')\n",
    "print(slp)\n",
    "print()\n",
    "\n",
    "# SLP extraction coordinates \n",
    "lat1 = 20\n",
    "lat2 = -50\n",
    "lon1 = 115\n",
    "lon2 = 240\n",
    "slp = slp.sel(latitude = slice(lat1, lat2), longitude= slice(lon1, lon2))\n",
    "\n",
    "print(slp)"
   ]
  },
  {
   "cell_type": "code",
   "execution_count": 3,
   "metadata": {},
   "outputs": [],
   "source": [
    "slp.to_netcdf('SLP.nc')\n"
   ]
  },
  {
   "cell_type": "code",
   "execution_count": null,
   "metadata": {},
   "outputs": [],
   "source": []
  }
 ],
 "metadata": {
  "kernelspec": {
   "display_name": "Python 3",
   "language": "python",
   "name": "python3"
  },
  "language_info": {
   "codemirror_mode": {
    "name": "ipython",
    "version": 3
   },
   "file_extension": ".py",
   "mimetype": "text/x-python",
   "name": "python",
   "nbconvert_exporter": "python",
   "pygments_lexer": "ipython3",
   "version": "3.7.2"
  }
 },
 "nbformat": 4,
 "nbformat_minor": 4
}
