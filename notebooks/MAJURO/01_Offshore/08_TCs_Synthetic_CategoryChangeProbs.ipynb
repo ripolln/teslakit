{
 "cells": [
  {
   "cell_type": "markdown",
   "metadata": {},
   "source": [
    "\n",
    "... ***CURRENTLY UNDER DEVELOPMENT*** ...\n"
   ]
  },
  {
   "cell_type": "markdown",
   "metadata": {},
   "source": [
    "## Obtain probabilites of changing category between radiuses based on Nakajo tracks\n",
    "\n",
    "inputs required: \n",
    "  * Nakajo tracks\n",
    "  \n",
    "in this notebook:\n",
    "  * matrix of probabilites of change"
   ]
  },
  {
   "cell_type": "code",
   "execution_count": 2,
   "metadata": {},
   "outputs": [
    {
     "name": "stderr",
     "output_type": "stream",
     "text": [
      "C:\\Users\\lcag075\\AppData\\Local\\Continuum\\anaconda2\\envs\\teslakit\\lib\\site-packages\\statsmodels\\tools\\_testing.py:19: FutureWarning: pandas.util.testing is deprecated. Use the functions in the public API at pandas.testing instead.\n",
      "  import pandas.util.testing as tm\n"
     ]
    }
   ],
   "source": [
    "#!/usr/bin/env python\n",
    "# -*- coding: utf-8 -*-\n",
    "\n",
    "# common\n",
    "import os\n",
    "import os.path as op\n",
    "\n",
    "# pip\n",
    "import xarray as xr\n",
    "import numpy as np\n",
    "import matplotlib.pyplot as plt\n",
    "\n",
    "# DEV: override installed teslakit\n",
    "import sys\n",
    "sys.path.insert(0, op.join(os.path.abspath(''), '..', '..', '..'))\n",
    "\n",
    "# teslakit \n",
    "from teslakit.database import Database\n",
    "from teslakit.storms import Extract_Circle, GetCategoryChangeProbs\n",
    "\n",
    "from teslakit.plotting.storms import Plot_Category_Change\n"
   ]
  },
  {
   "cell_type": "markdown",
   "metadata": {},
   "source": [
    "\n",
    "## Database and Site parameters"
   ]
  },
  {
   "cell_type": "code",
   "execution_count": 3,
   "metadata": {},
   "outputs": [],
   "source": [
    "# --------------------------------------\n",
    "# Teslakit database\n",
    "\n",
    "p_data = r'C:\\Users\\lcag075\\Dropbox\\MAJURO-teslakit\\teslakit\\DATA'\n",
    "db = Database(p_data)\n",
    "\n",
    "# set site\n",
    "db.SetSite('MAJURO')\n",
    "\n"
   ]
  },
  {
   "cell_type": "code",
   "execution_count": 5,
   "metadata": {},
   "outputs": [],
   "source": [
    "# --------------------------------------\n",
    "# load data and set parameters\n",
    "\n",
    "TCs_Nakajo = db.Load_TCs_Nakajo()  # Nakajo simulations\n",
    "\n",
    "# wave point longitude and latitude\n",
    "pnt_lon = 171.18\n",
    "pnt_lat = 7.11\n",
    "\n",
    "# radius for TCs selection (º)\n",
    "r1 = 14\n",
    "r2 = 4\n"
   ]
  },
  {
   "cell_type": "markdown",
   "metadata": {},
   "source": [
    "\n",
    "## Synthetic TCs - Category Change Probabilities"
   ]
  },
  {
   "cell_type": "code",
   "execution_count": 6,
   "metadata": {},
   "outputs": [
    {
     "name": "stdout",
     "output_type": "stream",
     "text": [
      "<xarray.Dataset>\n",
      "Dimensions:        (storm: 48400)\n",
      "Coordinates:\n",
      "  * storm          (storm) int32 5 8 14 50 52 ... 999974 999982 999986 999990\n",
      "Data variables:\n",
      "    pressure_min   (storm) float64 986.5 961.8 990.2 ... 977.5 991.0 1.006e+03\n",
      "    pressure_mean  (storm) float64 989.9 978.1 996.0 ... 996.9 999.1 1.007e+03\n",
      "    velocity_mean  (storm) float64 178.0 10.49 24.47 52.79 ... 10.88 18.02 5.896\n",
      "    gamma          (storm) float64 113.5 176.8 67.95 56.34 ... 154.6 118.5 132.2\n",
      "    delta          (storm) float64 108.1 262.1 8.491 6.45 ... 177.1 130.7 135.5\n",
      "    category       (storm) int32 1 3 1 1 0 0 0 0 2 1 5 ... 3 1 1 1 4 1 2 0 2 1 0\n",
      "    dmin_date      (storm) float64 42.8 48.0 36.0 262.5 9.0 ... 1.5 0.0 0.0 0.0\n",
      "    last_date      (storm) float64 54.4 288.0 259.5 400.5 ... 150.0 259.5 177.0\n",
      "    index_in       (storm) int64 57 10 3 92 0 0 3 9 159 0 ... 0 0 47 0 0 0 0 0 0\n",
      "    index_out      (storm) int64 81 24 23 104 4 6 31 18 ... 48 10 14 9 26 24 2\n",
      "Attributes:\n",
      "    point_lon:  171.18\n",
      "    point_lat:  7.11\n",
      "    point_r:    14\n",
      "<xarray.Dataset>\n",
      "Dimensions:        (storm: 9855)\n",
      "Coordinates:\n",
      "  * storm          (storm) int32 5 296 387 443 ... 999833 999845 999877 999986\n",
      "Data variables:\n",
      "    pressure_min   (storm) float64 989.2 983.5 989.0 ... 1.005e+03 988.5 1e+03\n",
      "    pressure_mean  (storm) float64 989.6 987.6 989.8 ... 996.6 1.001e+03\n",
      "    velocity_mean  (storm) float64 180.8 21.24 93.38 33.26 ... 28.6 16.29 12.75\n",
      "    gamma          (storm) float64 118.5 89.81 103.0 90.17 ... 71.62 95.46 141.6\n",
      "    delta          (storm) float64 91.57 36.23 57.46 162.4 ... 80.67 82.85 195.8\n",
      "    category       (storm) int32 1 1 1 0 1 3 1 0 0 0 1 ... 1 0 2 1 1 1 1 1 0 1 0\n",
      "    dmin_date      (storm) float64 42.8 102.0 11.2 3.0 30.0 ... 6.0 3.0 93.0 0.0\n",
      "    last_date      (storm) float64 54.4 183.0 90.0 250.5 ... 433.5 342.0 259.5\n",
      "    index_in       (storm) int64 67 30 6 0 0 51 0 0 0 0 ... 16 0 0 9 16 0 0 21 0\n",
      "    index_out      (storm) int64 72 37 10 1 22 63 19 2 4 ... 13 5 16 20 5 6 38 3\n",
      "Attributes:\n",
      "    point_lon:  171.18\n",
      "    point_lat:  7.11\n",
      "    point_r:    4\n"
     ]
    }
   ],
   "source": [
    "# --------------------------------------\n",
    "# Select Nakajo TCs inside circle\n",
    "\n",
    "# dictionary with needed variable names\n",
    "d_vns = {\n",
    "    'longitude':'ylon_TC',\n",
    "    'latitude':'ylat_TC',\n",
    "    'time': 'yts',\n",
    "    'pressure':'yCPRES',\n",
    "}\n",
    "\n",
    "# Extract TCs inside R=14 and positions\n",
    "_, TCs_r1 = Extract_Circle(TCs_Nakajo, pnt_lon, pnt_lat, r1, d_vns)\n",
    "print(TCs_r1)\n",
    "\n",
    "# Extract TCs inside R=4 and positions\n",
    "_, TCs_r2 = Extract_Circle(TCs_Nakajo, pnt_lon, pnt_lat, r2, d_vns)\n",
    "print(TCs_r2)\n"
   ]
  },
  {
   "cell_type": "code",
   "execution_count": 7,
   "metadata": {},
   "outputs": [
    {
     "name": "stdout",
     "output_type": "stream",
     "text": [
      "<xarray.Dataset>\n",
      "Dimensions:                  (category: 6)\n",
      "Coordinates:\n",
      "  * category                 (category) int32 0 1 2 3 4 5\n",
      "Data variables:\n",
      "    category_change_count    (category, category) int32 1401 1354 389 ... 0 118\n",
      "    category_change_probs    (category, category) float64 0.08024 ... 0.07096\n",
      "    category_nochange_probs  (category) float64 0.9198 0.8469 ... 0.4265 0.6374\n",
      "    category_change_cumsum   (category, category) float64 0.08024 ... 0.3626\n"
     ]
    }
   ],
   "source": [
    "# --------------------------------------\n",
    "# Calculate Syntethic TCs category change probabilities\n",
    "\n",
    "categ_cp = GetCategoryChangeProbs(TCs_r1, TCs_r2)\n",
    "print(categ_cp)\n",
    "\n",
    "db.Save_TCs_probs_synth(categ_cp)\n"
   ]
  },
  {
   "cell_type": "code",
   "execution_count": 8,
   "metadata": {},
   "outputs": [
    {
     "data": {
      "image/png": "[encoded data removed]",
      "text/plain": [
       "<Figure size 570.83x380.554 with 2 Axes>"
      ]
     },
     "metadata": {
      "needs_background": "light"
     },
     "output_type": "display_data"
    }
   ],
   "source": [
    "# plot category change probabilities\n",
    "\n",
    "Plot_Category_Change(categ_cp);\n"
   ]
  }
 ],
 "metadata": {
  "kernelspec": {
   "display_name": "Python 3",
   "language": "python",
   "name": "python3"
  },
  "language_info": {
   "codemirror_mode": {
    "name": "ipython",
    "version": 3
   },
   "file_extension": ".py",
   "mimetype": "text/x-python",
   "name": "python",
   "nbconvert_exporter": "python",
   "pygments_lexer": "ipython3",
   "version": "3.6.9"
  }
 },
 "nbformat": 4,
 "nbformat_minor": 4
}
