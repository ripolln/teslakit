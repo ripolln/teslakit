{
 "cells": [
  {
   "cell_type": "markdown",
   "metadata": {},
   "source": [
    "\n",
    "... ***CURRENTLY UNDER DEVELOPMENT*** ...\n"
   ]
  },
  {
   "cell_type": "code",
   "execution_count": 1,
   "metadata": {},
   "outputs": [
    {
     "name": "stderr",
     "output_type": "stream",
     "text": [
      "C:\\Users\\lcag075\\AppData\\Local\\Continuum\\anaconda2\\envs\\teslakit\\lib\\site-packages\\statsmodels\\tools\\_testing.py:19: FutureWarning: pandas.util.testing is deprecated. Use the functions in the public API at pandas.testing instead.\n",
      "  import pandas.util.testing as tm\n"
     ]
    }
   ],
   "source": [
    "#!/usr/bin/env python\n",
    "# -*- coding: utf-8 -*-\n",
    "\n",
    "# common\n",
    "import os\n",
    "import os.path as op\n",
    "import sys\n",
    "\n",
    "# DEV: override installed teslakit\n",
    "import sys\n",
    "sys.path.insert(0, op.join(os.path.abspath(''), '..', '..', '..'))\n",
    "\n",
    "# teslakit \n",
    "from teslakit.database import Database\n"
   ]
  },
  {
   "cell_type": "markdown",
   "metadata": {},
   "source": [
    "\n",
    "## Database and Site"
   ]
  },
  {
   "cell_type": "code",
   "execution_count": 2,
   "metadata": {},
   "outputs": [
    {
     "name": "stdout",
     "output_type": "stream",
     "text": [
      "Teslakit Site already exists at C:\\Users\\lcag075\\Dropbox\\MAJURO-teslakit\\teslakit\\DATA\\sites\\MAJURO\n"
     ]
    }
   ],
   "source": [
    "# --------------------------------------\n",
    "# Teslakit database\n",
    "\n",
    "p_data = r'C:\\Users\\lcag075\\Dropbox\\MAJURO-teslakit\\teslakit\\DATA'\n",
    "db = Database(p_data)\n",
    "\n",
    "# make new site\n",
    "db.MakeNewSite('MAJURO')\n"
   ]
  },
  {
   "cell_type": "code",
   "execution_count": 3,
   "metadata": {},
   "outputs": [
    {
     "name": "stdout",
     "output_type": "stream",
     "text": [
      "+-------------------------+-----------+--------------------------------------------------+\n",
      "| database ID             | available | site path                                        |\n",
      "+-------------------------+-----------+--------------------------------------------------+\n",
      "| MJO.hist                | True      | sites\\MAJURO\\MJO\\MJO_hist.nc                     |\n",
      "| TCs.noaa                | True      | sites\\MAJURO\\TCs\\Allstorms.ibtracs_wmo.v03r10.nc |\n",
      "| TCs.nakajo_mats         | True      | sites\\MAJURO\\TCs\\Nakajo_tracks                   |\n",
      "| SST.hist_pacific        | True      | sites\\MAJURO\\SST\\SST_1854_2017_Pacific.nc        |\n",
      "| WAVES.partitions_p1     | False     | sites\\MAJURO\\WAVES\\point1.mat                    |\n",
      "| ESTELA.coastmat         | True      | sites\\MAJURO\\ESTELA\\Costa.mat                    |\n",
      "| ESTELA.estelamat        | False     | sites\\MAJURO\\ESTELA\\kwajalein_roi_obj.mat        |\n",
      "| ESTELA.gowpoint         | False     | sites\\MAJURO\\ESTELA\\gow2_062_ 9.50_167.25.mat    |\n",
      "| ESTELA.slp              | True      | sites\\MAJURO\\ESTELA\\SLP.nc                       |\n",
      "| TIDE.mareografo_nc      | True      | sites\\MAJURO\\TIDE\\tides_Majuro.nc                |\n",
      "| TIDE.hist_astro         | True      | sites\\MAJURO\\TIDE\\tide_astro_hist.nc             |\n",
      "| HYCREWW.rbf_coef        | False     | sites\\MAJURO\\HYCREWW\\RBF_coefficients            |\n",
      "| NEARSHORE.swan_projects | False     | sites\\MAJURO\\NEARSHORE\\swan_projects             |\n",
      "+-------------------------+-----------+--------------------------------------------------+\n"
     ]
    }
   ],
   "source": [
    "# TODO: guide to create a new site and input data acquisition\n",
    "\n",
    "\n",
    "# --------------------------------------\n",
    "# Manually set required input files for teslakit execution:\n",
    "#\n",
    "# MJO.hist                = MJO_hist.nc  # historical MJO (http://www.bom.gov.au/climate/mjo/graphics/rmm.74toRealtime.txt)\n",
    "#\n",
    "# TCs.noaa                = Allstorms.ibtracs_wmo.v03r10.nc (ftp://eclipse.ncdc.noaa.gov/pub/ibtracs/v03r10/wmo/netcdf/)\n",
    "# TCs.nakajo_mats         = Nakajo_tracks (folder containing nakajo TCs with .mat files)\n",
    "#\n",
    "# SST.hist_pacific        = SST_1854_2017_Pacific.nc (Sea Surface Temperature at Pacific area, ERSSTv4)\n",
    "#\n",
    "# WAVES.partitions_p1     = point1.mat (waves partitions at point, from GOW database)\n",
    "#\n",
    "# ESTELA.coastmat         = Costa.mat (ESTELA coast)\n",
    "# ESTELA.estelamat        = kwajalein_roi_obj.mat (ESTELA data)\n",
    "# ESTELA.gowpoint         = gow2_062_ 9.50_167.25.mat (ESTELA waves data)\n",
    "# ESTELA.slp              = SLP.nc (Sea Level Pressure, extracted from CFSR)\n",
    "#\n",
    "# TIDE.mareografo_nc      = Mareografo_KWA.nc (tide gauge)\n",
    "# TIDE.hist_astro         = tide_astro_hist.nc (astronomical historical tide)\n",
    "#\n",
    "# HYCREWW.rbf_coef        = Hycreww runup RBF coefficients\n",
    "#\n",
    "# NEARSHORE.swan_projects = SWAN numerical model input data (main mesh and nested mesh)\n",
    "\n",
    "# check input files\n",
    "db.CheckInputFiles()\n",
    "\n",
    "# if all input files are available then start with the project notebooks\n"
   ]
  }
 ],
 "metadata": {
  "kernelspec": {
   "display_name": "Python 3",
   "language": "python",
   "name": "python3"
  },
  "language_info": {
   "codemirror_mode": {
    "name": "ipython",
    "version": 3
   },
   "file_extension": ".py",
   "mimetype": "text/x-python",
   "name": "python",
   "nbconvert_exporter": "python",
   "pygments_lexer": "ipython3",
   "version": "3.6.9"
  }
 },
 "nbformat": 4,
 "nbformat_minor": 4
}
