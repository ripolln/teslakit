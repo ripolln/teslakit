{
 "cells": [
  {
   "cell_type": "markdown",
   "metadata": {},
   "source": [
    "\n",
    "... ***CURRENTLY UNDER DEVELOPMENT*** ...\n"
   ]
  },
  {
   "cell_type": "markdown",
   "metadata": {},
   "source": [
    "## Before running this notebook, you must have already the numerically simulated waves associated to the representative cases of synthetic simulated TCs (obtained with MaxDiss algorithm in notebook 06)\n",
    "\n",
    "inputs required: \n",
    "  * Synthetic simulation of historical TCs parameters (copulas obtained in *notebook 06*)\n",
    "  * MaxDiss selection of synthetic simulated TCs (parameters obtained in *notebook 06*)\n",
    "  * simulated waves for the above selected TCs (**outside TeslaKit**)\n",
    "  \n",
    "in this notebook:\n",
    "  * RBF's interpolation of wave conditions based on TCs parameters (from swan simulated TCs waves)"
   ]
  },
  {
   "cell_type": "code",
   "execution_count": 1,
   "metadata": {},
   "outputs": [],
   "source": [
    "#!/usr/bin/env python\n",
    "# -*- coding: utf-8 -*-\n",
    "\n",
    "# common\n",
    "import os\n",
    "import os.path as op\n",
    "\n",
    "# pip\n",
    "import xarray as xr\n",
    "import numpy as np\n",
    "\n",
    "# DEV: override installed teslakit\n",
    "import sys\n",
    "sys.path.insert(0, op.join(os.path.abspath(''), '..', '..', '..'))\n",
    "\n",
    "# teslakit \n",
    "from teslakit.database import Database\n",
    "from teslakit.rbf import RBF_Reconstruction, RBF_Validation\n"
   ]
  },
  {
   "cell_type": "markdown",
   "metadata": {},
   "source": [
    "\n",
    "## Database and Site parameters"
   ]
  },
  {
   "cell_type": "code",
   "execution_count": 2,
   "metadata": {},
   "outputs": [],
   "source": [
    "# --------------------------------------\n",
    "# Teslakit database\n",
    "\n",
    "p_data = r'/Users/nico/Projects/TESLA-kit/TeslaKit/data'\n",
    "db = Database(p_data)\n",
    "\n",
    "# set site\n",
    "db.SetSite('ROI')\n",
    "           "
   ]
  },
  {
   "cell_type": "code",
   "execution_count": 3,
   "metadata": {},
   "outputs": [],
   "source": [
    "# --------------------------------------\n",
    "# load data and set parameters\n",
    "\n",
    "# r2 TCs Copula Simulated (dataset) \n",
    "TCs_r2_sim_params = db.Load_TCs_r2_sim_params()\n",
    "\n",
    "# r2 TCs MDA selection and solved simulations (not solved inside teslakit)\n",
    "TCs_r2_MDA_params = db.Load_TCs_r2_mda_params()\n",
    "TCs_sims = db.Load_TCs_r2_mda_Simulations()\n"
   ]
  },
  {
   "cell_type": "markdown",
   "metadata": {},
   "source": [
    "\n",
    "## Simulated TCs -  Radial Basis Function"
   ]
  },
  {
   "cell_type": "code",
   "execution_count": 4,
   "metadata": {},
   "outputs": [],
   "source": [
    "# --------------------------------------\n",
    "# prepare dataset and subset\n",
    "\n",
    "#  RBFs training subset (TCs numerically solved)\n",
    "subset = np.column_stack(\n",
    "    (TCs_r2_MDA_params['pressure_min'], TCs_r2_MDA_params['velocity_mean'], \n",
    "     TCs_r2_MDA_params['gamma'], TCs_r2_MDA_params['delta'])\n",
    ")\n",
    "\n",
    "#  RBFs dataset to interpolate \n",
    "dataset = np.column_stack(\n",
    "    (TCs_r2_sim_params['pressure_min'], TCs_r2_sim_params['velocity_mean'], \n",
    "     TCs_r2_sim_params['gamma'], TCs_r2_sim_params['delta'])\n",
    ")\n"
   ]
  },
  {
   "cell_type": "code",
   "execution_count": 5,
   "metadata": {
    "scrolled": false
   },
   "outputs": [
    {
     "name": "stdout",
     "output_type": "stream",
     "text": [
      "<xarray.Dataset>\n",
      "Dimensions:  (storm: 1000)\n",
      "Coordinates:\n",
      "  * storm    (storm) int64 0 1 2 3 4 5 6 7 8 ... 992 993 994 995 996 997 998 999\n",
      "Data variables:\n",
      "    hs       (storm) float64 0.13 0.026 4.398 1.352 ... 1.782 8.078 5.11 6.136\n",
      "    tp       (storm) float64 3.61 1.506 14.71 9.259 ... 6.494 13.16 11.9 13.33\n",
      "    dir      (storm) float64 42.4 45.0 124.2 267.3 13.2 ... 35.2 23.5 90.0 122.3\n",
      "    ss       (storm) float64 0.005154 0.007572 0.09592 ... 0.1987 0.07206 0.1122\n",
      "    twl      (storm) float64 0.07414 0.02044 1.73 0.5898 ... 2.181 1.498 1.863\n",
      "    mu       (storm) float64 0.7074 0.8419 0.805 0.9491 ... 0.623 0.5043 0.6556\n",
      "\n",
      "<xarray.Dataset>\n",
      "Dimensions:  (storm: 1000)\n",
      "Coordinates:\n",
      "  * storm    (storm) int64 0 1 2 3 4 5 6 7 8 ... 992 993 994 995 996 997 998 999\n",
      "Data variables:\n",
      "    hs       (storm) float64 0.009134 0.001473 0.3235 ... 0.5946 0.376 0.4515\n",
      "    tp       (storm) float64 0.1312 0.0 0.823 0.4834 ... 0.7265 0.6484 0.7375\n",
      "    dir      (storm) float64 0.74 0.7854 2.168 4.665 ... 0.4102 1.571 2.135\n",
      "    ss       (storm) float64 9.155e-05 0.002514 0.09103 ... 0.194 0.06712 0.1074\n",
      "    twl      (storm) float64 0.01522 0.0003166 0.4749 ... 0.5999 0.4105 0.5116\n",
      "    mu       (storm) float64 0.7074 0.8419 0.805 0.9491 ... 0.623 0.5043 0.6556\n",
      "\n"
     ]
    }
   ],
   "source": [
    "# --------------------------------------\n",
    "# Extract waves data from TCs simulations (this is the RBFs training target)\n",
    "\n",
    "print(TCs_sims)\n",
    "print()\n",
    "\n",
    "# Normalize data\n",
    "d_maxis = {}\n",
    "d_minis = {}\n",
    "tcp = TCs_sims.copy()\n",
    "for k in ['hs', 'tp', 'ss', 'twl']:\n",
    "    v = tcp[k].values[:]\n",
    "    mx = np.max(v)\n",
    "    mn = np.min(v)\n",
    "    tcp[k] =(('storm',), (v-mn)/(mx-mn))\n",
    "    \n",
    "    # store maxs and mins for denormalization\n",
    "    d_maxis[k] = mx\n",
    "    d_minis[k] = mn\n",
    "\n",
    "tcp['dir'] = tcp['dir'] * np.pi/180\n",
    "    \n",
    "print(tcp)\n",
    "print()\n",
    "\n",
    "\n",
    "# Build RBF target numpy array\n",
    "target = np.column_stack(\n",
    "    (tcp['hs'], tcp['tp'], tcp['ss'], tcp['twl'], tcp['dir'], tcp['mu'])\n",
    ")\n"
   ]
  },
  {
   "cell_type": "code",
   "execution_count": 6,
   "metadata": {
    "scrolled": true
   },
   "outputs": [
    {
     "name": "stdout",
     "output_type": "stream",
     "text": [
      "ix_scalar: 0,  optimization: 132.34 | interpolation: 14.23\n",
      "ix_scalar: 1,  optimization: 116.04 | interpolation: 14.09\n",
      "ix_scalar: 2,  optimization: 170.79 | interpolation: 14.19\n",
      "ix_scalar: 3,  optimization: 120.90 | interpolation: 13.86\n",
      "ix_scalar: 5,  optimization: 146.85 | interpolation: 14.89\n",
      "ix_directional: 4,  optimization: 349.69 | interpolation: 28.95\n"
     ]
    }
   ],
   "source": [
    "# --------------------------------------\n",
    "# RBF Interpolation\n",
    "\n",
    "# subset - scalar / directional indexes\n",
    "ix_scalar_subset = [0,1]        # scalar (pmean,  vmean)\n",
    "ix_directional_subset = [2,3]   # directional (delta, gamma)\n",
    "\n",
    "# target - scalar / directional indexes\n",
    "ix_scalar_target = [0,1,2,3,5]  # scalar (Hs, Tp, SS, TWL, MU)\n",
    "ix_directional_target = [4]     # directional (Dir)\n",
    "\n",
    "output = RBF_Reconstruction(\n",
    "    subset, ix_scalar_subset, ix_directional_subset,\n",
    "    target, ix_scalar_target, ix_directional_target,\n",
    "    dataset)\n"
   ]
  },
  {
   "cell_type": "code",
   "execution_count": 7,
   "metadata": {},
   "outputs": [
    {
     "name": "stdout",
     "output_type": "stream",
     "text": [
      "<xarray.Dataset>\n",
      "Dimensions:  (storm: 100000)\n",
      "Coordinates:\n",
      "  * storm    (storm) int64 0 1 2 3 4 5 6 ... 99994 99995 99996 99997 99998 99999\n",
      "Data variables:\n",
      "    hs       (storm) float64 2.225 3.766 2.855 2.383 ... 1.223 6.09 0.4851 5.758\n",
      "    tp       (storm) float64 6.284 12.51 10.25 7.49 ... 9.564 12.28 5.676 11.93\n",
      "    ss       (storm) float64 0.04361 0.07181 0.07295 ... 0.1217 0.01199 0.08449\n",
      "    twl      (storm) float64 0.5226 1.344 0.94 0.6393 ... 1.757 0.2945 1.605\n",
      "    dir      (storm) float64 134.6 101.2 69.15 63.19 ... 76.73 115.1 86.7 105.3\n",
      "    mu       (storm) float64 0.8953 0.8146 0.5073 ... 0.6522 0.6225 0.7201\n"
     ]
    }
   ],
   "source": [
    "# --------------------------------------\n",
    "# Reconstructed TCs\n",
    "\n",
    "# denormalize RBF output\n",
    "TCs_RBF_out = xr.Dataset(\n",
    "    {\n",
    "        'hs':(('storm',), output[:,0] * (d_maxis['hs']-d_minis['hs']) + d_minis['hs'] ),\n",
    "        'tp':(('storm',), output[:,1] * (d_maxis['tp']-d_minis['tp']) + d_minis['tp'] ),\n",
    "        'ss':(('storm',), output[:,2] * (d_maxis['ss']-d_minis['ss']) + d_minis['ss'] ),\n",
    "        'twl':(('storm',), output[:,3] * (d_maxis['twl']-d_minis['twl']) + d_minis['twl'] ),\n",
    "        'dir':(('storm',), output[:,4] * 180 / np.pi),\n",
    "        'mu':(('storm',), output[:,5]),\n",
    "    },\n",
    "    coords = {'storm': np.arange(output.shape[0])}\n",
    ")\n",
    "print(TCs_RBF_out)\n",
    "\n",
    "# store data as xarray.Dataset\n",
    "db.Save_TCs_sim_r2_rbf_output(TCs_RBF_out)\n"
   ]
  },
  {
   "cell_type": "code",
   "execution_count": 8,
   "metadata": {},
   "outputs": [
    {
     "name": "stdout",
     "output_type": "stream",
     "text": [
      "RBFs Kfold Validation: 1/3\n",
      "ix_scalar: 0,  optimization: 49.84 | interpolation: 0.04\n",
      "ix_scalar: 1,  optimization: 49.22 | interpolation: 0.04\n",
      "ix_scalar: 2,  optimization: 93.58 | interpolation: 0.06\n",
      "ix_scalar: 3,  optimization: 64.21 | interpolation: 0.05\n",
      "ix_scalar: 5,  optimization: 79.62 | interpolation: 0.06\n",
      "ix_directional: 4,  optimization: 198.56 | interpolation: 0.15\n",
      "mean squared error : 127.0075925744685\n",
      "\n",
      "RBFs Kfold Validation: 2/3\n",
      "ix_scalar: 0,  optimization: 58.15 | interpolation: 0.07\n",
      "ix_scalar: 1,  optimization: 59.26 | interpolation: 0.07\n",
      "ix_scalar: 2,  optimization: 81.67 | interpolation: 0.06\n",
      "ix_scalar: 3,  optimization: 65.24 | interpolation: 0.08\n",
      "ix_scalar: 5,  optimization: 88.73 | interpolation: 0.06\n",
      "ix_directional: 4,  optimization: 188.45 | interpolation: 0.18\n",
      "mean squared error : 62.716481464479536\n",
      "\n",
      "RBFs Kfold Validation: 3/3\n",
      "ix_scalar: 0,  optimization: 76.28 | interpolation: 0.06\n",
      "ix_scalar: 1,  optimization: 88.77 | interpolation: 0.06\n",
      "ix_scalar: 2,  optimization: 92.93 | interpolation: 0.07\n",
      "ix_scalar: 3,  optimization: 65.43 | interpolation: 0.07\n",
      "ix_scalar: 5,  optimization: 87.50 | interpolation: 0.07\n",
      "ix_directional: 4,  optimization: 164.94 | interpolation: 0.13\n",
      "mean squared error : 129.38214038318384\n",
      "\n"
     ]
    }
   ],
   "source": [
    "# --------------------------------------\n",
    "# RBF Validation\n",
    "\n",
    "# subset - scalar / directional indexes\n",
    "ix_scalar_subset = [0,1]        # scalar (pmean,  vmean)\n",
    "ix_directional_subset = [2,3]   # directional (delta, gamma)\n",
    "\n",
    "# target - scalar / directional indexes\n",
    "ix_scalar_target = [0,1,2,3,5]  # scalar (Hs, Tp, SS, TWL, MU)\n",
    "ix_directional_target = [4]     # directional (Dir)\n",
    "\n",
    "output = RBF_Validation(\n",
    "    subset, ix_scalar_subset, ix_directional_subset,\n",
    "    target, ix_scalar_target, ix_directional_target)\n"
   ]
  },
  {
   "cell_type": "code",
   "execution_count": null,
   "metadata": {},
   "outputs": [],
   "source": []
  }
 ],
 "metadata": {
  "kernelspec": {
   "display_name": "Python 3",
   "language": "python",
   "name": "python3"
  },
  "language_info": {
   "codemirror_mode": {
    "name": "ipython",
    "version": 3
   },
   "file_extension": ".py",
   "mimetype": "text/x-python",
   "name": "python",
   "nbconvert_exporter": "python",
   "pygments_lexer": "ipython3",
   "version": "3.7.2"
  }
 },
 "nbformat": 4,
 "nbformat_minor": 2
}
