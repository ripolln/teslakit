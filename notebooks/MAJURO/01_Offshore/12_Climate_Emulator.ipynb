{
 "cells": [
  {
   "cell_type": "markdown",
   "metadata": {},
   "source": [
    "\n",
    "... ***CURRENTLY UNDER DEVELOPMENT*** ...\n"
   ]
  },
  {
   "cell_type": "markdown",
   "metadata": {},
   "source": [
    "## Obtain synthetic waves and water level timeseries\n",
    "\n",
    "inputs required: \n",
    "  * Historical DWTs\n",
    "  * Historical AWT and IWT\n",
    "  * Synthetic timeseries of AWT and IWT\n",
    "  * Historical wave families \n",
    "  * Historical intradaily hydrograph parameters\n",
    "  * TCs waves\n",
    "  \n",
    "in this notebook:\n",
    "  * Fit a multivariate extreme model for the waves associated to each DWT\n",
    "  * Generate synthetic time series of wave conditions\n",
    "  * Validate the synthetic waves by means of mean distributions\n"
   ]
  },
  {
   "cell_type": "markdown",
   "metadata": {},
   "source": [
    "\n",
    "### Workflow:\n",
    "\n",
    "<div>\n",
    "<img src=\"resources/nb01_12.png\" width=\"400px\">\n",
    "</div>\n",
    "\n",
    "\n",
    "\n",
    "The **synthetic generation of wave conditions on a regular climate** (DWT1-36) is based on the work of Rueda et al. 2017. The probability of SW1, SW2, and SEA components being present (1) or not present (0) at the time of observed peak TWLproxy was used to create eight potential sea-states within each DWT (000, 100, 010, 001, 110, 101, 011, 111) defined by Bernoulli distributions . For each hydrograph produced in the simulations of climate, a random pick from the appropriate Bernoulli distribution determined which sea state was present during that hydrograph. A subsequent random pick from the assigned sea state’s marginal distributions defined the waves at the maximum TWL peak within the simulated hydrograph.\n",
    "\n",
    "The marginal distributions of waves and surge levels were associated with each other using multivariate gaussian copulas. The copulas define the dependence structure, or joint probabilities, between each environmental parameter within a sea state by identifying correlation matrices after transforming each marginal distribution to a uniform distribution. Identifying the correlation across all parameters through the copulas ensures that realistic combinations of compounding environmental parameters are present in the hypothetical time series (i.e., large storm waves approach from appropriate wave directions) (Masina et al. 2015; Corbella & Stretch, 2013). The marginal distributions of wave heights were defined by GEVs to allow for simulation of extremes with longer return periods than the observation period, while wave periods and directions were defined by empirical distributions constructed from observations. \n",
    "\n",
    "Additional parameters including τ (timing of the peak TWL within a hydrograph) and μ (area under the hydrograph) were also added to each copula and randomly sampled for each simulated hydrograph. The two parameters effectively define a trapezoidal shape for each simulated hydrograph, analogous to the storm schematization of other recent works (e.g., Poelhekke et al., 2016). Including these parameters in the copulas accounts for correlation between storminess and hydrograph shape (peaky hydrographs are commonly associated with storm conditions while more flat hydrographs typically occur during calmer conditions). The shape of the simulated hydrograph will be use to interpolate to an hourly value of the TWLproxy, and subsequently an hourly value of wave conditions *(notebook 14)*\n",
    "\n",
    "In the case on **waves associated to a TC event**, the associated simulated waves from WWIII simulation that have been reconstructed in *notebook 07* are use whenever the simulated TC enters the 4 degrees radio.\n",
    "\n",
    "\n"
   ]
  },
  {
   "cell_type": "code",
   "execution_count": 1,
   "metadata": {},
   "outputs": [
    {
     "name": "stderr",
     "output_type": "stream",
     "text": [
      "C:\\Users\\lcag075\\AppData\\Local\\Continuum\\anaconda2\\envs\\teslakit\\lib\\site-packages\\statsmodels\\tools\\_testing.py:19: FutureWarning: pandas.util.testing is deprecated. Use the functions in the public API at pandas.testing instead.\n",
      "  import pandas.util.testing as tm\n"
     ]
    }
   ],
   "source": [
    "#!/usr/bin/env python\n",
    "# -*- coding: utf-8 -*-\n",
    "\n",
    "# common\n",
    "import os\n",
    "import os.path as op\n",
    "\n",
    "# pip\n",
    "import numpy as np\n",
    "import xarray as xr\n",
    "from datetime import datetime\n",
    "import matplotlib.pyplot as plt\n",
    "\n",
    "# DEV: override installed teslakit\n",
    "import sys\n",
    "sys.path.insert(0, op.join(os.path.abspath(''), '..', '..', '..'))\n",
    "\n",
    "# teslakit\n",
    "from teslakit.database import Database\n",
    "from teslakit.climate_emulator import Climate_Emulator\n",
    "\n",
    "from teslakit.plotting.waves import Plot_Waves_Histogram_FitSim\n"
   ]
  },
  {
   "cell_type": "markdown",
   "metadata": {},
   "source": [
    "\n",
    "## Database and Site parameters"
   ]
  },
  {
   "cell_type": "code",
   "execution_count": 2,
   "metadata": {},
   "outputs": [],
   "source": [
    "# --------------------------------------\n",
    "# Teslakit database\n",
    "\n",
    "p_data = r'C:\\Users\\lcag075\\Dropbox\\MAJURO-teslakit\\teslakit\\DATA'\n",
    "db = Database(p_data)\n",
    "\n",
    "# set site\n",
    "db.SetSite('MAJURO')\n"
   ]
  },
  {
   "cell_type": "code",
   "execution_count": 3,
   "metadata": {},
   "outputs": [
    {
     "data": {
      "text/plain": [
       "<xarray.Dataset>\n",
       "Dimensions:    (time: 56841)\n",
       "Coordinates:\n",
       "    longitude  float32 ...\n",
       "    latitude   float32 ...\n",
       "  * time       (time) datetime64[ns] 1980-02-04 ... 2018-12-31\n",
       "Data variables:\n",
       "    U          (time) float32 ...\n",
       "    V          (time) float32 ...\n",
       "    Dir        (time) float32 ...\n",
       "    Speed      (time) float32 ..."
      ]
     },
     "execution_count": 3,
     "metadata": {},
     "output_type": "execute_result"
    }
   ],
   "source": [
    "## PRESSURE WIND\n",
    "\n",
    "press=xr.open_dataset(op.join(p_data, 'sites' ,'MAJURO', 'WIND_PRESSURE','Pressures.nc'))\n",
    "wind=xr.open_dataset(op.join(p_data, 'sites' ,'MAJURO', 'WIND_PRESSURE','Winds.nc'))\n",
    "wind"
   ]
  },
  {
   "cell_type": "code",
   "execution_count": 4,
   "metadata": {},
   "outputs": [
    {
     "data": {
      "text/plain": [
       "[<matplotlib.lines.Line2D at 0x1fdb98a0d30>]"
      ]
     },
     "execution_count": 4,
     "metadata": {},
     "output_type": "execute_result"
    },
    {
     "data": {
      "image/png": "[encoded data removed]",
      "text/plain": [
       "<Figure size 1440x684 with 2 Axes>"
      ]
     },
     "metadata": {
      "needs_background": "light"
     },
     "output_type": "display_data"
    }
   ],
   "source": [
    "from scipy.stats import weibull_min\n",
    "import matplotlib.pyplot as plt\n",
    "from matplotlib import gridspec\n",
    "\n",
    "pdf=weibull_min.pdf(wind.Speed.values,*weibull_min.fit(wind.Speed.values))\n",
    "cdf=weibull_min.cdf(wind.Speed.values,*weibull_min.fit(wind.Speed.values))\n",
    "\n",
    "fig = plt.figure(figsize=[20,9.5])\n",
    "gs2=gridspec.GridSpec(1,2)\n",
    "ax1=fig.add_subplot(gs2[0])\n",
    "ax1.hist(wind.Speed.values,density=True)\n",
    "ax1.plot(wind.Speed,pdf,'r.')\n",
    "\n",
    "ax1=fig.add_subplot(gs2[1])\n",
    "ax1.plot(wind.Speed,cdf,'b.',)"
   ]
  },
  {
   "cell_type": "code",
   "execution_count": 5,
   "metadata": {},
   "outputs": [],
   "source": [
    "# --------------------------------------\n",
    "# Load data for climate emulator fitting: waves partitions and families, KMA, DWT\n",
    "\n",
    "WVS = db.Load_WAVES_hist()      # Historical gow waves point\n",
    "KMA = db.Load_ESTELA_KMA()      # ESTELA predictor KMA\n",
    "\n",
    "# prepare KMA data \n",
    "DWTs_fit = xr.Dataset(\n",
    "    {\n",
    "        'bmus'       : ('time', KMA['sorted_bmus_storms'].values[:] + 1),\n",
    "        'cenEOFs'    : (('n_clusters', 'n_features',), KMA['cenEOFs'].values[:]),\n",
    "    },\n",
    "    coords = {'time' : KMA['time'].values[:]}\n",
    ")\n",
    "\n",
    "\n",
    "# --------------------------------------\n",
    "# Load data for climate emulator simulation: ESTELA DWT and TCs (MU, TAU) \n",
    "\n",
    "DWTs_sim = db.Load_ESTELA_DWT_sim()\n",
    "\n",
    "TCs_params = db.Load_TCs_r2_sim_params()    # TCs parameters (copula generated) \n",
    "# TCs_RBFs = db.Load_TCs_sim_r2_rbf_output()  # TCs numerical_IH-RBFs_interpolation output\n",
    "\n",
    "probs_TCs =  db.Load_TCs_probs_synth()      # TCs synthetic probabilities\n",
    "pchange_TCs = probs_TCs['category_change_cumsum'].values[:]\n",
    "\n",
    "l_mutau_wt = db.Load_MU_TAU_hydrograms()   # MU - TAU intradaily hidrographs for each WWT\n",
    "MU_WT = np.array([x.MU.values[:] for x in l_mutau_wt])  # MU and TAU numpy arrays\n",
    "TAU_WT = np.array([x.TAU.values[:] for x in l_mutau_wt])\n"
   ]
  },
  {
   "cell_type": "code",
   "execution_count": 6,
   "metadata": {},
   "outputs": [],
   "source": [
    "# TODO developer, solve first 10 DWTs simulations\n",
    "\n",
    "DWTs_sim = DWTs_sim.isel(n_sim=slice(0, 10))\n"
   ]
  },
  {
   "cell_type": "markdown",
   "metadata": {},
   "source": [
    "\n",
    "## Climate Emulator - Fitting"
   ]
  },
  {
   "cell_type": "code",
   "execution_count": 7,
   "metadata": {},
   "outputs": [],
   "source": [
    "# Waves and KMA bmus data share time limits\n",
    "WVS_fit = WVS.sel(time = slice(DWTs_fit.time[0], DWTs_fit.time[-1]))\n",
    "\n",
    "# resample extra data\n",
    "WDS = wind.resample(time='1h').pad().sel(time=WVS_fit.time)\n",
    "PSS = press.resample(time='1h').pad().sel(time=WVS_fit.time)\n",
    "\n",
    "# add extra data to WAVES dataset\n",
    "WVS_fit['wind_speed'] = WDS.Speed\n",
    "WVS_fit['wind_dir'] = WDS.Dir\n",
    "WVS_fit['msl'] = PSS.msl"
   ]
  },
  {
   "cell_type": "code",
   "execution_count": 8,
   "metadata": {},
   "outputs": [
    {
     "name": "stdout",
     "output_type": "stream",
     "text": [
      "Waves Families: ['sea', 'swell_1', 'swell_2', 'swell_3']\n",
      "Extra Variables: ['wind_speed', 'wind_dir', 'msl']\n",
      "GEV distribution: ['sea_Hs', 'swell_1_Hs', 'swell_1_Tp', 'swell_2_Hs', 'swell_2_Tp', 'swell_3_Hs', 'swell_3_Tp']\n",
      "Empirical distribution: ['sea_Dir', 'swell_1_Dir', 'swell_2_Dir', 'swell_3_Dir', 'sea_Tp', 'wind_dir', 'msl']\n",
      "Weibull distribution: ['wind_speed']\n",
      "Do chromosomes combinations: False\n"
     ]
    }
   ],
   "source": [
    "# --------------------------------------\n",
    "# Climate Emulator extremes model fitting\n",
    "\n",
    "# climate emulator object\n",
    "CE = Climate_Emulator(db.paths.site.EXTREMES.climate_emulator)\n",
    "\n",
    "# Fit extremes model\n",
    "config = {\n",
    "    'waves_families': ['sea', 'swell_1', 'swell_2', 'swell_3'],\n",
    "    'extra_variables': ['wind_speed', 'wind_dir', 'msl'],\n",
    "    'distribution': [\n",
    "        ('sea_Tp', 'Empirical'),\n",
    "        ('wind_dir', 'Empirical'),\n",
    "        ('msl', 'Empirical'),\n",
    "        ('wind_speed', 'Weibull'),\n",
    "    ],\n",
    "    'do_chromosomes': False,\n",
    "}\n",
    "\n",
    "CE.FitExtremes(DWTs_fit, WVS_fit, config)\n",
    "\n",
    "# Load Climate Emulator (only need to Fit CE once)\n",
    "#CE.Load()\n"
   ]
  },
  {
   "cell_type": "code",
   "execution_count": 9,
   "metadata": {},
   "outputs": [],
   "source": [
    "# Fit report figures\n",
    "\n",
    "# CE.Report_Fit();\n"
   ]
  },
  {
   "cell_type": "markdown",
   "metadata": {},
   "source": [
    "\n",
    "## Climate Emulator - Simulation"
   ]
  },
  {
   "cell_type": "code",
   "execution_count": 24,
   "metadata": {},
   "outputs": [
    {
     "name": "stdout",
     "output_type": "stream",
     "text": [
      "- Sim: 1 -\n"
     ]
    },
    {
     "name": "stderr",
     "output_type": "stream",
     "text": [
      "C.E: Sim. Waves: 100%|███████████████████████████████████████████████████████████████| 144/144 [00:18<00:00,  7.64it/s]\n"
     ]
    },
    {
     "ename": "AttributeError",
     "evalue": "'list' object has no attribute 'dims'",
     "output_type": "error",
     "traceback": [
      "\u001b[1;31m---------------------------------------------------------------------------\u001b[0m",
      "\u001b[1;31mAttributeError\u001b[0m                            Traceback (most recent call last)",
      "\u001b[1;32m<ipython-input-24-a090fb62b9c8>\u001b[0m in \u001b[0;36m<module>\u001b[1;34m\u001b[0m\n\u001b[0;32m     19\u001b[0m \u001b[1;33m\u001b[0m\u001b[0m\n\u001b[0;32m     20\u001b[0m     \u001b[1;31m# store simulation data\u001b[0m\u001b[1;33m\u001b[0m\u001b[1;33m\u001b[0m\u001b[1;33m\u001b[0m\u001b[0m\n\u001b[1;32m---> 21\u001b[1;33m     \u001b[0mCE\u001b[0m\u001b[1;33m.\u001b[0m\u001b[0mSaveSim\u001b[0m\u001b[1;33m(\u001b[0m\u001b[0mWVS_sim\u001b[0m\u001b[1;33m,\u001b[0m \u001b[0mTCs_sim\u001b[0m\u001b[1;33m,\u001b[0m \u001b[0mWVS_upd\u001b[0m\u001b[1;33m,\u001b[0m \u001b[0mint\u001b[0m\u001b[1;33m(\u001b[0m\u001b[0mn\u001b[0m\u001b[1;33m)\u001b[0m\u001b[1;33m)\u001b[0m\u001b[1;33m\u001b[0m\u001b[1;33m\u001b[0m\u001b[0m\n\u001b[0m\u001b[0;32m     22\u001b[0m \u001b[1;33m\u001b[0m\u001b[0m\n",
      "\u001b[1;32m~\\Dropbox\\MAJURO-teslakit\\teslakit\\notebooks\\MAJURO\\01_Offshore\\..\\..\\..\\teslakit\\climate_emulator.py\u001b[0m in \u001b[0;36mSaveSim\u001b[1;34m(self, WVS_sim, TCs_sim, WVS_upd, n_sim)\u001b[0m\n\u001b[0;32m    268\u001b[0m \u001b[1;33m\u001b[0m\u001b[0m\n\u001b[0;32m    269\u001b[0m             \u001b[0mnm\u001b[0m \u001b[1;33m=\u001b[0m \u001b[1;34m'{0:08d}.nc'\u001b[0m\u001b[1;33m.\u001b[0m\u001b[0mformat\u001b[0m\u001b[1;33m(\u001b[0m\u001b[0mn_sim\u001b[0m\u001b[1;33m)\u001b[0m  \u001b[1;31m# sim code\u001b[0m\u001b[1;33m\u001b[0m\u001b[1;33m\u001b[0m\u001b[0m\n\u001b[1;32m--> 270\u001b[1;33m             \u001b[0mStoreBugXdset\u001b[0m\u001b[1;33m(\u001b[0m\u001b[0md\u001b[0m\u001b[1;33m,\u001b[0m \u001b[0mop\u001b[0m\u001b[1;33m.\u001b[0m\u001b[0mjoin\u001b[0m\u001b[1;33m(\u001b[0m\u001b[0mp\u001b[0m\u001b[1;33m,\u001b[0m \u001b[0mnm\u001b[0m\u001b[1;33m)\u001b[0m\u001b[1;33m)\u001b[0m\u001b[1;33m\u001b[0m\u001b[1;33m\u001b[0m\u001b[0m\n\u001b[0m\u001b[0;32m    271\u001b[0m \u001b[1;33m\u001b[0m\u001b[0m\n\u001b[0;32m    272\u001b[0m     \u001b[1;32mdef\u001b[0m \u001b[0mLoad\u001b[0m\u001b[1;33m(\u001b[0m\u001b[0mself\u001b[0m\u001b[1;33m)\u001b[0m\u001b[1;33m:\u001b[0m\u001b[1;33m\u001b[0m\u001b[1;33m\u001b[0m\u001b[0m\n",
      "\u001b[1;32m~\\Dropbox\\MAJURO-teslakit\\teslakit\\notebooks\\MAJURO\\01_Offshore\\..\\..\\..\\teslakit\\io\\aux_nc.py\u001b[0m in \u001b[0;36mStoreBugXdset\u001b[1;34m(xds_data, p_ncfile)\u001b[0m\n\u001b[0;32m     23\u001b[0m \u001b[1;33m\u001b[0m\u001b[0m\n\u001b[0;32m     24\u001b[0m     \u001b[1;31m# get metadata from xarray.Dataset\u001b[0m\u001b[1;33m\u001b[0m\u001b[1;33m\u001b[0m\u001b[1;33m\u001b[0m\u001b[0m\n\u001b[1;32m---> 25\u001b[1;33m     \u001b[0mdim_names\u001b[0m \u001b[1;33m=\u001b[0m \u001b[0mxds_data\u001b[0m\u001b[1;33m.\u001b[0m\u001b[0mdims\u001b[0m\u001b[1;33m.\u001b[0m\u001b[0mkeys\u001b[0m\u001b[1;33m(\u001b[0m\u001b[1;33m)\u001b[0m\u001b[1;33m\u001b[0m\u001b[1;33m\u001b[0m\u001b[0m\n\u001b[0m\u001b[0;32m     26\u001b[0m     \u001b[0mvar_names\u001b[0m \u001b[1;33m=\u001b[0m \u001b[0mxds_data\u001b[0m\u001b[1;33m.\u001b[0m\u001b[0mvariables\u001b[0m\u001b[1;33m.\u001b[0m\u001b[0mkeys\u001b[0m\u001b[1;33m(\u001b[0m\u001b[1;33m)\u001b[0m\u001b[1;33m\u001b[0m\u001b[1;33m\u001b[0m\u001b[0m\n\u001b[0;32m     27\u001b[0m \u001b[1;33m\u001b[0m\u001b[0m\n",
      "\u001b[1;31mAttributeError\u001b[0m: 'list' object has no attribute 'dims'"
     ]
    }
   ],
   "source": [
    "# --------------------------------------\n",
    "#  Climate Emulator simulation\n",
    "\n",
    "dwtsim2=DWTs_sim.isel(time=np.arange(0,600)) ## CORTO PARA PROBAR\n",
    "\n",
    "# each DWT series will generate a different set of waves\n",
    "for n in DWTs_sim.n_sim:\n",
    "    print('- Sim: {0} -'.format(int(n)+1))\n",
    "    \n",
    "    # Select DWTs simulation\n",
    "    DWTs = dwtsim2.sel(n_sim=n)\n",
    "#     DWTs = DWTs_sim.sel(n_sim=n)\n",
    "\n",
    "    # Simulate waves\n",
    "    n_ce = 1  # (one CE sim. for each DWT sim.)\n",
    "    WVS_sim = CE.Simulate_Waves(DWTs, n_ce, filters={'hs':True, 'tp':True, 'ws':False})\n",
    "    #WVS_sim, _, _ = CE.LoadSim(n_sim = int(n))\n",
    "\n",
    "    # Simulate TCs and update simulated waves\n",
    "#     TCs_sim, WVS_upd = CE.Simulate_TCs(DWTs, WVS_sim, TCs_params, TCs_RBFs, pchange_TCs, MU_WT, TAU_WT)\n",
    "    \n",
    "    # store simulation data\n",
    "    CE.SaveSim(WVS_sim, TCs_sim, WVS_upd, int(n))\n",
    "    "
   ]
  },
  {
   "cell_type": "code",
   "execution_count": 28,
   "metadata": {},
   "outputs": [
    {
     "data": {
      "text/plain": [
       "<xarray.Dataset>\n",
       "Dimensions:      (time: 341041)\n",
       "Coordinates:\n",
       "  * time         (time) datetime64[ns] 1980-02-04 ... 2018-12-31\n",
       "    station      int32 ...\n",
       "    longitude    float32 171.25\n",
       "    latitude     float32 7.25\n",
       "Data variables:\n",
       "    sea_Hs       (time) float64 2.442 2.441 2.446 2.451 ... 2.221 2.222 2.216\n",
       "    sea_Tp       (time) float64 ...\n",
       "    sea_Dir      (time) float64 ...\n",
       "    swell_1_Hs   (time) float64 ...\n",
       "    swell_1_Tp   (time) float64 ...\n",
       "    swell_1_Dir  (time) float64 ...\n",
       "    swell_2_Hs   (time) float64 ...\n",
       "    swell_2_Tp   (time) float64 ...\n",
       "    swell_2_Dir  (time) float64 ...\n",
       "    swell_3_Hs   (time) float64 ...\n",
       "    swell_3_Tp   (time) float64 ...\n",
       "    swell_3_Dir  (time) float64 ...\n",
       "    Hs           (time) float64 2.483 2.484 2.494 2.501 ... 2.273 2.272 2.265\n",
       "    Tp           (time) float64 9.344 9.319 9.293 9.265 ... 9.334 9.318 9.302\n",
       "    Dir          (time) float64 ...\n",
       "    TC_category  (time) float64 nan nan nan nan nan nan ... nan nan nan nan nan\n",
       "    wind_speed   (time) float32 10.49585 10.49585 ... 10.37425 10.321098\n",
       "    wind_dir     (time) float32 ...\n",
       "    msl          (time) float32 ...\n",
       "Attributes:\n",
       "    source:   teslakit_v0.9.1"
      ]
     },
     "execution_count": 28,
     "metadata": {},
     "output_type": "execute_result"
    }
   ],
   "source": [
    "WVS_sim\n",
    "WVS_fit"
   ]
  },
  {
   "cell_type": "code",
   "execution_count": 34,
   "metadata": {},
   "outputs": [
    {
     "data": {
      "text/plain": [
       "Text(0.5, 0, 'Wind Direction (\\xad)')"
      ]
     },
     "execution_count": 34,
     "metadata": {},
     "output_type": "execute_result"
    },
    {
     "data": {
      "image/png": "[encoded data removed]",
      "text/plain": [
       "<Figure size 1440x504 with 3 Axes>"
      ]
     },
     "metadata": {
      "needs_background": "light"
     },
     "output_type": "display_data"
    }
   ],
   "source": [
    "fig = plt.figure(figsize=[20,7])\n",
    "gs2=gridspec.GridSpec(1,3)\n",
    "ax1=fig.add_subplot(gs2[0])\n",
    "ax1.hist(WVS_fit.msl,density=True,color='crimson',alpha=0.5)\n",
    "ax1.hist(WVS_sim.msl,density=True,color='royalblue',alpha=0.5)\n",
    "ax1.set_xlabel('Pressure (mbar)')\n",
    "\n",
    "ax2=fig.add_subplot(gs2[1])\n",
    "ax2.hist(WVS_fit.wind_speed,density=True,color='crimson',alpha=0.5)\n",
    "ax2.hist(WVS_sim.wind_speed,density=True,color='royalblue',alpha=0.5)\n",
    "ax2.set_xlabel('Wind Speed (m/s)')\n",
    "\n",
    "ax3=fig.add_subplot(gs2[2])\n",
    "ax3.hist(WVS_fit.wind_dir,density=True,color='crimson',alpha=0.5)\n",
    "ax3.hist(WVS_sim.wind_dir,density=True,color='royalblue',alpha=0.5)\n",
    "ax3.set_xlabel('Wind Direction (­)')"
   ]
  },
  {
   "cell_type": "code",
   "execution_count": 26,
   "metadata": {},
   "outputs": [
    {
     "ename": "TypeError",
     "evalue": "list indices must be integers or slices, not str",
     "output_type": "error",
     "traceback": [
      "\u001b[1;31m---------------------------------------------------------------------------\u001b[0m",
      "\u001b[1;31mTypeError\u001b[0m                                 Traceback (most recent call last)",
      "\u001b[1;32m<ipython-input-26-919d3d6cc3df>\u001b[0m in \u001b[0;36m<module>\u001b[1;34m\u001b[0m\n\u001b[0;32m     10\u001b[0m \u001b[1;33m\u001b[0m\u001b[0m\n\u001b[0;32m     11\u001b[0m \u001b[1;31m# Plot simulated waves parameters distribution\u001b[0m\u001b[1;33m\u001b[0m\u001b[1;33m\u001b[0m\u001b[1;33m\u001b[0m\u001b[0m\n\u001b[1;32m---> 12\u001b[1;33m \u001b[0mPlot_Waves_Histogram_FitSim\u001b[0m\u001b[1;33m(\u001b[0m\u001b[0mWVS_fit\u001b[0m\u001b[1;33m,\u001b[0m \u001b[0mWVS_upd\u001b[0m\u001b[1;33m)\u001b[0m\u001b[1;33m;\u001b[0m\u001b[1;33m\u001b[0m\u001b[1;33m\u001b[0m\u001b[0m\n\u001b[0m",
      "\u001b[1;32m~\\Dropbox\\MAJURO-teslakit\\teslakit\\notebooks\\MAJURO\\01_Offshore\\..\\..\\..\\teslakit\\plotting\\waves.py\u001b[0m in \u001b[0;36mPlot_Waves_Histogram_FitSim\u001b[1;34m(wvs_fams_hist, wvs_fams_sim, vns, show)\u001b[0m\n\u001b[0;32m    228\u001b[0m             \u001b[1;31m# get variable fit and sim\u001b[0m\u001b[1;33m\u001b[0m\u001b[1;33m\u001b[0m\u001b[1;33m\u001b[0m\u001b[0m\n\u001b[0;32m    229\u001b[0m             \u001b[0mvf\u001b[0m \u001b[1;33m=\u001b[0m \u001b[0mwvs_fams_hist\u001b[0m\u001b[1;33m[\u001b[0m\u001b[1;34m'{0}_{1}'\u001b[0m\u001b[1;33m.\u001b[0m\u001b[0mformat\u001b[0m\u001b[1;33m(\u001b[0m\u001b[0mnf\u001b[0m\u001b[1;33m,\u001b[0m \u001b[0mnv\u001b[0m\u001b[1;33m)\u001b[0m\u001b[1;33m]\u001b[0m\u001b[1;33m.\u001b[0m\u001b[0mvalues\u001b[0m\u001b[1;33m[\u001b[0m\u001b[1;33m:\u001b[0m\u001b[1;33m]\u001b[0m\u001b[1;33m\u001b[0m\u001b[1;33m\u001b[0m\u001b[0m\n\u001b[1;32m--> 230\u001b[1;33m             \u001b[0mvs\u001b[0m \u001b[1;33m=\u001b[0m \u001b[0mwvs_fams_sim\u001b[0m\u001b[1;33m[\u001b[0m\u001b[1;34m'{0}_{1}'\u001b[0m\u001b[1;33m.\u001b[0m\u001b[0mformat\u001b[0m\u001b[1;33m(\u001b[0m\u001b[0mnf\u001b[0m\u001b[1;33m,\u001b[0m \u001b[0mnv\u001b[0m\u001b[1;33m)\u001b[0m\u001b[1;33m]\u001b[0m\u001b[1;33m.\u001b[0m\u001b[0mvalues\u001b[0m\u001b[1;33m[\u001b[0m\u001b[1;33m:\u001b[0m\u001b[1;33m]\u001b[0m\u001b[1;33m\u001b[0m\u001b[1;33m\u001b[0m\u001b[0m\n\u001b[0m\u001b[0;32m    231\u001b[0m \u001b[1;33m\u001b[0m\u001b[0m\n\u001b[0;32m    232\u001b[0m             \u001b[1;31m# remove nans (chromosomes off)\u001b[0m\u001b[1;33m\u001b[0m\u001b[1;33m\u001b[0m\u001b[1;33m\u001b[0m\u001b[0m\n",
      "\u001b[1;31mTypeError\u001b[0m: list indices must be integers or slices, not str"
     ]
    },
    {
     "data": {
      "text/plain": [
       "<Figure size 1141.66x705.6 with 0 Axes>"
      ]
     },
     "metadata": {},
     "output_type": "display_data"
    }
   ],
   "source": [
    "# --------------------------------------\n",
    "# Select Simulation to plot\n",
    "\n",
    "# 2 levels of simulation now:\n",
    "n_sim_DWTs = 0  # switch DWTs Simulation (used at CE Sim.)\n",
    "n_sim_CE = 0    # switch WAVES Simulation (generated from CE Sim.)\n",
    "\n",
    "# Load Waves simulated for DWTs set number \"n_sim_DWTs\"\n",
    "WVS_sim, TCs_sim, WVS_upd = CE.LoadSim(n_sim = n_sim_DWTs)\n",
    "\n",
    "# Plot simulated waves parameters distribution \n",
    "Plot_Waves_Histogram_FitSim(WVS_fit, WVS_upd.isel(n_sim = n_sim_CE));\n"
   ]
  },
  {
   "cell_type": "code",
   "execution_count": null,
   "metadata": {},
   "outputs": [],
   "source": []
  }
 ],
 "metadata": {
  "kernelspec": {
   "display_name": "Python 3",
   "language": "python",
   "name": "python3"
  },
  "language_info": {
   "codemirror_mode": {
    "name": "ipython",
    "version": 3
   },
   "file_extension": ".py",
   "mimetype": "text/x-python",
   "name": "python",
   "nbconvert_exporter": "python",
   "pygments_lexer": "ipython3",
   "version": "3.6.9"
  }
 },
 "nbformat": 4,
 "nbformat_minor": 4
}
