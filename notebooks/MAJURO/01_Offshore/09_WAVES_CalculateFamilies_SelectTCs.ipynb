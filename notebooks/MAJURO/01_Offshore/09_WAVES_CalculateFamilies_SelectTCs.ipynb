{
 "cells": [
  {
   "cell_type": "markdown",
   "metadata": {},
   "source": [
    "\n",
    "... ***CURRENTLY UNDER DEVELOPMENT*** ...\n"
   ]
  },
  {
   "cell_type": "markdown",
   "metadata": {},
   "source": [
    "## Obtain wave families\n",
    "### In this case, two swell systems, one local sea\n",
    "\n",
    "inputs required: \n",
    "  * Historical wave conditions (GOW2 hindcast)\n",
    "  * Wave families sectors; the split is based on wave direction\n",
    "  \n",
    "in this notebook:\n",
    "  * Split energy based on defined sectors\n",
    "  * Remove TC associated waves to avoid double counting "
   ]
  },
  {
   "cell_type": "markdown",
   "metadata": {},
   "source": [
    "\n",
    "### Workflow:\n",
    "\n",
    "<div>\n",
    "<img src=\"resources/nb01_09.png\" width=\"300px\">\n",
    "</div>\n"
   ]
  },
  {
   "cell_type": "code",
   "execution_count": 1,
   "metadata": {},
   "outputs": [
    {
     "name": "stderr",
     "output_type": "stream",
     "text": [
      "C:\\Users\\lcag075\\AppData\\Local\\Continuum\\anaconda2\\envs\\teslakit\\lib\\site-packages\\statsmodels\\tools\\_testing.py:19: FutureWarning: pandas.util.testing is deprecated. Use the functions in the public API at pandas.testing instead.\n",
      "  import pandas.util.testing as tm\n"
     ]
    }
   ],
   "source": [
    "#!/usr/bin/env python\n",
    "# -*- coding: utf-8 -*-\n",
    "\n",
    "# common\n",
    "import os\n",
    "import os.path as op\n",
    "from datetime import datetime\n",
    "\n",
    "# pip\n",
    "import numpy as np\n",
    "import xarray as xr\n",
    "\n",
    "# DEV: override installed teslakit\n",
    "import sys\n",
    "sys.path.insert(0, op.join(os.path.abspath(''), '..', '..', '..'))\n",
    "\n",
    "# teslakit\n",
    "from teslakit.database import Database\n",
    "from teslakit.new_libraries_Majuro import GetDistribution_ws\n"
   ]
  },
  {
   "cell_type": "markdown",
   "metadata": {},
   "source": [
    "\n",
    "## Database and Site parameters"
   ]
  },
  {
   "cell_type": "code",
   "execution_count": 2,
   "metadata": {},
   "outputs": [],
   "source": [
    "# --------------------------------------\n",
    "# Teslakit database\n",
    "\n",
    "p_data = r'C:\\Users\\lcag075\\Dropbox\\MAJURO-teslakit\\teslakit\\DATA'\n",
    "db = Database(p_data)\n",
    "\n",
    "# set site\n",
    "db.SetSite('MAJURO')\n"
   ]
  },
  {
   "cell_type": "code",
   "execution_count": 3,
   "metadata": {},
   "outputs": [
    {
     "data": {
      "text/plain": [
       "<xarray.Dataset>\n",
       "Dimensions:  (time: 350640)\n",
       "Coordinates:\n",
       "  * time     (time) datetime64[ns] 1979-01-01 ... 2018-12-31T23:00:00\n",
       "    station  int32 ...\n",
       "Data variables:\n",
       "    hs       (time) float64 ...\n",
       "    tp       (time) float64 ...\n",
       "    tm02     (time) float64 ...\n",
       "    dpm      (time) float64 ...\n",
       "    dspr     (time) float64 ..."
      ]
     },
     "execution_count": 3,
     "metadata": {},
     "output_type": "execute_result"
    }
   ],
   "source": [
    "# --------------------------------------\n",
    "# load data and set parameters\n",
    "\n",
    "WVS_pts = db.Load_WAVES_partitions_nc()  # waves partitions data\n",
    "WVS_bulk = xr.open_dataset(os.path.join(p_data,'sites','MAJURO','WAVES','BULK_SPC_1979_2018.nc'))\n",
    "\n",
    "_, TCs_r1_params = db.Load_TCs_r1_hist()   # TCs historical parameters inside big radius\n",
    "_, TCs_r2_params = db.Load_TCs_r2_hist()   # TCs historical parameters inside small radius\n",
    "\n",
    "# wave families sectors\n",
    "fams_sectors = [(270, 30), (30, 130), (130, 270)]\n",
    "\n",
    "# date limits for TCs removal from waves data, and TC time window (hours)\n",
    "tc_rm_date1 = '1980-01-01'\n",
    "tc_rm_date2 = '2018-12-31'\n",
    "tc_time_window = 12\n",
    "\n",
    "\n",
    "WVS_bulk"
   ]
  },
  {
   "cell_type": "markdown",
   "metadata": {},
   "source": [
    "\n",
    "## Calculate Historical Waves Families"
   ]
  },
  {
   "cell_type": "code",
   "execution_count": 4,
   "metadata": {},
   "outputs": [
    {
     "name": "stdout",
     "output_type": "stream",
     "text": [
      "<xarray.Dataset>\n",
      "Dimensions:      (time: 341880)\n",
      "Coordinates:\n",
      "  * time         (time) datetime64[ns] 1980-01-01 ... 2018-12-31T23:00:00\n",
      "    station      int32 ...\n",
      "Data variables:\n",
      "    sea_Hs       (time) float64 1.623 1.605 1.57 1.564 ... 2.14 2.125 2.104 2.08\n",
      "    sea_Tp       (time) float64 9.19 9.188 9.189 9.188 ... 8.959 8.968 8.962\n",
      "    sea_Dir      (time) float64 53.46 53.4 53.33 53.26 ... 49.9 50.03 49.98\n",
      "    swell_1_Hs   (time) float64 0.235 0.2334 0.2316 ... 0.4701 0.521 0.5604\n",
      "    swell_1_Tp   (time) float64 10.96 10.87 10.79 10.88 ... 15.64 15.5 15.37\n",
      "    swell_1_Dir  (time) float64 343.5 343.3 343.3 346.5 ... 336.4 337.1 337.2\n",
      "    swell_2_Hs   (time) float64 nan nan nan nan ... 0.3733 0.3765 0.3655 0.3939\n",
      "    swell_2_Tp   (time) float64 nan nan nan nan nan ... 8.397 7.725 8.446 8.019\n",
      "    swell_2_Dir  (time) float64 nan nan nan nan nan ... 117.3 119.2 117.5 117.6\n",
      "    swell_3_Hs   (time) float64 0.3734 0.3766 0.4521 ... 0.3111 0.3108 0.3115\n",
      "    swell_3_Tp   (time) float64 11.68 11.58 6.622 7.788 ... 10.83 10.87 10.83\n",
      "    swell_3_Dir  (time) float64 195.5 195.6 191.3 193.2 ... 199.0 198.6 198.3\n",
      "    Hs           (time) float64 ...\n",
      "    Tp           (time) float64 ...\n",
      "    Dir          (time) float64 ...\n"
     ]
    }
   ],
   "source": [
    "# --------------------------------------\n",
    "# Calculate wave families from waves partitions data and waves sectors\n",
    "\n",
    "WVS = GetDistribution_ws(WVS_pts, fams_sectors)\n",
    "WVS=WVS.sel(time=slice(tc_rm_date1,tc_rm_date2))\n",
    "\n",
    "WVS_bulk=WVS_bulk.sel(time=slice(tc_rm_date1,tc_rm_date2))\n",
    "WVS['Hs']=WVS_bulk.hs\n",
    "WVS['Tp']=WVS_bulk.tp\n",
    "WVS['Dir']=WVS_bulk.dpm\n",
    "\n",
    "print(WVS)"
   ]
  },
  {
   "cell_type": "markdown",
   "metadata": {},
   "source": [
    "\n",
    "## TCs: Waves  Selection "
   ]
  },
  {
   "cell_type": "code",
   "execution_count": 5,
   "metadata": {},
   "outputs": [
    {
     "name": "stdout",
     "output_type": "stream",
     "text": [
      "<xarray.Dataset>\n",
      "Dimensions:      (time: 341880)\n",
      "Coordinates:\n",
      "  * time         (time) datetime64[ns] 1980-01-01 ... 2018-12-31T23:00:00\n",
      "    station      int32 ...\n",
      "Data variables:\n",
      "    sea_Hs       (time) float64 1.623 1.605 1.57 1.564 ... 2.14 2.125 2.104 2.08\n",
      "    sea_Tp       (time) float64 9.19 9.188 9.189 9.188 ... 8.959 8.968 8.962\n",
      "    sea_Dir      (time) float64 53.46 53.4 53.33 53.26 ... 49.9 50.03 49.98\n",
      "    swell_1_Hs   (time) float64 0.235 0.2334 0.2316 ... 0.4701 0.521 0.5604\n",
      "    swell_1_Tp   (time) float64 10.96 10.87 10.79 10.88 ... 15.64 15.5 15.37\n",
      "    swell_1_Dir  (time) float64 343.5 343.3 343.3 346.5 ... 336.4 337.1 337.2\n",
      "    swell_2_Hs   (time) float64 nan nan nan nan ... 0.3733 0.3765 0.3655 0.3939\n",
      "    swell_2_Tp   (time) float64 nan nan nan nan nan ... 8.397 7.725 8.446 8.019\n",
      "    swell_2_Dir  (time) float64 nan nan nan nan nan ... 117.3 119.2 117.5 117.6\n",
      "    swell_3_Hs   (time) float64 0.3734 0.3766 0.4521 ... 0.3111 0.3108 0.3115\n",
      "    swell_3_Tp   (time) float64 11.68 11.58 6.622 7.788 ... 10.83 10.87 10.83\n",
      "    swell_3_Dir  (time) float64 195.5 195.6 191.3 193.2 ... 199.0 198.6 198.3\n",
      "    Hs           (time) float64 ...\n",
      "    Tp           (time) float64 ...\n",
      "    Dir          (time) float64 ...\n",
      "    TC_category  (time) float64 nan nan nan nan nan nan ... nan nan nan nan nan\n"
     ]
    }
   ],
   "source": [
    "# --------------------------------------\n",
    "# Locate TCs and set category alongside WAVES data  \n",
    "\n",
    "# remove TCs before 1979 and after 2015 (r1)\n",
    "dds = TCs_r1_params.dmin_date.values[:]\n",
    "ix = np.where((dds >= np.datetime64(tc_rm_date1)) & (dds <= np.datetime64(tc_rm_date2)))[0]\n",
    "TCs_r1_params = TCs_r1_params.isel(storm=ix)\n",
    "\n",
    "# select storms inside big circle \n",
    "storms_sel = TCs_r1_params.storm.values[:]\n",
    "\n",
    "# add TCs category alongside WAVES data\n",
    "WVS['TC_category'] = (('time',), np.empty(len(WVS.time))*np.nan)\n",
    "\n",
    "for s in storms_sel:\n",
    "\n",
    "    # waves at storm dates\n",
    "    ss = TCs_r1_params.sel(storm=s)     \n",
    "    wvs_s = WVS.sel(time = slice(ss.dmin_date, ss.last_date))\n",
    "    \n",
    "    # get hs_max date \n",
    "    t_hs_max = wvs_s.where(wvs_s.Hs ==  wvs_s.Hs.max(), drop=True).time.values[:][0]\n",
    "        \n",
    "    # hs_max time window \n",
    "    w1 = t_hs_max - np.timedelta64(tc_time_window,'h')\n",
    "    w2 = t_hs_max + np.timedelta64(tc_time_window,'h')\n",
    "    \n",
    "    # set category alongside WAVES data\n",
    "    ixs = np.where((WVS.time >= w1) & (WVS.time <= w2))[0]\n",
    "    WVS['TC_category'][ixs] = ss.category\n",
    "\n",
    "print(WVS)\n",
    "    \n",
    "# Store historical WAVES data\n",
    "db.Save_WAVES_hist(WVS)\n"
   ]
  }
 ],
 "metadata": {
  "kernelspec": {
   "display_name": "Python 3",
   "language": "python",
   "name": "python3"
  },
  "language_info": {
   "codemirror_mode": {
    "name": "ipython",
    "version": 3
   },
   "file_extension": ".py",
   "mimetype": "text/x-python",
   "name": "python",
   "nbconvert_exporter": "python",
   "pygments_lexer": "ipython3",
   "version": "3.6.9"
  }
 },
 "nbformat": 4,
 "nbformat_minor": 4
}
