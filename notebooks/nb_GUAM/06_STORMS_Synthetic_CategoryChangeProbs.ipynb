{
 "cells": [
  {
   "cell_type": "markdown",
   "metadata": {},
   "source": [
    "## Filter Global stochastic Tropical Cyclones (Nakajo et al., 2014) that affect the site.\n",
    "## Obtain the probability of change in the storm category\n",
    "\n",
    "\n",
    "## En Guam tenemos suficientes ciclones históricos para poder calcular las probabilidades de cambio, sin necesidad de usar los ciclones sintéticos\n",
    "\n",
    "\n",
    "inputs required\n",
    "  * Storm tracks (Nakajo_tracks file)\n",
    "  * longitude and latitude of the site (location of the waves record)\n",
    "  * radius for TCs selection (º)\n",
    "\n",
    "\n",
    "Nakajo, S., Mori, N., Yasuda, T., & Mase, H. (2014). Global stochastic tropical cyclone model based on principal component analysis and cluster analysis. Journal of Applied Meteorology and Climatology, 53(6), 1547–1577. https://doi.org/10.1175/JAMC-D-13-08.1"
   ]
  },
  {
   "cell_type": "code",
   "execution_count": 1,
   "metadata": {},
   "outputs": [],
   "source": [
    "#!/usr/bin/env python\n",
    "# -*- coding: utf-8 -*-\n",
    "\n",
    "# common\n",
    "import os\n",
    "import os.path as op\n",
    "\n",
    "# pip\n",
    "import xarray as xr\n",
    "import numpy as np\n",
    "import matplotlib.pyplot as plt\n",
    "\n",
    "# DEV: override installed teslakit\n",
    "import sys\n",
    "sys.path.insert(0, op.join(os.path.abspath(''), '..', '..'))\n",
    "\n",
    "# teslakit \n",
    "from teslakit.database import Database\n",
    "from teslakit.util.operations import GetUniqueRows\n",
    "from teslakit.storms import Extract_Circle_Nakajo, SortCategoryCount\n"
   ]
  },
  {
   "cell_type": "markdown",
   "metadata": {},
   "source": [
    "\n",
    "## Database and Site parameters"
   ]
  },
  {
   "cell_type": "code",
   "execution_count": 2,
   "metadata": {},
   "outputs": [],
   "source": [
    "# --------------------------------------\n",
    "# Teslakit database\n",
    "\n",
    "p_data = r'/Users/albacid/Projects/TeslaKit_projects'\n",
    "db = Database(p_data)\n",
    "\n",
    "# set site\n",
    "db.SetSite('GUAM')\n"
   ]
  },
  {
   "cell_type": "code",
   "execution_count": 3,
   "metadata": {},
   "outputs": [],
   "source": [
    "# --------------------------------------\n",
    "# load data and set parameters\n",
    "\n",
    "# xds_Nakajo = db.Load_TCs_Nakajo()  # Nakajo simulations\n",
    "xds_Nakajo = db.Load_TCs_noaa()  # noaa Allstorms.ibtracs_wmo\n",
    "\n",
    "# wave point longitude and latitude\n",
    "pnt_lon = 144.5\n",
    "pnt_lat = 13.5\n",
    "\n",
    "# radius for TCs selection (º)\n",
    "r1 = 14\n",
    "r2 = 4\n"
   ]
  },
  {
   "cell_type": "markdown",
   "metadata": {},
   "source": [
    "\n",
    "## Synthetic TCs - Category Change Probabilities"
   ]
  },
  {
   "cell_type": "code",
   "execution_count": 4,
   "metadata": {},
   "outputs": [
    {
     "name": "stdout",
     "output_type": "stream",
     "text": [
      "<xarray.Dataset>\n",
      "Dimensions:       (storm: 1197)\n",
      "Coordinates:\n",
      "  * storm         (storm) int64 0 1 2 3 4 5 6 ... 1191 1192 1193 1194 1195 1196\n",
      "Data variables:\n",
      "    pressure_min  (storm) float32 994.0 1006.0 980.0 ... 1002.0 955.0 1002.0\n",
      "    category      (storm) int64 1 0 1 5 1 0 0 4 1 5 1 ... 1 4 2 2 4 4 5 3 0 3 0\n",
      "Attributes:\n",
      "    point_lon:  144.5\n",
      "    point_lat:  13.5\n",
      "    point_r:    14\n",
      "\n",
      "<xarray.Dataset>\n",
      "Dimensions:       (storm: 404)\n",
      "Coordinates:\n",
      "  * storm         (storm) int64 0 1 2 3 4 5 6 7 ... 397 398 399 400 401 402 403\n",
      "Data variables:\n",
      "    pressure_min  (storm) float32 980.0 972.0 1002.0 ... 1000.0 1000.0 1006.0\n",
      "    category      (storm) int64 1 2 0 0 1 2 1 1 1 0 3 ... 0 0 2 4 1 1 0 0 0 0 0\n",
      "Attributes:\n",
      "    point_lon:  144.5\n",
      "    point_lat:  13.5\n",
      "    point_r:    4\n"
     ]
    }
   ],
   "source": [
    "# --------------------------------------\n",
    "# Select Nakajo TCs inside circle\n",
    "\n",
    "# dictionary with needed variable names\n",
    "# d_vns = {\n",
    "#    'longitude':'ylon_TC',\n",
    "#    'latitude':'ylat_TC',\n",
    "#    'pressure':'yCPRES',\n",
    "# }\n",
    "d_vns = {\n",
    "    'longitude':'lon_wmo',\n",
    "    'latitude':'lat_wmo',\n",
    "    'pressure':'pres_wmo',\n",
    "}\n",
    "\n",
    "# Extract TCs inside R=14 and positions\n",
    "_, xds_in_r1 = Extract_Circle_Nakajo(xds_Nakajo, pnt_lon, pnt_lat, r1, d_vns)\n",
    "\n",
    "# Extract TCs inside R=4 and positions\n",
    "_, xds_in_r2 = Extract_Circle_Nakajo(xds_Nakajo, pnt_lon, pnt_lat, r2, d_vns)\n",
    "\n",
    "print(xds_in_r1)\n",
    "print()\n",
    "print(xds_in_r2)\n"
   ]
  },
  {
   "cell_type": "code",
   "execution_count": 5,
   "metadata": {},
   "outputs": [
    {
     "name": "stdout",
     "output_type": "stream",
     "text": [
      "<xarray.Dataset>\n",
      "Dimensions:                  (category: 6)\n",
      "Coordinates:\n",
      "  * category                 (category) int64 0 1 2 3 4 5\n",
      "Data variables:\n",
      "    category_change_count    (category, category) int64 38 41 18 18 ... 0 0 3 2\n",
      "    category_change_sum      (category) int64 150 265 89 105 122 62\n",
      "    category_change_probs    (category, category) float64 0.1557 ... 0.02128\n",
      "    category_nochange_probs  (category) float64 0.6148 0.6675 ... 0.6778 0.6596\n",
      "    category_change_cumsum   (category, category) float64 0.1557 ... 0.3404\n"
     ]
    }
   ],
   "source": [
    "# --------------------------------------\n",
    "# Calculate Syntethic TCs category change probabilities\n",
    "\n",
    "# Get storm category inside both circles\n",
    "n_storms = len(xds_in_r1.storm)\n",
    "categ_r1r2 = np.empty((n_storms, 2))\n",
    "for i in range(len(xds_in_r1.storm)):\n",
    "\n",
    "    # category inside R1\n",
    "    storm_in_r1 = xds_in_r1.isel(storm=[i])\n",
    "    storm_id = storm_in_r1.storm.values[0]\n",
    "    storm_cat_r1 = storm_in_r1.category\n",
    "\n",
    "    # category inside R2\n",
    "    if storm_id in xds_in_r2.storm.values[:]:\n",
    "        storm_in_r2 = xds_in_r2.sel(storm=[storm_id])\n",
    "        storm_cat_r2 = storm_in_r2.category\n",
    "    else:\n",
    "        storm_cat_r2 = 9  # no category \n",
    "\n",
    "    # store categories\n",
    "    categ_r1r2[i,:] = [storm_cat_r1, storm_cat_r2]\n",
    "\n",
    "\n",
    "# count category changes and sort it\n",
    "categ_count = GetUniqueRows(categ_r1r2)\n",
    "categ_count = SortCategoryCount(categ_count)\n",
    "\n",
    "# calculate probability\n",
    "m_count = np.reshape(categ_count[:,2], (6,-1)).T\n",
    "m_sum = np.sum(m_count,axis=0)\n",
    "\n",
    "probs = m_count.astype(float)/m_sum.astype(float)\n",
    "probs_cs = np.cumsum(probs, axis=0)\n",
    "\n",
    "# store output using xarray\n",
    "xds_categ_cp = xr.Dataset(\n",
    "    {\n",
    "        'category_change_count': (('category','category'), m_count[:-1,:]),\n",
    "        'category_change_sum': (('category'), m_count[-1,:]),\n",
    "        'category_change_probs': (('category','category'), probs[:-1,:]),\n",
    "        'category_nochange_probs': (('category'), probs[-1,:]),\n",
    "        'category_change_cumsum': (('category','category'), probs_cs[:-1,:]),\n",
    "    },\n",
    "    coords = {\n",
    "        'category': [0,1,2,3,4,5]\n",
    "    }\n",
    ")\n",
    "print(xds_categ_cp)\n",
    "\n",
    "db.Save_TCs_probs_synth(xds_categ_cp)\n"
   ]
  },
  {
   "cell_type": "code",
   "execution_count": 8,
   "metadata": {},
   "outputs": [
    {
     "name": "stdout",
     "output_type": "stream",
     "text": [
      "[[  0   0  38]\n",
      " [  0   1  36]\n",
      " [  0   2   7]\n",
      " [  0   3   4]\n",
      " [  0   4   6]\n",
      " [  0   5   3]\n",
      " [  0   9 150]\n",
      " [  1   0  41]\n",
      " [  1   1  48]\n",
      " [  1   2  12]\n",
      " [  1   3  11]\n",
      " [  1   4  15]\n",
      " [  1   5   5]\n",
      " [  1   9 265]\n",
      " [  2   0  18]\n",
      " [  2   1  12]\n",
      " [  2   2   4]\n",
      " [  2   3   1]\n",
      " [  2   4   5]\n",
      " [  2   5   0]\n",
      " [  2   9  89]\n",
      " [  3   0  18]\n",
      " [  3   1  15]\n",
      " [  3   2   9]\n",
      " [  3   3   3]\n",
      " [  3   4   3]\n",
      " [  3   5   0]\n",
      " [  3   9 105]\n",
      " [  4   0  30]\n",
      " [  4   1  15]\n",
      " [  4   2   4]\n",
      " [  4   3   2]\n",
      " [  4   4   4]\n",
      " [  4   5   3]\n",
      " [  4   9 122]\n",
      " [  5   0  11]\n",
      " [  5   1  12]\n",
      " [  5   2   2]\n",
      " [  5   3   3]\n",
      " [  5   4   2]\n",
      " [  5   5   2]\n",
      " [  5   9  62]]\n"
     ]
    },
    {
     "ename": "SystemExit",
     "evalue": "",
     "output_type": "error",
     "traceback": [
      "An exception has occurred, use %tb to see the full traceback.\n",
      "\u001b[0;31mSystemExit\u001b[0m\n"
     ]
    },
    {
     "data": {
      "image/png": "[encoded data removed]",
      "text/plain": [
       "<Figure size 864x648 with 2 Axes>"
      ]
     },
     "metadata": {
      "needs_background": "light"
     },
     "output_type": "display_data"
    }
   ],
   "source": [
    "a = categ_count[:,0]\n",
    "b = categ_count[:,1]\n",
    "c = categ_count[:,2]\n",
    "\n",
    "print(categ_count)\n",
    "\n",
    "fig = plt.figure(figsize=(12,9))\n",
    "A = plt.scatter(a,b,c=c, vmin=0, vmax=30)\n",
    "fig.colorbar(A)\n",
    "fig.savefig('/Users/albacid/Software/Bitbucket_repos/teslakit/scripts/noaa.png', dpi=600)\n",
    "sys.exit()\n"
   ]
  },
  {
   "cell_type": "code",
   "execution_count": null,
   "metadata": {},
   "outputs": [],
   "source": [
    "# plot category change probabilities\n",
    "\n",
    "cp = xds_categ_cp.category_change_probs.values[:]\n",
    "cs = xds_categ_cp.category.values[:]\n",
    "\n",
    "fig, axes = plt.subplots(figsize=(12,12))\n",
    "axes.set_title('Category change probabilities')\n",
    "axes.set_xlabel('category')\n",
    "axes.set_ylabel('category')\n",
    "pc=axes.pcolor(cp)\n",
    "fig.colorbar(pc)\n",
    "\n",
    "plt.show()\n"
   ]
  },
  {
   "cell_type": "code",
   "execution_count": null,
   "metadata": {},
   "outputs": [],
   "source": []
  }
 ],
 "metadata": {
  "kernelspec": {
   "display_name": "Python 3",
   "language": "python",
   "name": "python3"
  },
  "language_info": {
   "codemirror_mode": {
    "name": "ipython",
    "version": 3
   },
   "file_extension": ".py",
   "mimetype": "text/x-python",
   "name": "python",
   "nbconvert_exporter": "python",
   "pygments_lexer": "ipython3",
   "version": "3.7.2"
  }
 },
 "nbformat": 4,
 "nbformat_minor": 2
}
