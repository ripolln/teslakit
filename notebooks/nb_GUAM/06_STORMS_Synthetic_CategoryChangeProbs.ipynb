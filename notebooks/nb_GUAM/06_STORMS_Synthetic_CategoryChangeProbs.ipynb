{
 "cells": [
  {
   "cell_type": "markdown",
   "metadata": {},
   "source": [
    "## Filter Global stochastic Tropical Cyclones (Nakajo et al., 2014) that affect the site\n",
    "\n",
    "\n",
    "inputs required\n",
    "  * Storm tracks (Nakajo_tracks file)\n",
    "  * longitude and latitude of the site (location of the waves record)\n",
    "  * radius for TCs selection (º)\n",
    "\n",
    "\n",
    "Nakajo, S., Mori, N., Yasuda, T., & Mase, H. (2014). Global stochastic tropical cyclone model based on principal component analysis and cluster analysis. Journal of Applied Meteorology and Climatology, 53(6), 1547–1577. https://doi.org/10.1175/JAMC-D-13-08.1"
   ]
  },
  {
   "cell_type": "code",
   "execution_count": 9,
   "metadata": {},
   "outputs": [],
   "source": [
    "#!/usr/bin/env python\n",
    "# -*- coding: utf-8 -*-\n",
    "\n",
    "# common\n",
    "import os\n",
    "import os.path as op\n",
    "\n",
    "# pip\n",
    "import xarray as xr\n",
    "import numpy as np\n",
    "import matplotlib.pyplot as plt\n",
    "\n",
    "# DEV: override installed teslakit\n",
    "import sys\n",
    "sys.path.insert(0, op.join(os.path.abspath(''), '..', '..'))\n",
    "\n",
    "# teslakit \n",
    "from teslakit.database import Database\n",
    "from teslakit.util.operations import GetUniqueRows\n",
    "from teslakit.storms import Extract_Circle_Nakajo, SortCategoryCount\n"
   ]
  },
  {
   "cell_type": "markdown",
   "metadata": {},
   "source": [
    "\n",
    "## Database and Site parameters"
   ]
  },
  {
   "cell_type": "code",
   "execution_count": 10,
   "metadata": {},
   "outputs": [],
   "source": [
    "# --------------------------------------\n",
    "# Teslakit database\n",
    "\n",
    "p_data = r'/Users/albacid/Projects/TeslaKit_projects'\n",
    "db = Database(p_data)\n",
    "\n",
    "# set site\n",
    "db.SetSite('GUAM')\n"
   ]
  },
  {
   "cell_type": "code",
   "execution_count": 11,
   "metadata": {},
   "outputs": [],
   "source": [
    "# --------------------------------------\n",
    "# load data and set parameters\n",
    "\n",
    "xds_Nakajo = db.Load_TCs_Nakajo()  # Nakajo simulations\n",
    "\n",
    "# wave point longitude and latitude\n",
    "pnt_lon = 144.5\n",
    "pnt_lat = 13.5\n",
    "\n",
    "# radius for TCs selection (º)\n",
    "r1 = 14\n",
    "r2 = 4\n"
   ]
  },
  {
   "cell_type": "markdown",
   "metadata": {},
   "source": [
    "\n",
    "## Synthetic TCs - Category Change Probabilities"
   ]
  },
  {
   "cell_type": "code",
   "execution_count": 12,
   "metadata": {},
   "outputs": [
    {
     "name": "stdout",
     "output_type": "stream",
     "text": [
      "<xarray.Dataset>\n",
      "Dimensions:       (storm: 179963)\n",
      "Coordinates:\n",
      "  * storm         (storm) int64 3 4 5 6 8 ... 999986 999988 999990 999991 999997\n",
      "Data variables:\n",
      "    pressure_min  (storm) float64 1e+03 1.01e+03 983.2 ... 1.007e+03 1.001e+03\n",
      "    category      (storm) int64 0 0 1 1 5 5 3 0 1 0 1 ... 1 3 4 1 5 3 3 2 2 0 0\n",
      "Attributes:\n",
      "    point_lon:  144.5\n",
      "    point_lat:  13.5\n",
      "    point_r:    14\n",
      "\n",
      "<xarray.Dataset>\n",
      "Dimensions:       (storm: 56745)\n",
      "Coordinates:\n",
      "  * storm         (storm) int64 22 50 52 53 58 ... 999972 999975 999977 999986\n",
      "Data variables:\n",
      "    pressure_min  (storm) float64 980.8 966.3 944.0 ... 997.3 1.007e+03 951.5\n",
      "    category      (storm) int64 1 2 4 2 1 3 1 1 2 4 4 ... 2 0 5 3 4 1 0 1 1 0 3\n",
      "Attributes:\n",
      "    point_lon:  144.5\n",
      "    point_lat:  13.5\n",
      "    point_r:    4\n"
     ]
    }
   ],
   "source": [
    "# --------------------------------------\n",
    "# Select Nakajo TCs inside circle\n",
    "\n",
    "# dictionary with needed variable names\n",
    "d_vns = {\n",
    "    'longitude':'ylon_TC',\n",
    "    'latitude':'ylat_TC',\n",
    "    'pressure':'yCPRES',\n",
    "}\n",
    "\n",
    "# Extract TCs inside R=14 and positions\n",
    "_, xds_in_r1 = Extract_Circle_Nakajo(xds_Nakajo, pnt_lon, pnt_lat, r1, d_vns)\n",
    "\n",
    "# Extract TCs inside R=4 and positions\n",
    "_, xds_in_r2 = Extract_Circle_Nakajo(xds_Nakajo, pnt_lon, pnt_lat, r2, d_vns)\n",
    "\n",
    "print(xds_in_r1)\n",
    "print()\n",
    "print(xds_in_r2)\n"
   ]
  },
  {
   "cell_type": "code",
   "execution_count": 13,
   "metadata": {},
   "outputs": [
    {
     "name": "stdout",
     "output_type": "stream",
     "text": [
      "<xarray.Dataset>\n",
      "Dimensions:                  (category: 6)\n",
      "Coordinates:\n",
      "  * category                 (category) int64 0 1 2 3 4 5\n",
      "Data variables:\n",
      "    category_change_count    (category, category) int64 5044 6357 ... 0 4398\n",
      "    category_change_sum      (category) int64 38663 41411 13702 12294 9575 7573\n",
      "    category_change_probs    (category, category) float64 0.1154 ... 0.2561\n",
      "    category_nochange_probs  (category) float64 0.8846 0.7985 ... 0.4337 0.441\n",
      "    category_change_cumsum   (category, category) float64 0.1154 ... 0.559\n"
     ]
    }
   ],
   "source": [
    "# --------------------------------------\n",
    "# Calculate Syntethic TCs category change probabilities\n",
    "\n",
    "# Get storm category inside both circles\n",
    "n_storms = len(xds_in_r1.storm)\n",
    "categ_r1r2 = np.empty((n_storms, 2))\n",
    "for i in range(len(xds_in_r1.storm)):\n",
    "\n",
    "    # category inside R1\n",
    "    storm_in_r1 = xds_in_r1.isel(storm=[i])\n",
    "    storm_id = storm_in_r1.storm.values[0]\n",
    "    storm_cat_r1 = storm_in_r1.category\n",
    "\n",
    "    # category inside R2\n",
    "    if storm_id in xds_in_r2.storm.values[:]:\n",
    "        storm_in_r2 = xds_in_r2.sel(storm=[storm_id])\n",
    "        storm_cat_r2 = storm_in_r2.category\n",
    "    else:\n",
    "        storm_cat_r2 = 9  # no category \n",
    "\n",
    "    # store categories\n",
    "    categ_r1r2[i,:] = [storm_cat_r1, storm_cat_r2]\n",
    "\n",
    "\n",
    "# count category changes and sort it\n",
    "categ_count = GetUniqueRows(categ_r1r2)\n",
    "categ_count = SortCategoryCount(categ_count)\n",
    "\n",
    "# calculate probability\n",
    "m_count = np.reshape(categ_count[:,2], (6,-1)).T\n",
    "m_sum = np.sum(m_count,axis=0)\n",
    "\n",
    "probs = m_count.astype(float)/m_sum.astype(float)\n",
    "probs_cs = np.cumsum(probs, axis=0)\n",
    "\n",
    "# store output using xarray\n",
    "xds_categ_cp = xr.Dataset(\n",
    "    {\n",
    "        'category_change_count': (('category','category'), m_count[:-1,:]),\n",
    "        'category_change_sum': (('category'), m_count[-1,:]),\n",
    "        'category_change_probs': (('category','category'), probs[:-1,:]),\n",
    "        'category_nochange_probs': (('category'), probs[-1,:]),\n",
    "        'category_change_cumsum': (('category','category'), probs_cs[:-1,:]),\n",
    "    },\n",
    "    coords = {\n",
    "        'category': [0,1,2,3,4,5]\n",
    "    }\n",
    ")\n",
    "print(xds_categ_cp)\n",
    "\n",
    "db.Save_TCs_probs_synth(xds_categ_cp)\n"
   ]
  },
  {
   "cell_type": "code",
   "execution_count": 17,
   "metadata": {},
   "outputs": [
    {
     "data": {
      "image/png": "[encoded data removed]",
      "text/plain": [
       "<Figure size 864x864 with 2 Axes>"
      ]
     },
     "metadata": {
      "needs_background": "light"
     },
     "output_type": "display_data"
    },
    {
     "name": "stdout",
     "output_type": "stream",
     "text": [
      "[[0.11540486 0.12257057 0.0615217  0.03334402 0.00905879 0.00034937]\n",
      " [0.         0.07897578 0.21453339 0.2011462  0.0861944  0.01187842]\n",
      " [0.         0.         0.04522489 0.17734049 0.13089954 0.02759986]\n",
      " [0.         0.         0.         0.09546329 0.23009331 0.08681728]\n",
      " [0.         0.         0.         0.         0.11006432 0.17631303]\n",
      " [0.         0.         0.         0.         0.         0.25608478]]\n"
     ]
    }
   ],
   "source": [
    "# plot category change probabilities\n",
    "\n",
    "cp = xds_categ_cp.category_change_probs.values[:]\n",
    "cs = xds_categ_cp.category.values[:]\n",
    "\n",
    "fig, axes = plt.subplots(figsize=(12,12))\n",
    "axes.set_title('Category change probabilities')\n",
    "axes.set_xlabel('category')\n",
    "axes.set_ylabel('category')\n",
    "pc=axes.pcolor(cp)\n",
    "fig.colorbar(pc)\n",
    "\n",
    "plt.show()\n"
   ]
  },
  {
   "cell_type": "code",
   "execution_count": null,
   "metadata": {},
   "outputs": [],
   "source": []
  }
 ],
 "metadata": {
  "kernelspec": {
   "display_name": "Python 3",
   "language": "python",
   "name": "python3"
  },
  "language_info": {
   "codemirror_mode": {
    "name": "ipython",
    "version": 3
   },
   "file_extension": ".py",
   "mimetype": "text/x-python",
   "name": "python",
   "nbconvert_exporter": "python",
   "pygments_lexer": "ipython3",
   "version": "3.7.2"
  }
 },
 "nbformat": 4,
 "nbformat_minor": 2
}
