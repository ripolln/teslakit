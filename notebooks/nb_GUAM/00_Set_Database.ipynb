{
 "cells": [
  {
   "cell_type": "code",
   "execution_count": 1,
   "metadata": {},
   "outputs": [],
   "source": [
    "#!/usr/bin/env python\n",
    "# -*- coding: utf-8 -*-\n",
    "\n",
    "# common\n",
    "import os\n",
    "import os.path as op\n",
    "import sys\n",
    "\n",
    "# pip\n",
    "import numpy as np\n",
    "import xarray as xr\n",
    "from datetime import datetime\n",
    "\n",
    "# DEV: override installed teslakit\n",
    "import sys\n",
    "sys.path.insert(0, op.join(os.path.abspath(''), '..', '..'))\n",
    "\n",
    "# teslakit \n",
    "from teslakit.database import Database\n"
   ]
  },
  {
   "cell_type": "code",
   "execution_count": 2,
   "metadata": {},
   "outputs": [
    {
     "name": "stdout",
     "output_type": "stream",
     "text": [
      "Teslakit Site generated at /Users/albacid/Projects/TeslaKit_projects/sites/GUAM\n"
     ]
    }
   ],
   "source": [
    "# --------------------------------------\n",
    "# Teslakit database\n",
    "\n",
    "p_data = r'/Users/albacid/Projects/TeslaKit_projects'\n",
    "db = Database(p_data)\n",
    "\n",
    "# make new site\n",
    "db.MakeNewSite('GUAM')\n"
   ]
  },
  {
   "cell_type": "code",
   "execution_count": null,
   "metadata": {},
   "outputs": [],
   "source": [
    "# --------------------------------------\n",
    "# Manually set required input files for teslakit execution:\n",
    "#\n",
    "# MJO.hist            = MJO_hist.nc  # historical MJO (http://www.bom.gov.au/climate/mjo/graphics/rmm.74toRealtime.txt)\n",
    "#\n",
    "# TCs.noaa            = Allstorms.ibtracs_wmo.v03r10.nc (ftp://eclipse.ncdc.noaa.gov/pub/ibtracs/v03r10/wmo/netcdf/)\n",
    "# TCs.nakajo_mats     = Nakajo_tracks (folder containing nakajo TCs with .mat files)\n",
    "#\n",
    "# SST.hist_pacific    = SST_1854_2017_Pacific.nc (Sea Surface Temperature at Pacific area)\n",
    "#\n",
    "# WAVES.partitions_p1 = point1.mat (waves partitions at point, grom GOW database)\n",
    "#\n",
    "# ESTELA.coastmat     = Costa.mat (ESTELA coast)\n",
    "# ESTELA.estelamat    = kwajalein_roi_obj.mat (ESTELA data)\n",
    "# ESTELA.gowpoint     = gow2_062_ 9.50_167.25.mat (ESTELA waves data)\n",
    "# ESTELA.slp          = SLP.nc (Sea Level Pressure, extracted from CFSR)\n",
    "#\n",
    "# TIDE.mareografo_nc  = Mareografo_KWA.nc (tide gauge)\n",
    "# TIDE.hist_astro     = tide_astro_hist.nc (astronomical historical tide)\n",
    "\n",
    "# check input files\n",
    "db.CheckInputFiles()\n",
    "\n",
    "# if all input is available then start with the project notebooks\n"
   ]
  },
  {
   "cell_type": "code",
   "execution_count": 5,
   "metadata": {},
   "outputs": [],
   "source": [
    "# --------------------------------------\n",
    "# Teslakit project notebooks\n",
    "#\n",
    "# TODO: RESUMEN PROCESOS TESLAKIT\n",
    "#\n",
    "# 01_SST_AnnualWeatherTypes\n",
    "#\n",
    "# 02_MJO_ALR_Simulation\n",
    "#\n",
    "# 03_STORMS_Historical_ExtractRadius\n",
    "#\n",
    "# 04_STORMS_Historical_CopulaSimulation_MDA\n",
    "#\n",
    "# 05_STORMS_Historical_RBFs_Interpolation\n",
    "#\n",
    "# 06_STORMS_CategoryChange_Probs\n",
    "#\n",
    "# 07_WAVES_CalculateFamilies_RemoveTCs\n",
    "#\n",
    "# 08_SLP_ESTELA_PCA_KMArg\n",
    "#\n",
    "# 09_SLP_ESTELA_ALR_Covariates\n",
    "#\n",
    "# 10_Climate_Emulator\n",
    "#"
   ]
  },
  {
   "cell_type": "code",
   "execution_count": 5,
   "metadata": {},
   "outputs": [],
   "source": [
    "# --------------------------------------\n",
    "# TODO: Database acquisition / download\n"
   ]
  },
  {
   "cell_type": "code",
   "execution_count": 6,
   "metadata": {},
   "outputs": [],
   "source": [
    "## --------------------------------------\n",
    "## Extract predictor data (SLP) from CFSR and save to .nc file\n",
    "#\n",
    "## SLP extraction  site-coordinates\n",
    "#lat1 = 60.5\n",
    "#lat2 = 0.5\n",
    "#lon1 = 115\n",
    "#lon2 = 279\n",
    "#resample = 4  # 2º resolution\n",
    "#\n",
    "## CFSR prmsl database\n",
    "#p_DB_cfs_prmsl = DB.CFS.cfs_prmsl\n",
    "#\n",
    "#xds_SLP_site = ReadSLP(\n",
    "#    p_DB_cfs_prmsl,\n",
    "#    lat1, lat2, lon1, lon2, resample,\n",
    "#    p_save=p_site_SLP)\n"
   ]
  }
 ],
 "metadata": {
  "kernelspec": {
   "display_name": "Python 3",
   "language": "python",
   "name": "python3"
  },
  "language_info": {
   "codemirror_mode": {
    "name": "ipython",
    "version": 3
   },
   "file_extension": ".py",
   "mimetype": "text/x-python",
   "name": "python",
   "nbconvert_exporter": "python",
   "pygments_lexer": "ipython3",
   "version": "3.7.2"
  }
 },
 "nbformat": 4,
 "nbformat_minor": 4
}
