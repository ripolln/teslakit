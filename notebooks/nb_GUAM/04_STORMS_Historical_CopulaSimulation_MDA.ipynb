{
 "cells": [
  {
   "cell_type": "markdown",
   "metadata": {},
   "source": [
    "## Synthetic simulation of historical TCs parameters using Gaussian copulas (Rueda et al. 2016) and subsequent selection of representative cases using Maximum Dissimilarity (MaxDiss) algorithm (Camus et al. 2011)\n",
    "\n",
    "inputs required: \n",
    "  * Historical TC parameters that affect the site (output of notebook 03)\n",
    "  * number of synthetic simulations to run\n",
    "  * number of representative cases to be selected using MaxDiss"
   ]
  },
  {
   "cell_type": "code",
   "execution_count": 1,
   "metadata": {},
   "outputs": [],
   "source": [
    "#!/usr/bin/env python\n",
    "# -*- coding: utf-8 -*-\n",
    "\n",
    "# common\n",
    "import os\n",
    "import os.path as op\n",
    "\n",
    "# pip\n",
    "import xarray as xr\n",
    "import numpy as np\n",
    "\n",
    "# DEV: override installed teslakit\n",
    "import sys\n",
    "sys.path.insert(0, op.join(os.path.abspath(''), '..', '..'))\n",
    "\n",
    "# teslakit\n",
    "from teslakit.database import Database\n",
    "from teslakit.statistical import CopulaSimulation\n",
    "from teslakit.mda import MaxDiss_Simplified_NoThreshold\n"
   ]
  },
  {
   "cell_type": "markdown",
   "metadata": {},
   "source": [
    "\n",
    "## Database and Site parameters"
   ]
  },
  {
   "cell_type": "code",
   "execution_count": 2,
   "metadata": {},
   "outputs": [],
   "source": [
    "# --------------------------------------\n",
    "# Teslakit database\n",
    "\n",
    "p_data = r'/Users/albacid/Projects/TeslaKit_projects'\n",
    "db = Database(p_data)\n",
    "\n",
    "# set site\n",
    "db.SetSite('GUAM')\n"
   ]
  },
  {
   "cell_type": "code",
   "execution_count": 3,
   "metadata": {},
   "outputs": [],
   "source": [
    "# --------------------------------------\n",
    "# load data and set parameters\n",
    "\n",
    "_, xds_TCs_r2_params = db.Load_TCs_r2()  # TCs parameters inside radius 2\n",
    "\n",
    "# TCs random generation and MDA parameters\n",
    "num_sim_rnd = 100000\n",
    "num_sel_mda = 400\n"
   ]
  },
  {
   "cell_type": "code",
   "execution_count": 5,
   "metadata": {},
   "outputs": [
    {
     "name": "stdout",
     "output_type": "stream",
     "text": [
      "<xarray.Dataset>\n",
      "Dimensions:          (center: 26, storm: 1197, time: 137)\n",
      "Dimensions without coordinates: center, storm, time\n",
      "Data variables:\n",
      "    storm_sn         (storm) |S13 ...\n",
      "    name             (storm) |S57 ...\n",
      "    numObs           (storm) int16 ...\n",
      "    season           (storm) int16 ...\n",
      "    track_type       (storm) int8 ...\n",
      "    genesis_basin    (storm) int8 ...\n",
      "    num_basins       (storm) int8 ...\n",
      "    basin            (storm, time) float32 ...\n",
      "    wind_avg_period  (center) float32 ...\n",
      "    source           (center) |S10 ...\n",
      "    time_wmo         (storm, time) datetime64[ns] ...\n",
      "    lat_wmo          (storm, time) float32 ...\n",
      "    lon_wmo          (storm, time) float32 ...\n",
      "    alt              (storm, time) float32 ...\n",
      "    wind_wmo         (storm, time) float32 ...\n",
      "    pres_wmo         (storm, time) float32 ...\n",
      "    sub_basin        (storm, time) float32 ...\n",
      "    nature_wmo       (storm, time) float32 ...\n",
      "    source_wmo       (storm, time) float32 ...\n",
      "    dist2land        (storm, time) float32 ...\n",
      "    landfall         (storm, time) float32 ...\n",
      "Attributes:\n",
      "    Title:                IBTrACS-WMO: NetCDF reformat\n",
      "    Version:              v03r10\n",
      "    Description:          IBTrACS-WMO data reformatted to contain \\nall data ...\n",
      "    cdm_datatype:         Trajectory\n",
      "    trajectoryDimension:  storm\n",
      "    Conventions:          CF-1.0\n",
      "    metadata_link:        gov.noaa.ncdc:C00834\n",
      "['1951-02-19T06:00:00.000043520' '1951-02-19T12:00:00.000043520'\n",
      " '1951-02-19T18:00:00.000043520' '1951-02-20T00:00:00.000043520'\n",
      " '1951-02-20T06:00:00.000043520' '1951-02-20T12:00:00.000043520'\n",
      " '1951-02-20T18:00:00.000043520' '1951-02-21T00:00:00.000043520'\n",
      " '1951-02-21T06:00:00.000043520' '1951-02-21T12:00:00.000043520']\n",
      "['1951-03-18T06:00:00.000043520' '1951-03-18T12:00:00.000043520'\n",
      " '1951-03-18T18:00:00.000043520' '1951-03-19T00:00:00.000043520'\n",
      " '1951-03-19T06:00:00.000043520' '1951-03-19T12:00:00.000043520'\n",
      " '1951-03-19T18:00:00.000043520' '1951-03-20T00:00:00.000043520'\n",
      " '1951-03-20T06:00:00.000043520' '1951-03-20T12:00:00.000043520']\n",
      "['1956-09-01T00:00:00.000043520' '1956-09-01T06:00:00.000043520'\n",
      " '1956-09-01T12:00:00.000043520' '1956-09-01T18:00:00.000043520'\n",
      " '1956-09-02T00:00:00.000043520' '1956-09-02T06:00:00.000043520'\n",
      " '1956-09-02T12:00:00.000043520' '1956-09-02T18:00:00.000043520'\n",
      " '1956-09-03T00:00:00.000043520' '1956-09-03T06:00:00.000043520']\n",
      "['1976-06-21T00:00:00.000043520' '1976-06-21T06:00:00.000043520'\n",
      " '1976-06-21T12:00:00.000043520' '1976-06-21T18:00:00.000043520'\n",
      " '1976-06-22T00:00:00.000043520' '1976-06-22T06:00:00.000043520'\n",
      " '1976-06-22T12:00:00.000043520' '1976-06-22T18:00:00.000043520'\n",
      " '1976-06-23T00:00:00.000043520' '1976-06-23T06:00:00.000043520']\n",
      "['2004-08-18T06:00:00.000043520' '2004-08-18T12:00:00.000043520'\n",
      " '2004-08-18T18:00:00.000043520' '2004-08-19T00:00:00.000043520'\n",
      " '2004-08-19T06:00:00.000043520' '2004-08-19T12:00:00.000043520'\n",
      " '2004-08-19T18:00:00.000043520' '2004-08-20T00:00:00.000043520'\n",
      " '2004-08-20T06:00:00.000043520' '2004-08-20T12:00:00.000043520']\n"
     ]
    },
    {
     "ename": "IndexError",
     "evalue": "index 1500 is out of bounds for axis 0 with size 1197",
     "output_type": "error",
     "traceback": [
      "\u001b[0;31m---------------------------------------------------------------------------\u001b[0m",
      "\u001b[0;31mIndexError\u001b[0m                                Traceback (most recent call last)",
      "\u001b[0;32m<ipython-input-5-6c12d50fef08>\u001b[0m in \u001b[0;36m<module>\u001b[0;34m\u001b[0m\n\u001b[1;32m      6\u001b[0m \u001b[0mprint\u001b[0m\u001b[0;34m(\u001b[0m\u001b[0mxds_wmo\u001b[0m\u001b[0;34m.\u001b[0m\u001b[0mtime_wmo\u001b[0m\u001b[0;34m.\u001b[0m\u001b[0mvalues\u001b[0m\u001b[0;34m[\u001b[0m\u001b[0;36m500\u001b[0m\u001b[0;34m,\u001b[0m\u001b[0;34m:\u001b[0m\u001b[0;36m10\u001b[0m\u001b[0;34m]\u001b[0m\u001b[0;34m)\u001b[0m\u001b[0;34m\u001b[0m\u001b[0;34m\u001b[0m\u001b[0m\n\u001b[1;32m      7\u001b[0m \u001b[0mprint\u001b[0m\u001b[0;34m(\u001b[0m\u001b[0mxds_wmo\u001b[0m\u001b[0;34m.\u001b[0m\u001b[0mtime_wmo\u001b[0m\u001b[0;34m.\u001b[0m\u001b[0mvalues\u001b[0m\u001b[0;34m[\u001b[0m\u001b[0;36m1000\u001b[0m\u001b[0;34m,\u001b[0m\u001b[0;34m:\u001b[0m\u001b[0;36m10\u001b[0m\u001b[0;34m]\u001b[0m\u001b[0;34m)\u001b[0m\u001b[0;34m\u001b[0m\u001b[0;34m\u001b[0m\u001b[0m\n\u001b[0;32m----> 8\u001b[0;31m \u001b[0mprint\u001b[0m\u001b[0;34m(\u001b[0m\u001b[0mxds_wmo\u001b[0m\u001b[0;34m.\u001b[0m\u001b[0mtime_wmo\u001b[0m\u001b[0;34m.\u001b[0m\u001b[0mvalues\u001b[0m\u001b[0;34m[\u001b[0m\u001b[0;36m1500\u001b[0m\u001b[0;34m,\u001b[0m\u001b[0;34m:\u001b[0m\u001b[0;36m10\u001b[0m\u001b[0;34m]\u001b[0m\u001b[0;34m)\u001b[0m\u001b[0;34m\u001b[0m\u001b[0;34m\u001b[0m\u001b[0m\n\u001b[0m\u001b[1;32m      9\u001b[0m \u001b[0mprint\u001b[0m\u001b[0;34m(\u001b[0m\u001b[0mxds_wmo\u001b[0m\u001b[0;34m.\u001b[0m\u001b[0mtime_wmo\u001b[0m\u001b[0;34m.\u001b[0m\u001b[0mvalues\u001b[0m\u001b[0;34m[\u001b[0m\u001b[0;36m1197\u001b[0m\u001b[0;34m,\u001b[0m\u001b[0;34m:\u001b[0m\u001b[0;36m10\u001b[0m\u001b[0;34m]\u001b[0m\u001b[0;34m)\u001b[0m\u001b[0;34m\u001b[0m\u001b[0;34m\u001b[0m\u001b[0m\n",
      "\u001b[0;31mIndexError\u001b[0m: index 1500 is out of bounds for axis 0 with size 1197"
     ]
    }
   ],
   "source": [
    "xds_wmo, xds_TCs_r1_params = db.Load_TCs_r1()  \n",
    "print(xds_wmo)\n",
    "print(xds_wmo.time_wmo.values[0,:10])\n",
    "print(xds_wmo.time_wmo.values[1,:10])\n",
    "print(xds_wmo.time_wmo.values[100,:10])\n",
    "print(xds_wmo.time_wmo.values[500,:10])\n",
    "print(xds_wmo.time_wmo.values[1000,:10])\n",
    "print(xds_wmo.time_wmo.values[1500,:10])\n",
    "print(xds_wmo.time_wmo.values[1197,:10])"
   ]
  },
  {
   "cell_type": "markdown",
   "metadata": {},
   "source": [
    "\n",
    "## Historical TCs - Probabilistic Simulation"
   ]
  },
  {
   "cell_type": "code",
   "execution_count": 4,
   "metadata": {
    "scrolled": false
   },
   "outputs": [
    {
     "name": "stdout",
     "output_type": "stream",
     "text": [
      "<xarray.Dataset>\n",
      "Dimensions:        (storm: 100000)\n",
      "Coordinates:\n",
      "  * storm          (storm) int64 0 1 2 3 4 5 ... 99995 99996 99997 99998 99999\n",
      "Data variables:\n",
      "    pressure_mean  (storm) float64 1.017e+03 1.033e+03 ... 1.023e+03 1.066e+03\n",
      "    pressure_min   (storm) float64 1.034e+03 1.052e+03 ... 1.037e+03 1.07e+03\n",
      "    gamma          (storm) float64 92.69 108.6 68.69 102.4 ... 101.6 175.5 99.8\n",
      "    delta          (storm) float64 45.94 166.5 56.27 87.09 ... 79.96 182.5 58.08\n",
      "    velocity_mean  (storm) float64 4.798 12.57 6.316 16.27 ... 21.32 37.48 17.13\n"
     ]
    }
   ],
   "source": [
    "# --------------------------------------\n",
    "# Probabilistic simulation Historical TCs\n",
    "\n",
    "# aux function\n",
    "def FixPareto(var):\n",
    "    'Fix data. It needs to start at 0 for Pareto adjustment '\n",
    "    var = var.astype(float)\n",
    "    mx = np.amax(var)\n",
    "    aux = mx + np.absolute(var - mx)\n",
    "    var_pareto = aux - np.amin(aux) + 0.00001\n",
    "    \n",
    "    return var_pareto, np.amin(aux)\n",
    "\n",
    "\n",
    "# use small radius parameters (4º)\n",
    "pmean = xds_TCs_r2_params.pressure_mean.values[:]\n",
    "pmin = xds_TCs_r2_params.pressure_min.values[:]\n",
    "gamma = xds_TCs_r2_params.gamma.values[:]\n",
    "delta = xds_TCs_r2_params.delta.values[:]\n",
    "vmean = xds_TCs_r2_params.velocity_mean.values[:]\n",
    "\n",
    "# fix pressure for p\n",
    "## Database and Site parametersareto adjustment (start at 0)\n",
    "pmean_p, auxmin_pmean = FixPareto(pmean)\n",
    "pmin_p, auxmin_pmin = FixPareto(pmin)\n",
    "\n",
    "# join storm parameters for copula simulation\n",
    "storm_params = np.column_stack(\n",
    "    (pmean_p, pmin_p, gamma, delta, vmean)\n",
    ")\n",
    "\n",
    "# statistical simulate PCs using copulas \n",
    "kernels = ['GPareto', 'GPareto', 'ECDF', 'ECDF', 'ECDF']\n",
    "storm_params_sim = CopulaSimulation(storm_params, kernels, num_sim_rnd)\n",
    "\n",
    "# store simulated storms - parameters \n",
    "xds_TCs_r2_sim_params = xr.Dataset(\n",
    "    {\n",
    "        'pressure_mean':(('storm'), storm_params_sim[:,0] + auxmin_pmean),\n",
    "        'pressure_min':(('storm'), storm_params_sim[:,1] + auxmin_pmin),\n",
    "        'gamma':(('storm'), storm_params_sim[:,2]),\n",
    "        'delta':(('storm'), storm_params_sim[:,3]),\n",
    "        'velocity_mean':(('storm'), storm_params_sim[:,4]),\n",
    "    },\n",
    "    coords = {\n",
    "        'storm':(('storm'), np.arange(num_sim_rnd))    \n",
    "    },\n",
    ")\n",
    "print(xds_TCs_r2_sim_params)\n",
    "\n",
    "db.Save_TCs_r2_sim_params(xds_TCs_r2_sim_params)\n"
   ]
  },
  {
   "cell_type": "markdown",
   "metadata": {},
   "source": [
    "\n",
    "## Historical TCs - MaxDiss classification"
   ]
  },
  {
   "cell_type": "code",
   "execution_count": 5,
   "metadata": {},
   "outputs": [
    {
     "name": "stdout",
     "output_type": "stream",
     "text": [
      "\n",
      "MaxDiss waves parameters: 100000 --> 400\n",
      "\n",
      "   MDA centroids: 400/400\n",
      "\n",
      "<xarray.Dataset>\n",
      "Dimensions:        (storm: 400)\n",
      "Coordinates:\n",
      "  * storm          (storm) int64 0 1 2 3 4 5 6 7 ... 393 394 395 396 397 398 399\n",
      "Data variables:\n",
      "    pressure_mean  (storm) float64 1.568e+03 1.02e+03 ... 1.237e+03 1.055e+03\n",
      "    pressure_min   (storm) float64 1.271e+03 1.023e+03 ... 1.2e+03 1.097e+03\n",
      "    gamma          (storm) float64 12.82 45.87 6.283 10.23 ... 45.69 21.67 29.99\n",
      "    delta          (storm) float64 167.7 0.0 312.0 167.0 ... 338.2 61.78 305.3\n",
      "    velocity_mean  (storm) float64 137.7 0.0 187.6 0.0 ... 133.2 82.89 223.7\n"
     ]
    }
   ],
   "source": [
    "# --------------------------------------\n",
    "# MaxDiss classification\n",
    "\n",
    "# get simulated parameters  \n",
    "pmean_s = xds_TCs_r2_sim_params.pressure_mean.values[:]\n",
    "pmin_s = xds_TCs_r2_sim_params.pressure_min.values[:]\n",
    "gamma_s = xds_TCs_r2_sim_params.gamma.values[:]\n",
    "delta_s = xds_TCs_r2_sim_params.delta.values[:]\n",
    "vmean_s = xds_TCs_r2_sim_params.velocity_mean.values[:]\n",
    "\n",
    "# subset, scalar and directional indexes\n",
    "data_mda = np.column_stack((pmean_s, pmin_s, vmean_s, delta_s, gamma_s))\n",
    "ix_scalar = [0,1,2]\n",
    "ix_directional = [3,4]\n",
    "\n",
    "centroids = MaxDiss_Simplified_NoThreshold(\n",
    "    data_mda, num_sel_mda, ix_scalar, ix_directional \n",
    ")\n",
    "\n",
    "\n",
    "# store MDA storms - parameters \n",
    "xds_TCs_r2_MDA_params = xr.Dataset(\n",
    "    {\n",
    "        'pressure_mean':(('storm'), centroids[:,0]),\n",
    "        'pressure_min':(('storm'), centroids[:,1]),\n",
    "        'gamma':(('storm'), centroids[:,2]),\n",
    "        'delta':(('storm'), centroids[:,3]),\n",
    "        'velocity_mean':(('storm'), centroids[:,4]),\n",
    "    },\n",
    "    coords = {\n",
    "        'storm':(('storm'), np.arange(num_sel_mda))    \n",
    "    },\n",
    ")\n",
    "print(xds_TCs_r2_MDA_params)\n",
    "\n",
    "db.Save_TCs_r2_mda_params(xds_TCs_r2_MDA_params)\n"
   ]
  },
  {
   "cell_type": "markdown",
   "metadata": {},
   "source": [
    "## Historical TCs (MDA centroids) Waves Simulation\n",
    "\n",
    "Waves data is generated by numerically simulating selected storms. \n",
    "\n",
    "This methodology is not included inside teslakit python library.\n",
    "\n",
    "This step needs to be done before continuing with notebook 05\n"
   ]
  },
  {
   "cell_type": "code",
   "execution_count": null,
   "metadata": {},
   "outputs": [],
   "source": []
  }
 ],
 "metadata": {
  "kernelspec": {
   "display_name": "Python 3",
   "language": "python",
   "name": "python3"
  },
  "language_info": {
   "codemirror_mode": {
    "name": "ipython",
    "version": 3
   },
   "file_extension": ".py",
   "mimetype": "text/x-python",
   "name": "python",
   "nbconvert_exporter": "python",
   "pygments_lexer": "ipython3",
   "version": "3.7.2"
  }
 },
 "nbformat": 4,
 "nbformat_minor": 2
}
