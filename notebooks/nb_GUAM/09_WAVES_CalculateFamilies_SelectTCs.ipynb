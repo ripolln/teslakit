{
 "cells": [
  {
   "cell_type": "markdown",
   "metadata": {},
   "source": [
    "## Define wave families from wave partitions "
   ]
  },
  {
   "attachments": {
    "TeslaKit%20%2811%29.png": {
     "image/png": "[encoded data removed]"
    }
   },
   "cell_type": "markdown",
   "metadata": {},
   "source": [
    "![TeslaKit%20%2811%29.png](attachment:TeslaKit%20%2811%29.png)"
   ]
  },
  {
   "cell_type": "code",
   "execution_count": 1,
   "metadata": {},
   "outputs": [],
   "source": [
    "#!/usr/bin/env python\n",
    "# -*- coding: utf-8 -*-\n",
    "\n",
    "# common\n",
    "import os\n",
    "import os.path as op\n",
    "from datetime import datetime\n",
    "\n",
    "# pip\n",
    "import numpy as np\n",
    "import xarray as xr\n",
    "\n",
    "# DEV: override installed teslakit\n",
    "import sys\n",
    "sys.path.insert(0, op.join(os.path.abspath(''), '..', '..'))\n",
    "\n",
    "# teslakit\n",
    "from teslakit.database import Database\n",
    "from teslakit.waves import GetDistribution\n"
   ]
  },
  {
   "cell_type": "markdown",
   "metadata": {},
   "source": [
    "\n",
    "## Database and Site parameters"
   ]
  },
  {
   "cell_type": "code",
   "execution_count": 2,
   "metadata": {},
   "outputs": [],
   "source": [
    "# --------------------------------------\n",
    "# Teslakit database\n",
    "\n",
    "p_data = r'/Users/albacid/Projects/TeslaKit_projects'\n",
    "db = Database(p_data)\n",
    "\n",
    "# set site\n",
    "db.SetSite('GUAM')\n"
   ]
  },
  {
   "cell_type": "code",
   "execution_count": 3,
   "metadata": {},
   "outputs": [],
   "source": [
    "# --------------------------------------\n",
    "# load data and set parameters\n",
    "\n",
    "WVS_pts = db.Load_WAVES_partitions()  # waves partitions data\n",
    "_, TCs_r1_params = db.Load_TCs_r1_hist()   # TCs historical parameters inside big radius\n",
    "_, TCs_r2_params = db.Load_TCs_r2_hist()   # TCs historical parameters inside small radius\n",
    "\n",
    "# wave families sectors\n",
    "fams_sectors = [(200, 45), (45, 145)]\n",
    "\n",
    "# date limits for TCs removal from waves data, and TC time window (hours)\n",
    "tc_rm_date1 = '1979-01-01'\n",
    "tc_rm_date2 = '2015-12-31'\n",
    "tc_time_window = 12\n"
   ]
  },
  {
   "cell_type": "markdown",
   "metadata": {},
   "source": [
    "\n",
    "## Calculate Historical Waves Families"
   ]
  },
  {
   "cell_type": "code",
   "execution_count": 4,
   "metadata": {},
   "outputs": [
    {
     "name": "stdout",
     "output_type": "stream",
     "text": [
      "<xarray.Dataset>\n",
      "Dimensions:      (time: 111040)\n",
      "Coordinates:\n",
      "  * time         (time) datetime64[ns] 1979-01-01 ... 2016-12-31T21:00:00\n",
      "Data variables:\n",
      "    Hs           (time) float64 2.079 2.134 2.085 2.081 ... 2.091 2.032 1.932\n",
      "    Tp           (time) float64 9.356 9.379 9.433 9.499 ... 9.404 9.335 9.435\n",
      "    Dir          (time) float64 45.75 50.49 49.68 49.8 ... 40.99 40.44 37.23\n",
      "    sea_Hs       (time) float64 0.1441 0.19 0.168 ... 0.1403 0.1241 0.1128\n",
      "    sea_Tp       (time) float64 3.213 2.962 4.8 4.335 ... 3.671 3.346 3.512\n",
      "    sea_Dir      (time) float64 144.0 144.9 145.1 143.1 ... 151.2 150.8 153.7\n",
      "    swell_1_Hs   (time) float64 1.716 1.368 1.278 1.244 ... 1.4 1.4 1.424 1.418\n",
      "    swell_1_Tp   (time) float64 8.925 8.998 8.823 9.333 ... 9.433 9.383 9.521\n",
      "    swell_1_Dir  (time) float64 27.24 7.344 5.271 6.874 ... 359.3 2.362 3.197\n",
      "    swell_2_Hs   (time) float64 1.161 1.626 1.636 1.656 ... 1.546 1.443 1.306\n",
      "    swell_2_Tp   (time) float64 6.972 5.916 6.428 6.174 ... 6.5 6.428 6.608\n",
      "    swell_2_Dir  (time) float64 78.97 78.56 76.34 75.0 ... 75.31 78.57 80.23\n"
     ]
    }
   ],
   "source": [
    "# --------------------------------------\n",
    "# Calculate wave families from waves partitions data and waves sectors\n",
    "\n",
    "WVS = GetDistribution(WVS_pts, fams_sectors)\n",
    "print(WVS)\n"
   ]
  },
  {
   "cell_type": "markdown",
   "metadata": {},
   "source": [
    "\n",
    "## TCs: Waves  Selection "
   ]
  },
  {
   "cell_type": "code",
   "execution_count": 5,
   "metadata": {
    "scrolled": false
   },
   "outputs": [
    {
     "name": "stdout",
     "output_type": "stream",
     "text": [
      "<xarray.Dataset>\n",
      "Dimensions:      (time: 111040)\n",
      "Coordinates:\n",
      "  * time         (time) datetime64[ns] 1979-01-01 ... 2016-12-31T21:00:00\n",
      "Data variables:\n",
      "    Hs           (time) float64 2.079 2.134 2.085 2.081 ... 2.091 2.032 1.932\n",
      "    Tp           (time) float64 9.356 9.379 9.433 9.499 ... 9.404 9.335 9.435\n",
      "    Dir          (time) float64 45.75 50.49 49.68 49.8 ... 40.99 40.44 37.23\n",
      "    sea_Hs       (time) float64 0.1441 0.19 0.168 ... 0.1403 0.1241 0.1128\n",
      "    sea_Tp       (time) float64 3.213 2.962 4.8 4.335 ... 3.671 3.346 3.512\n",
      "    sea_Dir      (time) float64 144.0 144.9 145.1 143.1 ... 151.2 150.8 153.7\n",
      "    swell_1_Hs   (time) float64 1.716 1.368 1.278 1.244 ... 1.4 1.4 1.424 1.418\n",
      "    swell_1_Tp   (time) float64 8.925 8.998 8.823 9.333 ... 9.433 9.383 9.521\n",
      "    swell_1_Dir  (time) float64 27.24 7.344 5.271 6.874 ... 359.3 2.362 3.197\n",
      "    swell_2_Hs   (time) float64 1.161 1.626 1.636 1.656 ... 1.546 1.443 1.306\n",
      "    swell_2_Tp   (time) float64 6.972 5.916 6.428 6.174 ... 6.5 6.428 6.608\n",
      "    swell_2_Dir  (time) float64 78.97 78.56 76.34 75.0 ... 75.31 78.57 80.23\n",
      "    TC_category  (time) float64 nan nan nan nan nan nan ... nan nan nan nan nan\n"
     ]
    }
   ],
   "source": [
    "# --------------------------------------\n",
    "# Locate TCs and set category alongside WAVES data  \n",
    "\n",
    "# remove TCs before 1979 and after 2015 (r1)\n",
    "dds = TCs_r1_params.dmin_date.values[:]\n",
    "ix = np.where((dds >= np.datetime64(tc_rm_date1)) & (dds <= np.datetime64(tc_rm_date2)))[0]\n",
    "TCs_r1_params = TCs_r1_params.isel(storm=ix)\n",
    "\n",
    "# select storms inside big circle \n",
    "storms_sel = TCs_r1_params.storm.values[:]\n",
    "\n",
    "# add TCs category alongside WAVES data\n",
    "WVS['TC_category'] = (('time',), np.empty(len(WVS.time))*np.nan)\n",
    "\n",
    "for s in storms_sel:\n",
    "\n",
    "    # waves at storm dates\n",
    "    ss = TCs_r1_params.sel(storm=s)     \n",
    "    wvs_s = WVS.sel(time = slice(ss.dmin_date, ss.last_date))\n",
    "    \n",
    "    # get hs_max date \n",
    "    t_hs_max = wvs_s.where(wvs_s.Hs ==  wvs_s.Hs.max(), drop=True).time.values[:][0]\n",
    "        \n",
    "    # hs_max time window \n",
    "    w1 = t_hs_max - np.timedelta64(tc_time_window,'h')\n",
    "    w2 = t_hs_max + np.timedelta64(tc_time_window,'h')\n",
    "    \n",
    "    # set category alongside WAVES data\n",
    "    ixs = np.where((WVS.time >= w1) & (WVS.time <= w2))[0]\n",
    "    WVS['TC_category'][ixs] = ss.category\n",
    "\n",
    "print(WVS)\n",
    "    \n",
    "# Store historical WAVES data\n",
    "db.Save_WAVES_hist(WVS)\n"
   ]
  },
  {
   "cell_type": "code",
   "execution_count": null,
   "metadata": {},
   "outputs": [],
   "source": []
  }
 ],
 "metadata": {
  "kernelspec": {
   "display_name": "Python 3",
   "language": "python",
   "name": "python3"
  },
  "language_info": {
   "codemirror_mode": {
    "name": "ipython",
    "version": 3
   },
   "file_extension": ".py",
   "mimetype": "text/x-python",
   "name": "python",
   "nbconvert_exporter": "python",
   "pygments_lexer": "ipython3",
   "version": "3.7.2"
  }
 },
 "nbformat": 4,
 "nbformat_minor": 2
}
