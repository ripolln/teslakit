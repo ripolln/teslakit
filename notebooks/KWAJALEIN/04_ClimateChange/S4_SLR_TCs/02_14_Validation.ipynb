{
 "cells": [
  {
   "cell_type": "markdown",
   "metadata": {},
   "source": [
    "\n",
    "... ***CURRENTLY UNDER DEVELOPMENT*** ...\n"
   ]
  },
  {
   "cell_type": "markdown",
   "metadata": {},
   "source": [
    "## Validation of the synthetic waves and level\n",
    "\n",
    "inputs required: \n",
    "  * historical wave conditions\n",
    "  * emulator output - synthetic wave conditions\n",
    "  * emulator output - synthetic wave conditions associated to the future TCs probability\n",
    "  * Projected Sea Level Rise at the Site for the intermediate SLR scenario, +1m (to take into account in the TWL)\n",
    "  \n",
    "in this notebook:\n",
    "  * Comparison of the extreme distributions\n",
    "  * Analysis of the DWT resposible of extreme TWL events (from simulation with SLR and simulation with future TCs prob. and SLR)\n",
    "  \n"
   ]
  },
  {
   "cell_type": "code",
   "execution_count": 1,
   "metadata": {},
   "outputs": [],
   "source": [
    "#!/usr/bin/env python\n",
    "# -*- coding: utf-8 -*-\n",
    "\n",
    "# common\n",
    "import os\n",
    "import os.path as op\n",
    "\n",
    "# pip\n",
    "import numpy as np\n",
    "import xarray as xr\n",
    "from datetime import datetime\n",
    "import matplotlib.pyplot as plt\n",
    "\n",
    "# DEV: override installed teslakit\n",
    "import sys\n",
    "sys.path.insert(0, op.join(os.path.abspath(''), '..', '..', '..', '..'))\n",
    "\n",
    "# teslakit\n",
    "from teslakit.database import Database\n",
    "from teslakit.climate_emulator import Climate_Emulator\n",
    "from teslakit.extremes import Peaks_Over_Threshold as POT\n",
    "from teslakit.util.time_operations import xds_reindex_daily\n",
    "\n",
    "from teslakit.plotting.extremes import Plot_ReturnPeriodValidation_CC\n",
    "from teslakit.plotting.estela import Plot_DWTs_Probs\n",
    "from teslakit.plotting.wts import Plot_Probs_WT_WT\n",
    "from teslakit.plotting.outputs import Plot_LevelVariables_Histograms\n"
   ]
  },
  {
   "cell_type": "markdown",
   "metadata": {},
   "source": [
    "\n",
    "## Database and Site parameters"
   ]
  },
  {
   "cell_type": "code",
   "execution_count": 2,
   "metadata": {},
   "outputs": [],
   "source": [
    "# --------------------------------------\n",
    "# Teslakit database\n",
    "\n",
    "p_data = r'/Users/albacid/Projects/TeslaKit_projects'\n",
    "\n",
    "# offshore\n",
    "db = Database(p_data)\n",
    "db.SetSite('KWAJALEIN_emulator')\n",
    "\n",
    "# climate change - S4\n",
    "db_S4 = Database(p_data)\n",
    "db_S4.SetSite('KWAJALEIN_CC_S4')\n"
   ]
  },
  {
   "cell_type": "code",
   "execution_count": null,
   "metadata": {},
   "outputs": [],
   "source": [
    "# --------------------------------------\n",
    "# Load complete hourly data for extremes analysis\n",
    "\n",
    "# Historical\n",
    "HIST_C_h = db.Load_HIST_OFFSHORE(decode_times=True)\n",
    "\n",
    "# Simulation\n",
    "SIM_C_h = db.Load_SIM_OFFSHORE_all(decode_times=True, use_cftime=True)\n",
    "\n",
    "# Simulation climate change\n",
    "SIM_C_h_CChange = db_S4.Load_SIM_OFFSHORE_all(decode_times=True, use_cftime=True)\n"
   ]
  },
  {
   "cell_type": "code",
   "execution_count": null,
   "metadata": {},
   "outputs": [],
   "source": [
    "# --------------------------------------\n",
    "# Load SLR file\n",
    "SLR = db.Load_SeaLevelRise()\n",
    "SLR['time'] = SLR.time.dt.round('H')\n",
    "\n",
    "# Select intermediate scenario (+1.0)\n",
    "SLR = SLR.sel(scenario='1.0')\n"
   ]
  },
  {
   "cell_type": "code",
   "execution_count": null,
   "metadata": {},
   "outputs": [],
   "source": [
    "# def. some auxiliar function to select all dataset variables at vn max by groups\n",
    "\n",
    "def grouped_max(ds, vn=None, dim=None):\n",
    "    return ds.isel(**{dim: ds[vn].argmax(dim)})\n"
   ]
  },
  {
   "cell_type": "markdown",
   "metadata": {},
   "source": [
    "\n",
    "## AWL - Annual Maxima Calculation"
   ]
  },
  {
   "cell_type": "code",
   "execution_count": null,
   "metadata": {},
   "outputs": [],
   "source": [
    "# Historical AWL Annual Maxima\n",
    "\n",
    "# remove nans before and after AWL\n",
    "ix_nonan = np.squeeze(np.argwhere(~np.isnan(HIST_C_h['AWL'].values[:])))\n",
    "HIST_C_nonan = HIST_C_h.isel(time = ix_nonan)\n",
    "\n",
    "# calculate AWL annual maxima dataset\n",
    "hist_AMax = HIST_C_nonan.groupby('time.year').apply(grouped_max, vn='AWL', dim='time')\n"
   ]
  },
  {
   "cell_type": "code",
   "execution_count": null,
   "metadata": {},
   "outputs": [],
   "source": [
    "# Simulation AWL Annual Maxima\n",
    "\n",
    "# calculate AWL annual maxima dataset\n",
    "sim_AMax = SIM_C_h.groupby('time.year').apply(grouped_max, vn='AWL', dim='time')\n"
   ]
  },
  {
   "cell_type": "code",
   "execution_count": null,
   "metadata": {},
   "outputs": [],
   "source": [
    "# Simulation climate change AWL Annual Maxima\n",
    "\n",
    "# calculate AWL annual maxima dataset\n",
    "sim_AMax_CChange = SIM_C_h_CChange.groupby('time.year').apply(grouped_max, vn='AWL', dim='time')\n"
   ]
  },
  {
   "cell_type": "markdown",
   "metadata": {},
   "source": [
    "\n",
    "## AWL - Annual Maxima Return Period"
   ]
  },
  {
   "cell_type": "code",
   "execution_count": null,
   "metadata": {
    "scrolled": false
   },
   "outputs": [],
   "source": [
    "# AWL Annual Maxima Return Period (historical vs. simulations)\n",
    "\n",
    "Plot_ReturnPeriodValidation_CC(hist_AMax['AWL'], sim_AMax['AWL'].transpose(), sim_AMax_CChange['AWL'].transpose(), label_1='Simulation', label_2 = 'Simulation TCs');\n"
   ]
  },
  {
   "cell_type": "code",
   "execution_count": null,
   "metadata": {},
   "outputs": [],
   "source": [
    "# Hs and Tp Return Period (historical vs. simulations) at AWL Annual Maxima\n",
    "\n",
    "# Hs at AWL Annual Maxima\n",
    "Plot_ReturnPeriodValidation_CC(hist_AMax['Hs'], sim_AMax['Hs'].transpose(), sim_AMax_CChange['Hs'].transpose(), label_1='Simulation', label_2 = 'Simulation TCs');\n",
    "\n",
    "# Tp at AWL Annual Maxima\n",
    "Plot_ReturnPeriodValidation_CC(hist_AMax['Tp'], sim_AMax['Tp'].transpose(), sim_AMax_CChange['Tp'].transpose(), label_1='Simulation', label_2 = 'Simulation TCs');\n"
   ]
  },
  {
   "cell_type": "markdown",
   "metadata": {},
   "source": [
    "\n",
    "## AWL - Annual Maxima Probabilistic Plots"
   ]
  },
  {
   "cell_type": "code",
   "execution_count": null,
   "metadata": {},
   "outputs": [],
   "source": [
    "# Probabilistic plots parameters\n",
    "\n",
    "n_clusters_AWT = 6    # number of AWT clusters\n",
    "n_clusters_DWT = 42   # number of DWT clusters\n",
    "\n",
    "# Select one simulation DWTs - WAVEs simulation\n",
    "n_sim = 0\n",
    "sim_AMax_n = sim_AMax.sel(n_sim=0)\n",
    "sim_AMax_n_CChange = sim_AMax_CChange.sel(n_sim=0)\n"
   ]
  },
  {
   "cell_type": "code",
   "execution_count": null,
   "metadata": {
    "scrolled": false
   },
   "outputs": [],
   "source": [
    "# Plot Annual Maxima DWT probabilities by month\n",
    "\n",
    "# Simulation\n",
    "Plot_DWTs_Probs(sim_AMax_n['DWT'].values, sim_AMax_n.time.values, n_clusters_DWT);\n",
    "\n",
    "# Simulation climate change\n",
    "Plot_DWTs_Probs(sim_AMax_n_CChange['DWT'].values, sim_AMax_n_CChange.time.values, n_clusters_DWT);\n"
   ]
  },
  {
   "cell_type": "code",
   "execution_count": null,
   "metadata": {},
   "outputs": [],
   "source": [
    "# Plot Annual Maxima AWTs/DWTs Probabilities \n",
    "\n",
    "# Simulation \n",
    "Plot_Probs_WT_WT(\n",
    "    sim_AMax_n['AWT'].values[:] - 1, sim_AMax_n['DWT'].values[:] - 1, \n",
    "    n_clusters_AWT, n_clusters_DWT, wt_colors=True, ttl = 'Simulation',\n",
    ");\n",
    "\n",
    "\n",
    "# Simulation climate change\n",
    "Plot_Probs_WT_WT(\n",
    "    sim_AMax_n_CChange['AWT'].values[:] - 1, sim_AMax_n_CChange['DWT'].values[:] - 1, \n",
    "    n_clusters_AWT, n_clusters_DWT, wt_colors=True, ttl = 'Simulation Climate Change (TCs)',\n",
    ");\n"
   ]
  },
  {
   "cell_type": "markdown",
   "metadata": {},
   "source": [
    "\n",
    "## AWL - Peaks Over Threshold Calculation"
   ]
  },
  {
   "cell_type": "code",
   "execution_count": null,
   "metadata": {},
   "outputs": [],
   "source": [
    "# POT  plots parameters\n",
    "\n",
    "n_clusters_AWT = 6    # number of AWT clusters\n",
    "n_clusters_DWT = 42   # number of DWT clusters\n",
    "\n",
    "# Select one simulation DWTs - WAVEs simulation\n",
    "n_sim = 0\n",
    "SIM_C_h_n = SIM_C_h.sel(n_sim=0)\n",
    "SIM_C_h_n_CChange = SIM_C_h_CChange.sel(n_sim=0)\n",
    "\n",
    "# TODO: update POT to work with hourly data\n",
    "_, ix = np.unique(SIM_C_h_n['time'], return_index=True)  \n",
    "SIM_C_h_n = SIM_C_h_n.isel(time=ix)\n",
    "\n",
    "_, ix = np.unique(SIM_C_h_n_CChange['time'], return_index=True)  \n",
    "SIM_C_h_n_CChange = SIM_C_h_n_CChange.isel(time=ix)\n",
    "\n",
    "# Parse data to daily \n",
    "SIM_C_d_n = xds_reindex_daily(SIM_C_h_n)# TODO: check possible bug if this puts NAN inside AWL data\n",
    "SIM_C_d_n_CChange = xds_reindex_daily(SIM_C_h_n_CChange)# TODO: check possible bug if this puts NAN inside AWL data\n"
   ]
  },
  {
   "cell_type": "code",
   "execution_count": null,
   "metadata": {},
   "outputs": [],
   "source": [
    "# Get independent event peaks (99 percentile)\n",
    "\n",
    "# Simulation\n",
    "times_POT = POT(SIM_C_d_n, 'AWL', 99).time\n",
    "sim_POT = SIM_C_d_n.sel(time = times_POT)\n",
    "\n",
    "# Simulation climate change\n",
    "times_POT_CChange = POT(SIM_C_d_n_CChange, 'AWL', 99).time\n",
    "sim_POT_CChange = SIM_C_d_n_CChange.sel(time = times_POT)\n"
   ]
  },
  {
   "cell_type": "markdown",
   "metadata": {},
   "source": [
    "\n",
    "## AWL - Peaks Over Threshold Probabilistic Plots"
   ]
  },
  {
   "cell_type": "code",
   "execution_count": null,
   "metadata": {},
   "outputs": [],
   "source": [
    "# Plot Peaks Over Threshold DWT probabilities by month\n",
    "\n",
    "# Simulation\n",
    "Plot_DWTs_Probs(sim_POT['DWT'].values, sim_POT.time.values, n_clusters_DWT);\n",
    "\n",
    "# Simulation climate change\n",
    "Plot_DWTs_Probs(sim_POT_CChange['DWT'].values, sim_POT_CChange.time.values, n_clusters_DWT);\n"
   ]
  },
  {
   "cell_type": "code",
   "execution_count": null,
   "metadata": {},
   "outputs": [],
   "source": [
    "# Plot Peaks Over Threshold AWTs/DWTs Probabilities \n",
    "\n",
    "# Simulation \n",
    "Plot_Probs_WT_WT(\n",
    "    sim_POT['AWT'].values[:] - 1, sim_POT['DWT'].values[:] - 1, \n",
    "    n_clusters_AWT, n_clusters_DWT, wt_colors=True, ttl = 'Simulation',\n",
    ");\n",
    "\n",
    "\n",
    "# Simulation climate change\n",
    "Plot_Probs_WT_WT(\n",
    "    sim_POT_CChange['AWT'].values[:] - 1, sim_POT_CChange['DWT'].values[:] - 1, \n",
    "    n_clusters_AWT, n_clusters_DWT, wt_colors=True, ttl = 'Simulation Climate Change (TCs)',\n",
    ");"
   ]
  },
  {
   "cell_type": "markdown",
   "metadata": {},
   "source": [
    "\n",
    "## Level Variables (level, AT, MMSL, TWL) - Histograms"
   ]
  },
  {
   "cell_type": "code",
   "execution_count": null,
   "metadata": {},
   "outputs": [],
   "source": [
    "\n",
    "# Plot level, AT, MMSL and TWL histogram comparison between historical and simulated data\n",
    "Plot_LevelVariables_Histograms(SIM_C_h.sel(n_sim = 0), SIM_C_h_CChange.sel(n_sim = 0), label_1='Simulation', label_2 = 'Simulation TCs', );\n"
   ]
  },
  {
   "cell_type": "markdown",
   "metadata": {},
   "source": [
    "# Level variables taking into account SLR in the TWL (100 yrs. of simulated data)\n"
   ]
  },
  {
   "cell_type": "code",
   "execution_count": null,
   "metadata": {},
   "outputs": [],
   "source": [
    "# Plot level variables of climate change simulated data: SLR vs ENSO+SLR\n",
    "\n",
    "# select 100 yrs of simulation\n",
    "SIM_C_h_SLR = SIM_C_h.isel(time=slice(0, len(SLR.time))).copy(deep=True) # 100 years\n",
    "SIM_C_h_CChange_SLR = SIM_C_h_CChange.isel(time=slice(0, len(SLR.time))).copy(deep=True) # 100 years\n",
    "\n",
    "\n",
    "# Add SLR to TWL\n",
    "for n in range(0, len(SIM_C_h_SLR.n_sim)):\n",
    "    SIM_C_h_SLR['TWL'][:,n] = SIM_C_h_SLR['TWL'].isel(n_sim=n) + SLR['SLR'].values\n",
    "    SIM_C_h_CChange_SLR['TWL'][:,n] = SIM_C_h_CChange_SLR['TWL'].isel(n_sim=n) + SLR['SLR'].values\n",
    "\n",
    "\n",
    "# Plot level, AT, MMSL and TWL histogram comparison between historical and simulated data\n",
    "Plot_LevelVariables_Histograms(SIM_C_h_SLR.sel(n_sim = 0), SIM_C_h_CChange_SLR.sel(n_sim = 0), label_1='Simulation SLR', label_2 = 'Simulation TCs & SLR');\n"
   ]
  },
  {
   "cell_type": "markdown",
   "metadata": {},
   "source": [
    "\n",
    "## TWL - Annual Maxima. Simulations SLR vs. simulations SLR+TCs"
   ]
  },
  {
   "cell_type": "code",
   "execution_count": null,
   "metadata": {},
   "outputs": [],
   "source": [
    "# Plot TWL annual maxima\n",
    "\n",
    "# calculate Annual Maxima values for historical and simulated data\n",
    "hist_A = HIST_C_h['TWL'].groupby('time.year').max(dim='time')\n",
    "sim_A = SIM_C_h_SLR['TWL'].groupby('time.year').max(dim='time')\n",
    "sim_B = SIM_C_h_CChange_SLR['TWL'].groupby('time.year').max(dim='time')\n",
    "\n",
    "# Return Period historical vs. simulations\n",
    "Plot_ReturnPeriodValidation_CC(hist_A, sim_A.transpose(), sim_B.transpose(), label_1='Simulation SLR', label_2 = 'Simulation TCs & SLR');\n"
   ]
  },
  {
   "cell_type": "code",
   "execution_count": null,
   "metadata": {},
   "outputs": [],
   "source": []
  }
 ],
 "metadata": {
  "kernelspec": {
   "display_name": "Python 3",
   "language": "python",
   "name": "python3"
  },
  "language_info": {
   "codemirror_mode": {
    "name": "ipython",
    "version": 3
   },
   "file_extension": ".py",
   "mimetype": "text/x-python",
   "name": "python",
   "nbconvert_exporter": "python",
   "pygments_lexer": "ipython3",
   "version": "3.7.2"
  }
 },
 "nbformat": 4,
 "nbformat_minor": 2
}
