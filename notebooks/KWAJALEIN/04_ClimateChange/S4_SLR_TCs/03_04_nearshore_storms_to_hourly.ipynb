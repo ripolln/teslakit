{
 "cells": [
  {
   "cell_type": "markdown",
   "metadata": {},
   "source": [
    "\n",
    "... ***CURRENTLY UNDER DEVELOPMENT*** ...\n"
   ]
  },
  {
   "cell_type": "markdown",
   "metadata": {},
   "source": [
    "# Nearshore storms (SWAN+snell) at 36 profiles to hourly data"
   ]
  },
  {
   "cell_type": "code",
   "execution_count": 7,
   "metadata": {},
   "outputs": [],
   "source": [
    "#!/usr/bin/env python\n",
    "# -*- coding: utf-8 -*-\n",
    "\n",
    "# common\n",
    "import os\n",
    "import os.path as op\n",
    "\n",
    "# pip\n",
    "import numpy as np\n",
    "import xarray as xr\n",
    "import pandas as pd\n",
    "from datetime import datetime\n",
    "import matplotlib.pyplot as plt\n",
    "\n",
    "# DEV: override installed teslakit\n",
    "import sys\n",
    "sys.path.insert(0, op.join(os.path.abspath(''), '..', '..', '..', '..'))\n",
    "\n",
    "# teslakit\n",
    "from teslakit.database import Database\n",
    "from teslakit.climate_emulator import Climate_Emulator\n",
    "from teslakit.waves import AWL, Aggregate_WavesFamilies, Intradaily_Hydrograph\n",
    "from teslakit.util.time_operations import xds_limit_dates, repair_times_hourly, add_max_storms_mask\n"
   ]
  },
  {
   "cell_type": "code",
   "execution_count": 8,
   "metadata": {},
   "outputs": [],
   "source": [
    "# --------------------------------------\n",
    "# Teslakit database\n",
    "\n",
    "p_data = r'/Users/albacid/Projects/TeslaKit_projects'\n",
    "\n",
    "# climate change - S4\n",
    "site = 'KWAJALEIN_CC_S4'\n",
    "\n",
    "db_S4 = Database(p_data)\n",
    "db_S4.SetSite(site)\n",
    "\n",
    "# Fichero AlbaR\n",
    "nc_nearshore_storms = '/Users/albacid/Projects/SERDP/inputs_Kwajalein/waves_nearshore_emulador/RCM_TCs_profiles_CC_S4.nc'\n"
   ]
  },
  {
   "cell_type": "markdown",
   "metadata": {},
   "source": [
    "## Load offshore waves"
   ]
  },
  {
   "cell_type": "code",
   "execution_count": 3,
   "metadata": {
    "scrolled": false
   },
   "outputs": [
    {
     "name": "stdout",
     "output_type": "stream",
     "text": [
      "<xarray.Dataset>\n",
      "Dimensions:      (time: 1032644)\n",
      "Coordinates:\n",
      "    index        (time) int64 0 1 2 3 4 ... 1032640 1032641 1032642 1032643\n",
      "  * time         (time) object 2000-01-01 00:00:00 ... 3000-01-01 00:00:00\n",
      "Data variables:\n",
      "    DWT          (time) float32 28.0 1.0 32.0 33.0 41.0 ... 13.0 28.0 20.0 20.0\n",
      "    sea_Hs       (time) float32 1.5582333 2.434917 ... 1.810582 2.2550507\n",
      "    sea_Tp       (time) float32 7.720595 8.870701 ... 8.210051 6.6658435\n",
      "    sea_Dir      (time) float32 54.23647 70.633 ... 56.327915 67.612114\n",
      "    swell_1_Hs   (time) float32 0.84767956 0.86827296 ... 0.3111764 0.42345622\n",
      "    swell_1_Tp   (time) float32 8.847652 6.94969 ... 9.856896 11.085974\n",
      "    swell_1_Dir  (time) float32 68.4031 97.40611 45.76165 ... 73.13391 72.43033\n",
      "    swell_2_Hs   (time) float32 0.35236874 0.28442293 ... 0.45500863 0.26068825\n",
      "    swell_2_Tp   (time) float32 11.0032215 12.334754 ... 11.017166 9.1800585\n",
      "    swell_2_Dir  (time) float32 179.73355 171.34354 ... 179.41365 171.41524\n",
      "    wind_speed   (time) float32 9.392085 6.3622866 ... 4.627558 7.380642\n",
      "    wind_dir     (time) float32 57.103546 82.062386 ... 69.68402 69.86024\n",
      "    mu           (time) float32 0.78232014 0.0 0.8648309 ... 0.0 0.9071562\n",
      "    tau          (time) float32 0.7291667 0.0 0.083333336 ... 0.0 0.9166667\n",
      "    ss           (time) float32 0.0 0.0 0.0 0.0 0.52716887 ... 0.0 0.0 0.0 0.0\n",
      "    n_sim        (time) int64 0 0 0 0 0 0 0 0 0 0 0 0 ... 9 9 9 9 9 9 9 9 9 9 9\n"
     ]
    }
   ],
   "source": [
    "# Full simulation\n",
    "\n",
    "CE = Climate_Emulator(db_S4.paths.site.EXTREMES.climate_emulator)\n",
    "\n",
    "WVS_upd = CE.LoadSim_All(TCs=True)\n",
    "WVS_upd = WVS_upd.to_xarray()\n",
    "\n",
    "# set time as coordinate\n",
    "WVS_upd = WVS_upd.swap_dims({'index': 'time'})\n",
    "\n",
    "print(WVS_upd)\n"
   ]
  },
  {
   "cell_type": "code",
   "execution_count": 4,
   "metadata": {},
   "outputs": [],
   "source": [
    "# DatetimeGregorian to datetime\n",
    "#time = [x.timetuple() for x in WVS_upd.time.values];\n",
    "#time = [datetime(*x[:6]) for x in time];\n",
    "\n",
    "#WVS_upd.time.values = time\n"
   ]
  },
  {
   "cell_type": "markdown",
   "metadata": {},
   "source": [
    "## Load nearshore waves "
   ]
  },
  {
   "cell_type": "code",
   "execution_count": 5,
   "metadata": {},
   "outputs": [
    {
     "name": "stdout",
     "output_type": "stream",
     "text": [
      "<xarray.Dataset>\n",
      "Dimensions:  (index: 1032644, profile: 36)\n",
      "Coordinates:\n",
      "  * index    (index) float64 0.0 1.0 2.0 3.0 ... 1.033e+06 1.033e+06 1.033e+06\n",
      "  * profile  (profile) float64 1.0 2.0 3.0 4.0 5.0 ... 32.0 33.0 34.0 35.0 36.0\n",
      "Data variables:\n",
      "    Hs       (index, profile) float64 ...\n",
      "    Tp       (index, profile) float64 ...\n",
      "    Dir      (index, profile) float64 ...\n"
     ]
    }
   ],
   "source": [
    "# Full simulation\n",
    "\n",
    "RCM_TCs_profiles = xr.open_dataset(nc_nearshore_storms)\n",
    "RCM_TCs_profiles = RCM_TCs_profiles.drop({'tm', 'dirP'})\n",
    "RCM_TCs_profiles = RCM_TCs_profiles.rename({'hs':'Hs', 'dir':'Dir', 'tp':'Tp'})\n",
    "print(RCM_TCs_profiles)\n"
   ]
  },
  {
   "cell_type": "markdown",
   "metadata": {},
   "source": [
    "## Storms to hourly"
   ]
  },
  {
   "cell_type": "code",
   "execution_count": 6,
   "metadata": {},
   "outputs": [
    {
     "name": "stdout",
     "output_type": "stream",
     "text": [
      "simulation 7 processed.\n",
      "simulation 8 processed.\n",
      "simulation 9 processed.\n"
     ]
    }
   ],
   "source": [
    "# Iterate over simulations\n",
    "for n in range(7,10):\n",
    "    \n",
    "    # select simulation offshore\n",
    "    WVS_upd_n = WVS_upd.where(WVS_upd.n_sim==n, drop=True).copy(deep=True)\n",
    "    \n",
    "    # select simulation nearshore\n",
    "    RCM_TCs_profiles_n = RCM_TCs_profiles.sel(index=WVS_upd_n.index).copy(deep=True)\n",
    "    \n",
    "    # keep needed parameters\n",
    "    mu_tau_ss = WVS_upd_n[['mu','tau','ss','time']].copy(deep=True)\n",
    "    \n",
    "    # add time variable\n",
    "    RCM_TCs_profiles_n['time'] = WVS_upd_n.time.copy(deep=True)\n",
    "    \n",
    "    \n",
    "    # Iterate over profiles\n",
    "    for p in RCM_TCs_profiles.profile:\n",
    "\n",
    "        # select profile nearshore\n",
    "        RCM_TCs_profiles_p = RCM_TCs_profiles_n.sel(profile=p).copy(deep=True)\n",
    "        \n",
    "        # calculate intradaily hourly hydrographs for simulated storms\n",
    "        WVS_h = Intradaily_Hydrograph(RCM_TCs_profiles_p, mu_tau_ss)\n",
    "\n",
    "        # calculate AWL\n",
    "        WVS_h['AWL'] = AWL(WVS_h.Hs, WVS_h.Tp)\n",
    "        \n",
    "        # repair times: remove duplicates (if any)\n",
    "        WVS_h = repair_times_hourly(WVS_h)\n",
    "\n",
    "        # add profile\n",
    "        WVS_h = WVS_h.assign_coords(profile=RCM_TCs_profiles_p.profile).expand_dims('profile')\n",
    "                \n",
    "        # save profiles\n",
    "        if p==1:            \n",
    "            WVS_h_out = WVS_h.copy(deep=True)\n",
    "        else:\n",
    "            WVS_h_out = xr.concat([WVS_h_out, WVS_h], dim='profile')\n",
    "\n",
    "    \n",
    "\n",
    "    # store hourly simulation nearshore data\n",
    "    db_S4.Save_SIM_NEARSHORE(WVS_h_out, n)\n",
    "\n",
    "    print('simulation {0} processed.'.format(n))    \n"
   ]
  },
  {
   "cell_type": "code",
   "execution_count": null,
   "metadata": {},
   "outputs": [],
   "source": []
  }
 ],
 "metadata": {
  "kernelspec": {
   "display_name": "Python 3",
   "language": "python",
   "name": "python3"
  },
  "language_info": {
   "codemirror_mode": {
    "name": "ipython",
    "version": 3
   },
   "file_extension": ".py",
   "mimetype": "text/x-python",
   "name": "python",
   "nbconvert_exporter": "python",
   "pygments_lexer": "ipython3",
   "version": "3.7.2"
  }
 },
 "nbformat": 4,
 "nbformat_minor": 2
}
