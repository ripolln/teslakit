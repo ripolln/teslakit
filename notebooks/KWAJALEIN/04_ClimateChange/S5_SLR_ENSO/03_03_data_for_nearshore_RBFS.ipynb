{
 "cells": [
  {
   "cell_type": "markdown",
   "metadata": {},
   "source": [
    "\n",
    "... ***CURRENTLY UNDER DEVELOPMENT*** ...\n"
   ]
  },
  {
   "cell_type": "markdown",
   "metadata": {},
   "source": [
    "# Prepara fichero para Alba R"
   ]
  },
  {
   "cell_type": "code",
   "execution_count": 1,
   "metadata": {},
   "outputs": [],
   "source": [
    "#!/usr/bin/env python\n",
    "# -*- coding: utf-8 -*-\n",
    "\n",
    "# common\n",
    "import os\n",
    "import os.path as op\n",
    "\n",
    "# pip\n",
    "import numpy as np\n",
    "import xarray as xr\n",
    "import pandas as pd\n",
    "from datetime import datetime\n",
    "import matplotlib.pyplot as plt\n",
    "\n",
    "# DEV: override installed teslakit\n",
    "import sys\n",
    "sys.path.insert(0, op.join(os.path.abspath(''), '..', '..', '..', '..'))\n",
    "\n",
    "# teslakit\n",
    "from teslakit.database import Database\n",
    "from teslakit.climate_emulator import Climate_Emulator\n",
    "from teslakit.waves import AWL, Aggregate_WavesFamilies\n",
    "\n",
    "from teslakit.plotting.outputs import Plot_FitSim_Histograms\n",
    "from teslakit.plotting.extremes import Plot_FitSim_AnnualMax, Plot_FitSim_GevFit, Plot_Fit_QQ\n",
    "\n",
    "from teslakit.plotting.waves import Plot_Waves_Histogram_FitSim\n"
   ]
  },
  {
   "cell_type": "code",
   "execution_count": 2,
   "metadata": {},
   "outputs": [],
   "source": [
    "# --------------------------------------\n",
    "# Teslakit database\n",
    "\n",
    "p_data = r'/Users/albacid/Projects/TeslaKit_projects'\n",
    "\n",
    "# climate change - S5\n",
    "site = 'KWAJALEIN_CC_S5'\n",
    "\n",
    "db_S5 = Database(p_data)\n",
    "db_S5.SetSite(site)"
   ]
  },
  {
   "cell_type": "markdown",
   "metadata": {},
   "source": [
    "## Load waves from the climate emulator"
   ]
  },
  {
   "cell_type": "code",
   "execution_count": 3,
   "metadata": {},
   "outputs": [
    {
     "name": "stdout",
     "output_type": "stream",
     "text": [
      "<xarray.Dataset>\n",
      "Dimensions:      (index: 1030828)\n",
      "Coordinates:\n",
      "  * index        (index) int64 0 1 2 3 4 ... 1030824 1030825 1030826 1030827\n",
      "Data variables:\n",
      "    DWT          (index) float32 28.0 1.0 32.0 40.0 32.0 ... 39.0 33.0 32.0 32.0\n",
      "    sea_Hs       (index) float32 2.980855 2.3911204 ... 3.2097461 4.08398\n",
      "    sea_Tp       (index) float32 8.070791 10.645989 9.094906 ... 9.195859 8.9872\n",
      "    sea_Dir      (index) float32 52.277348 50.070602 ... 67.18341 77.438225\n",
      "    swell_1_Hs   (index) float32 0.23376392 1.2217002 ... 0.37393954 0.57650656\n",
      "    swell_1_Tp   (index) float32 11.979431 14.376366 ... 10.96254 8.847657\n",
      "    swell_1_Dir  (index) float32 79.708595 78.30079 ... 86.124 52.500004\n",
      "    swell_2_Hs   (index) float32 0.34879413 0.267301 ... 0.28582856 0.24780126\n",
      "    swell_2_Tp   (index) float32 12.225544 12.518263 ... 14.174422 11.8886385\n",
      "    swell_2_Dir  (index) float32 185.89203 163.95964 ... 177.3409 172.38188\n",
      "    wind_speed   (index) float32 6.572572 7.04338 8.962964 ... 6.999323 10.94871\n",
      "    wind_dir     (index) float32 72.83442 90.44644 ... 140.2252 72.3017\n",
      "    mu           (index) float32 0.88363975 0.0 0.754143 ... 0.9437985 0.0\n",
      "    tau          (index) float32 0.7916667 0.0 0.33333334 ... 0.020833334 0.0\n",
      "    ss           (index) float32 0.0 0.0 0.0 0.0 0.0 0.0 ... 0.0 0.0 0.0 0.0 0.0\n",
      "    n_sim        (index) int64 0 0 0 0 0 0 0 0 0 0 0 0 ... 9 9 9 9 9 9 9 9 9 9 9\n",
      "    time         (index) object 2000-01-01 00:00:00 ... 3000-01-01 00:00:00\n"
     ]
    }
   ],
   "source": [
    "# Full simulation\n",
    "\n",
    "CE = Climate_Emulator(db_S5.paths.site.EXTREMES.climate_emulator)\n",
    "\n",
    "WVS_upd = CE.LoadSim_All(TCs=True)\n",
    "WVS_upd = WVS_upd.to_xarray()\n",
    "\n",
    "print(WVS_upd)"
   ]
  },
  {
   "cell_type": "code",
   "execution_count": 4,
   "metadata": {
    "scrolled": false
   },
   "outputs": [],
   "source": [
    "#----------------------------------------------------------\n",
    "# Poner NaN en WVS_upd_E donde Hs, Tp y Dir de Swell_1 y Swell_2 valen 0 (Hubo TC y sólo tenemos Sea family)\n",
    "\n",
    "ind = np.where(WVS_upd.swell_1_Tp==0.0)[0]\n",
    "\n",
    "vars = {'swell_1_Hs','swell_1_Tp','swell_1_Dir','swell_2_Hs','swell_2_Tp','swell_2_Dir'}\n",
    "for var in vars:\n",
    "    WVS_upd[var][ind] = np.nan\n"
   ]
  },
  {
   "cell_type": "markdown",
   "metadata": {},
   "source": [
    "## Separate TC waves from RMC"
   ]
  },
  {
   "cell_type": "code",
   "execution_count": 5,
   "metadata": {},
   "outputs": [
    {
     "name": "stdout",
     "output_type": "stream",
     "text": [
      "<xarray.Dataset>\n",
      "Dimensions:      (index: 11207)\n",
      "Coordinates:\n",
      "  * index        (index) int64 45 150 164 192 ... 1030676 1030791 1030817\n",
      "Data variables:\n",
      "    DWT          (index) float32 37.0 38.0 39.0 38.0 ... 41.0 42.0 37.0 41.0\n",
      "    sea_Hs       (index) float32 0.01648 2.4367867 ... 1.2825347 2.0451221\n",
      "    sea_Tp       (index) float32 1.941 7.8854766 ... 6.7418084 7.090463\n",
      "    sea_Dir      (index) float32 238.5 125.26454 ... 225.42981 127.9396\n",
      "    swell_1_Hs   (index) float32 nan nan nan nan nan nan ... nan nan nan nan nan\n",
      "    swell_1_Tp   (index) float32 nan nan nan nan nan nan ... nan nan nan nan nan\n",
      "    swell_1_Dir  (index) float32 nan nan nan nan nan nan ... nan nan nan nan nan\n",
      "    swell_2_Hs   (index) float32 nan nan nan nan nan nan ... nan nan nan nan nan\n",
      "    swell_2_Tp   (index) float32 nan nan nan nan nan nan ... nan nan nan nan nan\n",
      "    swell_2_Dir  (index) float32 nan nan nan nan nan nan ... nan nan nan nan nan\n",
      "    wind_speed   (index) float32 2.0832067 12.898403 ... 7.7907186 10.393247\n",
      "    wind_dir     (index) float32 359.67786 168.20569 ... 205.65105 261.8425\n",
      "    mu           (index) float32 0.3813153 0.7224634 ... 0.6051672 0.6850213\n",
      "    tau          (index) float32 0.15244552 0.6747974 ... 0.7386597 0.24273822\n",
      "    ss           (index) float32 0.1252715 0.2798947 ... 0.18068808 0.30484414\n",
      "    n_sim        (index) float64 0.0 0.0 0.0 0.0 0.0 0.0 ... 9.0 9.0 9.0 9.0 9.0\n",
      "    time         (index) object 2000-05-17 00:00:00 ... 2999-11-17 00:00:00\n",
      "\n",
      "<xarray.Dataset>\n",
      "Dimensions:      (index: 1019621)\n",
      "Coordinates:\n",
      "  * index        (index) int64 0 1 2 3 4 ... 1030824 1030825 1030826 1030827\n",
      "Data variables:\n",
      "    DWT          (index) float32 28.0 1.0 32.0 40.0 32.0 ... 39.0 33.0 32.0 32.0\n",
      "    sea_Hs       (index) float32 2.980855 2.3911204 ... 3.2097461 4.08398\n",
      "    sea_Tp       (index) float32 8.070791 10.645989 9.094906 ... 9.195859 8.9872\n",
      "    sea_Dir      (index) float32 52.277348 50.070602 ... 67.18341 77.438225\n",
      "    swell_1_Hs   (index) float32 0.23376392 1.2217002 ... 0.37393954 0.57650656\n",
      "    swell_1_Tp   (index) float32 11.979431 14.376366 ... 10.96254 8.847657\n",
      "    swell_1_Dir  (index) float32 79.708595 78.30079 ... 86.124 52.500004\n",
      "    swell_2_Hs   (index) float32 0.34879413 0.267301 ... 0.28582856 0.24780126\n",
      "    swell_2_Tp   (index) float32 12.225544 12.518263 ... 14.174422 11.8886385\n",
      "    swell_2_Dir  (index) float32 185.89203 163.95964 ... 177.3409 172.38188\n",
      "    wind_speed   (index) float32 6.572572 7.04338 8.962964 ... 6.999323 10.94871\n",
      "    wind_dir     (index) float32 72.83442 90.44644 ... 140.2252 72.3017\n",
      "    mu           (index) float32 0.88363975 0.0 0.754143 ... 0.9437985 0.0\n",
      "    tau          (index) float32 0.7916667 0.0 0.33333334 ... 0.020833334 0.0\n",
      "    ss           (index) float32 0.0 0.0 0.0 0.0 0.0 0.0 ... 0.0 0.0 0.0 0.0 0.0\n",
      "    n_sim        (index) float64 0.0 0.0 0.0 0.0 0.0 0.0 ... 9.0 9.0 9.0 9.0 9.0\n",
      "    time         (index) object 2000-01-01 00:00:00 ... 3000-01-01 00:00:00\n",
      "\n"
     ]
    }
   ],
   "source": [
    "WVS_sim_TCs = WVS_upd.copy(deep=True)\n",
    "WVS_sim_RCM = WVS_upd.copy(deep=True)\n",
    "\n",
    "WVS_sim_TCs = WVS_sim_TCs.where(np.isnan(WVS_sim_TCs.swell_1_Hs), drop=True)\n",
    "print(WVS_sim_TCs)\n",
    "print()\n",
    "\n",
    "WVS_sim_RCM = WVS_sim_RCM.where(~np.isnan(WVS_sim_RCM.swell_1_Hs), drop=True)\n",
    "print(WVS_sim_RCM)\n",
    "print()\n",
    "\n",
    "# Remove time variable\n",
    "WVS_sim_RCM = WVS_sim_RCM.drop('time')\n",
    "WVS_sim_TCs = WVS_sim_TCs.drop('time')\n",
    "\n",
    "# save\n",
    "from teslakit.io.aux_nc import StoreBugXdset \n",
    "\n",
    "StoreBugXdset(WVS_sim_RCM, '/Users/albacid/Projects/TeslaKit_projects/sites/' + site + '/EXTREMES/CE_all_sims_RCM.nc')  \n",
    "StoreBugXdset(WVS_sim_TCs, '/Users/albacid/Projects/TeslaKit_projects/sites/' + site + '/EXTREMES/CE_all_sims_TCs.nc')  \n",
    "\n"
   ]
  },
  {
   "cell_type": "code",
   "execution_count": null,
   "metadata": {},
   "outputs": [],
   "source": []
  }
 ],
 "metadata": {
  "kernelspec": {
   "display_name": "Python 3",
   "language": "python",
   "name": "python3"
  },
  "language_info": {
   "codemirror_mode": {
    "name": "ipython",
    "version": 3
   },
   "file_extension": ".py",
   "mimetype": "text/x-python",
   "name": "python",
   "nbconvert_exporter": "python",
   "pygments_lexer": "ipython3",
   "version": "3.7.2"
  }
 },
 "nbformat": 4,
 "nbformat_minor": 2
}
