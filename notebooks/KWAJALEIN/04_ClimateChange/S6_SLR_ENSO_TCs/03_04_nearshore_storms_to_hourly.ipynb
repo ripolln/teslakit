{
 "cells": [
  {
   "cell_type": "markdown",
   "metadata": {},
   "source": [
    "\n",
    "... ***CURRENTLY UNDER DEVELOPMENT*** ...\n"
   ]
  },
  {
   "cell_type": "markdown",
   "metadata": {},
   "source": [
    "# Nearshore storms (SWAN+snell) at 36 profiles to hourly data"
   ]
  },
  {
   "cell_type": "code",
   "execution_count": 1,
   "metadata": {},
   "outputs": [],
   "source": [
    "#!/usr/bin/env python\n",
    "# -*- coding: utf-8 -*-\n",
    "\n",
    "# common\n",
    "import os\n",
    "import os.path as op\n",
    "\n",
    "# pip\n",
    "import numpy as np\n",
    "import xarray as xr\n",
    "import pandas as pd\n",
    "from datetime import datetime\n",
    "import matplotlib.pyplot as plt\n",
    "\n",
    "# DEV: override installed teslakit\n",
    "import sys\n",
    "sys.path.insert(0, op.join(os.path.abspath(''), '..', '..', '..', '..'))\n",
    "\n",
    "# teslakit\n",
    "from teslakit.database import Database\n",
    "from teslakit.climate_emulator import Climate_Emulator\n",
    "from teslakit.waves import AWL, Aggregate_WavesFamilies, Intradaily_Hydrograph\n",
    "from teslakit.util.time_operations import xds_limit_dates, repair_times_hourly, add_max_storms_mask\n"
   ]
  },
  {
   "cell_type": "code",
   "execution_count": 2,
   "metadata": {},
   "outputs": [],
   "source": [
    "# --------------------------------------\n",
    "# Teslakit database\n",
    "\n",
    "p_data = r'/Users/albacid/Projects/TeslaKit_projects'\n",
    "\n",
    "# climate change - S6\n",
    "site = 'KWAJALEIN_CC_S6'\n",
    "\n",
    "db_S6 = Database(p_data)\n",
    "db_S6.SetSite(site)\n",
    "\n",
    "# Fichero AlbaR\n",
    "nc_nearshore_storms = '/Users/albacid/Projects/SERDP/inputs_Kwajalein/waves_nearshore_emulador/RCM_TCs_profiles_CC_S6.nc'\n"
   ]
  },
  {
   "cell_type": "markdown",
   "metadata": {},
   "source": [
    "## Load offshore waves"
   ]
  },
  {
   "cell_type": "code",
   "execution_count": 3,
   "metadata": {
    "scrolled": false
   },
   "outputs": [
    {
     "name": "stdout",
     "output_type": "stream",
     "text": [
      "<xarray.Dataset>\n",
      "Dimensions:      (time: 1030828)\n",
      "Coordinates:\n",
      "    index        (time) int64 0 1 2 3 4 ... 1030824 1030825 1030826 1030827\n",
      "  * time         (time) object 2000-01-01 00:00:00 ... 3000-01-01 00:00:00\n",
      "Data variables:\n",
      "    DWT          (time) float32 28.0 1.0 32.0 40.0 32.0 ... 39.0 33.0 32.0 32.0\n",
      "    sea_Hs       (time) float32 2.980855 2.3911204 ... 3.2097461 4.08398\n",
      "    sea_Tp       (time) float32 8.070791 10.645989 9.094906 ... 9.195859 8.9872\n",
      "    sea_Dir      (time) float32 52.277348 50.070602 ... 67.18341 77.438225\n",
      "    swell_1_Hs   (time) float32 0.23376392 1.2217002 ... 0.37393954 0.57650656\n",
      "    swell_1_Tp   (time) float32 11.979431 14.376366 ... 10.96254 8.847657\n",
      "    swell_1_Dir  (time) float32 79.708595 78.30079 89.40418 ... 86.124 52.500004\n",
      "    swell_2_Hs   (time) float32 0.34879413 0.267301 ... 0.28582856 0.24780126\n",
      "    swell_2_Tp   (time) float32 12.225544 12.518263 ... 14.174422 11.8886385\n",
      "    swell_2_Dir  (time) float32 185.89203 163.95964 ... 177.3409 172.38188\n",
      "    wind_speed   (time) float32 6.572572 7.04338 8.962964 ... 6.999323 10.94871\n",
      "    wind_dir     (time) float32 72.83442 90.44644 97.780334 ... 140.2252 72.3017\n",
      "    mu           (time) float32 0.90841573 0.93829614 ... 0.0 0.9399995\n",
      "    tau          (time) float32 1.0 0.45833334 0.083333336 ... 0.0 0.6666667\n",
      "    ss           (time) float32 0.0 0.0 0.0 0.0 0.0 0.0 ... 0.0 0.0 0.0 0.0 0.0\n",
      "    n_sim        (time) int64 0 0 0 0 0 0 0 0 0 0 0 0 ... 9 9 9 9 9 9 9 9 9 9 9\n"
     ]
    }
   ],
   "source": [
    "# Full simulation\n",
    "\n",
    "CE = Climate_Emulator(db_S6.paths.site.EXTREMES.climate_emulator)\n",
    "\n",
    "WVS_upd = CE.LoadSim_All(TCs=True)\n",
    "WVS_upd = WVS_upd.to_xarray()\n",
    "\n",
    "# set time as coordinate\n",
    "WVS_upd = WVS_upd.swap_dims({'index': 'time'})\n",
    "\n",
    "print(WVS_upd)\n"
   ]
  },
  {
   "cell_type": "code",
   "execution_count": 4,
   "metadata": {},
   "outputs": [],
   "source": [
    "# DatetimeGregorian to datetime\n",
    "#time = [x.timetuple() for x in WVS_upd.time.values];\n",
    "#time = [datetime(*x[:6]) for x in time];\n",
    "\n",
    "#WVS_upd.time.values = time\n"
   ]
  },
  {
   "cell_type": "markdown",
   "metadata": {},
   "source": [
    "## Load nearshore waves "
   ]
  },
  {
   "cell_type": "code",
   "execution_count": 5,
   "metadata": {},
   "outputs": [
    {
     "name": "stdout",
     "output_type": "stream",
     "text": [
      "<xarray.Dataset>\n",
      "Dimensions:  (index: 1030828, profile: 36)\n",
      "Coordinates:\n",
      "  * index    (index) float64 0.0 1.0 2.0 3.0 ... 1.031e+06 1.031e+06 1.031e+06\n",
      "  * profile  (profile) float64 1.0 2.0 3.0 4.0 5.0 ... 32.0 33.0 34.0 35.0 36.0\n",
      "Data variables:\n",
      "    Hs       (index, profile) float64 ...\n",
      "    Tp       (index, profile) float64 ...\n",
      "    Dir      (index, profile) float64 ...\n"
     ]
    }
   ],
   "source": [
    "# Full simulation\n",
    "\n",
    "RCM_TCs_profiles = xr.open_dataset(nc_nearshore_storms)\n",
    "RCM_TCs_profiles = RCM_TCs_profiles.drop({'tm', 'dirP'})\n",
    "RCM_TCs_profiles = RCM_TCs_profiles.rename({'hs':'Hs', 'dir':'Dir', 'tp':'Tp'})\n",
    "print(RCM_TCs_profiles)\n"
   ]
  },
  {
   "cell_type": "markdown",
   "metadata": {},
   "source": [
    "## Storms to hourly"
   ]
  },
  {
   "cell_type": "code",
   "execution_count": 6,
   "metadata": {},
   "outputs": [
    {
     "name": "stdout",
     "output_type": "stream",
     "text": [
      "simulation 0 processed.\n",
      "simulation 1 processed.\n",
      "simulation 2 processed.\n",
      "simulation 3 processed.\n",
      "simulation 4 processed.\n",
      "simulation 5 processed.\n",
      "simulation 6 processed.\n",
      "simulation 7 processed.\n",
      "simulation 8 processed.\n",
      "simulation 9 processed.\n"
     ]
    }
   ],
   "source": [
    "# Iterate over simulations\n",
    "for n in range(0,10):\n",
    "    \n",
    "    # select simulation offshore\n",
    "    WVS_upd_n = WVS_upd.where(WVS_upd.n_sim==n, drop=True).copy(deep=True)\n",
    "    \n",
    "    # select simulation nearshore\n",
    "    RCM_TCs_profiles_n = RCM_TCs_profiles.sel(index=WVS_upd_n.index).copy(deep=True)\n",
    "    \n",
    "    # keep needed parameters\n",
    "    mu_tau_ss = WVS_upd_n[['mu','tau','ss','time']].copy(deep=True)\n",
    "    \n",
    "    # add time variable\n",
    "    RCM_TCs_profiles_n['time'] = WVS_upd_n.time.copy(deep=True)\n",
    "    \n",
    "    \n",
    "    # Iterate over profiles\n",
    "    for p in RCM_TCs_profiles.profile:\n",
    "\n",
    "        # select profile nearshore\n",
    "        RCM_TCs_profiles_p = RCM_TCs_profiles_n.sel(profile=p).copy(deep=True)\n",
    "        \n",
    "        # calculate intradaily hourly hydrographs for simulated storms\n",
    "        WVS_h = Intradaily_Hydrograph(RCM_TCs_profiles_p, mu_tau_ss)\n",
    "\n",
    "        # calculate AWL\n",
    "        WVS_h['AWL'] = AWL(WVS_h.Hs, WVS_h.Tp)\n",
    "        \n",
    "        # repair times: remove duplicates (if any)\n",
    "        WVS_h = repair_times_hourly(WVS_h)\n",
    "\n",
    "        # add profile\n",
    "        WVS_h = WVS_h.assign_coords(profile=RCM_TCs_profiles_p.profile).expand_dims('profile')\n",
    "                \n",
    "        # save profiles\n",
    "        if p==1:            \n",
    "            WVS_h_out = WVS_h.copy(deep=True)\n",
    "        else:\n",
    "            WVS_h_out = xr.concat([WVS_h_out, WVS_h], dim='profile')\n",
    "\n",
    "    \n",
    "\n",
    "    # store hourly simulation nearshore data\n",
    "    db_S6.Save_SIM_NEARSHORE(WVS_h_out, n)\n",
    "\n",
    "    print('simulation {0} processed.'.format(n))    \n"
   ]
  },
  {
   "cell_type": "code",
   "execution_count": null,
   "metadata": {},
   "outputs": [],
   "source": []
  }
 ],
 "metadata": {
  "kernelspec": {
   "display_name": "Python 3",
   "language": "python",
   "name": "python3"
  },
  "language_info": {
   "codemirror_mode": {
    "name": "ipython",
    "version": 3
   },
   "file_extension": ".py",
   "mimetype": "text/x-python",
   "name": "python",
   "nbconvert_exporter": "python",
   "pygments_lexer": "ipython3",
   "version": "3.7.2"
  }
 },
 "nbformat": 4,
 "nbformat_minor": 2
}
