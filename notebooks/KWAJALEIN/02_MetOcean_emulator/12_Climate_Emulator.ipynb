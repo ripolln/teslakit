{
 "cells": [
  {
   "cell_type": "markdown",
   "metadata": {},
   "source": [
    "\n",
    "... ***CURRENTLY UNDER DEVELOPMENT*** ...\n"
   ]
  },
  {
   "cell_type": "markdown",
   "metadata": {},
   "source": [
    "## Obtain synthetic waves and water level timeseries\n",
    "\n",
    "inputs required: \n",
    "  * Historical DWTs\n",
    "  * Historical AWT and IWT\n",
    "  * Synthetic timeseries of AWT and IWT\n",
    "  * Historical wave families \n",
    "  * Historical intradaily hydrograph parameters\n",
    "  * TCs waves\n",
    "  * Historical runup at 3 locations\n",
    "  \n",
    "in this notebook:\n",
    "  * Fit a multivariate extreme model for the waves associated to each DWT\n",
    "  * Generate synthetic time series of wave conditions\n",
    "  * Validate the synthetic waves by means of mean distributions\n"
   ]
  },
  {
   "cell_type": "markdown",
   "metadata": {},
   "source": [
    "\n",
    "### Workflow:\n",
    "\n",
    "<div>\n",
    "<img src=\"resources/nb01_12.png\" width=\"400px\">\n",
    "</div>\n",
    "\n",
    "\n",
    "\n",
    "The **synthetic generation of wave conditions on a regular climate** (DWT1-36) is based on the work of Rueda et al. 2017. The probability of SW1, SW2, and SEA components being present (1) or not present (0) at the time of observed peak TWLproxy was used to create eight potential sea-states within each DWT (000, 100, 010, 001, 110, 101, 011, 111) defined by Bernoulli distributions . For each hydrograph produced in the simulations of climate, a random pick from the appropriate Bernoulli distribution determined which sea state was present during that hydrograph. A subsequent random pick from the assigned sea state’s marginal distributions defined the waves at the maximum TWL peak within the simulated hydrograph.\n",
    "\n",
    "The marginal distributions of waves and surge levels were associated with each other using multivariate gaussian copulas. The copulas define the dependence structure, or joint probabilities, between each environmental parameter within a sea state by identifying correlation matrices after transforming each marginal distribution to a uniform distribution. Identifying the correlation across all parameters through the copulas ensures that realistic combinations of compounding environmental parameters are present in the hypothetical time series (i.e., large storm waves approach from appropriate wave directions) (Masina et al. 2015; Corbella & Stretch, 2013). The marginal distributions of wave heights were defined by GEVs to allow for simulation of extremes with longer return periods than the observation period, while wave periods and directions were defined by empirical distributions constructed from observations. \n",
    "\n",
    "Additional parameters including τ (timing of the peak TWL within a hydrograph) and μ (area under the hydrograph) were also added to each copula and randomly sampled for each simulated hydrograph. The two parameters effectively define a trapezoidal shape for each simulated hydrograph, analogous to the storm schematization of other recent works (e.g., Poelhekke et al., 2016). Including these parameters in the copulas accounts for correlation between storminess and hydrograph shape (peaky hydrographs are commonly associated with storm conditions while more flat hydrographs typically occur during calmer conditions). The shape of the simulated hydrograph will be use to interpolate to an hourly value of the TWLproxy, and subsequently an hourly value of wave conditions *(notebook 14)*\n",
    "\n",
    "In the case on **waves associated to a TC event**, the associated simulated waves from WWIII simulation that have been reconstructed in *notebook 07* are use whenever the simulated TC enters the 4 degrees radio.\n",
    "\n",
    "\n"
   ]
  },
  {
   "cell_type": "code",
   "execution_count": 1,
   "metadata": {},
   "outputs": [],
   "source": [
    "#!/usr/bin/env python\n",
    "# -*- coding: utf-8 -*-\n",
    "\n",
    "# common\n",
    "import os\n",
    "import os.path as op\n",
    "\n",
    "# pip\n",
    "import numpy as np\n",
    "import xarray as xr\n",
    "import pandas as pd\n",
    "from datetime import datetime\n",
    "import matplotlib.pyplot as plt\n",
    "\n",
    "# DEV: override installed teslakit\n",
    "import sys\n",
    "sys.path.insert(0, op.join(os.path.abspath(''), '..', '..', '..'))\n",
    "\n",
    "# teslakit\n",
    "from teslakit.database import Database\n",
    "from teslakit.climate_emulator import Climate_Emulator\n",
    "from teslakit.waves import AWL, Aggregate_WavesFamilies\n",
    "\n",
    "from teslakit.plotting.outputs import Plot_FitSim_Histograms\n",
    "from teslakit.plotting.extremes import Plot_FitSim_AnnualMax, Plot_FitSim_GevFit, Plot_Fit_QQ\n",
    "\n",
    "from teslakit.plotting.waves import Plot_Waves_Histogram_FitSim\n"
   ]
  },
  {
   "cell_type": "markdown",
   "metadata": {},
   "source": [
    "\n",
    "## Database and Site parameters"
   ]
  },
  {
   "cell_type": "code",
   "execution_count": 2,
   "metadata": {},
   "outputs": [],
   "source": [
    "# --------------------------------------\n",
    "# Teslakit database\n",
    "\n",
    "p_data = r'/Users/albacid/Projects/TeslaKit_projects'\n",
    "\n",
    "db = Database(p_data)\n",
    "\n",
    "# set site\n",
    "db.SetSite('KWAJALEIN_emulator')\n"
   ]
  },
  {
   "cell_type": "code",
   "execution_count": 3,
   "metadata": {
    "scrolled": false
   },
   "outputs": [],
   "source": [
    "# --------------------------------------\n",
    "# Load data for climate emulator fitting: waves partitions and families, KMA, DWT\n",
    "\n",
    "WVS = db.Load_WAVES_hist()      # Historical gow waves point\n",
    "#WVS = xr.open_dataset('/Users/albacid/Downloads/waves_historical_albaR.nc')\n",
    "#WVS['time'] = WVS['time'].dt.round('H')\n",
    "#WVS['TC_category'] = kk.TC_category\n",
    "\n",
    "\n",
    "KMA = db.Load_ESTELA_KMA()      # ESTELA predictor KMA\n",
    "\n",
    "\n",
    "# prepare KMA data \n",
    "DWTs_fit = xr.Dataset(\n",
    "    {\n",
    "        'bmus'       : ('time', KMA['sorted_bmus_storms'].values[:] + 1),\n",
    "        'cenEOFs'    : (('n_clusters', 'n_features',), KMA['cenEOFs'].values[:]),\n",
    "    },\n",
    "    coords = {'time' : KMA['time'].values[:]}\n",
    ")\n",
    "\n",
    "\n",
    "# --------------------------------------\n",
    "# Load data for climate emulator simulation (Simulate_Waves): ESTELA DWT \n",
    "\n",
    "DWTs_sim = db.Load_ESTELA_DWT_sim()\n",
    "\n",
    "\n",
    "# --------------------------------------\n",
    "# Load data for climate emulator simulation (Simulate_TCs): TCs (MU, TAU) for N, S & E\n",
    "TCs_params = db.Load_TCs_r2_sim_params()    # TCs parameters (copula generated) \n",
    "\n",
    "TCs_RBFs_N = xr.open_dataset(op.join(p_data, 'sites/KWAJALEIN_emulator/TCs/TCs_sim_r2_RBF_output_N.nc'))  # TCs numerical-RBFs_interpolation output\n",
    "TCs_RBFs_S = xr.open_dataset(op.join(p_data, 'sites/KWAJALEIN_emulator/TCs/TCs_sim_r2_RBF_output_S.nc'))  # TCs numerical-RBFs_interpolation output\n",
    "TCs_RBFs_E = xr.open_dataset(op.join(p_data, 'sites/KWAJALEIN_emulator/TCs/TCs_sim_r2_RBF_output_E.nc'))  # TCs numerical-RBFs_interpolation output\n",
    "\n",
    "\n",
    "probs_TCs =  db.Load_TCs_probs_synth()      # TCs synthetic probabilities\n",
    "pchange_TCs = probs_TCs['category_change_cumsum'].values[:]\n",
    "\n",
    "l_mutau_wt_N = db.Load_MU_TAU_hydrograms(location = 'N')   # MU - TAU intradaily hidrographs for each DWT\n",
    "l_mutau_wt_S = db.Load_MU_TAU_hydrograms(location = 'S')   # MU - TAU intradaily hidrographs for each DWT\n",
    "l_mutau_wt_E = db.Load_MU_TAU_hydrograms(location = 'E')   # MU - TAU intradaily hidrographs for each DWT\n",
    "\n",
    "MU_WT_N = np.array([x.MU.values[:] for x in l_mutau_wt_N])  # MU and TAU numpy arrays\n",
    "TAU_WT_N = np.array([x.TAU.values[:] for x in l_mutau_wt_N])\n",
    "MU_WT_S = np.array([x.MU.values[:] for x in l_mutau_wt_S])  # MU and TAU numpy arrays\n",
    "TAU_WT_S = np.array([x.TAU.values[:] for x in l_mutau_wt_S])\n",
    "MU_WT_E = np.array([x.MU.values[:] for x in l_mutau_wt_E])  # MU and TAU numpy arrays\n",
    "TAU_WT_E = np.array([x.TAU.values[:] for x in l_mutau_wt_E])\n"
   ]
  },
  {
   "cell_type": "code",
   "execution_count": 4,
   "metadata": {},
   "outputs": [
    {
     "name": "stdout",
     "output_type": "stream",
     "text": [
      "<xarray.Dataset>\n",
      "Dimensions:    (time: 359401)\n",
      "Coordinates:\n",
      "  * time       (time) datetime64[ns] 1979-01-01 ... 2020-01-01\n",
      "Data variables:\n",
      "    runup_N    (time) float64 0.8017 0.7133 0.6826 ... 0.7547 0.8026 0.8478\n",
      "    runup_S    (time) float64 0.0 0.4745 0.6168 0.7801 ... 1.738 2.594 2.601\n",
      "    runup_E    (time) float64 0.0 0.5804 0.8814 1.114 ... 1.855 2.357 2.368\n",
      "    runup_max  (time) float64 0.8017 0.7133 0.8814 1.114 ... 1.855 2.594 2.601\n",
      "\n",
      "<xarray.Dataset>\n",
      "Dimensions:    (time: 359401)\n",
      "Coordinates:\n",
      "  * time       (time) datetime64[ns] 1979-01-01 ... 2020-01-01\n",
      "    longitude  float32 168.0\n",
      "    latitude   float32 8.0\n",
      "Data variables:\n",
      "    SLP        (time) float64 ...\n",
      "\n",
      "<xarray.Dataset>\n",
      "Dimensions:  (time: 362304)\n",
      "Coordinates:\n",
      "  * time     (time) datetime64[ns] 1979-01-01 ... 2020-04-30T23:00:00\n",
      "Data variables:\n",
      "    w        (time) float64 11.69 11.64 11.58 11.58 ... 10.51 10.13 10.44 10.68\n",
      "    wdir     (time) float64 54.62 59.44 61.1 61.5 ... 64.94 65.98 60.83 59.95\n"
     ]
    }
   ],
   "source": [
    "# --------------------------------------\n",
    "# Load runup as proxy variable for max. storms\n",
    "\n",
    "runup_N = xr.open_dataset('/Users/albacid/Projects/TeslaKit_projects/sites/KWAJALEIN_emulator/HYCREWW/hist_runup_N.nc')\n",
    "runup_S = xr.open_dataset('/Users/albacid/Projects/TeslaKit_projects/sites/KWAJALEIN_emulator/HYCREWW/hist_runup_S.nc')\n",
    "runup_E = xr.open_dataset('/Users/albacid/Projects/TeslaKit_projects/sites/KWAJALEIN_emulator/HYCREWW/hist_runup_E.nc')\n",
    "\n",
    "runup_N = runup_N.drop({'level','hs_lo2','rslope','bslope','rwidth', 'cf','hs','tp','dir'})\n",
    "runup_S = runup_S.drop({'level','hs_lo2','rslope','bslope','rwidth', 'cf','hs','tp','dir'})\n",
    "runup_E = runup_E.drop({'level','hs_lo2','rslope','bslope','rwidth', 'cf','hs','tp','dir'})\n",
    "\n",
    "runup_N = runup_N.rename({'runup':'runup_N'})\n",
    "runup_S = runup_S.rename({'runup':'runup_S'})\n",
    "runup_E = runup_E.rename({'runup':'runup_E'})\n",
    "\n",
    "runup = xr.merge([runup_N, runup_S, runup_E])\n",
    "\n",
    "\n",
    "# WORST runup from the 3 profiles    \n",
    "runup['runup_max'] = (('time'),np.nanmax(np.vstack((runup.runup_N.values, runup.runup_S.values, runup.runup_E.values)), axis=0))\n",
    "print(runup)\n",
    "print()\n",
    "\n",
    "\n",
    "# --------------------------------------\n",
    "# Load SLP and Wind to include in the emulator\n",
    "\n",
    "# SLP\n",
    "press = db.Load_ESTELA_SLP()                \n",
    "\n",
    "# Kwajalein: pnt_lon = 167.73, pnt_lat = 8.66\n",
    "lonp = 168 # closest coordinates in SLP dataset\n",
    "latp = 8\n",
    "\n",
    "# select closest grid point to Site\n",
    "press = press.sel(longitude = lonp, latitude = latp) \n",
    "\n",
    "\n",
    "# WIND\n",
    "wind = pd.read_pickle('/Users/albacid/Projects/SERDP/inputs_Kwajalein/wind.pkl')\n",
    "wind = wind.to_xarray()\n",
    "\n",
    "print(press)\n",
    "print()\n",
    "print(wind)\n"
   ]
  },
  {
   "cell_type": "code",
   "execution_count": 5,
   "metadata": {},
   "outputs": [
    {
     "name": "stdout",
     "output_type": "stream",
     "text": [
      "<xarray.Dataset>\n",
      "Dimensions:      (n_sim: 10, time: 365244)\n",
      "Coordinates:\n",
      "  * time         (time) object 2000-01-01 00:00:00 ... 3000-01-01 00:00:00\n",
      "Dimensions without coordinates: n_sim\n",
      "Data variables:\n",
      "    evbmus_sims  (time, n_sim) float32 ...\n",
      "Attributes:\n",
      "    source:   teslakit_v0.9.1\n"
     ]
    }
   ],
   "source": [
    "# solve first 10 DWTs simulations\n",
    "\n",
    "DWTs_sim = DWTs_sim.isel(n_sim=slice(0, 10))\n",
    "\n",
    "print(DWTs_sim)\n"
   ]
  },
  {
   "cell_type": "markdown",
   "metadata": {},
   "source": [
    "\n",
    "## Climate Emulator - Fitting"
   ]
  },
  {
   "cell_type": "code",
   "execution_count": 6,
   "metadata": {},
   "outputs": [],
   "source": [
    "# Waves and KMA bmus data share time limits\n",
    "WVS_fit = WVS.sel(time = slice(DWTs_fit.time[0], DWTs_fit.time[-1]))\n",
    "\n",
    "runup = runup.sel(time=slice(DWTs_fit.time[0], DWTs_fit.time[-1]))\n",
    "\n",
    "press = press.sel(time=slice(DWTs_fit.time[0], DWTs_fit.time[-1]))\n",
    "wind = wind.sel(time=slice(DWTs_fit.time[0], DWTs_fit.time[-1]))\n",
    "\n",
    "\n",
    "# add extra data to WAVES dataset\n",
    "\n",
    "#WVS_fit['AWL'] = AWL(WVS_fit['Hs'], WVS_fit['Tp']) # Waves AWL proxy variable for max. storms\n",
    "WVS_fit['runup'] = (('time'), runup.runup_max) # Waves runup proxy variable for max. storms\n",
    "WVS_fit['wind_speed'] = (('time'), wind.w)\n",
    "WVS_fit['wind_dir'] = (('time'), wind.wdir)\n",
    "WVS_fit['mslp'] = (('time'), press.SLP)\n"
   ]
  },
  {
   "cell_type": "code",
   "execution_count": 7,
   "metadata": {
    "scrolled": false
   },
   "outputs": [
    {
     "name": "stdout",
     "output_type": "stream",
     "text": [
      "Waves Families: ['sea', 'swell_1', 'swell_2']\n",
      "Extra Variables: ['wind_speed', 'wind_dir', 'mslp']\n",
      "GEV distribution: ['sea_Hs', 'swell_1_Hs', 'swell_1_Tp', 'swell_2_Hs', 'swell_2_Tp']\n",
      "Empirical distribution: ['sea_Dir', 'swell_1_Dir', 'swell_2_Dir', 'sea_Tp', 'wind_dir', 'mslp']\n",
      "Weibull distribution: ['wind_speed']\n",
      "Do chromosomes combinations: False\n",
      "Max. Storms PROXY: runup\n"
     ]
    }
   ],
   "source": [
    "# --------------------------------------\n",
    "# Climate Emulator extremes model fitting\n",
    "\n",
    "# climate emulator object\n",
    "CE = Climate_Emulator(db.paths.site.EXTREMES.climate_emulator)\n",
    "\n",
    "# Fit extremes model\n",
    "config = {\n",
    "    'waves_families': ['sea', 'swell_1', 'swell_2'],\n",
    "    'extra_variables': ['wind_speed', 'wind_dir', 'mslp'],\n",
    "    'distribution': [\n",
    "        ('sea_Tp', 'Empirical'),\n",
    "        ('wind_dir', 'Empirical'),\n",
    "        ('mslp', 'Empirical'),\n",
    "        ('wind_speed', 'Weibull'),\n",
    "    ],\n",
    "    'do_chromosomes': False,\n",
    "}\n",
    "\n",
    "\n",
    "CE.FitExtremes(DWTs_fit, WVS_fit, config, proxy='runup')\n",
    "\n",
    "# Load Climate Emulator (only need to Fit CE once)\n",
    "#CE.Load()\n"
   ]
  },
  {
   "cell_type": "code",
   "execution_count": 8,
   "metadata": {
    "scrolled": false
   },
   "outputs": [
    {
     "data": {
      "image/png": "[encoded data removed]",
      "text/plain": [
       "<Figure size 1141.66x705.6 with 7 Axes>"
      ]
     },
     "metadata": {
      "needs_background": "light"
     },
     "output_type": "display_data"
    },
    {
     "data": {
      "image/png": "[encoded data removed]",
      "text/plain": [
       "<Figure size 1141.66x705.6 with 7 Axes>"
      ]
     },
     "metadata": {
      "needs_background": "light"
     },
     "output_type": "display_data"
    },
    {
     "data": {
      "image/png": "[encoded data removed]",
      "text/plain": [
       "<Figure size 1141.66x705.6 with 7 Axes>"
      ]
     },
     "metadata": {
      "needs_background": "light"
     },
     "output_type": "display_data"
    },
    {
     "data": {
      "image/png": "[encoded data removed]",
      "text/plain": [
       "<Figure size 1141.66x705.6 with 7 Axes>"
      ]
     },
     "metadata": {
      "needs_background": "light"
     },
     "output_type": "display_data"
    },
    {
     "data": {
      "image/png": "[encoded data removed]",
      "text/plain": [
       "<Figure size 1141.66x705.6 with 7 Axes>"
      ]
     },
     "metadata": {
      "needs_background": "light"
     },
     "output_type": "display_data"
    }
   ],
   "source": [
    "# Fit report figures\n",
    "\n",
    "CE.Report_Fit(vns_GEV=['Hs', 'Tp'], plot_chrom=False, plot_sigma=False);\n"
   ]
  },
  {
   "cell_type": "markdown",
   "metadata": {},
   "source": [
    "\n",
    "## Climate Emulator - Simulation"
   ]
  },
  {
   "cell_type": "code",
   "execution_count": 9,
   "metadata": {
    "scrolled": false
   },
   "outputs": [
    {
     "name": "stdout",
     "output_type": "stream",
     "text": [
      "- Sim: 1 -\n"
     ]
    },
    {
     "name": "stderr",
     "output_type": "stream",
     "text": [
      "C.E: Sim. Waves:  14%|█▍        | 14514/102765 [1:43:00<14:42:22,  1.67it/s]"
     ]
    },
    {
     "ename": "KeyboardInterrupt",
     "evalue": "",
     "output_type": "error",
     "traceback": [
      "\u001b[0;31m---------------------------------------------------------------------------\u001b[0m",
      "\u001b[0;31mKeyboardInterrupt\u001b[0m                         Traceback (most recent call last)",
      "\u001b[0;32m<ipython-input-9-a43c58c78c48>\u001b[0m in \u001b[0;36m<module>\u001b[0;34m\u001b[0m\n\u001b[1;32m     11\u001b[0m     \u001b[0;31m# Simulate waves\u001b[0m\u001b[0;34m\u001b[0m\u001b[0;34m\u001b[0m\u001b[0;34m\u001b[0m\u001b[0m\n\u001b[1;32m     12\u001b[0m     \u001b[0mn_ce\u001b[0m \u001b[0;34m=\u001b[0m \u001b[0;36m1\u001b[0m  \u001b[0;31m# (one CE sim. for each DWT sim.)\u001b[0m\u001b[0;34m\u001b[0m\u001b[0;34m\u001b[0m\u001b[0m\n\u001b[0;32m---> 13\u001b[0;31m     \u001b[0mWVS_sim\u001b[0m \u001b[0;34m=\u001b[0m \u001b[0mCE\u001b[0m\u001b[0;34m.\u001b[0m\u001b[0mSimulate_Waves\u001b[0m\u001b[0;34m(\u001b[0m\u001b[0mDWTs\u001b[0m\u001b[0;34m,\u001b[0m \u001b[0mn_ce\u001b[0m\u001b[0;34m,\u001b[0m \u001b[0mfilters\u001b[0m\u001b[0;34m=\u001b[0m\u001b[0;34m{\u001b[0m\u001b[0;34m'hs'\u001b[0m\u001b[0;34m:\u001b[0m\u001b[0;32mTrue\u001b[0m\u001b[0;34m,\u001b[0m \u001b[0;34m'tp'\u001b[0m\u001b[0;34m:\u001b[0m\u001b[0;32mTrue\u001b[0m\u001b[0;34m,\u001b[0m \u001b[0;34m'ws'\u001b[0m\u001b[0;34m:\u001b[0m\u001b[0;32mTrue\u001b[0m\u001b[0;34m}\u001b[0m\u001b[0;34m)\u001b[0m\u001b[0;34m\u001b[0m\u001b[0;34m\u001b[0m\u001b[0m\n\u001b[0m\u001b[1;32m     14\u001b[0m \u001b[0;34m\u001b[0m\u001b[0m\n\u001b[1;32m     15\u001b[0m     \u001b[0;31m# Simulate TCs and update simulated waves\u001b[0m\u001b[0;34m\u001b[0m\u001b[0;34m\u001b[0m\u001b[0;34m\u001b[0m\u001b[0m\n",
      "\u001b[0;32m~/Software/Bitbucket_repos/teslakit/notebooks/KWAJALEIN/02_MetOcean_emulator/../../../teslakit/climate_emulator.py\u001b[0m in \u001b[0;36mSimulate_Waves\u001b[0;34m(self, xds_DWT, n_sims, filters)\u001b[0m\n\u001b[1;32m    872\u001b[0m                 \u001b[0mbmus\u001b[0m\u001b[0;34m,\u001b[0m \u001b[0mn_clusters\u001b[0m\u001b[0;34m,\u001b[0m \u001b[0mchrom\u001b[0m\u001b[0;34m,\u001b[0m \u001b[0mchrom_probs\u001b[0m\u001b[0;34m,\u001b[0m \u001b[0msigma\u001b[0m\u001b[0;34m,\u001b[0m \u001b[0mxds_WVS_MS\u001b[0m\u001b[0;34m,\u001b[0m\u001b[0;34m\u001b[0m\u001b[0;34m\u001b[0m\u001b[0m\n\u001b[1;32m    873\u001b[0m                 \u001b[0mxds_WVS_TCs\u001b[0m\u001b[0;34m,\u001b[0m \u001b[0mxds_GEV_Par_Sampled\u001b[0m\u001b[0;34m,\u001b[0m \u001b[0mdwt_bmus_sim\u001b[0m\u001b[0;34m,\u001b[0m \u001b[0mdwt_time_sim\u001b[0m\u001b[0;34m,\u001b[0m\u001b[0;34m\u001b[0m\u001b[0;34m\u001b[0m\u001b[0m\n\u001b[0;32m--> 874\u001b[0;31m                 \u001b[0mfilters\u001b[0m\u001b[0;34m=\u001b[0m\u001b[0mfilters\u001b[0m\u001b[0;34m,\u001b[0m\u001b[0;34m\u001b[0m\u001b[0;34m\u001b[0m\u001b[0m\n\u001b[0m\u001b[1;32m    875\u001b[0m             )\n\u001b[1;32m    876\u001b[0m             \u001b[0mls_wvs_sim\u001b[0m\u001b[0;34m.\u001b[0m\u001b[0mappend\u001b[0m\u001b[0;34m(\u001b[0m\u001b[0mwvs_sim\u001b[0m\u001b[0;34m)\u001b[0m\u001b[0;34m\u001b[0m\u001b[0;34m\u001b[0m\u001b[0m\n",
      "\u001b[0;32m~/Software/Bitbucket_repos/teslakit/notebooks/KWAJALEIN/02_MetOcean_emulator/../../../teslakit/climate_emulator.py\u001b[0m in \u001b[0;36mGenerateWaves\u001b[0;34m(self, bmus, n_clusters, chrom, chrom_probs, sigma, xds_WVS_MS, xds_WVS_TCs, xds_GEV_Par_Sampled, DWT, DWT_time, filters)\u001b[0m\n\u001b[1;32m   1126\u001b[0m                     \u001b[0mvv\u001b[0m \u001b[0;34m=\u001b[0m \u001b[0mxds_WVS_MS\u001b[0m\u001b[0;34m[\u001b[0m\u001b[0mvn\u001b[0m\u001b[0;34m]\u001b[0m\u001b[0;34m.\u001b[0m\u001b[0mvalues\u001b[0m\u001b[0;34m[\u001b[0m\u001b[0;34m:\u001b[0m\u001b[0;34m]\u001b[0m\u001b[0;34m\u001b[0m\u001b[0;34m\u001b[0m\u001b[0m\n\u001b[1;32m   1127\u001b[0m                     \u001b[0mpb_vv\u001b[0m \u001b[0;34m=\u001b[0m \u001b[0mprob_sim\u001b[0m\u001b[0;34m[\u001b[0m\u001b[0mipbs\u001b[0m\u001b[0;34m]\u001b[0m\u001b[0;34m\u001b[0m\u001b[0;34m\u001b[0m\u001b[0m\n\u001b[0;32m-> 1128\u001b[0;31m                     \u001b[0mppf_vv\u001b[0m \u001b[0;34m=\u001b[0m \u001b[0mself\u001b[0m\u001b[0;34m.\u001b[0m\u001b[0mICDF_Distribution\u001b[0m\u001b[0;34m(\u001b[0m\u001b[0mvn\u001b[0m\u001b[0;34m,\u001b[0m \u001b[0mvv\u001b[0m\u001b[0;34m,\u001b[0m \u001b[0mpb_vv\u001b[0m\u001b[0;34m,\u001b[0m \u001b[0mxds_GEV_Par\u001b[0m\u001b[0;34m,\u001b[0m \u001b[0miwt\u001b[0m\u001b[0;34m)\u001b[0m\u001b[0;34m\u001b[0m\u001b[0;34m\u001b[0m\u001b[0m\n\u001b[0m\u001b[1;32m   1129\u001b[0m \u001b[0;34m\u001b[0m\u001b[0m\n\u001b[1;32m   1130\u001b[0m                     \u001b[0;31m# store simulation data\u001b[0m\u001b[0;34m\u001b[0m\u001b[0;34m\u001b[0m\u001b[0;34m\u001b[0m\u001b[0m\n",
      "\u001b[0;32m~/Software/Bitbucket_repos/teslakit/notebooks/KWAJALEIN/02_MetOcean_emulator/../../../teslakit/climate_emulator.py\u001b[0m in \u001b[0;36mICDF_Distribution\u001b[0;34m(self, vn, vv, pb, xds_GEV_Par, i_wt)\u001b[0m\n\u001b[1;32m    998\u001b[0m \u001b[0;34m\u001b[0m\u001b[0m\n\u001b[1;32m    999\u001b[0m             \u001b[0;31m# Weibull ICDF\u001b[0m\u001b[0;34m\u001b[0m\u001b[0;34m\u001b[0m\u001b[0;34m\u001b[0m\u001b[0m\n\u001b[0;32m-> 1000\u001b[0;31m             \u001b[0mppf_VV\u001b[0m \u001b[0;34m=\u001b[0m \u001b[0mweibull_min\u001b[0m\u001b[0;34m.\u001b[0m\u001b[0mppf\u001b[0m\u001b[0;34m(\u001b[0m\u001b[0mpb\u001b[0m\u001b[0;34m,\u001b[0m \u001b[0;34m*\u001b[0m\u001b[0mweibull_min\u001b[0m\u001b[0;34m.\u001b[0m\u001b[0mfit\u001b[0m\u001b[0;34m(\u001b[0m\u001b[0mvv\u001b[0m\u001b[0;34m)\u001b[0m\u001b[0;34m)\u001b[0m\u001b[0;34m\u001b[0m\u001b[0;34m\u001b[0m\u001b[0m\n\u001b[0m\u001b[1;32m   1001\u001b[0m \u001b[0;34m\u001b[0m\u001b[0m\n\u001b[1;32m   1002\u001b[0m         \u001b[0;32mreturn\u001b[0m \u001b[0mppf_VV\u001b[0m\u001b[0;34m\u001b[0m\u001b[0;34m\u001b[0m\u001b[0m\n",
      "\u001b[0;32m~/Software/Bitbucket_repos/teslakit/venv/lib/python3.7/site-packages/scipy/stats/_distn_infrastructure.py\u001b[0m in \u001b[0;36mfit\u001b[0;34m(self, data, *args, **kwds)\u001b[0m\n\u001b[1;32m   2308\u001b[0m             \u001b[0;32mraise\u001b[0m \u001b[0mTypeError\u001b[0m\u001b[0;34m(\u001b[0m\u001b[0;34m\"Unknown arguments: %s.\"\u001b[0m \u001b[0;34m%\u001b[0m \u001b[0mkwds\u001b[0m\u001b[0;34m)\u001b[0m\u001b[0;34m\u001b[0m\u001b[0;34m\u001b[0m\u001b[0m\n\u001b[1;32m   2309\u001b[0m \u001b[0;34m\u001b[0m\u001b[0m\n\u001b[0;32m-> 2310\u001b[0;31m         \u001b[0mvals\u001b[0m \u001b[0;34m=\u001b[0m \u001b[0moptimizer\u001b[0m\u001b[0;34m(\u001b[0m\u001b[0mfunc\u001b[0m\u001b[0;34m,\u001b[0m \u001b[0mx0\u001b[0m\u001b[0;34m,\u001b[0m \u001b[0margs\u001b[0m\u001b[0;34m=\u001b[0m\u001b[0;34m(\u001b[0m\u001b[0mravel\u001b[0m\u001b[0;34m(\u001b[0m\u001b[0mdata\u001b[0m\u001b[0;34m)\u001b[0m\u001b[0;34m,\u001b[0m\u001b[0;34m)\u001b[0m\u001b[0;34m,\u001b[0m \u001b[0mdisp\u001b[0m\u001b[0;34m=\u001b[0m\u001b[0;36m0\u001b[0m\u001b[0;34m)\u001b[0m\u001b[0;34m\u001b[0m\u001b[0;34m\u001b[0m\u001b[0m\n\u001b[0m\u001b[1;32m   2311\u001b[0m         \u001b[0;32mif\u001b[0m \u001b[0mrestore\u001b[0m \u001b[0;32mis\u001b[0m \u001b[0;32mnot\u001b[0m \u001b[0;32mNone\u001b[0m\u001b[0;34m:\u001b[0m\u001b[0;34m\u001b[0m\u001b[0;34m\u001b[0m\u001b[0m\n\u001b[1;32m   2312\u001b[0m             \u001b[0mvals\u001b[0m \u001b[0;34m=\u001b[0m \u001b[0mrestore\u001b[0m\u001b[0;34m(\u001b[0m\u001b[0margs\u001b[0m\u001b[0;34m,\u001b[0m \u001b[0mvals\u001b[0m\u001b[0;34m)\u001b[0m\u001b[0;34m\u001b[0m\u001b[0;34m\u001b[0m\u001b[0m\n",
      "\u001b[0;32m~/Software/Bitbucket_repos/teslakit/venv/lib/python3.7/site-packages/scipy/optimize/optimize.py\u001b[0m in \u001b[0;36mfmin\u001b[0;34m(func, x0, args, xtol, ftol, maxiter, maxfun, full_output, disp, retall, callback, initial_simplex)\u001b[0m\n\u001b[1;32m    441\u001b[0m             'initial_simplex': initial_simplex}\n\u001b[1;32m    442\u001b[0m \u001b[0;34m\u001b[0m\u001b[0m\n\u001b[0;32m--> 443\u001b[0;31m     \u001b[0mres\u001b[0m \u001b[0;34m=\u001b[0m \u001b[0m_minimize_neldermead\u001b[0m\u001b[0;34m(\u001b[0m\u001b[0mfunc\u001b[0m\u001b[0;34m,\u001b[0m \u001b[0mx0\u001b[0m\u001b[0;34m,\u001b[0m \u001b[0margs\u001b[0m\u001b[0;34m,\u001b[0m \u001b[0mcallback\u001b[0m\u001b[0;34m=\u001b[0m\u001b[0mcallback\u001b[0m\u001b[0;34m,\u001b[0m \u001b[0;34m**\u001b[0m\u001b[0mopts\u001b[0m\u001b[0;34m)\u001b[0m\u001b[0;34m\u001b[0m\u001b[0;34m\u001b[0m\u001b[0m\n\u001b[0m\u001b[1;32m    444\u001b[0m     \u001b[0;32mif\u001b[0m \u001b[0mfull_output\u001b[0m\u001b[0;34m:\u001b[0m\u001b[0;34m\u001b[0m\u001b[0;34m\u001b[0m\u001b[0m\n\u001b[1;32m    445\u001b[0m         \u001b[0mretlist\u001b[0m \u001b[0;34m=\u001b[0m \u001b[0mres\u001b[0m\u001b[0;34m[\u001b[0m\u001b[0;34m'x'\u001b[0m\u001b[0;34m]\u001b[0m\u001b[0;34m,\u001b[0m \u001b[0mres\u001b[0m\u001b[0;34m[\u001b[0m\u001b[0;34m'fun'\u001b[0m\u001b[0;34m]\u001b[0m\u001b[0;34m,\u001b[0m \u001b[0mres\u001b[0m\u001b[0;34m[\u001b[0m\u001b[0;34m'nit'\u001b[0m\u001b[0;34m]\u001b[0m\u001b[0;34m,\u001b[0m \u001b[0mres\u001b[0m\u001b[0;34m[\u001b[0m\u001b[0;34m'nfev'\u001b[0m\u001b[0;34m]\u001b[0m\u001b[0;34m,\u001b[0m \u001b[0mres\u001b[0m\u001b[0;34m[\u001b[0m\u001b[0;34m'status'\u001b[0m\u001b[0;34m]\u001b[0m\u001b[0;34m\u001b[0m\u001b[0;34m\u001b[0m\u001b[0m\n",
      "\u001b[0;32m~/Software/Bitbucket_repos/teslakit/venv/lib/python3.7/site-packages/scipy/optimize/optimize.py\u001b[0m in \u001b[0;36m_minimize_neldermead\u001b[0;34m(func, x0, args, callback, maxiter, maxfev, disp, return_all, initial_simplex, xatol, fatol, adaptive, **unknown_options)\u001b[0m\n\u001b[1;32m    605\u001b[0m         \u001b[0;32mif\u001b[0m \u001b[0mfxr\u001b[0m \u001b[0;34m<\u001b[0m \u001b[0mfsim\u001b[0m\u001b[0;34m[\u001b[0m\u001b[0;36m0\u001b[0m\u001b[0;34m]\u001b[0m\u001b[0;34m:\u001b[0m\u001b[0;34m\u001b[0m\u001b[0;34m\u001b[0m\u001b[0m\n\u001b[1;32m    606\u001b[0m             \u001b[0mxe\u001b[0m \u001b[0;34m=\u001b[0m \u001b[0;34m(\u001b[0m\u001b[0;36m1\u001b[0m \u001b[0;34m+\u001b[0m \u001b[0mrho\u001b[0m \u001b[0;34m*\u001b[0m \u001b[0mchi\u001b[0m\u001b[0;34m)\u001b[0m \u001b[0;34m*\u001b[0m \u001b[0mxbar\u001b[0m \u001b[0;34m-\u001b[0m \u001b[0mrho\u001b[0m \u001b[0;34m*\u001b[0m \u001b[0mchi\u001b[0m \u001b[0;34m*\u001b[0m \u001b[0msim\u001b[0m\u001b[0;34m[\u001b[0m\u001b[0;34m-\u001b[0m\u001b[0;36m1\u001b[0m\u001b[0;34m]\u001b[0m\u001b[0;34m\u001b[0m\u001b[0;34m\u001b[0m\u001b[0m\n\u001b[0;32m--> 607\u001b[0;31m             \u001b[0mfxe\u001b[0m \u001b[0;34m=\u001b[0m \u001b[0mfunc\u001b[0m\u001b[0;34m(\u001b[0m\u001b[0mxe\u001b[0m\u001b[0;34m)\u001b[0m\u001b[0;34m\u001b[0m\u001b[0;34m\u001b[0m\u001b[0m\n\u001b[0m\u001b[1;32m    608\u001b[0m \u001b[0;34m\u001b[0m\u001b[0m\n\u001b[1;32m    609\u001b[0m             \u001b[0;32mif\u001b[0m \u001b[0mfxe\u001b[0m \u001b[0;34m<\u001b[0m \u001b[0mfxr\u001b[0m\u001b[0;34m:\u001b[0m\u001b[0;34m\u001b[0m\u001b[0;34m\u001b[0m\u001b[0m\n",
      "\u001b[0;32m~/Software/Bitbucket_repos/teslakit/venv/lib/python3.7/site-packages/scipy/optimize/optimize.py\u001b[0m in \u001b[0;36mfunction_wrapper\u001b[0;34m(*wrapper_args)\u001b[0m\n\u001b[1;32m    325\u001b[0m     \u001b[0;32mdef\u001b[0m \u001b[0mfunction_wrapper\u001b[0m\u001b[0;34m(\u001b[0m\u001b[0;34m*\u001b[0m\u001b[0mwrapper_args\u001b[0m\u001b[0;34m)\u001b[0m\u001b[0;34m:\u001b[0m\u001b[0;34m\u001b[0m\u001b[0;34m\u001b[0m\u001b[0m\n\u001b[1;32m    326\u001b[0m         \u001b[0mncalls\u001b[0m\u001b[0;34m[\u001b[0m\u001b[0;36m0\u001b[0m\u001b[0;34m]\u001b[0m \u001b[0;34m+=\u001b[0m \u001b[0;36m1\u001b[0m\u001b[0;34m\u001b[0m\u001b[0;34m\u001b[0m\u001b[0m\n\u001b[0;32m--> 327\u001b[0;31m         \u001b[0;32mreturn\u001b[0m \u001b[0mfunction\u001b[0m\u001b[0;34m(\u001b[0m\u001b[0;34m*\u001b[0m\u001b[0;34m(\u001b[0m\u001b[0mwrapper_args\u001b[0m \u001b[0;34m+\u001b[0m \u001b[0margs\u001b[0m\u001b[0;34m)\u001b[0m\u001b[0;34m)\u001b[0m\u001b[0;34m\u001b[0m\u001b[0;34m\u001b[0m\u001b[0m\n\u001b[0m\u001b[1;32m    328\u001b[0m \u001b[0;34m\u001b[0m\u001b[0m\n\u001b[1;32m    329\u001b[0m     \u001b[0;32mreturn\u001b[0m \u001b[0mncalls\u001b[0m\u001b[0;34m,\u001b[0m \u001b[0mfunction_wrapper\u001b[0m\u001b[0;34m\u001b[0m\u001b[0;34m\u001b[0m\u001b[0m\n",
      "\u001b[0;32m~/Software/Bitbucket_repos/teslakit/venv/lib/python3.7/site-packages/scipy/stats/_distn_infrastructure.py\u001b[0m in \u001b[0;36m_penalized_nnlf\u001b[0;34m(self, theta, x)\u001b[0m\n\u001b[1;32m   2112\u001b[0m         \u001b[0mx\u001b[0m \u001b[0;34m=\u001b[0m \u001b[0masarray\u001b[0m\u001b[0;34m(\u001b[0m\u001b[0;34m(\u001b[0m\u001b[0mx\u001b[0m\u001b[0;34m-\u001b[0m\u001b[0mloc\u001b[0m\u001b[0;34m)\u001b[0m \u001b[0;34m/\u001b[0m \u001b[0mscale\u001b[0m\u001b[0;34m)\u001b[0m\u001b[0;34m\u001b[0m\u001b[0;34m\u001b[0m\u001b[0m\n\u001b[1;32m   2113\u001b[0m         \u001b[0mn_log_scale\u001b[0m \u001b[0;34m=\u001b[0m \u001b[0mlen\u001b[0m\u001b[0;34m(\u001b[0m\u001b[0mx\u001b[0m\u001b[0;34m)\u001b[0m \u001b[0;34m*\u001b[0m \u001b[0mlog\u001b[0m\u001b[0;34m(\u001b[0m\u001b[0mscale\u001b[0m\u001b[0;34m)\u001b[0m\u001b[0;34m\u001b[0m\u001b[0;34m\u001b[0m\u001b[0m\n\u001b[0;32m-> 2114\u001b[0;31m         \u001b[0;32mreturn\u001b[0m \u001b[0mself\u001b[0m\u001b[0;34m.\u001b[0m\u001b[0m_nnlf_and_penalty\u001b[0m\u001b[0;34m(\u001b[0m\u001b[0mx\u001b[0m\u001b[0;34m,\u001b[0m \u001b[0margs\u001b[0m\u001b[0;34m)\u001b[0m \u001b[0;34m+\u001b[0m \u001b[0mn_log_scale\u001b[0m\u001b[0;34m\u001b[0m\u001b[0;34m\u001b[0m\u001b[0m\n\u001b[0m\u001b[1;32m   2115\u001b[0m \u001b[0;34m\u001b[0m\u001b[0m\n\u001b[1;32m   2116\u001b[0m     \u001b[0;31m# return starting point for fit (shape arguments + loc + scale)\u001b[0m\u001b[0;34m\u001b[0m\u001b[0;34m\u001b[0m\u001b[0;34m\u001b[0m\u001b[0m\n",
      "\u001b[0;32m~/Software/Bitbucket_repos/teslakit/venv/lib/python3.7/site-packages/scipy/stats/_distn_infrastructure.py\u001b[0m in \u001b[0;36m_nnlf_and_penalty\u001b[0;34m(self, x, args)\u001b[0m\n\u001b[1;32m   2094\u001b[0m         \u001b[0;32mif\u001b[0m \u001b[0mn_bad\u001b[0m \u001b[0;34m>\u001b[0m \u001b[0;36m0\u001b[0m\u001b[0;34m:\u001b[0m\u001b[0;34m\u001b[0m\u001b[0;34m\u001b[0m\u001b[0m\n\u001b[1;32m   2095\u001b[0m             \u001b[0mx\u001b[0m \u001b[0;34m=\u001b[0m \u001b[0margsreduce\u001b[0m\u001b[0;34m(\u001b[0m\u001b[0;34m~\u001b[0m\u001b[0mcond0\u001b[0m\u001b[0;34m,\u001b[0m \u001b[0mx\u001b[0m\u001b[0;34m)\u001b[0m\u001b[0;34m[\u001b[0m\u001b[0;36m0\u001b[0m\u001b[0;34m]\u001b[0m\u001b[0;34m\u001b[0m\u001b[0;34m\u001b[0m\u001b[0m\n\u001b[0;32m-> 2096\u001b[0;31m         \u001b[0mlogpdf\u001b[0m \u001b[0;34m=\u001b[0m \u001b[0mself\u001b[0m\u001b[0;34m.\u001b[0m\u001b[0m_logpdf\u001b[0m\u001b[0;34m(\u001b[0m\u001b[0mx\u001b[0m\u001b[0;34m,\u001b[0m \u001b[0;34m*\u001b[0m\u001b[0margs\u001b[0m\u001b[0;34m)\u001b[0m\u001b[0;34m\u001b[0m\u001b[0;34m\u001b[0m\u001b[0m\n\u001b[0m\u001b[1;32m   2097\u001b[0m         \u001b[0mfinite_logpdf\u001b[0m \u001b[0;34m=\u001b[0m \u001b[0mnp\u001b[0m\u001b[0;34m.\u001b[0m\u001b[0misfinite\u001b[0m\u001b[0;34m(\u001b[0m\u001b[0mlogpdf\u001b[0m\u001b[0;34m)\u001b[0m\u001b[0;34m\u001b[0m\u001b[0;34m\u001b[0m\u001b[0m\n\u001b[1;32m   2098\u001b[0m         \u001b[0mn_bad\u001b[0m \u001b[0;34m+=\u001b[0m \u001b[0mnp\u001b[0m\u001b[0;34m.\u001b[0m\u001b[0msum\u001b[0m\u001b[0;34m(\u001b[0m\u001b[0;34m~\u001b[0m\u001b[0mfinite_logpdf\u001b[0m\u001b[0;34m,\u001b[0m \u001b[0maxis\u001b[0m\u001b[0;34m=\u001b[0m\u001b[0;36m0\u001b[0m\u001b[0;34m)\u001b[0m\u001b[0;34m\u001b[0m\u001b[0;34m\u001b[0m\u001b[0m\n",
      "\u001b[0;32m~/Software/Bitbucket_repos/teslakit/venv/lib/python3.7/site-packages/scipy/stats/_continuous_distns.py\u001b[0m in \u001b[0;36m_logpdf\u001b[0;34m(self, x, c)\u001b[0m\n\u001b[1;32m   1973\u001b[0m \u001b[0;34m\u001b[0m\u001b[0m\n\u001b[1;32m   1974\u001b[0m     \u001b[0;32mdef\u001b[0m \u001b[0m_logpdf\u001b[0m\u001b[0;34m(\u001b[0m\u001b[0mself\u001b[0m\u001b[0;34m,\u001b[0m \u001b[0mx\u001b[0m\u001b[0;34m,\u001b[0m \u001b[0mc\u001b[0m\u001b[0;34m)\u001b[0m\u001b[0;34m:\u001b[0m\u001b[0;34m\u001b[0m\u001b[0;34m\u001b[0m\u001b[0m\n\u001b[0;32m-> 1975\u001b[0;31m         \u001b[0;32mreturn\u001b[0m \u001b[0mnp\u001b[0m\u001b[0;34m.\u001b[0m\u001b[0mlog\u001b[0m\u001b[0;34m(\u001b[0m\u001b[0mc\u001b[0m\u001b[0;34m)\u001b[0m \u001b[0;34m+\u001b[0m \u001b[0msc\u001b[0m\u001b[0;34m.\u001b[0m\u001b[0mxlogy\u001b[0m\u001b[0;34m(\u001b[0m\u001b[0mc\u001b[0m \u001b[0;34m-\u001b[0m \u001b[0;36m1\u001b[0m\u001b[0;34m,\u001b[0m \u001b[0mx\u001b[0m\u001b[0;34m)\u001b[0m \u001b[0;34m-\u001b[0m \u001b[0mpow\u001b[0m\u001b[0;34m(\u001b[0m\u001b[0mx\u001b[0m\u001b[0;34m,\u001b[0m \u001b[0mc\u001b[0m\u001b[0;34m)\u001b[0m\u001b[0;34m\u001b[0m\u001b[0;34m\u001b[0m\u001b[0m\n\u001b[0m\u001b[1;32m   1976\u001b[0m \u001b[0;34m\u001b[0m\u001b[0m\n\u001b[1;32m   1977\u001b[0m     \u001b[0;32mdef\u001b[0m \u001b[0m_cdf\u001b[0m\u001b[0;34m(\u001b[0m\u001b[0mself\u001b[0m\u001b[0;34m,\u001b[0m \u001b[0mx\u001b[0m\u001b[0;34m,\u001b[0m \u001b[0mc\u001b[0m\u001b[0;34m)\u001b[0m\u001b[0;34m:\u001b[0m\u001b[0;34m\u001b[0m\u001b[0;34m\u001b[0m\u001b[0m\n",
      "\u001b[0;31mKeyboardInterrupt\u001b[0m: "
     ]
    }
   ],
   "source": [
    "# --------------------------------------\n",
    "#  Climate Emulator simulation\n",
    "\n",
    "# each DWT series will generate a different set of waves\n",
    "for n in DWTs_sim.n_sim:\n",
    "    print('- Sim: {0} -'.format(int(n)+1))\n",
    "    \n",
    "    # Select DWTs simulation\n",
    "    DWTs = DWTs_sim.sel(n_sim=n)\n",
    "\n",
    "    # Simulate waves\n",
    "    n_ce = 1  # (one CE sim. for each DWT sim.)\n",
    "    WVS_sim = CE.Simulate_Waves(DWTs, n_ce, filters={'hs':True, 'tp':True, 'ws':True})\n",
    "\n",
    "    # Simulate TCs and update simulated waves\n",
    "    TCs_sim_N, WVS_upd_N = CE.Simulate_TCs(DWTs, WVS_sim, TCs_params, TCs_RBFs_N, pchange_TCs, MU_WT_N, TAU_WT_N)\n",
    "    TCs_sim_S, WVS_upd_S = CE.Simulate_TCs(DWTs, WVS_sim, TCs_params, TCs_RBFs_S, pchange_TCs, MU_WT_S, TAU_WT_S)\n",
    "    TCs_sim_E, WVS_upd_E = CE.Simulate_TCs(DWTs, WVS_sim, TCs_params, TCs_RBFs_E, pchange_TCs, MU_WT_E, TAU_WT_E)\n",
    "    \n",
    "    # store simulation data\n",
    "    CE.SaveSim(WVS_sim, TCs_sim_N, WVS_upd_N, int(n))\n",
    "    \n",
    "    sys.exit()\n",
    "    "
   ]
  },
  {
   "cell_type": "markdown",
   "metadata": {},
   "source": [
    "\n",
    "## Climate Emulator Simulation Validation"
   ]
  },
  {
   "cell_type": "code",
   "execution_count": null,
   "metadata": {},
   "outputs": [],
   "source": [
    "# --------------------------------------\n",
    "# Select Simulation to plot\n",
    "\n",
    "# 2 levels of simulation now:\n",
    "n_sim_DWTs = 0  # switch DWTs Simulation (used at CE Sim.)\n",
    "n_sim_CE = 0    # switch WAVES Simulation (generated from CE Sim.)\n",
    "\n",
    "# Load Waves simulated for DWTs set number \"n_sim_DWTs\"\n",
    "WVS_sim, TCs_sim, WVS_upd = CE.LoadSim(n_sim = n_sim_DWTs)\n",
    "\n",
    "# only one climate emulator simulation\n",
    "WVS_sim = WVS_sim.isel(n_sim = n_sim_CE)\n",
    "TCs_sim = TCs_sim.isel(n_sim = n_sim_CE)\n",
    "WVS_upd = WVS_upd.isel(n_sim = n_sim_CE)\n",
    "\n",
    "\n",
    "# select data\n",
    "WVS_fit_p = CE.WVS_MS\n",
    "WVS_sim_p = WVS_upd  # with simulated TCs\n"
   ]
  },
  {
   "cell_type": "markdown",
   "metadata": {},
   "source": [
    "\n",
    "## Climate Emulator Validation: Waves Families Variables"
   ]
  },
  {
   "cell_type": "code",
   "execution_count": null,
   "metadata": {},
   "outputs": [],
   "source": [
    "# Plot simulated waves parameters distribution \n",
    "Plot_Waves_Histogram_FitSim(WVS_fit_p, WVS_sim_p);\n"
   ]
  },
  {
   "cell_type": "code",
   "execution_count": null,
   "metadata": {},
   "outputs": [],
   "source": [
    "# Plot simulated extra variables (if any)\n",
    "#extra_vars = ['sea_Dir', 'swell_1_Hs', 'swell_2_Tp']  # example\n",
    "#Plot_FitSim_Histograms(\n",
    "#    WVS_fit_p, WVS_sim_p, extra_vars, density=True,\n",
    "#    color_1='white', color_2='palevioletred',\n",
    "#);\n"
   ]
  },
  {
   "cell_type": "markdown",
   "metadata": {},
   "source": [
    "\n",
    "## Climate Emulator Validation: Hs families"
   ]
  },
  {
   "cell_type": "code",
   "execution_count": null,
   "metadata": {},
   "outputs": [],
   "source": [
    "# waves families Hs\n",
    "vvs = ['sea_Hs', 'swell_1_Hs', 'swell_2_Hs']\n",
    "\n",
    "# histograms comparison\n",
    "Plot_FitSim_Histograms(\n",
    "    WVS_fit_p, WVS_sim_p, vvs, density=True,\n",
    "    color_1='indigo', color_2='palevioletred',\n",
    ");\n"
   ]
  },
  {
   "cell_type": "code",
   "execution_count": null,
   "metadata": {},
   "outputs": [],
   "source": [
    "# plot selection\n",
    "vns_lims = {\n",
    "    'sea_Hs':(2, 30),\n",
    "    'swell_1_Hs':(2, 30),\n",
    "    'swell_2_Hs':(3, 30),\n",
    "\n",
    "}\n",
    "\n",
    "Plot_FitSim_Histograms(\n",
    "    WVS_fit_p, WVS_sim_p, vvs, density=True,\n",
    "    color_1='indigo', color_2='palevioletred',\n",
    "    vns_lims=vns_lims,\n",
    ");\n"
   ]
  },
  {
   "cell_type": "code",
   "execution_count": null,
   "metadata": {},
   "outputs": [],
   "source": [
    "# annual maxima comparison\n",
    "Plot_FitSim_AnnualMax(\n",
    "    WVS_fit_p, WVS_sim_p, vvs,\n",
    "    color_1='mediumvioletred', color_2='indigo',\n",
    ");\n"
   ]
  },
  {
   "cell_type": "code",
   "execution_count": null,
   "metadata": {},
   "outputs": [],
   "source": [
    "# GEV fit - sim comparison and QQ plot\n",
    "\n",
    "Plot_FitSim_GevFit(\n",
    "    WVS_fit_p, WVS_sim_p, 'sea_Hs', CE.GEV_Par, CE.KMA_MS,\n",
    "    alpha_1=0.7, alpha_2=0.5, n_bins=30,\n",
    "    color_1='indigo', color_2='plum',\n",
    "    gs_1 = 6, gs_2 = 6, n_clusters = 36, vlim=1.5,\n",
    ");\n",
    "\n",
    "Plot_Fit_QQ(\n",
    "    WVS_fit_p, 'sea_Hs', CE.GEV_Par, CE.KMA_MS,\n",
    "    gs_1 = 6, gs_2 = 6, n_clusters = 36,\n",
    ");\n",
    "\n",
    "\n",
    "# TODO\n",
    "#CE.Report_Sim_GevFit(WVS_sim_p, 'swell_1_Hs') ?\n"
   ]
  },
  {
   "cell_type": "code",
   "execution_count": null,
   "metadata": {},
   "outputs": [],
   "source": [
    "Plot_FitSim_GevFit(\n",
    "    WVS_fit_p, WVS_sim_p, 'swell_1_Hs', CE.GEV_Par, CE.KMA_MS,\n",
    "    alpha_1=0.7, alpha_2=0.5, n_bins=30,\n",
    "    color_1='indigo', color_2='plum',\n",
    "    gs_1 = 6, gs_2 = 6, n_clusters = 36, vlim=4,\n",
    ");\n",
    "\n",
    "Plot_Fit_QQ(\n",
    "    WVS_fit_p, 'swell_1_Hs', CE.GEV_Par, CE.KMA_MS,\n",
    "    gs_1 = 6, gs_2 = 6, n_clusters = 36,\n",
    ");\n"
   ]
  },
  {
   "cell_type": "code",
   "execution_count": null,
   "metadata": {
    "scrolled": false
   },
   "outputs": [],
   "source": [
    "Plot_FitSim_GevFit(\n",
    "    WVS_fit_p, WVS_sim_p, 'swell_2_Hs', CE.GEV_Par, CE.KMA_MS,\n",
    "    alpha_1=0.7, alpha_2=0.5, n_bins=30,\n",
    "    color_1='indigo', color_2='plum',\n",
    "    gs_1 = 6, gs_2 = 6, n_clusters = 36, vlim=4,\n",
    ");\n",
    "\n",
    "Plot_Fit_QQ(\n",
    "    WVS_fit_p, 'swell_2_Hs', CE.GEV_Par, CE.KMA_MS,\n",
    "    gs_1 = 6, gs_2 = 6, n_clusters = 36,\n",
    ");\n"
   ]
  },
  {
   "cell_type": "markdown",
   "metadata": {},
   "source": [
    "\n",
    "## Climate Emulator Validation: Tp families"
   ]
  },
  {
   "cell_type": "code",
   "execution_count": null,
   "metadata": {},
   "outputs": [],
   "source": [
    "# waves families Tp\n",
    "vvs = ['sea_Tp', 'swell_1_Tp', 'swell_2_Tp']\n",
    "\n",
    "# histograms comparison\n",
    "Plot_FitSim_Histograms(\n",
    "    WVS_fit_p, WVS_sim_p, vvs, density=True,\n",
    "    color_1='indigo', color_2='palevioletred',\n",
    ");\n"
   ]
  },
  {
   "cell_type": "code",
   "execution_count": null,
   "metadata": {
    "scrolled": false
   },
   "outputs": [],
   "source": [
    "# plot selection\n",
    "vns_lims = {\n",
    "    'sea_Tp':(14, 30),\n",
    "    'swell_1_Tp':(16, 30),\n",
    "    'swell_2_Tp':(11, 30),\n",
    "\n",
    "}\n",
    "\n",
    "Plot_FitSim_Histograms(\n",
    "    WVS_fit_p, WVS_sim_p, vvs, density=True,\n",
    "    color_1='indigo', color_2='palevioletred',\n",
    "    vns_lims=vns_lims,\n",
    ");\n"
   ]
  },
  {
   "cell_type": "code",
   "execution_count": null,
   "metadata": {},
   "outputs": [],
   "source": [
    "# annual maxima comparison\n",
    "Plot_FitSim_AnnualMax(\n",
    "    WVS_fit_p, WVS_sim_p, vvs,\n",
    "    color_1='mediumvioletred', color_2='indigo',\n",
    ");\n"
   ]
  },
  {
   "cell_type": "code",
   "execution_count": null,
   "metadata": {},
   "outputs": [],
   "source": [
    "# GEV fit comparison\n",
    "Plot_FitSim_GevFit(\n",
    "    WVS_fit_p, WVS_sim_p, 'swell_1_Tp', CE.GEV_Par, CE.KMA_MS,\n",
    "    alpha_1=0.7, alpha_2=0.5, n_bins=30,\n",
    "    color_1='indigo', color_2='plum',\n",
    "    gs_1 = 6, gs_2 = 6, n_clusters = 36, vlim=20,\n",
    ");\n",
    "\n",
    "Plot_Fit_QQ(\n",
    "    WVS_fit_p, 'swell_1_Tp', CE.GEV_Par, CE.KMA_MS,\n",
    "    gs_1 = 6, gs_2 = 6, n_clusters = 36,\n",
    ");\n"
   ]
  },
  {
   "cell_type": "code",
   "execution_count": null,
   "metadata": {
    "scrolled": false
   },
   "outputs": [],
   "source": [
    "Plot_FitSim_GevFit(\n",
    "    WVS_fit_p, WVS_sim_p, 'swell_2_Tp', CE.GEV_Par, CE.KMA_MS,\n",
    "    alpha_1=0.7, alpha_2=0.5, n_bins=30,\n",
    "    color_1='indigo', color_2='plum',\n",
    "    gs_1 = 6, gs_2 = 6, n_clusters = 36, vlim=20,\n",
    ");\n",
    "\n",
    "Plot_Fit_QQ(\n",
    "    WVS_fit_p, 'swell_2_Tp', CE.GEV_Par, CE.KMA_MS,\n",
    "    gs_1 = 6, gs_2 = 6, n_clusters = 36,\n",
    ");"
   ]
  },
  {
   "cell_type": "markdown",
   "metadata": {},
   "source": [
    "\n",
    "## Climate Emulator Validation: Aggregated Waves Hs and Tp"
   ]
  },
  {
   "cell_type": "code",
   "execution_count": null,
   "metadata": {},
   "outputs": [],
   "source": [
    "\n",
    "# Aggregate Waves Families\n",
    "WVS_fit_agr = Aggregate_WavesFamilies(WVS_fit_p, a_tp='max_energy')\n",
    "WVS_sim_agr = Aggregate_WavesFamilies(WVS_sim_p, a_tp='max_energy')\n",
    "\n",
    "# Calculate AWL\n",
    "WVS_fit_agr['AWL'] = AWL(WVS_fit_agr['Hs'], WVS_fit_agr['Tp'])\n",
    "WVS_sim_agr['AWL'] = AWL(WVS_sim_agr['Hs'], WVS_sim_agr['Tp'])\n"
   ]
  },
  {
   "cell_type": "code",
   "execution_count": null,
   "metadata": {},
   "outputs": [],
   "source": [
    "# Plot independent Annual Maxima\n",
    "Plot_FitSim_AnnualMax(\n",
    "    WVS_fit_agr, WVS_sim_agr, ['Hs', 'Tp'],\n",
    "    color_1='mediumvioletred', color_2='indigo',\n",
    ");\n"
   ]
  },
  {
   "cell_type": "markdown",
   "metadata": {},
   "source": [
    "\n",
    "## Climate Emulator Validation: AWL and marginal Hs, Tp"
   ]
  },
  {
   "cell_type": "code",
   "execution_count": null,
   "metadata": {},
   "outputs": [],
   "source": [
    "# TODO plot percentiles (como en nb14)\n",
    "\n",
    "# Plot AWL and marginals (Hs, Tp) Annual Maxima\n",
    "Plot_FitSim_AnnualMax(\n",
    "    WVS_fit_agr, WVS_sim_agr, ['AWL', 'Hs', 'Tp'], vn_max='AWL',\n",
    "    color_1='mediumvioletred', color_2='indigo',\n",
    ");\n"
   ]
  },
  {
   "cell_type": "code",
   "execution_count": null,
   "metadata": {},
   "outputs": [],
   "source": []
  }
 ],
 "metadata": {
  "kernelspec": {
   "display_name": "Python 3",
   "language": "python",
   "name": "python3"
  },
  "language_info": {
   "codemirror_mode": {
    "name": "ipython",
    "version": 3
   },
   "file_extension": ".py",
   "mimetype": "text/x-python",
   "name": "python",
   "nbconvert_exporter": "python",
   "pygments_lexer": "ipython3",
   "version": "3.7.2"
  }
 },
 "nbformat": 4,
 "nbformat_minor": 2
}
