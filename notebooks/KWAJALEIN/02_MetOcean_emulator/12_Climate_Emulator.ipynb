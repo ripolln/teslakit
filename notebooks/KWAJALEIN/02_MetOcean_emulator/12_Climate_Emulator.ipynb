{
 "cells": [
  {
   "cell_type": "markdown",
   "metadata": {},
   "source": [
    "\n",
    "... ***CURRENTLY UNDER DEVELOPMENT*** ...\n"
   ]
  },
  {
   "cell_type": "markdown",
   "metadata": {},
   "source": [
    "## Obtain synthetic waves and water level timeseries\n",
    "\n",
    "inputs required: \n",
    "  * Historical DWTs\n",
    "  * Historical AWT and IWT\n",
    "  * Synthetic timeseries of AWT and IWT\n",
    "  * Historical wave families \n",
    "  * Historical intradaily hydrograph parameters\n",
    "  * TCs waves\n",
    "  * Historical runup at 3 locations\n",
    "  \n",
    "in this notebook:\n",
    "  * Fit a multivariate extreme model for the waves associated to each DWT\n",
    "  * Generate synthetic time series of wave conditions\n",
    "  * Validate the synthetic waves by means of mean distributions\n"
   ]
  },
  {
   "cell_type": "markdown",
   "metadata": {},
   "source": [
    "\n",
    "### Workflow:\n",
    "\n",
    "<div>\n",
    "<img src=\"resources/nb01_12.png\" width=\"400px\">\n",
    "</div>\n",
    "\n",
    "\n",
    "\n",
    "The **synthetic generation of wave conditions on a regular climate** (DWT1-36) is based on the work of Rueda et al. 2017. The probability of SW1, SW2, and SEA components being present (1) or not present (0) at the time of observed peak TWLproxy was used to create eight potential sea-states within each DWT (000, 100, 010, 001, 110, 101, 011, 111) defined by Bernoulli distributions . For each hydrograph produced in the simulations of climate, a random pick from the appropriate Bernoulli distribution determined which sea state was present during that hydrograph. A subsequent random pick from the assigned sea state’s marginal distributions defined the waves at the maximum TWL peak within the simulated hydrograph.\n",
    "\n",
    "The marginal distributions of waves and surge levels were associated with each other using multivariate gaussian copulas. The copulas define the dependence structure, or joint probabilities, between each environmental parameter within a sea state by identifying correlation matrices after transforming each marginal distribution to a uniform distribution. Identifying the correlation across all parameters through the copulas ensures that realistic combinations of compounding environmental parameters are present in the hypothetical time series (i.e., large storm waves approach from appropriate wave directions) (Masina et al. 2015; Corbella & Stretch, 2013). The marginal distributions of wave heights were defined by GEVs to allow for simulation of extremes with longer return periods than the observation period, while wave periods and directions were defined by empirical distributions constructed from observations. \n",
    "\n",
    "Additional parameters including τ (timing of the peak TWL within a hydrograph) and μ (area under the hydrograph) were also added to each copula and randomly sampled for each simulated hydrograph. The two parameters effectively define a trapezoidal shape for each simulated hydrograph, analogous to the storm schematization of other recent works (e.g., Poelhekke et al., 2016). Including these parameters in the copulas accounts for correlation between storminess and hydrograph shape (peaky hydrographs are commonly associated with storm conditions while more flat hydrographs typically occur during calmer conditions). The shape of the simulated hydrograph will be use to interpolate to an hourly value of the TWLproxy, and subsequently an hourly value of wave conditions *(notebook 14)*\n",
    "\n",
    "In the case on **waves associated to a TC event**, the associated simulated waves from WWIII simulation that have been reconstructed in *notebook 07* are use whenever the simulated TC enters the 4 degrees radio.\n",
    "\n",
    "\n"
   ]
  },
  {
   "cell_type": "code",
   "execution_count": 1,
   "metadata": {},
   "outputs": [],
   "source": [
    "#!/usr/bin/env python\n",
    "# -*- coding: utf-8 -*-\n",
    "\n",
    "# common\n",
    "import os\n",
    "import os.path as op\n",
    "\n",
    "# pip\n",
    "import numpy as np\n",
    "import xarray as xr\n",
    "import pandas as pd\n",
    "from datetime import datetime\n",
    "import matplotlib.pyplot as plt\n",
    "\n",
    "# DEV: override installed teslakit\n",
    "import sys\n",
    "sys.path.insert(0, op.join(os.path.abspath(''), '..', '..', '..'))\n",
    "\n",
    "# teslakit\n",
    "from teslakit.database import Database\n",
    "from teslakit.climate_emulator import Climate_Emulator\n",
    "from teslakit.waves import AWL, Aggregate_WavesFamilies\n",
    "\n",
    "from teslakit.plotting.outputs import Plot_FitSim_Histograms\n",
    "from teslakit.plotting.extremes import Plot_FitSim_AnnualMax, Plot_FitSim_GevFit, Plot_Fit_QQ\n",
    "\n",
    "from teslakit.plotting.waves import Plot_Waves_Histogram_FitSim\n"
   ]
  },
  {
   "cell_type": "markdown",
   "metadata": {},
   "source": [
    "\n",
    "## Database and Site parameters"
   ]
  },
  {
   "cell_type": "code",
   "execution_count": 2,
   "metadata": {},
   "outputs": [],
   "source": [
    "# --------------------------------------\n",
    "# Teslakit database\n",
    "\n",
    "p_data = r'/Users/albacid/Projects/TeslaKit_projects'\n",
    "\n",
    "db = Database(p_data)\n",
    "\n",
    "# set site\n",
    "db.SetSite('KWAJALEIN_emulator')\n"
   ]
  },
  {
   "cell_type": "code",
   "execution_count": 7,
   "metadata": {
    "scrolled": false
   },
   "outputs": [
    {
     "ename": "NameError",
     "evalue": "name 'TCs_RBFs_' is not defined",
     "output_type": "error",
     "traceback": [
      "\u001b[0;31m---------------------------------------------------------------------------\u001b[0m",
      "\u001b[0;31mNameError\u001b[0m                                 Traceback (most recent call last)",
      "\u001b[0;32m<ipython-input-7-a6588dc13cc0>\u001b[0m in \u001b[0;36m<module>\u001b[0;34m\u001b[0m\n\u001b[1;32m     34\u001b[0m \u001b[0mTCs_RBFs_E\u001b[0m \u001b[0;34m=\u001b[0m \u001b[0mxr\u001b[0m\u001b[0;34m.\u001b[0m\u001b[0mopen_dataset\u001b[0m\u001b[0;34m(\u001b[0m\u001b[0mop\u001b[0m\u001b[0;34m.\u001b[0m\u001b[0mjoin\u001b[0m\u001b[0;34m(\u001b[0m\u001b[0mp_data\u001b[0m\u001b[0;34m,\u001b[0m \u001b[0;34m'sites/KWAJALEIN_emulator/TCs/TCs_sim_r2_RBF_output_E.nc'\u001b[0m\u001b[0;34m)\u001b[0m\u001b[0;34m)\u001b[0m  \u001b[0;31m# TCs numerical-RBFs_interpolation output\u001b[0m\u001b[0;34m\u001b[0m\u001b[0;34m\u001b[0m\u001b[0m\n\u001b[1;32m     35\u001b[0m \u001b[0;34m\u001b[0m\u001b[0m\n\u001b[0;32m---> 36\u001b[0;31m \u001b[0mprint\u001b[0m\u001b[0;34m(\u001b[0m\u001b[0mTCs_RBFs_\u001b[0m\u001b[0;34m)\u001b[0m\u001b[0;34m\u001b[0m\u001b[0;34m\u001b[0m\u001b[0m\n\u001b[0m\u001b[1;32m     37\u001b[0m \u001b[0msys\u001b[0m\u001b[0;34m.\u001b[0m\u001b[0mexit\u001b[0m\u001b[0;34m(\u001b[0m\u001b[0;34m)\u001b[0m\u001b[0;34m\u001b[0m\u001b[0;34m\u001b[0m\u001b[0m\n\u001b[1;32m     38\u001b[0m \u001b[0mprobs_TCs\u001b[0m \u001b[0;34m=\u001b[0m  \u001b[0mdb\u001b[0m\u001b[0;34m.\u001b[0m\u001b[0mLoad_TCs_probs_synth\u001b[0m\u001b[0;34m(\u001b[0m\u001b[0;34m)\u001b[0m      \u001b[0;31m# TCs synthetic probabilities\u001b[0m\u001b[0;34m\u001b[0m\u001b[0;34m\u001b[0m\u001b[0m\n",
      "\u001b[0;31mNameError\u001b[0m: name 'TCs_RBFs_' is not defined"
     ]
    }
   ],
   "source": [
    "# --------------------------------------\n",
    "# Load data for climate emulator fitting: waves partitions and families, KMA, DWT\n",
    "\n",
    "WVS = db.Load_WAVES_hist()      # Historical gow waves point\n",
    "#WVS = xr.open_dataset('/Users/albacid/Downloads/waves_historical_albaR.nc')\n",
    "#WVS['time'] = WVS['time'].dt.round('H')\n",
    "#WVS['TC_category'] = kk.TC_category\n",
    "\n",
    "\n",
    "KMA = db.Load_ESTELA_KMA()      # ESTELA predictor KMA\n",
    "\n",
    "# prepare KMA data \n",
    "DWTs_fit = xr.Dataset(\n",
    "    {\n",
    "        'bmus'       : ('time', KMA['sorted_bmus_storms'].values[:] + 1),\n",
    "        'cenEOFs'    : (('n_clusters', 'n_features',), KMA['cenEOFs'].values[:]),\n",
    "    },\n",
    "    coords = {'time' : KMA['time'].values[:]}\n",
    ")\n",
    "\n",
    "\n",
    "# --------------------------------------\n",
    "# Load data for climate emulator simulation (Simulate_Waves): ESTELA DWT \n",
    "\n",
    "DWTs_sim = db.Load_ESTELA_DWT_sim()\n",
    "\n",
    "\n",
    "# --------------------------------------\n",
    "# Load data for climate emulator simulation (Simulate_TCs): TCs (MU, TAU) for N, S & E\n",
    "TCs_params = db.Load_TCs_r2_sim_params()    # TCs parameters (copula generated) \n",
    "\n",
    "#TCs_RBFs_N = xr.open_dataset(op.join(p_data, 'sites/KWAJALEIN_emulator/TCs/TCs_sim_r2_RBF_output_N.nc'))  # TCs numerical-RBFs_interpolation output\n",
    "#TCs_RBFs_S = xr.open_dataset(op.join(p_data, 'sites/KWAJALEIN_emulator/TCs/TCs_sim_r2_RBF_output_S.nc'))  # TCs numerical-RBFs_interpolation output\n",
    "TCs_RBFs_E = xr.open_dataset(op.join(p_data, 'sites/KWAJALEIN_emulator/TCs/TCs_sim_r2_RBF_output_E.nc'))  # TCs numerical-RBFs_interpolation output\n",
    "\n",
    "probs_TCs =  db.Load_TCs_probs_synth()      # TCs synthetic probabilities\n",
    "pchange_TCs = probs_TCs['category_change_cumsum'].values[:]\n",
    "\n",
    "#l_mutau_wt_N = db.Load_MU_TAU_hydrograms(location = 'N')   # MU - TAU intradaily hidrographs for each DWT\n",
    "#l_mutau_wt_S = db.Load_MU_TAU_hydrograms(location = 'S')   # MU - TAU intradaily hidrographs for each DWT\n",
    "l_mutau_wt_E = db.Load_MU_TAU_hydrograms(location = 'E')   # MU - TAU intradaily hidrographs for each DWT\n",
    "\n",
    "#MU_WT_N = np.array([x.MU.values[:] for x in l_mutau_wt_N])  # MU and TAU numpy arrays\n",
    "#TAU_WT_N = np.array([x.TAU.values[:] for x in l_mutau_wt_N])\n",
    "#MU_WT_S = np.array([x.MU.values[:] for x in l_mutau_wt_S])  # MU and TAU numpy arrays\n",
    "#TAU_WT_S = np.array([x.TAU.values[:] for x in l_mutau_wt_S])\n",
    "MU_WT_E = np.array([x.MU.values[:] for x in l_mutau_wt_E])  # MU and TAU numpy arrays\n",
    "TAU_WT_E = np.array([x.TAU.values[:] for x in l_mutau_wt_E])\n"
   ]
  },
  {
   "cell_type": "code",
   "execution_count": 8,
   "metadata": {},
   "outputs": [
    {
     "name": "stdout",
     "output_type": "stream",
     "text": [
      "<xarray.Dataset>\n",
      "Dimensions:  (storm: 10159)\n",
      "Coordinates:\n",
      "  * storm    (storm) int64 0 1 2 3 4 5 6 ... 10153 10154 10155 10156 10157 10158\n",
      "Data variables:\n",
      "    hs       (storm) float64 ...\n",
      "    tp       (storm) float64 ...\n",
      "    dir      (storm) float64 ...\n",
      "    ss       (storm) float64 ...\n",
      "    twl      (storm) float64 ...\n",
      "    mu       (storm) float64 ...\n",
      "    tau      (storm) float64 ...\n",
      "Attributes:\n",
      "    source:   teslakit_v0.9.1\n"
     ]
    },
    {
     "ename": "SystemExit",
     "evalue": "",
     "output_type": "error",
     "traceback": [
      "An exception has occurred, use %tb to see the full traceback.\n",
      "\u001b[0;31mSystemExit\u001b[0m\n"
     ]
    }
   ],
   "source": [
    "\n",
    "print(TCs_RBFs_E)\n",
    "sys.exit()"
   ]
  },
  {
   "cell_type": "code",
   "execution_count": 4,
   "metadata": {},
   "outputs": [
    {
     "name": "stdout",
     "output_type": "stream",
     "text": [
      "<xarray.Dataset>\n",
      "Dimensions:    (time: 359401)\n",
      "Coordinates:\n",
      "  * time       (time) datetime64[ns] 1979-01-01 ... 2020-01-01\n",
      "Data variables:\n",
      "    runup_N    (time) float64 0.8017 0.7133 0.6826 ... 0.7547 0.8026 0.8478\n",
      "    runup_S    (time) float64 0.0 0.4745 0.6168 0.7801 ... 1.738 2.594 2.601\n",
      "    runup_E    (time) float64 0.0 0.5804 0.8814 1.114 ... 1.855 2.357 2.368\n",
      "    runup_max  (time) float64 0.8017 0.7133 0.8814 1.114 ... 1.855 2.594 2.601\n",
      "\n",
      "<xarray.Dataset>\n",
      "Dimensions:    (time: 359401)\n",
      "Coordinates:\n",
      "  * time       (time) datetime64[ns] 1979-01-01 ... 2020-01-01\n",
      "    longitude  float32 168.0\n",
      "    latitude   float32 8.0\n",
      "Data variables:\n",
      "    SLP        (time) float64 ...\n",
      "\n",
      "<xarray.Dataset>\n",
      "Dimensions:  (time: 362304)\n",
      "Coordinates:\n",
      "  * time     (time) datetime64[ns] 1979-01-01 ... 2020-04-30T23:00:00\n",
      "Data variables:\n",
      "    w        (time) float64 11.69 11.64 11.58 11.58 ... 10.51 10.13 10.44 10.68\n",
      "    wdir     (time) float64 54.62 59.44 61.1 61.5 ... 64.94 65.98 60.83 59.95\n"
     ]
    }
   ],
   "source": [
    "# --------------------------------------\n",
    "# Load runup as proxy variable for max. storms\n",
    "\n",
    "runup_N = xr.open_dataset('/Users/albacid/Projects/TeslaKit_projects/sites/KWAJALEIN_emulator/HYCREWW/hist_runup_N.nc')\n",
    "runup_S = xr.open_dataset('/Users/albacid/Projects/TeslaKit_projects/sites/KWAJALEIN_emulator/HYCREWW/hist_runup_S.nc')\n",
    "runup_E = xr.open_dataset('/Users/albacid/Projects/TeslaKit_projects/sites/KWAJALEIN_emulator/HYCREWW/hist_runup_E.nc')\n",
    "\n",
    "runup_N = runup_N.drop({'level','hs_lo2','rslope','bslope','rwidth', 'cf','hs','tp','dir'})\n",
    "runup_S = runup_S.drop({'level','hs_lo2','rslope','bslope','rwidth', 'cf','hs','tp','dir'})\n",
    "runup_E = runup_E.drop({'level','hs_lo2','rslope','bslope','rwidth', 'cf','hs','tp','dir'})\n",
    "\n",
    "runup_N = runup_N.rename({'runup':'runup_N'})\n",
    "runup_S = runup_S.rename({'runup':'runup_S'})\n",
    "runup_E = runup_E.rename({'runup':'runup_E'})\n",
    "\n",
    "runup = xr.merge([runup_N, runup_S, runup_E])\n",
    "\n",
    "\n",
    "# WORST runup from the 3 profiles    \n",
    "runup['runup_max'] = (('time'),np.nanmax(np.vstack((runup.runup_N.values, runup.runup_S.values, runup.runup_E.values)), axis=0))\n",
    "print(runup)\n",
    "print()\n",
    "\n",
    "\n",
    "# --------------------------------------\n",
    "# Load SLP and Wind to include in the emulator\n",
    "\n",
    "# SLP\n",
    "press = db.Load_ESTELA_SLP()                \n",
    "\n",
    "# Kwajalein: pnt_lon = 167.73, pnt_lat = 8.66\n",
    "lonp = 168 # closest coordinates in SLP dataset\n",
    "latp = 8\n",
    "\n",
    "# select closest grid point to Site\n",
    "press = press.sel(longitude = lonp, latitude = latp) \n",
    "\n",
    "\n",
    "# WIND\n",
    "wind = pd.read_pickle('/Users/albacid/Projects/SERDP/inputs_Kwajalein/wind.pkl')\n",
    "wind = wind.to_xarray()\n",
    "\n",
    "print(press)\n",
    "print()\n",
    "print(wind)\n"
   ]
  },
  {
   "cell_type": "code",
   "execution_count": 5,
   "metadata": {},
   "outputs": [
    {
     "name": "stdout",
     "output_type": "stream",
     "text": [
      "<xarray.Dataset>\n",
      "Dimensions:      (n_sim: 10, time: 365244)\n",
      "Coordinates:\n",
      "  * time         (time) object 2000-01-01 00:00:00 ... 3000-01-01 00:00:00\n",
      "Dimensions without coordinates: n_sim\n",
      "Data variables:\n",
      "    evbmus_sims  (time, n_sim) float32 ...\n",
      "Attributes:\n",
      "    source:   teslakit_v0.9.1\n"
     ]
    }
   ],
   "source": [
    "# solve first 10 DWTs simulations\n",
    "\n",
    "DWTs_sim = DWTs_sim.isel(n_sim=slice(0, 10))\n",
    "\n",
    "print(DWTs_sim)\n"
   ]
  },
  {
   "cell_type": "markdown",
   "metadata": {},
   "source": [
    "\n",
    "## Climate Emulator - Fitting"
   ]
  },
  {
   "cell_type": "code",
   "execution_count": 6,
   "metadata": {},
   "outputs": [],
   "source": [
    "# Waves and KMA bmus data share time limits\n",
    "WVS_fit = WVS.sel(time = slice(DWTs_fit.time[0], DWTs_fit.time[-1]))\n",
    "\n",
    "runup = runup.sel(time=slice(DWTs_fit.time[0], DWTs_fit.time[-1]))\n",
    "\n",
    "press = press.sel(time=slice(DWTs_fit.time[0], DWTs_fit.time[-1]))\n",
    "wind = wind.sel(time=slice(DWTs_fit.time[0], DWTs_fit.time[-1]))\n",
    "\n",
    "\n",
    "# add extra data to WAVES dataset\n",
    "\n",
    "#WVS_fit['AWL'] = AWL(WVS_fit['Hs'], WVS_fit['Tp']) # Waves AWL proxy variable for max. storms\n",
    "WVS_fit['runup'] = (('time'), runup.runup_max) # Waves runup proxy variable for max. storms\n",
    "WVS_fit['wind_speed'] = (('time'), wind.w)\n",
    "WVS_fit['wind_dir'] = (('time'), wind.wdir)\n",
    "WVS_fit['mslp'] = (('time'), press.SLP)\n",
    "\n",
    "print(WVS_fit)"
   ]
  },
  {
   "cell_type": "code",
   "execution_count": 7,
   "metadata": {
    "scrolled": false
   },
   "outputs": [],
   "source": [
    "# --------------------------------------\n",
    "# Climate Emulator extremes model fitting\n",
    "\n",
    "# climate emulator object\n",
    "CE = Climate_Emulator(db.paths.site.EXTREMES.climate_emulator)\n",
    "\n",
    "# Fit extremes model\n",
    "config = {\n",
    "    'waves_families': ['sea', 'swell_1', 'swell_2'],\n",
    "    'extra_variables': ['wind_speed', 'wind_dir', 'mslp'],\n",
    "    'distribution': [\n",
    "        ('sea_Tp', 'Empirical'),\n",
    "        ('wind_dir', 'Empirical'),\n",
    "        ('mslp', 'Empirical'),\n",
    "        ('wind_speed', 'Weibull'),\n",
    "    ],\n",
    "    'do_chromosomes': False,\n",
    "}\n",
    "\n",
    "\n",
    "#CE.FitExtremes(DWTs_fit, WVS_fit, config, proxy='runup')\n",
    "\n",
    "# Load Climate Emulator (only need to Fit CE once)\n",
    "CE.Load()\n",
    "\n"
   ]
  },
  {
   "cell_type": "code",
   "execution_count": 8,
   "metadata": {
    "scrolled": false
   },
   "outputs": [
    {
     "data": {
      "image/png": "[encoded data removed]",
      "text/plain": [
       "<Figure size 1141.66x705.6 with 7 Axes>"
      ]
     },
     "metadata": {
      "needs_background": "light"
     },
     "output_type": "display_data"
    },
    {
     "data": {
      "image/png": "[encoded data removed]",
      "text/plain": [
       "<Figure size 1141.66x705.6 with 7 Axes>"
      ]
     },
     "metadata": {
      "needs_background": "light"
     },
     "output_type": "display_data"
    },
    {
     "data": {
      "image/png": "[encoded data removed]",
      "text/plain": [
       "<Figure size 1141.66x705.6 with 7 Axes>"
      ]
     },
     "metadata": {
      "needs_background": "light"
     },
     "output_type": "display_data"
    },
    {
     "data": {
      "image/png": "[encoded data removed]",
      "text/plain": [
       "<Figure size 1141.66x705.6 with 7 Axes>"
      ]
     },
     "metadata": {
      "needs_background": "light"
     },
     "output_type": "display_data"
    },
    {
     "data": {
      "image/png": "[encoded data removed]",
      "text/plain": [
       "<Figure size 1141.66x705.6 with 7 Axes>"
      ]
     },
     "metadata": {
      "needs_background": "light"
     },
     "output_type": "display_data"
    }
   ],
   "source": [
    "# Fit report figures\n",
    "\n",
    "CE.Report_Fit(vns_GEV=['Hs', 'Tp'], plot_chrom=False, plot_sigma=False);\n"
   ]
  },
  {
   "cell_type": "markdown",
   "metadata": {},
   "source": [
    "\n",
    "## Climate Emulator - Simulation"
   ]
  },
  {
   "cell_type": "code",
   "execution_count": 9,
   "metadata": {},
   "outputs": [],
   "source": [
    " # optional: list variables to override distribution to empirical\n",
    "CE.sim_icdf_empirical_override = ['sea_Hs_31',\n",
    "                                  'swell_1_Hs_1','swell_1_Tp_1',\n",
    "                                  'swell_1_Hs_2','swell_1_Tp_2',\n",
    "                                  'swell_1_Hs_7','swell_1_Tp_7', \n",
    "                                  'swell_1_Hs_13','swell_1_Tp_13', \n",
    "                                  'swell_1_Hs_19','swell_1_Tp_19',\n",
    "                                  'swell_1_Hs_25','swell_1_Tp_25',\n",
    "                                  'swell_1_Hs_26','swell_1_Tp_26',\n",
    "                                  'swell_1_Hs_31','swell_1_Tp_31',\n",
    "                                  'swell_1_Hs_32','swell_1_Tp_32',\n",
    "                                  'swell_1_Hs_33','swell_1_Tp_33',\n",
    "                                  'swell_1_Hs_36','swell_1_Tp_36',\n",
    "                                  'swell_2_Hs_31','swell_2_Tp_31']\n",
    "\n",
    "# set simulated waves min-max filter\n",
    "CE.sim_waves_filter.update({\n",
    "    'hs': (0, 8),\n",
    "    'tp': (2, 25),\n",
    "#    'ws': (0, 0.06),\n",
    "})\n"
   ]
  },
  {
   "cell_type": "code",
   "execution_count": 12,
   "metadata": {},
   "outputs": [
    {
     "name": "stdout",
     "output_type": "stream",
     "text": [
      "<xarray.Dataset>\n",
      "Dimensions:      (n_sim: 10, time: 36525)\n",
      "Coordinates:\n",
      "  * time         (time) object 2000-01-01 00:00:00 ... 2099-12-31 00:00:00\n",
      "Dimensions without coordinates: n_sim\n",
      "Data variables:\n",
      "    evbmus_sims  (time, n_sim) float32 ...\n",
      "Attributes:\n",
      "    source:   teslakit_v0.9.1\n"
     ]
    }
   ],
   "source": [
    "#DWTs_sim = DWTs_sim.isel(time=slice(0,365*100+25), n_sim=slice(0,1))\n",
    "#DWTs_sim = DWTs_sim.isel(time=slice(0,365*10), n_sim=slice(0,1))\n",
    "DWTs_sim = DWTs_sim.isel(time=slice(0,365*100+25))\n",
    "print(DWTs_sim)"
   ]
  },
  {
   "cell_type": "code",
   "execution_count": 13,
   "metadata": {
    "scrolled": false
   },
   "outputs": [
    {
     "name": "stdout",
     "output_type": "stream",
     "text": [
      "- Sim: 1 -\n"
     ]
    },
    {
     "name": "stderr",
     "output_type": "stream",
     "text": [
      "C.E: Sim. Waves: 100%|██████████| 10141/10141 [34:26<00:00,  4.91it/s] \n",
      "C.E: Sim. TCs  : 100%|██████████| 10141/10141 [00:00<00:00, 23137.26it/s]\n",
      "C.E: Sim. TCs  : 100%|██████████| 10141/10141 [00:00<00:00, 22627.53it/s]\n",
      "C.E: Sim. TCs  : 100%|██████████| 10141/10141 [00:00<00:00, 23193.15it/s]\n"
     ]
    },
    {
     "name": "stdout",
     "output_type": "stream",
     "text": [
      "- Sim: 2 -\n"
     ]
    },
    {
     "name": "stderr",
     "output_type": "stream",
     "text": [
      "C.E: Sim. Waves: 100%|██████████| 10434/10434 [35:32<00:00,  4.89it/s] \n",
      "C.E: Sim. TCs  : 100%|██████████| 10434/10434 [00:00<00:00, 23668.89it/s]\n",
      "C.E: Sim. TCs  : 100%|██████████| 10434/10434 [00:00<00:00, 23981.41it/s]\n",
      "C.E: Sim. TCs  : 100%|██████████| 10434/10434 [00:00<00:00, 24100.84it/s]\n"
     ]
    },
    {
     "name": "stdout",
     "output_type": "stream",
     "text": [
      "- Sim: 3 -\n"
     ]
    },
    {
     "name": "stderr",
     "output_type": "stream",
     "text": [
      "C.E: Sim. Waves: 100%|██████████| 10397/10397 [34:28<00:00,  5.03it/s] \n",
      "C.E: Sim. TCs  : 100%|██████████| 10397/10397 [00:00<00:00, 24039.19it/s]\n",
      "C.E: Sim. TCs  : 100%|██████████| 10397/10397 [00:00<00:00, 24128.67it/s]\n",
      "C.E: Sim. TCs  : 100%|██████████| 10397/10397 [00:00<00:00, 23812.91it/s]\n"
     ]
    },
    {
     "name": "stdout",
     "output_type": "stream",
     "text": [
      "- Sim: 4 -\n"
     ]
    },
    {
     "name": "stderr",
     "output_type": "stream",
     "text": [
      "C.E: Sim. Waves: 100%|██████████| 10175/10175 [32:05<00:00,  5.28it/s] \n",
      "C.E: Sim. TCs  : 100%|██████████| 10175/10175 [00:00<00:00, 23754.26it/s]\n",
      "C.E: Sim. TCs  : 100%|██████████| 10175/10175 [00:00<00:00, 23969.83it/s]\n",
      "C.E: Sim. TCs  : 100%|██████████| 10175/10175 [00:00<00:00, 23671.44it/s]\n"
     ]
    },
    {
     "name": "stdout",
     "output_type": "stream",
     "text": [
      "- Sim: 5 -\n"
     ]
    },
    {
     "name": "stderr",
     "output_type": "stream",
     "text": [
      "C.E: Sim. Waves: 100%|██████████| 10257/10257 [33:34<00:00,  5.09it/s] \n",
      "C.E: Sim. TCs  : 100%|██████████| 10257/10257 [00:00<00:00, 23087.58it/s]\n",
      "C.E: Sim. TCs  : 100%|██████████| 10257/10257 [00:00<00:00, 23662.59it/s]\n",
      "C.E: Sim. TCs  : 100%|██████████| 10257/10257 [00:00<00:00, 24095.96it/s]\n"
     ]
    },
    {
     "name": "stdout",
     "output_type": "stream",
     "text": [
      "- Sim: 6 -\n"
     ]
    },
    {
     "name": "stderr",
     "output_type": "stream",
     "text": [
      "C.E: Sim. Waves: 100%|██████████| 10508/10508 [35:20<00:00,  4.96it/s] \n",
      "C.E: Sim. TCs  : 100%|██████████| 10508/10508 [00:00<00:00, 23852.22it/s]\n",
      "C.E: Sim. TCs  : 100%|██████████| 10508/10508 [00:00<00:00, 21265.56it/s]\n",
      "C.E: Sim. TCs  : 100%|██████████| 10508/10508 [00:00<00:00, 23835.13it/s]\n"
     ]
    },
    {
     "name": "stdout",
     "output_type": "stream",
     "text": [
      "- Sim: 7 -\n"
     ]
    },
    {
     "name": "stderr",
     "output_type": "stream",
     "text": [
      "C.E: Sim. Waves: 100%|██████████| 10289/10289 [32:27<00:00,  5.28it/s] \n",
      "C.E: Sim. TCs  : 100%|██████████| 10289/10289 [00:00<00:00, 23709.99it/s]\n",
      "C.E: Sim. TCs  : 100%|██████████| 10289/10289 [00:00<00:00, 24443.43it/s]\n",
      "C.E: Sim. TCs  : 100%|██████████| 10289/10289 [00:00<00:00, 22354.22it/s]\n"
     ]
    },
    {
     "name": "stdout",
     "output_type": "stream",
     "text": [
      "- Sim: 8 -\n"
     ]
    },
    {
     "name": "stderr",
     "output_type": "stream",
     "text": [
      "C.E: Sim. Waves: 100%|██████████| 10167/10167 [35:28<00:00,  4.78it/s] \n",
      "C.E: Sim. TCs  : 100%|██████████| 10167/10167 [00:00<00:00, 23059.70it/s]\n",
      "C.E: Sim. TCs  : 100%|██████████| 10167/10167 [00:00<00:00, 23390.28it/s]\n",
      "C.E: Sim. TCs  : 100%|██████████| 10167/10167 [00:00<00:00, 22666.26it/s]\n"
     ]
    },
    {
     "name": "stdout",
     "output_type": "stream",
     "text": [
      "- Sim: 9 -\n"
     ]
    },
    {
     "name": "stderr",
     "output_type": "stream",
     "text": [
      "C.E: Sim. Waves: 100%|██████████| 10176/10176 [32:50<00:00,  5.16it/s] \n",
      "C.E: Sim. TCs  : 100%|██████████| 10176/10176 [00:00<00:00, 22976.30it/s]\n",
      "C.E: Sim. TCs  : 100%|██████████| 10176/10176 [00:00<00:00, 23026.17it/s]\n",
      "C.E: Sim. TCs  : 100%|██████████| 10176/10176 [00:00<00:00, 23474.32it/s]\n"
     ]
    },
    {
     "name": "stdout",
     "output_type": "stream",
     "text": [
      "- Sim: 10 -\n"
     ]
    },
    {
     "name": "stderr",
     "output_type": "stream",
     "text": [
      "C.E: Sim. Waves: 100%|██████████| 10445/10445 [34:12<00:00,  5.09it/s] \n",
      "C.E: Sim. TCs  : 100%|██████████| 10445/10445 [00:00<00:00, 23188.23it/s]\n",
      "C.E: Sim. TCs  : 100%|██████████| 10445/10445 [00:00<00:00, 23593.42it/s]\n",
      "C.E: Sim. TCs  : 100%|██████████| 10445/10445 [00:00<00:00, 23452.46it/s]\n"
     ]
    }
   ],
   "source": [
    "# --------------------------------------\n",
    "#  Climate Emulator simulation\n",
    "\n",
    "# each DWT series will generate a different set of waves\n",
    "for n in DWTs_sim.n_sim:\n",
    "    print('- Sim: {0} -'.format(int(n)+1))\n",
    "    \n",
    "    # Select DWTs simulation\n",
    "    DWTs = DWTs_sim.sel(n_sim=n)\n",
    "\n",
    "    # Simulate waves\n",
    "    n_ce = 1  # (one CE sim. for each DWT sim.)\n",
    "    WVS_sim = CE.Simulate_Waves(DWTs, n_ce, filters={'hs':True, 'tp':True, 'ws':True})\n",
    "#    WVS_sim, _, _ = CE.LoadSim(n_sim = 0)\n",
    "\n",
    "\n",
    "    # Simulate TCs and update simulated waves\n",
    "    TCs_sim_E, WVS_upd_E = CE.Simulate_TCs(DWTs, WVS_sim, TCs_params, TCs_RBFs_E, pchange_TCs, MU_WT_E, TAU_WT_E)\n",
    "    #TCs_sim_N, WVS_upd_N = CE.Simulate_TCs(DWTs, WVS_sim, TCs_params, TCs_RBFs_N, pchange_TCs, MU_WT_N, TAU_WT_N)\n",
    "    #TCs_sim_S, WVS_upd_S = CE.Simulate_TCs(DWTs, WVS_sim, TCs_params, TCs_RBFs_S, pchange_TCs, MU_WT_S, TAU_WT_S)\n",
    "    \n",
    "    # store simulation data\n",
    "    CE.SaveSim(WVS_sim, TCs_sim_E, WVS_upd_E, int(n))\n",
    "    \n",
    "    "
   ]
  },
  {
   "cell_type": "code",
   "execution_count": 16,
   "metadata": {
    "scrolled": false
   },
   "outputs": [
    {
     "name": "stdout",
     "output_type": "stream",
     "text": [
      "<xarray.Dataset>\n",
      "Dimensions:      (n_sim: 1, time: 10445)\n",
      "Coordinates:\n",
      "  * time         (time) datetime64[ns] 2000-01-01 2000-01-02 ... 2099-12-31\n",
      "Dimensions without coordinates: n_sim\n",
      "Data variables:\n",
      "    DWT          (n_sim, time) float32 ...\n",
      "    sea_Hs       (n_sim, time) float32 ...\n",
      "    sea_Tp       (n_sim, time) float32 ...\n",
      "    sea_Dir      (n_sim, time) float32 ...\n",
      "    swell_1_Hs   (n_sim, time) float32 ...\n",
      "    swell_1_Tp   (n_sim, time) float32 ...\n",
      "    swell_1_Dir  (n_sim, time) float32 ...\n",
      "    swell_2_Hs   (n_sim, time) float32 ...\n",
      "    swell_2_Tp   (n_sim, time) float32 ...\n",
      "    swell_2_Dir  (n_sim, time) float32 ...\n",
      "    wind_speed   (n_sim, time) float32 ...\n",
      "    wind_dir     (n_sim, time) float32 ...\n",
      "    mslp         (n_sim, time) float32 ...\n",
      "\n",
      "<xarray.Dataset>\n",
      "Dimensions:  (n_sim: 1, time: 10445)\n",
      "Coordinates:\n",
      "  * time     (time) datetime64[ns] 2000-01-01 2000-01-02 ... 2099-12-31\n",
      "Dimensions without coordinates: n_sim\n",
      "Data variables:\n",
      "    mu       (n_sim, time) float32 ...\n",
      "    tau      (n_sim, time) float32 ...\n",
      "    ss       (n_sim, time) float32 ...\n",
      "    DWT      (n_sim, time) float32 ...\n",
      "\n",
      "<xarray.Dataset>\n",
      "Dimensions:      (n_sim: 1, time: 10445)\n",
      "Coordinates:\n",
      "  * time         (time) datetime64[ns] 2000-01-01 2000-01-02 ... 2099-12-31\n",
      "Dimensions without coordinates: n_sim\n",
      "Data variables:\n",
      "    DWT          (n_sim, time) float32 ...\n",
      "    sea_Hs       (n_sim, time) float32 ...\n",
      "    sea_Tp       (n_sim, time) float32 ...\n",
      "    sea_Dir      (n_sim, time) float32 ...\n",
      "    swell_1_Hs   (n_sim, time) float32 ...\n",
      "    swell_1_Tp   (n_sim, time) float32 ...\n",
      "    swell_1_Dir  (n_sim, time) float32 ...\n",
      "    swell_2_Hs   (n_sim, time) float32 ...\n",
      "    swell_2_Tp   (n_sim, time) float32 ...\n",
      "    swell_2_Dir  (n_sim, time) float32 ...\n"
     ]
    },
    {
     "data": {
      "text/plain": [
       "[<matplotlib.lines.Line2D at 0x11cd474e0>]"
      ]
     },
     "execution_count": 16,
     "metadata": {},
     "output_type": "execute_result"
    },
    {
     "data": {
      "image/png": "[encoded data removed]",
      "text/plain": [
       "<Figure size 720x720 with 1 Axes>"
      ]
     },
     "metadata": {
      "needs_background": "light"
     },
     "output_type": "display_data"
    },
    {
     "data": {
      "image/png": "[encoded data removed]",
      "text/plain": [
       "<Figure size 720x720 with 1 Axes>"
      ]
     },
     "metadata": {
      "needs_background": "light"
     },
     "output_type": "display_data"
    }
   ],
   "source": [
    "WVS_sim = xr.open_dataset('/Users/albacid/Desktop/WVS_sim.nc')\n",
    "\n",
    "TCs_sim_E = xr.open_dataset('/Users/albacid/Desktop/TCs_sim_E.nc')\n",
    "WVS_upd_E = xr.open_dataset('/Users/albacid/Desktop/WVS_upd_E.nc')\n",
    "\n",
    "print(WVS_sim)\n",
    "print()\n",
    "print(TCs_sim_E)\n",
    "print()\n",
    "print(WVS_upd_E)\n",
    "\n",
    "plt.figure(figsize=(10,10))\n",
    "plt.plot(WVS_sim.sea_Hs.isel(n_sim=0), WVS_upd_E.sea_Hs.isel(n_sim=0), '.')\n",
    "\n",
    "plt.figure(figsize=(10,10))\n",
    "plt.plot(WVS_sim.swell_1_Hs.isel(n_sim=0), WVS_upd_E.swell_1_Hs.isel(n_sim=0), '.')"
   ]
  },
  {
   "cell_type": "code",
   "execution_count": 22,
   "metadata": {
    "scrolled": false
   },
   "outputs": [
    {
     "name": "stdout",
     "output_type": "stream",
     "text": [
      "<xarray.Dataset>\n",
      "Dimensions:      (n_sim: 1, time: 10445)\n",
      "Coordinates:\n",
      "  * time         (time) datetime64[ns] 2000-01-01 2000-01-02 ... 2099-12-31\n",
      "Dimensions without coordinates: n_sim\n",
      "Data variables:\n",
      "    DWT          (n_sim, time) float32 ...\n",
      "    sea_Hs       (n_sim, time) float32 ...\n",
      "    sea_Tp       (n_sim, time) float32 ...\n",
      "    sea_Dir      (n_sim, time) float32 ...\n",
      "    swell_1_Hs   (n_sim, time) float32 2.915211 0.7178429 ... 0.8718332\n",
      "    swell_1_Tp   (n_sim, time) float32 9.704451 11.207441 ... 4.1375594 8.078175\n",
      "    swell_1_Dir  (n_sim, time) float32 68.8707 80.14397 ... 88.13062 89.40776\n",
      "    swell_2_Hs   (n_sim, time) float32 0.42948243 0.38080156 ... 0.1871284\n",
      "    swell_2_Tp   (n_sim, time) float32 10.5012665 9.632617 ... 12.450415\n",
      "    swell_2_Dir  (n_sim, time) float32 165.94945 159.2316 ... 174.09686\n",
      "    wind_speed   (n_sim, time) float32 5.0254126 3.1882114 ... 8.222698\n",
      "    wind_dir     (n_sim, time) float32 66.59093 56.88333 ... 64.46226 53.173244\n",
      "    mslp         (n_sim, time) float32 100589.945 101213.81 ... 100585.08\n"
     ]
    }
   ],
   "source": [
    "# Poner NaN en WVS_upd_E donde Hs, Tp y Dir de Swell_1 y Swell_2 valen 0 (Hubo TC y sólo tenemos Sea family)\n",
    "vars = {'swell_1_Hs','swell_1_Tp','swell_1_Dir','swell_2_Hs','swell_2_Tp','swell_2_Dir'}\n",
    "for var in vars:\n",
    "    WVS_upd_E[var] = WVS_upd_E[var].where(WVS_upd_E[var]!=0.0, np.nan)\n",
    "\n",
    "    \n",
    "# Unir las wind y mslp de WVS_sim a WVS_upd_E\n",
    "WVS_sim_extravars = WVS_sim.copy(deep=True)\n",
    "WVS_sim_extravars = WVS_sim_extravars.drop({'DWT','sea_Hs','sea_Tp','sea_Dir',\n",
    "                                            'swell_1_Hs','swell_1_Tp','swell_1_Dir','swell_2_Hs','swell_2_Tp','swell_2_Dir'})\n",
    "\n",
    "WVS_upd = xr.merge([WVS_upd_E,WVS_sim_extravars])\n",
    "\n",
    "print(WVS_upd)\n"
   ]
  },
  {
   "cell_type": "markdown",
   "metadata": {},
   "source": [
    "\n",
    "## Climate Emulator Simulation Validation"
   ]
  },
  {
   "cell_type": "code",
   "execution_count": null,
   "metadata": {},
   "outputs": [],
   "source": [
    "# --------------------------------------\n",
    "# Select Simulation to plot\n",
    "\n",
    "# 2 levels of simulation now:\n",
    "n_sim_DWTs = 0  # switch DWTs Simulation (used at CE Sim.)\n",
    "n_sim_CE = 0    # switch WAVES Simulation (generated from CE Sim.)\n",
    "\n",
    "# Load Waves simulated for DWTs set number \"n_sim_DWTs\"\n",
    "WVS_sim, TCs_sim, WVS_upd = CE.LoadSim(n_sim = n_sim_DWTs)\n",
    "\n",
    "# only one climate emulator simulation\n",
    "WVS_sim = WVS_sim.isel(n_sim = n_sim_CE)\n",
    "TCs_sim = TCs_sim.isel(n_sim = n_sim_CE)\n",
    "WVS_upd = WVS_upd.isel(n_sim = n_sim_CE)\n",
    "\n",
    "\n",
    "# select data\n",
    "WVS_fit_p = CE.WVS_MS\n",
    "WVS_sim_p = WVS_upd  # with simulated TCs\n"
   ]
  },
  {
   "cell_type": "markdown",
   "metadata": {},
   "source": [
    "\n",
    "## Climate Emulator Validation: Waves Families Variables"
   ]
  },
  {
   "cell_type": "code",
   "execution_count": null,
   "metadata": {},
   "outputs": [],
   "source": [
    "# Plot simulated waves parameters distribution \n",
    "Plot_Waves_Histogram_FitSim(WVS_fit_p, WVS_sim_p);\n"
   ]
  },
  {
   "cell_type": "code",
   "execution_count": null,
   "metadata": {},
   "outputs": [],
   "source": [
    "# Plot simulated extra variables (if any)\n",
    "print(WVS_fit_p)\n",
    "print(WVS_sim_p)\n",
    "sys.exit()\n",
    "extra_vars = ['wind_speed', 'wind_dir', 'mslp']  # example\n",
    "Plot_FitSim_Histograms(\n",
    "    WVS_fit_p, WVS_sim_p, extra_vars, density=True,\n",
    "    color_1='white', color_2='palevioletred',\n",
    ");\n"
   ]
  },
  {
   "cell_type": "markdown",
   "metadata": {},
   "source": [
    "\n",
    "## Climate Emulator Validation: Hs families"
   ]
  },
  {
   "cell_type": "code",
   "execution_count": null,
   "metadata": {},
   "outputs": [],
   "source": [
    "# waves families Hs\n",
    "vvs = ['sea_Hs', 'swell_1_Hs', 'swell_2_Hs']\n",
    "\n",
    "# histograms comparison\n",
    "Plot_FitSim_Histograms(\n",
    "    WVS_fit_p, WVS_sim_p, vvs, density=True,\n",
    "    color_1='indigo', color_2='palevioletred',\n",
    ");\n"
   ]
  },
  {
   "cell_type": "code",
   "execution_count": null,
   "metadata": {},
   "outputs": [],
   "source": [
    "# plot selection\n",
    "vns_lims = {\n",
    "    'sea_Hs':(2, 30),\n",
    "    'swell_1_Hs':(2, 30),\n",
    "    'swell_2_Hs':(3, 30),\n",
    "\n",
    "}\n",
    "\n",
    "Plot_FitSim_Histograms(\n",
    "    WVS_fit_p, WVS_sim_p, vvs, density=True,\n",
    "    color_1='indigo', color_2='palevioletred',\n",
    "    vns_lims=vns_lims,\n",
    ");\n"
   ]
  },
  {
   "cell_type": "code",
   "execution_count": null,
   "metadata": {},
   "outputs": [],
   "source": [
    "# annual maxima comparison\n",
    "Plot_FitSim_AnnualMax(\n",
    "    WVS_fit_p, WVS_sim_p, vvs,\n",
    "    color_1='mediumvioletred', color_2='indigo',\n",
    ");\n"
   ]
  },
  {
   "cell_type": "code",
   "execution_count": null,
   "metadata": {},
   "outputs": [],
   "source": [
    "# GEV fit - sim comparison and QQ plot\n",
    "\n",
    "Plot_FitSim_GevFit(\n",
    "    WVS_fit_p, WVS_sim_p, 'sea_Hs', CE.GEV_Par, CE.KMA_MS,\n",
    "    alpha_1=0.7, alpha_2=0.5, n_bins=30,\n",
    "    color_1='indigo', color_2='plum',\n",
    "    gs_1 = 6, gs_2 = 6, n_clusters = 36, vlim=1.5,\n",
    ");\n",
    "\n",
    "Plot_Fit_QQ(\n",
    "    WVS_fit_p, 'sea_Hs', CE.GEV_Par, CE.KMA_MS,\n",
    "    gs_1 = 6, gs_2 = 6, n_clusters = 36,\n",
    ");\n",
    "\n",
    "\n",
    "# TODO\n",
    "#CE.Report_Sim_GevFit(WVS_sim_p, 'swell_1_Hs') ?\n"
   ]
  },
  {
   "cell_type": "code",
   "execution_count": null,
   "metadata": {},
   "outputs": [],
   "source": [
    "Plot_FitSim_GevFit(\n",
    "    WVS_fit_p, WVS_sim_p, 'swell_1_Hs', CE.GEV_Par, CE.KMA_MS,\n",
    "    alpha_1=0.7, alpha_2=0.5, n_bins=30,\n",
    "    color_1='indigo', color_2='plum',\n",
    "    gs_1 = 6, gs_2 = 6, n_clusters = 36, vlim=4,\n",
    ");\n",
    "\n",
    "Plot_Fit_QQ(\n",
    "    WVS_fit_p, 'swell_1_Hs', CE.GEV_Par, CE.KMA_MS,\n",
    "    gs_1 = 6, gs_2 = 6, n_clusters = 36,\n",
    ");\n"
   ]
  },
  {
   "cell_type": "code",
   "execution_count": null,
   "metadata": {
    "scrolled": false
   },
   "outputs": [],
   "source": [
    "Plot_FitSim_GevFit(\n",
    "    WVS_fit_p, WVS_sim_p, 'swell_2_Hs', CE.GEV_Par, CE.KMA_MS,\n",
    "    alpha_1=0.7, alpha_2=0.5, n_bins=30,\n",
    "    color_1='indigo', color_2='plum',\n",
    "    gs_1 = 6, gs_2 = 6, n_clusters = 36, vlim=4,\n",
    ");\n",
    "\n",
    "Plot_Fit_QQ(\n",
    "    WVS_fit_p, 'swell_2_Hs', CE.GEV_Par, CE.KMA_MS,\n",
    "    gs_1 = 6, gs_2 = 6, n_clusters = 36,\n",
    ");\n"
   ]
  },
  {
   "cell_type": "markdown",
   "metadata": {},
   "source": [
    "\n",
    "## Climate Emulator Validation: Tp families"
   ]
  },
  {
   "cell_type": "code",
   "execution_count": null,
   "metadata": {},
   "outputs": [],
   "source": [
    "# waves families Tp\n",
    "vvs = ['sea_Tp', 'swell_1_Tp', 'swell_2_Tp']\n",
    "\n",
    "# histograms comparison\n",
    "Plot_FitSim_Histograms(\n",
    "    WVS_fit_p, WVS_sim_p, vvs, density=True,\n",
    "    color_1='indigo', color_2='palevioletred',\n",
    ");\n"
   ]
  },
  {
   "cell_type": "code",
   "execution_count": null,
   "metadata": {
    "scrolled": false
   },
   "outputs": [],
   "source": [
    "# plot selection\n",
    "vns_lims = {\n",
    "    'sea_Tp':(14, 30),\n",
    "    'swell_1_Tp':(16, 30),\n",
    "    'swell_2_Tp':(11, 30),\n",
    "\n",
    "}\n",
    "\n",
    "Plot_FitSim_Histograms(\n",
    "    WVS_fit_p, WVS_sim_p, vvs, density=True,\n",
    "    color_1='indigo', color_2='palevioletred',\n",
    "    vns_lims=vns_lims,\n",
    ");\n"
   ]
  },
  {
   "cell_type": "code",
   "execution_count": null,
   "metadata": {},
   "outputs": [],
   "source": [
    "# annual maxima comparison\n",
    "Plot_FitSim_AnnualMax(\n",
    "    WVS_fit_p, WVS_sim_p, vvs,\n",
    "    color_1='mediumvioletred', color_2='indigo',\n",
    ");\n"
   ]
  },
  {
   "cell_type": "code",
   "execution_count": null,
   "metadata": {},
   "outputs": [],
   "source": [
    "# GEV fit comparison\n",
    "Plot_FitSim_GevFit(\n",
    "    WVS_fit_p, WVS_sim_p, 'swell_1_Tp', CE.GEV_Par, CE.KMA_MS,\n",
    "    alpha_1=0.7, alpha_2=0.5, n_bins=30,\n",
    "    color_1='indigo', color_2='plum',\n",
    "    gs_1 = 6, gs_2 = 6, n_clusters = 36, vlim=20,\n",
    ");\n",
    "\n",
    "Plot_Fit_QQ(\n",
    "    WVS_fit_p, 'swell_1_Tp', CE.GEV_Par, CE.KMA_MS,\n",
    "    gs_1 = 6, gs_2 = 6, n_clusters = 36,\n",
    ");\n"
   ]
  },
  {
   "cell_type": "code",
   "execution_count": null,
   "metadata": {
    "scrolled": false
   },
   "outputs": [],
   "source": [
    "Plot_FitSim_GevFit(\n",
    "    WVS_fit_p, WVS_sim_p, 'swell_2_Tp', CE.GEV_Par, CE.KMA_MS,\n",
    "    alpha_1=0.7, alpha_2=0.5, n_bins=30,\n",
    "    color_1='indigo', color_2='plum',\n",
    "    gs_1 = 6, gs_2 = 6, n_clusters = 36, vlim=20,\n",
    ");\n",
    "\n",
    "Plot_Fit_QQ(\n",
    "    WVS_fit_p, 'swell_2_Tp', CE.GEV_Par, CE.KMA_MS,\n",
    "    gs_1 = 6, gs_2 = 6, n_clusters = 36,\n",
    ");"
   ]
  },
  {
   "cell_type": "markdown",
   "metadata": {},
   "source": [
    "\n",
    "## Climate Emulator Validation: Aggregated Waves Hs and Tp"
   ]
  },
  {
   "cell_type": "code",
   "execution_count": null,
   "metadata": {},
   "outputs": [],
   "source": [
    "\n",
    "# Aggregate Waves Families\n",
    "WVS_fit_agr = Aggregate_WavesFamilies(WVS_fit_p, a_tp='max_energy')\n",
    "WVS_sim_agr = Aggregate_WavesFamilies(WVS_sim_p, a_tp='max_energy')\n",
    "\n",
    "# Calculate AWL\n",
    "WVS_fit_agr['AWL'] = AWL(WVS_fit_agr['Hs'], WVS_fit_agr['Tp'])\n",
    "WVS_sim_agr['AWL'] = AWL(WVS_sim_agr['Hs'], WVS_sim_agr['Tp'])\n"
   ]
  },
  {
   "cell_type": "code",
   "execution_count": null,
   "metadata": {},
   "outputs": [],
   "source": [
    "# Plot independent Annual Maxima\n",
    "Plot_FitSim_AnnualMax(\n",
    "    WVS_fit_agr, WVS_sim_agr, ['Hs', 'Tp'],\n",
    "    color_1='mediumvioletred', color_2='indigo',\n",
    ");\n"
   ]
  },
  {
   "cell_type": "markdown",
   "metadata": {},
   "source": [
    "\n",
    "## Climate Emulator Validation: AWL and marginal Hs, Tp"
   ]
  },
  {
   "cell_type": "code",
   "execution_count": null,
   "metadata": {},
   "outputs": [],
   "source": [
    "# TODO plot percentiles (como en nb14)\n",
    "\n",
    "# Plot AWL and marginals (Hs, Tp) Annual Maxima\n",
    "Plot_FitSim_AnnualMax(\n",
    "    WVS_fit_agr, WVS_sim_agr, ['AWL', 'Hs', 'Tp'], vn_max='AWL',\n",
    "    color_1='mediumvioletred', color_2='indigo',\n",
    ");\n"
   ]
  },
  {
   "cell_type": "code",
   "execution_count": null,
   "metadata": {},
   "outputs": [],
   "source": []
  }
 ],
 "metadata": {
  "kernelspec": {
   "display_name": "Python 3",
   "language": "python",
   "name": "python3"
  },
  "language_info": {
   "codemirror_mode": {
    "name": "ipython",
    "version": 3
   },
   "file_extension": ".py",
   "mimetype": "text/x-python",
   "name": "python",
   "nbconvert_exporter": "python",
   "pygments_lexer": "ipython3",
   "version": "3.7.2"
  }
 },
 "nbformat": 4,
 "nbformat_minor": 2
}
