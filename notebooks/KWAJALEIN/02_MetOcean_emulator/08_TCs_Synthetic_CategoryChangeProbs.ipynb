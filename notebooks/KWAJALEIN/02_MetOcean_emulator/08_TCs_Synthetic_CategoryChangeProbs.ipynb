{
 "cells": [
  {
   "cell_type": "markdown",
   "metadata": {},
   "source": [
    "\n",
    "... ***CURRENTLY UNDER DEVELOPMENT*** ...\n"
   ]
  },
  {
   "cell_type": "markdown",
   "metadata": {},
   "source": [
    "## Obtain probabilites of changing category between radiuses based on Nakajo tracks\n",
    "\n",
    "inputs required: \n",
    "  * Nakajo tracks\n",
    "  \n",
    "in this notebook:\n",
    "  * matrix of probabilites of change"
   ]
  },
  {
   "cell_type": "code",
   "execution_count": 1,
   "metadata": {},
   "outputs": [],
   "source": [
    "#!/usr/bin/env python\n",
    "# -*- coding: utf-8 -*-\n",
    "\n",
    "# common\n",
    "import os\n",
    "import os.path as op\n",
    "\n",
    "# pip\n",
    "import xarray as xr\n",
    "import numpy as np\n",
    "import matplotlib.pyplot as plt\n",
    "\n",
    "# DEV: override installed teslakit\n",
    "import sys\n",
    "sys.path.insert(0, op.join(os.path.abspath(''), '..', '..', '..'))\n",
    "\n",
    "# teslakit \n",
    "from teslakit.database import Database\n",
    "from teslakit.storms import Extract_Circle, GetCategoryChangeProbs\n",
    "\n",
    "from teslakit.plotting.storms import Plot_Category_Change\n"
   ]
  },
  {
   "cell_type": "markdown",
   "metadata": {},
   "source": [
    "\n",
    "## Database and Site parameters"
   ]
  },
  {
   "cell_type": "code",
   "execution_count": 2,
   "metadata": {},
   "outputs": [],
   "source": [
    "# --------------------------------------\n",
    "# Teslakit database\n",
    "\n",
    "p_data = r'/Users/albacid/Projects/TeslaKit_projects'\n",
    "db = Database(p_data)\n",
    "\n",
    "# set site\n",
    "db.SetSite('KWAJALEIN_emulator')\n"
   ]
  },
  {
   "cell_type": "code",
   "execution_count": 3,
   "metadata": {},
   "outputs": [],
   "source": [
    "# --------------------------------------\n",
    "# load data and set parameters\n",
    "\n",
    "TCs_Nakajo = db.Load_TCs_Nakajo()  # Nakajo simulations\n",
    "\n",
    "# wave point longitude and latitude\n",
    "pnt_lon = 167.73\n",
    "pnt_lat = 8.72\n",
    "\n",
    "# radius for TCs selection (º)\n",
    "r1 = 14\n",
    "r2 = 4"
   ]
  },
  {
   "cell_type": "markdown",
   "metadata": {},
   "source": [
    "\n",
    "## Synthetic TCs - Category Change Probabilities"
   ]
  },
  {
   "cell_type": "code",
   "execution_count": 4,
   "metadata": {},
   "outputs": [
    {
     "name": "stdout",
     "output_type": "stream",
     "text": [
      "<xarray.Dataset>\n",
      "Dimensions:        (storm: 59450)\n",
      "Coordinates:\n",
      "  * storm          (storm) int64 5 8 14 50 52 ... 999974 999982 999986 999990\n",
      "Data variables:\n",
      "    pressure_min   (storm) float64 983.7 933.8 970.6 978.9 ... 969.8 975.2 995.9\n",
      "    pressure_mean  (storm) float64 988.7 971.4 992.9 991.0 ... 990.9 996.3 1e+03\n",
      "    velocity_mean  (storm) float64 175.9 11.68 23.52 53.67 ... 11.77 19.58 9.389\n",
      "    gamma          (storm) float64 114.5 167.8 73.57 60.64 ... 142.4 117.3 119.6\n",
      "    delta          (storm) float64 109.8 226.5 22.0 22.34 ... 152.5 128.8 110.2\n",
      "    category       (storm) int64 1 4 2 2 1 0 0 0 1 5 1 ... 0 4 0 1 1 1 4 0 2 2 1\n",
      "    dmin_date      (storm) float64 45.4 54.0 42.0 264.0 9.0 ... 4.5 0.0 18.0 0.0\n",
      "    last_date      (storm) float64 54.4 288.0 259.5 400.5 ... 150.0 259.5 177.0\n",
      "    index_in       (storm) int64 61 0 2 91 0 0 5 7 0 31 ... 6 0 0 0 0 0 0 0 0 0\n",
      "    index_out      (storm) int64 85 38 30 109 18 14 31 ... 24 16 26 9 35 29 15\n",
      "Attributes:\n",
      "    point_lon:  167.73\n",
      "    point_lat:  8.72\n",
      "    point_r:    14\n",
      "<xarray.Dataset>\n",
      "Dimensions:        (storm: 12208)\n",
      "Coordinates:\n",
      "  * storm          (storm) int64 5 296 299 387 ... 999845 999846 999877 999986\n",
      "Data variables:\n",
      "    pressure_min   (storm) float64 988.6 966.1 999.4 ... 1.005e+03 976.4 998.5\n",
      "    pressure_mean  (storm) float64 989.0 979.8 1.002e+03 ... 988.1 1.001e+03\n",
      "    velocity_mean  (storm) float64 177.9 21.4 17.2 90.21 ... 191.0 18.63 14.21\n",
      "    gamma          (storm) float64 115.4 102.4 126.2 101.1 ... 103.7 93.9 130.4\n",
      "    delta          (storm) float64 86.42 69.29 136.1 71.84 ... 100.3 97.71 159.5\n",
      "    category       (storm) int64 1 2 1 1 2 4 0 2 0 0 1 ... 0 3 1 2 2 1 1 0 0 2 1\n",
      "    dmin_date      (storm) float64 45.4 117.0 0.0 15.0 ... 15.0 0.0 114.0 18.0\n",
      "    last_date      (storm) float64 54.4 183.0 162.0 90.0 ... 19.1 342.0 259.5\n",
      "    index_in       (storm) int64 70 33 0 9 10 58 0 10 3 ... 1 12 19 2 2 0 30 0\n",
      "    index_out      (storm) int64 75 44 9 15 28 71 4 30 ... 17 22 25 9 8 1 45 14\n",
      "Attributes:\n",
      "    point_lon:  167.73\n",
      "    point_lat:  8.72\n",
      "    point_r:    4\n"
     ]
    }
   ],
   "source": [
    "# --------------------------------------\n",
    "# Select Nakajo TCs inside circle\n",
    "\n",
    "# dictionary with needed variable names\n",
    "d_vns = {\n",
    "    'longitude':'ylon_TC',\n",
    "    'latitude':'ylat_TC',\n",
    "    'time': 'yts',\n",
    "    'pressure':'yCPRES',\n",
    "}\n",
    "\n",
    "# Extract TCs inside R=14 and positions\n",
    "_, TCs_r1 = Extract_Circle(TCs_Nakajo, pnt_lon, pnt_lat, r1, d_vns)\n",
    "print(TCs_r1)\n",
    "\n",
    "# Extract TCs inside R=4 and positions\n",
    "_, TCs_r2 = Extract_Circle(TCs_Nakajo, pnt_lon, pnt_lat, r2, d_vns)\n",
    "print(TCs_r2)\n"
   ]
  },
  {
   "cell_type": "code",
   "execution_count": 5,
   "metadata": {},
   "outputs": [
    {
     "name": "stdout",
     "output_type": "stream",
     "text": [
      "<xarray.Dataset>\n",
      "Dimensions:                  (category: 6)\n",
      "Coordinates:\n",
      "  * category                 (category) int64 0 1 2 3 4 5\n",
      "Data variables:\n",
      "    category_change_count    (category, category) int64 1790 1355 261 ... 0 234\n",
      "    category_change_probs    (category, category) float64 0.08349 ... 0.1024\n",
      "    category_nochange_probs  (category) float64 0.9165 0.8701 ... 0.4208 0.4271\n",
      "    category_change_cumsum   (category, category) float64 0.08349 ... 0.5729\n"
     ]
    }
   ],
   "source": [
    "# --------------------------------------\n",
    "# Calculate Syntethic TCs category change probabilities\n",
    "\n",
    "categ_cp = GetCategoryChangeProbs(TCs_r1, TCs_r2)\n",
    "print(categ_cp)\n",
    "\n",
    "db.Save_TCs_probs_synth(categ_cp)\n"
   ]
  },
  {
   "cell_type": "code",
   "execution_count": 6,
   "metadata": {},
   "outputs": [
    {
     "data": {
      "image/png": "[encoded data removed]",
      "text/plain": [
       "<Figure size 570.83x380.554 with 2 Axes>"
      ]
     },
     "metadata": {
      "needs_background": "light"
     },
     "output_type": "display_data"
    }
   ],
   "source": [
    "# plot category change probabilities\n",
    "\n",
    "Plot_Category_Change(categ_cp);\n"
   ]
  },
  {
   "cell_type": "code",
   "execution_count": null,
   "metadata": {},
   "outputs": [],
   "source": []
  }
 ],
 "metadata": {
  "kernelspec": {
   "display_name": "Python 3",
   "language": "python",
   "name": "python3"
  },
  "language_info": {
   "codemirror_mode": {
    "name": "ipython",
    "version": 3
   },
   "file_extension": ".py",
   "mimetype": "text/x-python",
   "name": "python",
   "nbconvert_exporter": "python",
   "pygments_lexer": "ipython3",
   "version": "3.7.2"
  }
 },
 "nbformat": 4,
 "nbformat_minor": 2
}
