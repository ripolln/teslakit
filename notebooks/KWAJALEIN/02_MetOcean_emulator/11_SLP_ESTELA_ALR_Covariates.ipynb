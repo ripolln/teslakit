{
 "cells": [
  {
   "cell_type": "markdown",
   "metadata": {},
   "source": [
    "\n",
    "... ***CURRENTLY UNDER DEVELOPMENT*** ...\n"
   ]
  },
  {
   "cell_type": "markdown",
   "metadata": {},
   "source": [
    "## Obtain synthetic DWTs timeseries\n",
    "\n",
    "inputs required: \n",
    "  * Historical DWTs\n",
    "  * Historical AWT and IWT\n",
    "  * Synthetic timeseries of AWT and IWT\n",
    "  \n",
    "in this notebook:\n",
    "  * Fit the ALR model of DWT based on seasonality,and  AWT and IWT timeseries\n",
    "  * Generate *n* simulations of 1000 years of DWTs timeseries"
   ]
  },
  {
   "cell_type": "markdown",
   "metadata": {},
   "source": [
    "\n",
    "### Workflow:\n",
    "\n",
    "<div>\n",
    "<img src=\"resources/nb01_11.png\" width=\"400px\">\n",
    "</div>\n",
    "\n",
    "\n",
    "\n",
    "Simulating sequencing and persistence of synthetic DWTs is accomplished with an autoregressive logistic model (ALR). ALR models are simultaneously able to account for covariates varying at different timescales as well as the autocorrelation of those covariates at different orders (Guanche et al., 2013; Antolinez et al., 2015). In this sense, the AWT, seasonality, IWT, as well as the ordering (transitions between DWTs) and duration (persistence within a DWT) can all be accounted for within a single framework to make a categorical decision of what the weather pattern should be on any given day. Mathematically, the model is represented as:\n",
    "\n",
    "\n",
    "&nbsp;&nbsp;&nbsp;&nbsp;&nbsp;&nbsp;&nbsp;&nbsp;&nbsp;&nbsp;&nbsp;&nbsp;Prob$(Y_t=i|Y_{t-1},...,Y_{t-e},X_t)$ = \n",
    " \n",
    "&nbsp;&nbsp;&nbsp;&nbsp;&nbsp;&nbsp;&nbsp;&nbsp;&nbsp;&nbsp;&nbsp;&nbsp;$= {{\\exp{\\large (}\\beta_{0,i} + \\beta_{1,i}\\cos \\omega t + \\beta_{2,i}\\sin \\omega t + \\sum\\limits_{j=1}^{3}\\beta_{j,i}^{awt} APC_j(t) + \\sum\\limits_{j=1}^{2}\\beta_{j,i}^{iwt} IPC_j(t) + \\sum\\limits_{j=1}^e Y_{t-j\\gamma j,i}{\\large )}} \\over {\\sum\\limits_{k=1}^{n_{DWT}} \\exp{\\large (}\\beta_{0,k} + \\beta_{1,k}\\cos \\omega t + \\beta_{2,k}\\sin \\omega t + \\sum\\limits_{j=1}^{3}\\beta_{j,k}^{awt} APC_j(t) + \\sum\\limits_{j=1}^{2}\\beta_{j,k}^{iwt} IPC_j(t) + \\sum\\limits_{j=1}^e Y_{t-j\\gamma j,k}{\\large )}}}$;&nbsp;&nbsp;&nbsp;&nbsp;&nbsp;</center>\n",
    " \n",
    "&nbsp;&nbsp;&nbsp;&nbsp;&nbsp;&nbsp;&nbsp;&nbsp;&nbsp;&nbsp;&nbsp;&nbsp;$\\forall i = 1,...,n_{ss}$\n",
    " \n",
    "where  $\\beta_{1,i}$ and $\\beta_{2,i}$ covariates account for the seasonal probabilites of each DWT. Covariates $\\beta_{j,k}^{awt} APC_j(t)$ account for each weather type’s probability associated with the leading three principle components used to create the AWTs, covariates $\\beta_{j,k}^{iwt} IPC_j(t)$ account for the leading two principle components of the MJO, and $Y_{t-j}$ represents the DWT of the previous j-states, and $\\beta_{j,i}$  is the parameter associated with the previous j-state, and the order e corresponds to the number of previous states that influence the actual DWT.\n",
    "Each of these covariates was found to be statistically significant by the likelihood ratio (Guanche et al. 2014), where inclusion of a covariate required an improvement in prediction beyond a penalty associated with the added degrees of freedom. An iterative method began with the best univariate model (seasonality) and added each covariate in a pair-wise fashion to determine the next best model (seasonality + $APC_1$), continuing this process until all covariates were added. \n",
    "\n",
    "The model performance is evaluated at the end of the notebook by means of comparison historical and simulated probabilities of occurrence of the 42 DWTs during a perpetual year, the transition probabilities between DWTs and finally seasonal and conditional probabilities of occurrance of DWT to AWT and IWT. "
   ]
  },
  {
   "cell_type": "code",
   "execution_count": 1,
   "metadata": {},
   "outputs": [],
   "source": [
    "#!/usr/bin/env python\n",
    "# -*- coding: utf-8 -*-\n",
    "\n",
    "# common\n",
    "import os\n",
    "import os.path as op\n",
    "\n",
    "# pip\n",
    "import numpy as np\n",
    "import xarray as xr\n",
    "\n",
    "# DEV: override installed teslakit\n",
    "import sys\n",
    "sys.path.insert(0, op.join(os.path.abspath(''), '..', '..', '..'))\n",
    "\n",
    "# teslakit \n",
    "from teslakit.database import Database\n",
    "from teslakit.alr import ALR_WRP\n",
    "from teslakit.util.time_operations import xds_reindex_daily, xds_common_dates_daily\n",
    "\n",
    "from teslakit.plotting.estela import Plot_DWTs_Probs\n",
    "from teslakit.plotting.wts import Plot_Probs_WT_WT, Plot_Probs_WT_WT_anomaly\n",
    "from teslakit.plotting.waves import Plot_Waves_DWTs\n"
   ]
  },
  {
   "cell_type": "markdown",
   "metadata": {},
   "source": [
    "\n",
    "## Database and Site parameters"
   ]
  },
  {
   "cell_type": "code",
   "execution_count": 2,
   "metadata": {},
   "outputs": [],
   "source": [
    "# Teslakit database\n",
    "\n",
    "p_data = r'/Users/albacid/Projects/TeslaKit_projects'\n",
    "db = Database(p_data)\n",
    "\n",
    "# set site\n",
    "db.SetSite('KWAJALEIN_emulator')\n"
   ]
  },
  {
   "cell_type": "code",
   "execution_count": 3,
   "metadata": {},
   "outputs": [],
   "source": [
    "# --------------------------------------\n",
    "# load data and set parameters\n",
    "\n",
    "MJO_fit = db.Load_MJO_hist()           # historical MJO\n",
    "KMA_fit = db.Load_ESTELA_KMA()         # ESTELA + TCs Predictor\n",
    "PCs_all = db.Load_SST_PCA()            # SST PCs (annual)\n",
    "\n",
    "MJO_sim_all = db.Load_MJO_sim()        # MJO simulations (daily)\n",
    "PCs_sim_all = db.Load_SST_PCs_sim_d()  # SST PCs simulations (daily)\n",
    "\n",
    "# ALR fit parameters\n",
    "alr_num_clusters = 42\n",
    "alr_markov_order = 3\n",
    "alr_seasonality = [2, 4]\n",
    "\n",
    "# ALR simulation\n",
    "num_sims = 10  # one simulation for each simulated MJO, SST \n"
   ]
  },
  {
   "cell_type": "markdown",
   "metadata": {},
   "source": [
    "\n",
    "## ESTELA Predictor - Autoregressive Logistic Regression Fitting"
   ]
  },
  {
   "cell_type": "code",
   "execution_count": 4,
   "metadata": {},
   "outputs": [
    {
     "name": "stdout",
     "output_type": "stream",
     "text": [
      "<xarray.Dataset>\n",
      "Dimensions:  (time: 15199)\n",
      "Coordinates:\n",
      "  * time     (time) datetime64[ns] 1979-01-01 1979-01-02 ... 2020-08-11\n",
      "Data variables:\n",
      "    mjo      (time) float64 ...\n",
      "    phase    (time) int64 ...\n",
      "    rmm1     (time) float64 ...\n",
      "    rmm2     (time) float64 ...\n",
      "<xarray.Dataset>\n",
      "Dimensions:  (time: 50769)\n",
      "Coordinates:\n",
      "  * time     (time) datetime64[ns] 1880-06-01 1880-06-02 ... 2019-06-01\n",
      "Data variables:\n",
      "    PC1      (time) float64 4.959 4.959 4.959 4.959 ... 14.3 14.3 14.3 8.241\n",
      "    PC2      (time) float64 5.007 5.007 5.007 5.007 ... 5.867 5.867 5.867 19.06\n",
      "    PC3      (time) float64 -5.936 -5.936 -5.936 -5.936 ... -9.966 -9.966 -2.11\n"
     ]
    }
   ],
   "source": [
    "# --------------------------------------\n",
    "# Data used to FIT ALR model and preprocess: \n",
    "\n",
    "# KMA: bmus (daily) (use sorted_bmus_storms, add 1 to get 1-42 bmus set)\n",
    "BMUS_fit = xr.Dataset(\n",
    "    {\n",
    "        'bmus':(('time',), KMA_fit['sorted_bmus_storms'].values[:] + 1),\n",
    "    },\n",
    "    coords = {'time': KMA_fit.time.values[:]}\n",
    ")\n",
    "\n",
    "\n",
    "# MJO: rmm1, rmm2 (daily)\n",
    "print(MJO_fit)\n",
    "\n",
    "# SST: PCs (annual)\n",
    "sst_PCs = PCs_all.PCs.values[:]\n",
    "PCs_fit = xr.Dataset(\n",
    "    {\n",
    "        'PC1': (('time',), sst_PCs[:,0]),\n",
    "        'PC2': (('time',), sst_PCs[:,1]),\n",
    "        'PC3': (('time',), sst_PCs[:,2]),\n",
    "    },\n",
    "    coords = {'time': PCs_all.time.values[:]}\n",
    ")\n",
    "\n",
    "# reindex annual data to daily data\n",
    "PCs_fit = xds_reindex_daily(PCs_fit)\n",
    "print(PCs_fit)\n"
   ]
  },
  {
   "cell_type": "code",
   "execution_count": 5,
   "metadata": {},
   "outputs": [
    {
     "name": "stdout",
     "output_type": "stream",
     "text": [
      "<xarray.Dataset>\n",
      "Dimensions:    (n_covariates: 5, time: 14719)\n",
      "Coordinates:\n",
      "  * time       (time) datetime64[ns] 1979-02-13 1979-02-14 ... 2019-06-01\n",
      "Dimensions without coordinates: n_covariates\n",
      "Data variables:\n",
      "    cov_norm   (time, n_covariates) float64 -0.2024 0.7182 ... -0.8723 -2.634\n",
      "    cov_names  (n_covariates) <U4 'PC1' 'PC2' 'PC3' 'MJO1' 'MJO2'\n"
     ]
    }
   ],
   "source": [
    "# --------------------------------------\n",
    "# Mount covariates matrix (model fit: BMUS_fit, MJO_fit, PCs_fit)\n",
    "\n",
    "# covariates_fit dates\n",
    "d_fit = xds_common_dates_daily([MJO_fit, PCs_fit, BMUS_fit])\n",
    "\n",
    "# KMA dates\n",
    "BMUS_fit = BMUS_fit.sel(time = slice(d_fit[0], d_fit[-1]))\n",
    "\n",
    "# PCs covars \n",
    "cov_PCs = PCs_fit.sel(time = slice(d_fit[0], d_fit[-1]))\n",
    "cov_1 = cov_PCs.PC1.values.reshape(-1,1)\n",
    "cov_2 = cov_PCs.PC2.values.reshape(-1,1)\n",
    "cov_3 = cov_PCs.PC3.values.reshape(-1,1)\n",
    "\n",
    "# MJO covars\n",
    "cov_MJO = MJO_fit.sel(time = slice(d_fit[0], d_fit[-1]))\n",
    "cov_4 = cov_MJO.rmm1.values.reshape(-1,1)\n",
    "cov_5 = cov_MJO.rmm2.values.reshape(-1,1)\n",
    "\n",
    "# join covars \n",
    "cov_T = np.hstack((cov_1, cov_2, cov_3, cov_4, cov_5))\n",
    "\n",
    "# normalize\n",
    "cov_norm_fit = (cov_T - cov_T.mean(axis=0)) / cov_T.std(axis=0)\n",
    "cov_fit = xr.Dataset(\n",
    "    {\n",
    "        'cov_norm': (('time','n_covariates'), cov_norm_fit),\n",
    "        'cov_names': (('n_covariates',), ['PC1','PC2','PC3','MJO1','MJO2']),\n",
    "    },\n",
    "    coords = {'time': d_fit}\n",
    ")\n",
    "print(cov_fit)\n"
   ]
  },
  {
   "cell_type": "code",
   "execution_count": 6,
   "metadata": {},
   "outputs": [
    {
     "name": "stdout",
     "output_type": "stream",
     "text": [
      "\n",
      "Fitting autoregressive logistic model ...\n",
      "Optimization done in 122.66 seconds\n",
      "\n"
     ]
    }
   ],
   "source": [
    "# --------------------------------------\n",
    "# Autoregressive Logistic Regression\n",
    "\n",
    "# model fit: BMUS_fit, cov_fit, num_clusters\n",
    "# model sim: cov_sim, sim_num, sim_years\n",
    "\n",
    "# ALR terms\n",
    "d_terms_settings = {\n",
    "    'mk_order'  : alr_markov_order,\n",
    "    'constant' : True,\n",
    "    'long_term' : False,\n",
    "    'seasonality': (True, alr_seasonality),\n",
    "    'covariates': (True, cov_fit),\n",
    "}\n",
    "\n",
    "# ALR wrapper\n",
    "ALRW = ALR_WRP(db.paths.site.ESTELA.alrw)\n",
    "ALRW.SetFitData(alr_num_clusters, BMUS_fit, d_terms_settings)\n",
    "\n",
    "# ALR model fitting\n",
    "ALRW.FitModel(max_iter=50000)\n"
   ]
  },
  {
   "cell_type": "code",
   "execution_count": 7,
   "metadata": {
    "scrolled": false
   },
   "outputs": [
    {
     "name": "stdout",
     "output_type": "stream",
     "text": [
      "{'fopt': 0.9992291767891623, 'gopt': array([-9.70980997e-07,  4.08428584e-06,  3.00673235e-08, ...,\n",
      "        8.68225818e-10,  8.47004172e-10,  8.26839017e-10]), 'fcalls': 1026, 'warnflag': 0, 'converged': True, 'iterations': 996}\n",
      "                 0         1         2         3          4         5   \\\n",
      "intercept -7.691710 -2.877710 -8.060917 -1.925677  -2.776225 -8.109972   \n",
      "ss_cos_2  -0.753779 -2.181208 -4.738581 -2.935542  -4.214216  0.876195   \n",
      "ss_sin_2   0.720277 -0.124025 -2.674310 -3.640560  -4.698560  2.268287   \n",
      "ss_cos_4  -0.846015 -0.446037 -1.034129 -1.540543  -1.148421 -0.892392   \n",
      "ss_sin_4  -0.660376 -1.158928 -0.923468 -0.607379  -1.094567 -1.557696   \n",
      "...             ...       ...       ...       ...        ...       ...   \n",
      "mk3_37     4.350857  2.470139  3.623430  1.418880   1.000454  1.031199   \n",
      "mk3_38    -0.240449 -1.526518 -0.611365  9.841790  11.059505 -0.301828   \n",
      "mk3_39    -0.824195 -1.870918 -0.248624  1.685186  -3.740640 -5.270237   \n",
      "mk3_40     0.127215 -4.744987 -2.658173  4.040366  -2.048955 -2.223680   \n",
      "mk3_41     0.149018 -1.848916 -1.114310 -1.982543   8.558185  0.117724   \n",
      "\n",
      "                 6         7         8          9   ...         31         32  \\\n",
      "intercept -6.084270 -5.161258 -3.408715 -15.928507  ... -14.694974  -2.643703   \n",
      "ss_cos_2  -0.528460 -1.885936 -3.519769 -10.952666  ...   3.905448  -2.185264   \n",
      "ss_sin_2   1.122249  0.145040 -3.408500 -13.720049  ...   0.092997  -0.766758   \n",
      "ss_cos_4  -0.727623  0.096757 -0.352276  -0.078421  ...  -0.864073  -1.204928   \n",
      "ss_sin_4  -0.901934 -0.759799 -0.345594  -4.058558  ...   0.356752  -0.697886   \n",
      "...             ...       ...       ...        ...  ...        ...        ...   \n",
      "mk3_37     4.318395 -7.086082  1.404322  -5.152149  ...   5.762387   1.170041   \n",
      "mk3_38    -0.677983 -0.702261 -1.215184  -0.083983  ...  12.474146  10.631553   \n",
      "mk3_39    -1.637126 -1.357563  6.212240  -0.084649  ...  -2.352683  -1.225404   \n",
      "mk3_40    -0.064091 -0.142102 -2.430100   0.034043  ...  -0.083099  -1.733836   \n",
      "mk3_41     0.080115 -0.155337 -1.458815  -0.099063  ...   0.300190  -1.975679   \n",
      "\n",
      "                 33        34        35        36         37         38  \\\n",
      "intercept -6.788017 -7.651094 -4.074864 -4.245232 -13.388601 -18.642820   \n",
      "ss_cos_2  -4.841441 -2.207167 -1.977934 -1.959128  -3.120217   0.702392   \n",
      "ss_sin_2  -5.308617 -2.326913 -2.905500 -3.065640  -3.195914  -2.708952   \n",
      "ss_cos_4   0.563228  0.398868 -1.150702 -1.506399  -1.537013  -1.841070   \n",
      "ss_sin_4  -1.539335  1.107159  0.119088  0.545096  -0.224373   1.480307   \n",
      "...             ...       ...       ...       ...        ...        ...   \n",
      "mk3_37    -5.258708 -3.563250 -5.750169 -7.343961  -4.019515  -1.499312   \n",
      "mk3_38    -0.611535 -0.323820 -2.633639 -8.680554  -5.343639  -0.825992   \n",
      "mk3_39     7.635177 -0.717895 -3.039887 -4.504777  -1.029405  -1.012655   \n",
      "mk3_40    -0.141984  0.024572 -1.163937 -3.312239  -1.274894   0.210194   \n",
      "mk3_41    -1.126193 -1.939131 -0.594665 -4.185220   0.087793   0.317810   \n",
      "\n",
      "                  39         40  \n",
      "intercept -19.721365 -41.681530  \n",
      "ss_cos_2   -8.560911 -27.932841  \n",
      "ss_sin_2   -9.365612 -10.929339  \n",
      "ss_cos_4   -0.062705 -12.349289  \n",
      "ss_sin_4   -1.761925   2.963948  \n",
      "...              ...        ...  \n",
      "mk3_37     -2.520743   0.559553  \n",
      "mk3_38     -1.672658   0.556965  \n",
      "mk3_39      0.036796   0.922022  \n",
      "mk3_40     -0.075292   0.976115  \n",
      "mk3_41      0.444419   0.896036  \n",
      "\n",
      "[133 rows x 41 columns]\n"
     ]
    },
    {
     "ename": "ValueError",
     "evalue": "need covariance of parameters for computing (unnormalized) covariances",
     "output_type": "error",
     "traceback": [
      "\u001b[0;31m-----------------------------------------------------------------------\u001b[0m",
      "\u001b[0;31mValueError\u001b[0m                            Traceback (most recent call last)",
      "\u001b[0;32m<ipython-input-7-4accde641da2>\u001b[0m in \u001b[0;36m<module>\u001b[0;34m\u001b[0m\n\u001b[1;32m      2\u001b[0m \u001b[0mALRW\u001b[0m \u001b[0;34m=\u001b[0m \u001b[0mALR_WRP\u001b[0m\u001b[0;34m(\u001b[0m\u001b[0mdb\u001b[0m\u001b[0;34m.\u001b[0m\u001b[0mpaths\u001b[0m\u001b[0;34m.\u001b[0m\u001b[0msite\u001b[0m\u001b[0;34m.\u001b[0m\u001b[0mESTELA\u001b[0m\u001b[0;34m.\u001b[0m\u001b[0malrw\u001b[0m\u001b[0;34m)\u001b[0m\u001b[0;34m\u001b[0m\u001b[0;34m\u001b[0m\u001b[0m\n\u001b[1;32m      3\u001b[0m \u001b[0;34m\u001b[0m\u001b[0m\n\u001b[0;32m----> 4\u001b[0;31m \u001b[0mALRW\u001b[0m\u001b[0;34m.\u001b[0m\u001b[0mReport_Fit\u001b[0m\u001b[0;34m(\u001b[0m\u001b[0;34m)\u001b[0m\u001b[0;34m\u001b[0m\u001b[0;34m\u001b[0m\u001b[0m\n\u001b[0m\u001b[1;32m      5\u001b[0m \u001b[0;34m\u001b[0m\u001b[0m\n\u001b[1;32m      6\u001b[0m \u001b[0msys\u001b[0m\u001b[0;34m.\u001b[0m\u001b[0mexit\u001b[0m\u001b[0;34m(\u001b[0m\u001b[0;34m)\u001b[0m\u001b[0;34m\u001b[0m\u001b[0;34m\u001b[0m\u001b[0m\n",
      "\u001b[0;32m~/Software/Bitbucket_repos/teslakit/notebooks/KWAJALEIN/02_MetOcean_emulator/../../../teslakit/alr.py\u001b[0m in \u001b[0;36mReport_Fit\u001b[0;34m(self, terms_fit, summary, show)\u001b[0m\n\u001b[1;32m    425\u001b[0m         \u001b[0mprint\u001b[0m\u001b[0;34m(\u001b[0m\u001b[0mself\u001b[0m\u001b[0;34m.\u001b[0m\u001b[0mmodel\u001b[0m\u001b[0;34m.\u001b[0m\u001b[0mmle_retvals\u001b[0m\u001b[0;34m)\u001b[0m\u001b[0;34m\u001b[0m\u001b[0;34m\u001b[0m\u001b[0m\n\u001b[1;32m    426\u001b[0m         \u001b[0mprint\u001b[0m\u001b[0;34m(\u001b[0m\u001b[0mself\u001b[0m\u001b[0;34m.\u001b[0m\u001b[0mmodel\u001b[0m\u001b[0;34m.\u001b[0m\u001b[0mparams\u001b[0m\u001b[0;34m)\u001b[0m\u001b[0;34m\u001b[0m\u001b[0;34m\u001b[0m\u001b[0m\n\u001b[0;32m--> 427\u001b[0;31m         \u001b[0mprint\u001b[0m\u001b[0;34m(\u001b[0m\u001b[0mself\u001b[0m\u001b[0;34m.\u001b[0m\u001b[0mmodel\u001b[0m\u001b[0;34m.\u001b[0m\u001b[0mpvalues\u001b[0m\u001b[0;34m)\u001b[0m\u001b[0;34m\u001b[0m\u001b[0;34m\u001b[0m\u001b[0m\n\u001b[0m\u001b[1;32m    428\u001b[0m \u001b[0;34m\u001b[0m\u001b[0m\n\u001b[1;32m    429\u001b[0m         \u001b[0;31m# get data\u001b[0m\u001b[0;34m\u001b[0m\u001b[0;34m\u001b[0m\u001b[0;34m\u001b[0m\u001b[0m\n",
      "\u001b[0;32m~/Software/Bitbucket_repos/teslakit/venv/lib/python3.7/site-packages/statsmodels/base/wrapper.py\u001b[0m in \u001b[0;36m__getattribute__\u001b[0;34m(self, attr)\u001b[0m\n\u001b[1;32m     34\u001b[0m             \u001b[0;32mpass\u001b[0m\u001b[0;34m\u001b[0m\u001b[0;34m\u001b[0m\u001b[0m\n\u001b[1;32m     35\u001b[0m \u001b[0;34m\u001b[0m\u001b[0m\n\u001b[0;32m---> 36\u001b[0;31m         \u001b[0mobj\u001b[0m \u001b[0;34m=\u001b[0m \u001b[0mgetattr\u001b[0m\u001b[0;34m(\u001b[0m\u001b[0mresults\u001b[0m\u001b[0;34m,\u001b[0m \u001b[0mattr\u001b[0m\u001b[0;34m)\u001b[0m\u001b[0;34m\u001b[0m\u001b[0;34m\u001b[0m\u001b[0m\n\u001b[0m\u001b[1;32m     37\u001b[0m         \u001b[0mdata\u001b[0m \u001b[0;34m=\u001b[0m \u001b[0mresults\u001b[0m\u001b[0;34m.\u001b[0m\u001b[0mmodel\u001b[0m\u001b[0;34m.\u001b[0m\u001b[0mdata\u001b[0m\u001b[0;34m\u001b[0m\u001b[0;34m\u001b[0m\u001b[0m\n\u001b[1;32m     38\u001b[0m         \u001b[0mhow\u001b[0m \u001b[0;34m=\u001b[0m \u001b[0mself\u001b[0m\u001b[0;34m.\u001b[0m\u001b[0m_wrap_attrs\u001b[0m\u001b[0;34m.\u001b[0m\u001b[0mget\u001b[0m\u001b[0;34m(\u001b[0m\u001b[0mattr\u001b[0m\u001b[0;34m)\u001b[0m\u001b[0;34m\u001b[0m\u001b[0;34m\u001b[0m\u001b[0m\n",
      "\u001b[0;32mpandas/_libs/properties.pyx\u001b[0m in \u001b[0;36mpandas._libs.properties.CachedProperty.__get__\u001b[0;34m()\u001b[0m\n",
      "\u001b[0;32m~/Software/Bitbucket_repos/teslakit/venv/lib/python3.7/site-packages/statsmodels/base/model.py\u001b[0m in \u001b[0;36mpvalues\u001b[0;34m(self)\u001b[0m\n\u001b[1;32m   1369\u001b[0m             \u001b[0;32mreturn\u001b[0m \u001b[0mstats\u001b[0m\u001b[0;34m.\u001b[0m\u001b[0mt\u001b[0m\u001b[0;34m.\u001b[0m\u001b[0msf\u001b[0m\u001b[0;34m(\u001b[0m\u001b[0mnp\u001b[0m\u001b[0;34m.\u001b[0m\u001b[0mabs\u001b[0m\u001b[0;34m(\u001b[0m\u001b[0mself\u001b[0m\u001b[0;34m.\u001b[0m\u001b[0mtvalues\u001b[0m\u001b[0;34m)\u001b[0m\u001b[0;34m,\u001b[0m \u001b[0mdf_resid\u001b[0m\u001b[0;34m)\u001b[0m \u001b[0;34m*\u001b[0m \u001b[0;36m2\u001b[0m\u001b[0;34m\u001b[0m\u001b[0;34m\u001b[0m\u001b[0m\n\u001b[1;32m   1370\u001b[0m         \u001b[0;32melse\u001b[0m\u001b[0;34m:\u001b[0m\u001b[0;34m\u001b[0m\u001b[0;34m\u001b[0m\u001b[0m\n\u001b[0;32m-> 1371\u001b[0;31m             \u001b[0;32mreturn\u001b[0m \u001b[0mstats\u001b[0m\u001b[0;34m.\u001b[0m\u001b[0mnorm\u001b[0m\u001b[0;34m.\u001b[0m\u001b[0msf\u001b[0m\u001b[0;34m(\u001b[0m\u001b[0mnp\u001b[0m\u001b[0;34m.\u001b[0m\u001b[0mabs\u001b[0m\u001b[0;34m(\u001b[0m\u001b[0mself\u001b[0m\u001b[0;34m.\u001b[0m\u001b[0mtvalues\u001b[0m\u001b[0;34m)\u001b[0m\u001b[0;34m)\u001b[0m \u001b[0;34m*\u001b[0m \u001b[0;36m2\u001b[0m\u001b[0;34m\u001b[0m\u001b[0;34m\u001b[0m\u001b[0m\n\u001b[0m\u001b[1;32m   1372\u001b[0m \u001b[0;34m\u001b[0m\u001b[0m\n\u001b[1;32m   1373\u001b[0m     def cov_params(self, r_matrix=None, column=None, scale=None, cov_p=None,\n",
      "\u001b[0;32mpandas/_libs/properties.pyx\u001b[0m in \u001b[0;36mpandas._libs.properties.CachedProperty.__get__\u001b[0;34m()\u001b[0m\n",
      "\u001b[0;32m~/Software/Bitbucket_repos/teslakit/venv/lib/python3.7/site-packages/statsmodels/base/model.py\u001b[0m in \u001b[0;36mtvalues\u001b[0;34m(self)\u001b[0m\n\u001b[1;32m   1360\u001b[0m         \u001b[0mReturn\u001b[0m \u001b[0mthe\u001b[0m \u001b[0mt\u001b[0m\u001b[0;34m-\u001b[0m\u001b[0mstatistic\u001b[0m \u001b[0;32mfor\u001b[0m \u001b[0ma\u001b[0m \u001b[0mgiven\u001b[0m \u001b[0mparameter\u001b[0m \u001b[0mestimate\u001b[0m\u001b[0;34m.\u001b[0m\u001b[0;34m\u001b[0m\u001b[0;34m\u001b[0m\u001b[0m\n\u001b[1;32m   1361\u001b[0m         \"\"\"\n\u001b[0;32m-> 1362\u001b[0;31m         \u001b[0;32mreturn\u001b[0m \u001b[0mself\u001b[0m\u001b[0;34m.\u001b[0m\u001b[0mparams\u001b[0m \u001b[0;34m/\u001b[0m \u001b[0mself\u001b[0m\u001b[0;34m.\u001b[0m\u001b[0mbse\u001b[0m\u001b[0;34m\u001b[0m\u001b[0;34m\u001b[0m\u001b[0m\n\u001b[0m\u001b[1;32m   1363\u001b[0m \u001b[0;34m\u001b[0m\u001b[0m\n\u001b[1;32m   1364\u001b[0m     \u001b[0;34m@\u001b[0m\u001b[0mcached_value\u001b[0m\u001b[0;34m\u001b[0m\u001b[0;34m\u001b[0m\u001b[0m\n",
      "\u001b[0;32mpandas/_libs/properties.pyx\u001b[0m in \u001b[0;36mpandas._libs.properties.CachedProperty.__get__\u001b[0;34m()\u001b[0m\n",
      "\u001b[0;32m~/Software/Bitbucket_repos/teslakit/venv/lib/python3.7/site-packages/statsmodels/discrete/discrete_model.py\u001b[0m in \u001b[0;36mbse\u001b[0;34m(self)\u001b[0m\n\u001b[1;32m   4143\u001b[0m     \u001b[0;34m@\u001b[0m\u001b[0mcache_readonly\u001b[0m\u001b[0;34m\u001b[0m\u001b[0;34m\u001b[0m\u001b[0m\n\u001b[1;32m   4144\u001b[0m     \u001b[0;32mdef\u001b[0m \u001b[0mbse\u001b[0m\u001b[0;34m(\u001b[0m\u001b[0mself\u001b[0m\u001b[0;34m)\u001b[0m\u001b[0;34m:\u001b[0m\u001b[0;34m\u001b[0m\u001b[0;34m\u001b[0m\u001b[0m\n\u001b[0;32m-> 4145\u001b[0;31m         \u001b[0mbse\u001b[0m \u001b[0;34m=\u001b[0m \u001b[0mnp\u001b[0m\u001b[0;34m.\u001b[0m\u001b[0msqrt\u001b[0m\u001b[0;34m(\u001b[0m\u001b[0mnp\u001b[0m\u001b[0;34m.\u001b[0m\u001b[0mdiag\u001b[0m\u001b[0;34m(\u001b[0m\u001b[0mself\u001b[0m\u001b[0;34m.\u001b[0m\u001b[0mcov_params\u001b[0m\u001b[0;34m(\u001b[0m\u001b[0;34m)\u001b[0m\u001b[0;34m)\u001b[0m\u001b[0;34m)\u001b[0m\u001b[0;34m\u001b[0m\u001b[0;34m\u001b[0m\u001b[0m\n\u001b[0m\u001b[1;32m   4146\u001b[0m         \u001b[0;32mreturn\u001b[0m \u001b[0mbse\u001b[0m\u001b[0;34m.\u001b[0m\u001b[0mreshape\u001b[0m\u001b[0;34m(\u001b[0m\u001b[0mself\u001b[0m\u001b[0;34m.\u001b[0m\u001b[0mparams\u001b[0m\u001b[0;34m.\u001b[0m\u001b[0mshape\u001b[0m\u001b[0;34m,\u001b[0m \u001b[0morder\u001b[0m\u001b[0;34m=\u001b[0m\u001b[0;34m'F'\u001b[0m\u001b[0;34m)\u001b[0m\u001b[0;34m\u001b[0m\u001b[0;34m\u001b[0m\u001b[0m\n\u001b[1;32m   4147\u001b[0m \u001b[0;34m\u001b[0m\u001b[0m\n",
      "\u001b[0;32m~/Software/Bitbucket_repos/teslakit/venv/lib/python3.7/site-packages/statsmodels/base/model.py\u001b[0m in \u001b[0;36mcov_params\u001b[0;34m(self, r_matrix, column, scale, cov_p, other)\u001b[0m\n\u001b[1;32m   1430\u001b[0m         if (cov_p is None and self.normalized_cov_params is None and\n\u001b[1;32m   1431\u001b[0m                 not hasattr(self, 'cov_params_default')):\n\u001b[0;32m-> 1432\u001b[0;31m             raise ValueError('need covariance of parameters for computing '\n\u001b[0m\u001b[1;32m   1433\u001b[0m                              '(unnormalized) covariances')\n\u001b[1;32m   1434\u001b[0m         \u001b[0;32mif\u001b[0m \u001b[0mcolumn\u001b[0m \u001b[0;32mis\u001b[0m \u001b[0;32mnot\u001b[0m \u001b[0;32mNone\u001b[0m \u001b[0;32mand\u001b[0m \u001b[0;34m(\u001b[0m\u001b[0mr_matrix\u001b[0m \u001b[0;32mis\u001b[0m \u001b[0;32mnot\u001b[0m \u001b[0;32mNone\u001b[0m \u001b[0;32mor\u001b[0m \u001b[0mother\u001b[0m \u001b[0;32mis\u001b[0m \u001b[0;32mnot\u001b[0m \u001b[0;32mNone\u001b[0m\u001b[0;34m)\u001b[0m\u001b[0;34m:\u001b[0m\u001b[0;34m\u001b[0m\u001b[0;34m\u001b[0m\u001b[0m\n",
      "\u001b[0;31mValueError\u001b[0m: need covariance of parameters for computing (unnormalized) covariances"
     ]
    }
   ],
   "source": [
    "# Plot model p-values and params\n",
    "ALRW = ALR_WRP(db.paths.site.ESTELA.alrw)\n",
    "\n",
    "ALRW.Report_Fit()\n"
   ]
  },
  {
   "cell_type": "markdown",
   "metadata": {},
   "source": [
    "\n",
    "## ESTELA Predictor - Autoregressive Logistic Regression Simulation"
   ]
  },
  {
   "cell_type": "code",
   "execution_count": null,
   "metadata": {},
   "outputs": [],
   "source": [
    "# --------------------------------------\n",
    "# Prepare Covariates for ALR simulations\n",
    "\n",
    "# simulation dates\n",
    "d_sim = xds_common_dates_daily([MJO_sim_all, PCs_sim_all])\n",
    "\n",
    "# join covariates for all MJO, PCs simulations\n",
    "l_cov_sims = []\n",
    "for i in MJO_sim_all.n_sim: \n",
    "\n",
    "    # select simulation\n",
    "    MJO_sim = MJO_sim_all.sel(n_sim=i)\n",
    "    PCs_sim = PCs_sim_all.sel(n_sim=i)\n",
    "\n",
    "    # PCs covar \n",
    "    cov_PCs = PCs_sim.sel(time = slice(d_sim[0], d_sim[-1]))\n",
    "    cov_1 = cov_PCs.PC1.values.reshape(-1,1)\n",
    "    cov_2 = cov_PCs.PC2.values.reshape(-1,1)\n",
    "    cov_3 = cov_PCs.PC3.values.reshape(-1,1)\n",
    "\n",
    "    # MJO covars\n",
    "    cov_MJO = MJO_sim.sel(time = slice(d_sim[0], d_sim[-1]))\n",
    "    cov_4 = cov_MJO.rmm1.values.reshape(-1,1)\n",
    "    cov_5 = cov_MJO.rmm2.values.reshape(-1,1)\n",
    "\n",
    "    # join covars (do not normalize simulation covariates)\n",
    "    cov_T_sim = np.hstack((cov_1, cov_2, cov_3, cov_4, cov_5))\n",
    "    cov_sim = xr.Dataset(\n",
    "        {\n",
    "            'cov_values': (('time','n_covariates'), cov_T_sim),\n",
    "        },\n",
    "        coords = {'time': d_sim}\n",
    "    )\n",
    "    l_cov_sims.append(cov_sim)\n",
    "\n",
    "# use \"n_sim\" name to join covariates (ALR.Simulate() will recognize it)\n",
    "cov_sims = xr.concat(l_cov_sims, dim='n_sim')\n",
    "cov_sims = cov_sims.squeeze()\n",
    "\n",
    "print(cov_sims)\n"
   ]
  },
  {
   "cell_type": "code",
   "execution_count": null,
   "metadata": {},
   "outputs": [],
   "source": [
    "# --------------------------------------\n",
    "# Autoregressive Logistic Regression - simulate \n",
    "\n",
    "# launch simulation\n",
    "xds_alr = ALRW.Simulate(num_sims, d_sim, cov_sims, overfit_filter=True)\n",
    "\n",
    "# Store Daily Weather Types\n",
    "DWT_sim = xds_alr.evbmus_sims.to_dataset()\n",
    "db.Save_ESTELA_DWT_sim(DWT_sim)\n",
    "\n",
    "print(DWT_sim)\n"
   ]
  },
  {
   "cell_type": "code",
   "execution_count": null,
   "metadata": {
    "scrolled": false
   },
   "outputs": [],
   "source": [
    "# show sim report\n",
    "ALRW.Report_Sim(py_month_ini=6, persistences_table=False);\n"
   ]
  },
  {
   "cell_type": "code",
   "execution_count": null,
   "metadata": {},
   "outputs": [],
   "source": [
    "# Plot Historical DWTs probabilities (with TCs DWTs)\n",
    "\n",
    "bmus_fit = KMA_fit.sorted_bmus_storms.values[:] + 1\n",
    "dbmus_fit = KMA_fit.time.values[:]\n",
    "\n",
    "Plot_DWTs_Probs(bmus_fit, dbmus_fit, alr_num_clusters);\n"
   ]
  },
  {
   "cell_type": "code",
   "execution_count": null,
   "metadata": {
    "scrolled": false
   },
   "outputs": [],
   "source": [
    "# Plot Simulated DWTs probabilities (with TCs DWTs)\n",
    "\n",
    "bmus_sim = DWT_sim.isel(n_sim=0).evbmus_sims.values[:]\n",
    "dbmus_sim = DWT_sim.time.values[:]\n",
    "\n",
    "Plot_DWTs_Probs(bmus_sim, dbmus_sim, alr_num_clusters);\n"
   ]
  },
  {
   "cell_type": "code",
   "execution_count": null,
   "metadata": {},
   "outputs": [],
   "source": [
    "# Plot AWTs/DWTs Probabilities \n",
    "\n",
    "# clusters to plot (no TCs)\n",
    "n_clusters_AWT = 6\n",
    "n_clusters_DWT = 42\n",
    "n_sim = 0  # simulation to plot\n",
    "\n",
    "# Plot AWTs/DWTs Probs - historical\n",
    "AWT_hist, DWT_hist = db.Load_AWTs_DWTs_Plots_hist()\n",
    "AWT_bmus = AWT_hist.bmus.values[:]\n",
    "DWT_bmus = DWT_hist.bmus.values[:]\n",
    "\n",
    "Plot_Probs_WT_WT(\n",
    "    AWT_bmus, DWT_bmus, n_clusters_AWT, n_clusters_DWT,\n",
    "    wt_colors=True, ttl = 'DWTs Probabilities by AWTs - Historical'\n",
    ");\n",
    "\n",
    "# Plot AWTs/DWTs sim - simulated\n",
    "AWT_sim, DWT_sim = db.Load_AWTs_DWTs_Plots_sim(n_sim=0)\n",
    "AWT_bmus = AWT_sim.bmus.values[:]\n",
    "DWT_bmus = DWT_sim.bmus.values[:]\n",
    "\n",
    "Plot_Probs_WT_WT(\n",
    "    AWT_bmus, DWT_bmus, n_clusters_AWT, n_clusters_DWT,\n",
    "    wt_colors=True, ttl = 'DWTs Probabilities by AWTs - Simulation'\n",
    ");\n"
   ]
  },
  {
   "cell_type": "code",
   "execution_count": null,
   "metadata": {},
   "outputs": [],
   "source": [
    "# plot DWTs conditional probabilities to each AWT, minus mean probabilities\n",
    "\n",
    "# Plot AWTs/DWTs Probs - historical\n",
    "AWT_hist, DWT_hist = db.Load_AWTs_DWTs_Plots_hist()\n",
    "AWT_bmus = AWT_hist.bmus.values[:]\n",
    "DWT_bmus = DWT_hist.bmus.values[:]\n",
    "\n",
    "Plot_Probs_WT_WT_anomaly(\n",
    "    AWT_bmus, DWT_bmus, n_clusters_AWT, n_clusters_DWT,\n",
    "    wt_colors=True, ttl = 'DWTs anomaly Probabilities by AWTs - Historical'\n",
    ");\n",
    "\n",
    "# Plot AWTs/DWTs sim - simulated\n",
    "AWT_sim, DWT_sim = db.Load_AWTs_DWTs_Plots_sim(n_sim=0)\n",
    "AWT_bmus = AWT_sim.bmus.values[:]\n",
    "DWT_bmus = DWT_sim.bmus.values[:]\n",
    "\n",
    "Plot_Probs_WT_WT_anomaly(\n",
    "    AWT_bmus, DWT_bmus, n_clusters_AWT, n_clusters_DWT,\n",
    "    wt_colors=True, ttl = 'DWTs anomaly Probabilities by AWTs - Simulation'\n",
    ");\n"
   ]
  },
  {
   "cell_type": "code",
   "execution_count": null,
   "metadata": {},
   "outputs": [],
   "source": []
  }
 ],
 "metadata": {
  "kernelspec": {
   "display_name": "Python 3",
   "language": "python",
   "name": "python3"
  },
  "language_info": {
   "codemirror_mode": {
    "name": "ipython",
    "version": 3
   },
   "file_extension": ".py",
   "mimetype": "text/x-python",
   "name": "python",
   "nbconvert_exporter": "python",
   "pygments_lexer": "ipython3",
   "version": "3.7.2"
  }
 },
 "nbformat": 4,
 "nbformat_minor": 2
}
