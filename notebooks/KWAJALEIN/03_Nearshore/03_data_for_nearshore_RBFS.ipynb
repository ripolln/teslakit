{
 "cells": [
  {
   "cell_type": "markdown",
   "metadata": {},
   "source": [
    "\n",
    "... ***CURRENTLY UNDER DEVELOPMENT*** ...\n"
   ]
  },
  {
   "cell_type": "markdown",
   "metadata": {},
   "source": [
    "# Prepara fichero para Alba R"
   ]
  },
  {
   "cell_type": "code",
   "execution_count": 1,
   "metadata": {},
   "outputs": [],
   "source": [
    "#!/usr/bin/env python\n",
    "# -*- coding: utf-8 -*-\n",
    "\n",
    "# common\n",
    "import os\n",
    "import os.path as op\n",
    "\n",
    "# pip\n",
    "import numpy as np\n",
    "import xarray as xr\n",
    "import pandas as pd\n",
    "from datetime import datetime\n",
    "import matplotlib.pyplot as plt\n",
    "\n",
    "# DEV: override installed teslakit\n",
    "import sys\n",
    "sys.path.insert(0, op.join(os.path.abspath(''), '..', '..', '..'))\n",
    "\n",
    "# teslakit\n",
    "from teslakit.database import Database\n",
    "from teslakit.climate_emulator import Climate_Emulator\n",
    "from teslakit.waves import AWL, Aggregate_WavesFamilies\n",
    "\n",
    "from teslakit.plotting.outputs import Plot_FitSim_Histograms\n",
    "from teslakit.plotting.extremes import Plot_FitSim_AnnualMax, Plot_FitSim_GevFit, Plot_Fit_QQ\n",
    "\n",
    "from teslakit.plotting.waves import Plot_Waves_Histogram_FitSim\n"
   ]
  },
  {
   "cell_type": "code",
   "execution_count": 2,
   "metadata": {},
   "outputs": [],
   "source": [
    "# --------------------------------------\n",
    "# Teslakit database\n",
    "\n",
    "p_data = r'/Users/albacid/Projects/TeslaKit_projects'\n",
    "\n",
    "db = Database(p_data)\n",
    "\n",
    "# set site\n",
    "db.SetSite('KWAJALEIN_emulator')\n"
   ]
  },
  {
   "cell_type": "markdown",
   "metadata": {},
   "source": [
    "## Load waves from the climate emulator"
   ]
  },
  {
   "cell_type": "code",
   "execution_count": 3,
   "metadata": {},
   "outputs": [
    {
     "name": "stdout",
     "output_type": "stream",
     "text": [
      "<xarray.Dataset>\n",
      "Dimensions:      (index: 1032644)\n",
      "Coordinates:\n",
      "  * index        (index) int64 0 1 2 3 4 ... 1032640 1032641 1032642 1032643\n",
      "Data variables:\n",
      "    DWT          (index) float32 28.0 1.0 32.0 33.0 41.0 ... 13.0 28.0 20.0 20.0\n",
      "    sea_Hs       (index) float32 1.5582333 2.434917 ... 1.810582 2.2550507\n",
      "    sea_Tp       (index) float32 7.720595 8.870701 ... 8.210051 6.6658435\n",
      "    sea_Dir      (index) float32 54.23647 70.633 ... 56.327915 67.612114\n",
      "    swell_1_Hs   (index) float32 0.84767956 0.86827296 ... 0.3111764 0.42345622\n",
      "    swell_1_Tp   (index) float32 8.847652 6.94969 ... 9.856896 11.085974\n",
      "    swell_1_Dir  (index) float32 68.4031 97.40611 45.76165 ... 73.13391 72.43033\n",
      "    swell_2_Hs   (index) float32 0.35236874 0.28442293 ... 0.45500863 0.26068825\n",
      "    swell_2_Tp   (index) float32 11.0032215 12.334754 ... 11.017166 9.1800585\n",
      "    swell_2_Dir  (index) float32 179.73355 171.34354 ... 179.41365 171.41524\n",
      "    wind_speed   (index) float32 9.392085 6.3622866 ... 4.627558 7.380642\n",
      "    wind_dir     (index) float32 57.103546 82.062386 ... 69.68402 69.86024\n",
      "    mu           (index) float32 0.90360886 0.0 0.87524927 ... 0.0 0.0 0.8997115\n",
      "    tau          (index) float32 0.25 0.0 0.375 0.9305556 ... 0.0 0.0 0.9583333\n",
      "    ss           (index) float32 0.0 0.0 0.0 0.0 0.0 0.0 ... 0.0 0.0 0.0 0.0 0.0\n",
      "    n_sim        (index) int64 0 0 0 0 0 0 0 0 0 0 0 0 ... 9 9 9 9 9 9 9 9 9 9 9\n",
      "    time         (index) object 2000-01-01 00:00:00 ... 3000-01-01 00:00:00\n"
     ]
    }
   ],
   "source": [
    "# Full simulation\n",
    "\n",
    "CE = Climate_Emulator(db.paths.site.EXTREMES.climate_emulator)\n",
    "\n",
    "WVS_upd = CE.LoadSim_All(TCs=True)\n",
    "WVS_upd = WVS_upd.to_xarray()\n",
    "\n",
    "print(WVS_upd)"
   ]
  },
  {
   "cell_type": "code",
   "execution_count": 4,
   "metadata": {
    "scrolled": false
   },
   "outputs": [],
   "source": [
    "#----------------------------------------------------------\n",
    "# Poner NaN en WVS_upd_E donde Hs, Tp y Dir de Swell_1 y Swell_2 valen 0 (Hubo TC y sólo tenemos Sea family)\n",
    "\n",
    "ind = np.where(WVS_upd.swell_1_Tp==0.0)[0]\n",
    "\n",
    "vars = {'swell_1_Hs','swell_1_Tp','swell_1_Dir','swell_2_Hs','swell_2_Tp','swell_2_Dir'}\n",
    "for var in vars:\n",
    "    WVS_upd[var][ind] = np.nan\n"
   ]
  },
  {
   "cell_type": "markdown",
   "metadata": {},
   "source": [
    "## Separate TC waves from RMC"
   ]
  },
  {
   "cell_type": "code",
   "execution_count": 5,
   "metadata": {},
   "outputs": [
    {
     "name": "stdout",
     "output_type": "stream",
     "text": [
      "<xarray.Dataset>\n",
      "Dimensions:      (index: 11611)\n",
      "Coordinates:\n",
      "  * index        (index) int64 38 53 69 514 ... 1032362 1032372 1032604 1032628\n",
      "Data variables:\n",
      "    DWT          (index) float32 42.0 42.0 38.0 42.0 ... 42.0 39.0 40.0 39.0\n",
      "    sea_Hs       (index) float32 1.7516176 6.515 ... 2.8979678 1.9063991\n",
      "    sea_Tp       (index) float32 6.9174066 11.75 8.937762 ... 8.583973 8.310474\n",
      "    sea_Dir      (index) float32 141.57536 43.82 ... 116.05413 194.37665\n",
      "    swell_1_Hs   (index) float32 nan nan nan nan nan nan ... nan nan nan nan nan\n",
      "    swell_1_Tp   (index) float32 nan nan nan nan nan nan ... nan nan nan nan nan\n",
      "    swell_1_Dir  (index) float32 nan nan nan nan nan nan ... nan nan nan nan nan\n",
      "    swell_2_Hs   (index) float32 nan nan nan nan nan nan ... nan nan nan nan nan\n",
      "    swell_2_Tp   (index) float32 nan nan nan nan nan nan ... nan nan nan nan nan\n",
      "    swell_2_Dir  (index) float32 nan nan nan nan nan nan ... nan nan nan nan nan\n",
      "    wind_speed   (index) float32 10.202519 24.158522 ... 15.275871 9.353949\n",
      "    wind_dir     (index) float32 190.52203 327.30368 ... 183.15152 215.68405\n",
      "    mu           (index) float32 0.7090731 0.6972912 ... 0.7293781 0.7381156\n",
      "    tau          (index) float32 0.7236121 0.5806611 ... 0.91807365 0.9153443\n",
      "    ss           (index) float32 0.23061678 0.6250228 ... 0.37578928 0.3258743\n",
      "    n_sim        (index) float64 0.0 0.0 0.0 0.0 0.0 0.0 ... 9.0 9.0 9.0 9.0 9.0\n",
      "    time         (index) object 2000-04-24 00:00:00 ... 2999-11-20 00:00:00\n",
      "\n",
      "<xarray.Dataset>\n",
      "Dimensions:      (index: 1021033)\n",
      "Coordinates:\n",
      "  * index        (index) int64 0 1 2 3 4 ... 1032640 1032641 1032642 1032643\n",
      "Data variables:\n",
      "    DWT          (index) float32 28.0 1.0 32.0 33.0 41.0 ... 13.0 28.0 20.0 20.0\n",
      "    sea_Hs       (index) float32 1.5582333 2.434917 ... 1.810582 2.2550507\n",
      "    sea_Tp       (index) float32 7.720595 8.870701 ... 8.210051 6.6658435\n",
      "    sea_Dir      (index) float32 54.23647 70.633 ... 56.327915 67.612114\n",
      "    swell_1_Hs   (index) float32 0.84767956 0.86827296 ... 0.3111764 0.42345622\n",
      "    swell_1_Tp   (index) float32 8.847652 6.94969 ... 9.856896 11.085974\n",
      "    swell_1_Dir  (index) float32 68.4031 97.40611 45.76165 ... 73.13391 72.43033\n",
      "    swell_2_Hs   (index) float32 0.35236874 0.28442293 ... 0.45500863 0.26068825\n",
      "    swell_2_Tp   (index) float32 11.0032215 12.334754 ... 11.017166 9.1800585\n",
      "    swell_2_Dir  (index) float32 179.73355 171.34354 ... 179.41365 171.41524\n",
      "    wind_speed   (index) float32 9.392085 6.3622866 ... 4.627558 7.380642\n",
      "    wind_dir     (index) float32 57.103546 82.062386 ... 69.68402 69.86024\n",
      "    mu           (index) float32 0.90360886 0.0 0.87524927 ... 0.0 0.0 0.8997115\n",
      "    tau          (index) float32 0.25 0.0 0.375 0.9305556 ... 0.0 0.0 0.9583333\n",
      "    ss           (index) float32 0.0 0.0 0.0 0.0 0.0 0.0 ... 0.0 0.0 0.0 0.0 0.0\n",
      "    n_sim        (index) float64 0.0 0.0 0.0 0.0 0.0 0.0 ... 9.0 9.0 9.0 9.0 9.0\n",
      "    time         (index) object 2000-01-01 00:00:00 ... 3000-01-01 00:00:00\n",
      "\n"
     ]
    }
   ],
   "source": [
    "WVS_sim_TCs = WVS_upd.copy(deep=True)\n",
    "WVS_sim_RCM = WVS_upd.copy(deep=True)\n",
    "\n",
    "WVS_sim_TCs = WVS_sim_TCs.where(np.isnan(WVS_sim_TCs.swell_1_Hs), drop=True)\n",
    "print(WVS_sim_TCs)\n",
    "print()\n",
    "\n",
    "WVS_sim_RCM = WVS_sim_RCM.where(~np.isnan(WVS_sim_RCM.swell_1_Hs), drop=True)\n",
    "print(WVS_sim_RCM)\n",
    "print()\n",
    "\n",
    "# Remove time variable\n",
    "WVS_sim_RCM = WVS_sim_RCM.drop('time')\n",
    "WVS_sim_TCs = WVS_sim_TCs.drop('time')\n",
    "\n",
    "# save\n",
    "from teslakit.io.aux_nc import StoreBugXdset \n",
    "\n",
    "StoreBugXdset(WVS_sim_RCM, '/Users/albacid/Projects/TeslaKit_projects/sites/KWAJALEIN_emulator/EXTREMES/CE_all_sims_RCM.nc')  \n",
    "StoreBugXdset(WVS_sim_TCs, '/Users/albacid/Projects/TeslaKit_projects/sites/KWAJALEIN_emulator/EXTREMES/CE_all_sims_TCs.nc')  \n",
    "\n"
   ]
  },
  {
   "cell_type": "code",
   "execution_count": null,
   "metadata": {},
   "outputs": [],
   "source": []
  }
 ],
 "metadata": {
  "kernelspec": {
   "display_name": "Python 3",
   "language": "python",
   "name": "python3"
  },
  "language_info": {
   "codemirror_mode": {
    "name": "ipython",
    "version": 3
   },
   "file_extension": ".py",
   "mimetype": "text/x-python",
   "name": "python",
   "nbconvert_exporter": "python",
   "pygments_lexer": "ipython3",
   "version": "3.7.2"
  }
 },
 "nbformat": 4,
 "nbformat_minor": 2
}
