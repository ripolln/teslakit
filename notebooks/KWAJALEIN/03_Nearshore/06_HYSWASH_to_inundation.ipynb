{
 "cells": [
  {
   "cell_type": "markdown",
   "metadata": {},
   "source": [
    "\n",
    "... ***CURRENTLY UNDER DEVELOPMENT*** ...\n"
   ]
  },
  {
   "cell_type": "markdown",
   "metadata": {},
   "source": [
    "### TODO\n",
    "- ANNUAL MAXIMA RUNUP: historical vs sim erroneo\n"
   ]
  },
  {
   "cell_type": "code",
   "execution_count": 1,
   "metadata": {},
   "outputs": [],
   "source": [
    "#!/usr/bin/env python\n",
    "# -*- coding: utf-8 -*-\n",
    "\n",
    "# common\n",
    "import os\n",
    "import os.path as op\n",
    "\n",
    "# pip\n",
    "import numpy as np\n",
    "import pandas as pd\n",
    "import xarray as xr\n",
    "from scipy.interpolate import griddata\n",
    "import matplotlib.pyplot as plt\n",
    "from datetime import datetime\n",
    "\n",
    "\n",
    "# DEV: override installed teslakit\n",
    "import sys\n",
    "sys.path.insert(0, op.join(os.path.abspath(''), '..', '..', '..'))\n",
    "\n",
    "# teslakit\n",
    "from teslakit.database import Database\n",
    "from teslakit.rbf import RBF_Interpolation\n",
    "from teslakit.mda import Normalize\n",
    "\n",
    "from teslakit.plotting.extremes import Plot_ReturnPeriodValidation\n",
    "from teslakit.plotting.estela import Plot_DWTs_Probs\n",
    "from teslakit.plotting.wts import Plot_Probs_WT_WT\n"
   ]
  },
  {
   "cell_type": "code",
   "execution_count": 2,
   "metadata": {},
   "outputs": [],
   "source": [
    "# TODO:\n",
    "\n",
    "\n",
    "# Seleccionar casos para LisFlood (email ppt Ana)\n",
    "\n",
    "# puedo ir haciendo los escenarios de cambio climatico que faltan (parte offshore), y cuando termine este nb de hyswash, añadirlo a la parte nearshore (03_). \n",
    "# la parte offshore renombrarla de 01_ a 0_2\n",
    "\n",
    "\n"
   ]
  },
  {
   "cell_type": "markdown",
   "metadata": {},
   "source": [
    "\n",
    "## Database and Site parameters"
   ]
  },
  {
   "cell_type": "code",
   "execution_count": 3,
   "metadata": {},
   "outputs": [],
   "source": [
    "# --------------------------------------\n",
    "# Teslakit database\n",
    "\n",
    "p_data = r'/Users/albacid/Projects/TeslaKit_projects'\n",
    "db = Database(p_data)\n",
    "\n",
    "# set site\n",
    "db.SetSite('KWAJALEIN_emulator')\n",
    "\n",
    "\n",
    "# Simulation to plot DWTs and AT\n",
    "nsim=1\n"
   ]
  },
  {
   "cell_type": "markdown",
   "metadata": {},
   "source": [
    "## Load Hyswash simulations"
   ]
  },
  {
   "cell_type": "code",
   "execution_count": 40,
   "metadata": {
    "scrolled": false
   },
   "outputs": [
    {
     "name": "stdout",
     "output_type": "stream",
     "text": [
      "<xarray.Dataset>\n",
      "Dimensions:  (profile: 36, time: 340362)\n",
      "Coordinates:\n",
      "  * time     (time) datetime64[ns] 1979-01-01 ... 2018-12-16T10:00:00\n",
      "  * profile  (profile) int64 1 2 3 4 5 6 7 8 9 10 ... 28 29 30 31 32 33 34 35 36\n",
      "Data variables:\n",
      "    ru2      (profile, time) float64 ...\n",
      "    Qinv     (profile, time) float64 ...\n",
      "<xarray.Dataset>\n",
      "Dimensions:  (profile: 36, time: 350267)\n",
      "Coordinates:\n",
      "  * time     (time) datetime64[ns] 1979-01-01 ... 2018-12-16T10:00:00\n",
      "  * profile  (profile) int64 1 2 3 4 5 6 7 8 9 10 ... 28 29 30 31 32 33 34 35 36\n",
      "Data variables:\n",
      "    ru2      (profile, time) float64 ...\n",
      "    Qinv     (profile, time) float64 ...\n"
     ]
    },
    {
     "ename": "SystemExit",
     "evalue": "",
     "output_type": "error",
     "traceback": [
      "An exception has occurred, use %tb to see the full traceback.\n",
      "\u001b[0;31mSystemExit\u001b[0m\n"
     ]
    }
   ],
   "source": [
    "#-------------------------------\n",
    "# Load historical data\n",
    "\n",
    "hist_swells = xr.open_dataset('/Users/albacid/Downloads/swells_tcs_historical/swells_HySwash.nc')\n",
    "hist_TCs = xr.open_dataset('/Users/albacid/Downloads/swells_tcs_historical/tcs_HySwash.nc')\n",
    "\n",
    "print(hist_swells)\n",
    "print(hist_TCs)\n",
    "\n",
    "# TODO: incluir TCs\n",
    "qru_hist = hist_swells.copy(deep=True)\n",
    "\n",
    "sys.exit()\n",
    "\n",
    "for p in hist_swells.profile:\n",
    "    plt.figure(figsize=(20,5))\n",
    "    plt.plot(hist_swells.time, hist_swells.Qinv.sel(profile=p), '.' ,label='swell')\n",
    "    plt.plot(hist_TCs.time, hist_TCs.Qinv.sel(profile=p), '.', label='TCs')\n",
    "    plt.legend()\n",
    "    plt.title('profile ' + str(p))"
   ]
  },
  {
   "cell_type": "code",
   "execution_count": 4,
   "metadata": {},
   "outputs": [
    {
     "name": "stdout",
     "output_type": "stream",
     "text": [
      "<xarray.Dataset>\n",
      "Dimensions:  (profile: 36, time: 8765832)\n",
      "Coordinates:\n",
      "  * profile  (profile) float64 1.0 2.0 3.0 4.0 5.0 ... 32.0 33.0 34.0 35.0 36.0\n",
      "  * time     (time) object 2000-01-01 00:00:00 ... 2999-12-31 23:00:00.13\n",
      "Data variables:\n",
      "    ru2      (profile, time) float64 ...\n",
      "    q        (profile, time) float64 ...\n",
      "\n",
      "<xarray.Dataset>\n",
      "Dimensions:  (profile: 36, time: 8765832)\n",
      "Coordinates:\n",
      "  * profile  (profile) float64 1.0 2.0 3.0 4.0 5.0 ... 32.0 33.0 34.0 35.0 36.0\n",
      "  * time     (time) object 2000-01-01 00:00:00 ... 2999-12-31 23:00:00.13\n",
      "Data variables:\n",
      "    ru2      (profile, time) float64 ...\n",
      "    q        (profile, time) float64 ...\n"
     ]
    }
   ],
   "source": [
    "#-------------------------------\n",
    "# Load simulation data\n",
    "\n",
    "# Load overtopping & runup q(l/s/m). ru2(m)\n",
    "qru_0 = xr.open_dataset('/Users/albacid/Projects/SERDP/inputs_Kwajalein/HySwash_outputs/Sims/Sim_0.nc') \n",
    "qru_1 = xr.open_dataset('/Users/albacid/Projects/SERDP/inputs_Kwajalein/HySwash_outputs/Sims/Sim_1.nc') \n",
    "#qru_2 = xr.open_dataset('/Users/albacid/Projects/SERDP/inputs_Kwajalein/HySwash_outputs/Sims/Sim_2.nc') \n",
    "#qru_3 = xr.open_dataset('/Users/albacid/Projects/SERDP/inputs_Kwajalein/HySwash_outputs/Sims/Sim_3.nc') \n",
    "#qru_4 = xr.open_dataset('/Users/albacid/Projects/SERDP/inputs_Kwajalein/HySwash_outputs/Sims/Sim_4.nc') \n",
    "#qru_5 = xr.open_dataset('/Users/albacid/Projects/SERDP/inputs_Kwajalein/HySwash_outputs/Sims/Sim_5.nc') \n",
    "#qru_6 = xr.open_dataset('/Users/albacid/Projects/SERDP/inputs_Kwajalein/HySwash_outputs/Sims/Sim_6.nc') \n",
    "#qru_7 = xr.open_dataset('/Users/albacid/Projects/SERDP/inputs_Kwajalein/HySwash_outputs/Sims/Sim_7.nc')\n",
    "#qru_8 = xr.open_dataset('/Users/albacid/Projects/SERDP/inputs_Kwajalein/HySwash_outputs/Sims/Sim_8.nc')\n",
    "#qru_9 = xr.open_dataset('/Users/albacid/Projects/SERDP/inputs_Kwajalein/HySwash_outputs/Sims/Sim_9.nc')\n",
    "\n",
    "print(qru_0)\n",
    "print()\n",
    "print(qru_1)\n"
   ]
  },
  {
   "cell_type": "code",
   "execution_count": 7,
   "metadata": {},
   "outputs": [
    {
     "name": "stdout",
     "output_type": "stream",
     "text": [
      "<xarray.Dataset>\n",
      "Dimensions:  (n_sim: 2, profile: 36, time: 8765832)\n",
      "Coordinates:\n",
      "  * profile  (profile) float64 1.0 2.0 3.0 4.0 5.0 ... 32.0 33.0 34.0 35.0 36.0\n",
      "  * time     (time) object 2000-01-01 00:00:00 ... 2999-12-31 23:00:00.13\n",
      "  * n_sim    (n_sim) int64 0 1\n",
      "Data variables:\n",
      "    ru2      (n_sim, profile, time) float64 nan nan nan nan ... nan nan nan nan\n",
      "    q        (n_sim, profile, time) float64 nan nan nan nan ... nan nan nan nan\n"
     ]
    }
   ],
   "source": [
    "# Join simulations\n",
    "\n",
    "qru_0 = qru_0.assign_coords(n_sim=0).expand_dims('n_sim')\n",
    "qru_1 = qru_1.assign_coords(n_sim=1).expand_dims('n_sim')\n",
    "#qru_2 = qru_2.assign_coords(n_sim=2).expand_dims('n_sim')\n",
    "#qru_3 = qru_3.assign_coords(n_sim=3).expand_dims('n_sim')\n",
    "#qru_4 = qru_4.assign_coords(n_sim=4).expand_dims('n_sim')\n",
    "#qru_5 = qru_5.assign_coords(n_sim=5).expand_dims('n_sim')\n",
    "#qru_6 = qru_6.assign_coords(n_sim=6).expand_dims('n_sim')\n",
    "#qru_7 = qru_7.assign_coords(n_sim=7).expand_dims('n_sim')\n",
    "#qru_8 = qru_8.assign_coords(n_sim=8).expand_dims('n_sim')\n",
    "#qru_9 = qru_9.assign_coords(n_sim=9).expand_dims('n_sim')\n",
    "\n",
    "\n",
    "qru = xr.concat([qru_0, qru_1], dim='n_sim')\n",
    "#qru = xr.concat([qru_0, qru_1, qru_2, qru_3, qru_4, qru_5, qru_6, qru_7, qru_8, qru_9], dim='n_sim')\n",
    "print(qru)\n"
   ]
  },
  {
   "cell_type": "code",
   "execution_count": 8,
   "metadata": {},
   "outputs": [
    {
     "name": "stdout",
     "output_type": "stream",
     "text": [
      "<xarray.Dataset>\n",
      "Dimensions:  (time: 8765832)\n",
      "Coordinates:\n",
      "  * time     (time) object 2000-01-01 00:00:00 ... 2999-12-31 23:00:00.13\n",
      "Data variables:\n",
      "    DWT      (time) float32 ...\n",
      "    AWT      (time) float32 ...\n",
      "    AT       (time) float32 ...\n",
      "\n"
     ]
    }
   ],
   "source": [
    "# Only for plotting. Load one simulation\n",
    "\n",
    "offshore_vars = db.Load_SIM_OFFSHORE(n_sim=nsim, vns=['DWT', 'AWT', 'AT'], decode_times=True, use_cftime=True)\n",
    "print(offshore_vars)\n",
    "print()\n"
   ]
  },
  {
   "cell_type": "code",
   "execution_count": 11,
   "metadata": {},
   "outputs": [
    {
     "name": "stdout",
     "output_type": "stream",
     "text": [
      "<xarray.Dataset>\n",
      "Dimensions:  (n_sim: 2, profile: 36, time: 876583)\n",
      "Coordinates:\n",
      "  * profile  (profile) float64 1.0 2.0 3.0 4.0 5.0 ... 32.0 33.0 34.0 35.0 36.0\n",
      "  * time     (time) object 2000-01-01 00:00:00 ... 2099-12-31 06:00:00\n",
      "  * n_sim    (n_sim) int64 0 1\n",
      "Data variables:\n",
      "    ru2      (n_sim, profile, time) float64 0.0 0.0 0.0 0.0 ... 0.0 0.0 0.0 0.0\n",
      "    q        (n_sim, profile, time) float64 0.0 0.0 0.0 0.0 ... 0.0 0.0 0.0 0.0\n",
      "\n",
      "<xarray.Dataset>\n",
      "Dimensions:  (time: 876583)\n",
      "Coordinates:\n",
      "  * time     (time) object 2000-01-01 00:00:00 ... 2099-12-31 06:00:00\n",
      "Data variables:\n",
      "    DWT      (time) float32 ...\n",
      "    AWT      (time) float32 ...\n",
      "    AT       (time) float32 ...\n"
     ]
    }
   ],
   "source": [
    "# para quitar\n",
    "qru = qru.isel(time=slice(0, 876583))\n",
    "offshore_vars = offshore_vars.isel(time=slice(0, 876583))\n",
    "\n",
    "print(qru)\n",
    "print()\n",
    "print(offshore_vars)"
   ]
  },
  {
   "cell_type": "code",
   "execution_count": 10,
   "metadata": {
    "scrolled": true
   },
   "outputs": [
    {
     "name": "stdout",
     "output_type": "stream",
     "text": [
      "<xarray.Dataset>\n",
      "Dimensions:  (profile: 36, time: 876583)\n",
      "Coordinates:\n",
      "  * profile  (profile) float64 1.0 2.0 3.0 4.0 5.0 ... 32.0 33.0 34.0 35.0 36.0\n",
      "  * time     (time) object 2000-01-01 00:00:00 ... 2099-12-31 06:00:00\n",
      "    n_sim    int64 1\n",
      "Data variables:\n",
      "    ru2      (profile, time) float64 nan nan nan nan nan ... nan nan nan nan nan\n",
      "    q        (profile, time) float64 nan nan nan nan nan ... nan nan nan nan nan\n",
      "\n",
      "<xarray.Dataset>\n",
      "Dimensions:  (profile: 36, time: 876583)\n",
      "Coordinates:\n",
      "  * profile  (profile) float64 1.0 2.0 3.0 4.0 5.0 ... 32.0 33.0 34.0 35.0 36.0\n",
      "  * time     (time) object 2000-01-01 00:00:00 ... 2099-12-31 06:00:00\n",
      "    n_sim    int64 1\n",
      "Data variables:\n",
      "    ru2      (profile, time) float64 0.0 0.0 0.0 0.0 0.0 ... 0.0 0.0 0.0 0.0 0.0\n",
      "    q        (profile, time) float64 0.0 0.0 0.0 0.0 0.0 ... 0.0 0.0 0.0 0.0 0.0\n"
     ]
    }
   ],
   "source": [
    "# Hay nans en los datos:\n",
    "#for p in qru_2.profile.values:\n",
    "#    print('profile ' + str(p))\n",
    "#    \n",
    "#    kk = qru_2.q.sel(profile=p)\n",
    "#    print(len(kk.values))\n",
    "#\n",
    "#    kk = kk.where(~np.isnan(kk), drop=True)\n",
    "#    print(len(kk.values))\n",
    "#    print()\n",
    "     \n",
    "    \n",
    "# sustituir NaNs por 0\n",
    "qru = qru.where(~np.isnan(qru.q), 0)\n",
    "print(qru)\n"
   ]
  },
  {
   "cell_type": "code",
   "execution_count": 12,
   "metadata": {},
   "outputs": [],
   "source": [
    "# DatetimeGregorian to datetime\n",
    "time = [x.timetuple() for x in qru.time.values];\n",
    "time = [datetime(*x[:6]) for x in time];\n",
    "\n",
    "qru['time'] = time\n",
    "offshore_vars['time'] = time\n",
    "\n",
    "\n",
    "# round times to hour\n",
    "qru['time'] = qru['time'].dt.round('H')\n",
    "offshore_vars['time'] = offshore_vars['time'].dt.round('H')\n"
   ]
  },
  {
   "cell_type": "markdown",
   "metadata": {},
   "source": [
    "## Extreme events: Annual Maxima overtoppings"
   ]
  },
  {
   "cell_type": "code",
   "execution_count": 41,
   "metadata": {},
   "outputs": [
    {
     "name": "stdout",
     "output_type": "stream",
     "text": [
      "<xarray.Dataset>\n",
      "Dimensions:  (n_sim: 2, profile: 36, time: 876583)\n",
      "Coordinates:\n",
      "  * profile  (profile) float64 1.0 2.0 3.0 4.0 5.0 ... 32.0 33.0 34.0 35.0 36.0\n",
      "  * time     (time) datetime64[ns] 2000-01-01 ... 2099-12-31T06:00:00\n",
      "  * n_sim    (n_sim) int64 0 1\n",
      "Data variables:\n",
      "    ru2      (n_sim, profile, time) float64 0.0 0.0 0.0 0.0 ... 0.0 0.0 0.0 0.0\n",
      "    q        (n_sim, profile, time) float64 0.0 0.0 0.0 0.0 ... 0.0 0.0 0.0 0.0\n",
      "\n",
      "<xarray.Dataset>\n",
      "Dimensions:  (n_sim: 2, time: 876583)\n",
      "Coordinates:\n",
      "  * time     (time) datetime64[ns] 2000-01-01 ... 2099-12-31T06:00:00\n",
      "  * n_sim    (n_sim) int64 0 1\n",
      "Data variables:\n",
      "    ru2      (n_sim, time) float64 17.3 17.95 17.61 16.38 ... 16.72 20.64 23.21\n",
      "    q        (n_sim, time) float64 0.0 0.0 0.0 0.0 0.0 ... 0.0 0.0 0.0 0.0 0.0\n",
      "\n",
      "<xarray.Dataset>\n",
      "Dimensions:  (profile: 36, time: 340362)\n",
      "Coordinates:\n",
      "  * time     (time) datetime64[ns] 1979-01-01 ... 2018-12-16T10:00:00\n",
      "  * profile  (profile) int64 1 2 3 4 5 6 7 8 9 10 ... 28 29 30 31 32 33 34 35 36\n",
      "Data variables:\n",
      "    ru2      (profile, time) float64 nan nan nan nan nan ... nan nan nan nan nan\n",
      "    Qinv     (profile, time) float64 0.0 0.0 0.0 0.0 0.0 ... 0.0 0.0 0.0 0.0 0.0\n",
      "\n",
      "<xarray.Dataset>\n",
      "Dimensions:  (time: 340362)\n",
      "Coordinates:\n",
      "  * time     (time) datetime64[ns] 1979-01-01 ... 2018-12-16T10:00:00\n",
      "Data variables:\n",
      "    ru2      (time) float64 -1.296 -0.9848 -0.6548 3.868 ... 0.1186 12.79 0.9057\n",
      "    Qinv     (time) float64 0.0 0.0 0.0 0.0 0.0 0.0 ... 0.0 0.0 0.0 0.0 0.0 0.0\n"
     ]
    }
   ],
   "source": [
    "#--------------------------\n",
    "# Simulations\n",
    "\n",
    "# Neglect values in each profile where Q<0.01 l/s (neglegible)\n",
    "qru['q'] = qru.q.where(qru.q.values>=0.01, 0)\n",
    "\n",
    "# Sum all profiles\n",
    "qru_all = qru.sum(dim='profile')\n",
    "\n",
    "print(qru)\n",
    "print()\n",
    "print(qru_all)\n",
    "print()\n",
    "\n",
    "\n",
    "#--------------------------\n",
    "# Historical data\n",
    "\n",
    "# Neglect values in each profile where Q<0.01 l/s (neglegible)\n",
    "qru_hist['Qinv'] = qru_hist.Qinv.where(qru_hist.Qinv.values>=0.01, 0)\n",
    "\n",
    "# Sum all profiles\n",
    "qru_hist_all = qru_hist.sum(dim='profile')\n",
    "print(qru_hist)\n",
    "print()\n",
    "print(qru_hist_all)"
   ]
  },
  {
   "cell_type": "code",
   "execution_count": 48,
   "metadata": {},
   "outputs": [],
   "source": [
    "# Obtain annual maxima events\n",
    "\n",
    "def peaks_cleaner(xda):\n",
    "    '''\n",
    "    Locates annual maxima and attached variable peak, cleans everything else\n",
    "    \n",
    "    xda - input data array\n",
    "    '''\n",
    "    \n",
    "    # find annual maxima and dates   \n",
    "    def grouped_max(da, dim=None):\n",
    "        return da.isel(**{dim: da.argmax(dim)})\n",
    "    xmax = xda.groupby('time.year').apply(grouped_max, dim='time')\n",
    "    \n",
    "    # initialize output (clean data array)\n",
    "    xda_clean = xda.copy(deep=True)\n",
    "    xda_clean.values[:] = np.nan\n",
    "    \n",
    "    # find all ZERO values (peaks must start and end at val=0)\n",
    "    ix_zs = np.where(xda.values[:] == 0)[0]\n",
    "\n",
    "    # clean data year by year\n",
    "    for t_peak, v_peak in zip(xmax.time.values[:], xmax.values[:]):\n",
    "        \n",
    "        # skip years without value\n",
    "        if v_peak == 0: continue\n",
    "        \n",
    "        # find peak max index, locate this index \"zero indexes\" left and right neighbours\n",
    "        ix_p = np.where(t_peak == xda.time)[0]\n",
    "        \n",
    "        ix_z0 = ix_zs[np.where(ix_zs<ix_p)[0][-1]] +1 # first zero to the left\n",
    "        ix_z1 = ix_zs[np.where(ix_zs>ix_p)[0][0]]  # first zero to the right\n",
    "        \n",
    "        # fill clean output with main peak values\n",
    "        xda_clean.values[ix_z0:ix_z1] = xda.values[ix_z0:ix_z1]\n",
    "        \n",
    "        # TODO: usa/modifica estos prints para asegurarte que hace lo que quieres\n",
    "        #print()\n",
    "        #print(t_peak, v_peak)\n",
    "        #print(ix_p)\n",
    "        #print(ix_z0, ix_z1)\n",
    "        #print(xda.values[ix_z0:ix_z1])\n",
    "        #print(xda_clean.values[ix_z0:ix_z1])\n",
    "    \n",
    "    return xda_clean"
   ]
  },
  {
   "cell_type": "code",
   "execution_count": 62,
   "metadata": {
    "scrolled": false
   },
   "outputs": [
    {
     "name": "stdout",
     "output_type": "stream",
     "text": [
      "<xarray.Dataset>\n",
      "Dimensions:  (time: 876583)\n",
      "Coordinates:\n",
      "  * time     (time) datetime64[ns] 2000-01-01 ... 2099-12-31T06:00:00\n",
      "    n_sim    int64 0\n",
      "Data variables:\n",
      "    ru2      (time) float64 17.3 17.95 17.61 16.38 ... 12.43 16.72 20.64 23.21\n",
      "    q        (time) float64 0.0 0.0 0.0 0.0 0.0 0.0 ... 0.0 0.0 0.0 0.0 0.0 0.0\n",
      "\n",
      "<xarray.DataArray 'q' (time: 876583)>\n",
      "array([nan, nan, nan, ..., nan, nan, nan])\n",
      "Coordinates:\n",
      "  * time     (time) datetime64[ns] 2000-01-01 ... 2099-12-31T06:00:00\n",
      "    n_sim    int64 0\n",
      "<xarray.Dataset>\n",
      "Dimensions:  (time: 876583)\n",
      "Coordinates:\n",
      "  * time     (time) datetime64[ns] 2000-01-01 ... 2099-12-31T06:00:00\n",
      "    n_sim    int64 1\n",
      "Data variables:\n",
      "    ru2      (time) float64 17.3 17.95 17.61 16.38 ... 12.43 16.72 20.64 23.21\n",
      "    q        (time) float64 0.0 0.0 0.0 0.0 0.0 0.0 ... 0.0 0.0 0.0 0.0 0.0 0.0\n",
      "\n",
      "<xarray.DataArray 'q' (time: 876583)>\n",
      "array([nan, nan, nan, ..., nan, nan, nan])\n",
      "Coordinates:\n",
      "  * time     (time) datetime64[ns] 2000-01-01 ... 2099-12-31T06:00:00\n",
      "    n_sim    int64 1\n"
     ]
    },
    {
     "data": {
      "image/png": "[encoded data removed]",
      "text/plain": [
       "<Figure size 1440x720 with 1 Axes>"
      ]
     },
     "metadata": {
      "needs_background": "light"
     },
     "output_type": "display_data"
    },
    {
     "data": {
      "image/png": "[encoded data removed]",
      "text/plain": [
       "<Figure size 1440x720 with 1 Axes>"
      ]
     },
     "metadata": {
      "needs_background": "light"
     },
     "output_type": "display_data"
    }
   ],
   "source": [
    "# Obtain Annual maxima events for each n_sim\n",
    "\n",
    "for n in qru_all.n_sim:\n",
    "    \n",
    "    qru_all_nsim = qru_all.isel(n_sim=n)    \n",
    "    print(qru_all_nsim)\n",
    "    print()\n",
    "    \n",
    "    qru_all_nsim_Amax = peaks_cleaner(qru_all_nsim.q)\n",
    "    print(qru_all_nsim_Amax)\n",
    "    \n",
    "    plt.figure(figsize=(20,10))\n",
    "    plt.plot(qru_all_nsim.time, qru_all_nsim.q, '.', label='sum all profiles')\n",
    "    plt.plot(qru_all_nsim_Amax.time, qru_all_nsim_Amax.values, '.', label= 'annual maxima events')\n",
    "    plt.legend()\n",
    "    \n",
    "# TODO: save all sims"
   ]
  },
  {
   "cell_type": "code",
   "execution_count": null,
   "metadata": {},
   "outputs": [],
   "source": [
    "# Save annual maxima events for each profile for LisFlood"
   ]
  },
  {
   "cell_type": "markdown",
   "metadata": {},
   "source": [
    "#### Overtopping to inundation volumes"
   ]
  },
  {
   "cell_type": "code",
   "execution_count": 15,
   "metadata": {
    "scrolled": false
   },
   "outputs": [
    {
     "name": "stdout",
     "output_type": "stream",
     "text": [
      "<xarray.Dataset>\n",
      "Dimensions:   (n_sim: 2, time: 876583)\n",
      "Coordinates:\n",
      "  * time      (time) datetime64[ns] 2000-01-01 ... 2099-12-31T06:00:00\n",
      "  * n_sim     (n_sim) int64 0 1\n",
      "Data variables:\n",
      "    ru2       (n_sim, time) float64 17.3 17.95 17.61 16.38 ... 16.72 20.64 23.21\n",
      "    q         (n_sim, time) float64 0.0 0.0 0.0 0.0 0.0 ... 0.0 0.0 0.0 0.0 0.0\n",
      "    duration  (n_sim, time) float64 nan nan nan nan nan ... nan nan nan nan nan\n",
      "    ind_ini   (n_sim, time) float64 nan nan nan nan nan ... nan nan nan nan nan\n",
      "    ind_end   (n_sim, time) float64 nan nan nan nan nan ... nan nan nan nan nan\n"
     ]
    }
   ],
   "source": [
    "# Obtain duration of events\n",
    "qru_all['duration'] = qru_all.q*np.nan\n",
    "qru_all['ind_ini'] = qru_all.q*np.nan\n",
    "qru_all['ind_end'] = qru_all.q*np.nan\n",
    "\n",
    "for n in qru_all.n_sim:\n",
    "    \n",
    "    ind = np.where(qru_all.q.sel(n_sim=n)!=0)[0]\n",
    "\n",
    "    ind2 = np.where(np.diff(ind)!=1)[0]\n",
    "    ind2 = np.concatenate(([-1],ind2)) # fix last event?\n",
    "    \n",
    "    ind3 = np.diff(ind2)\n",
    "\n",
    "    # new var for qru_all\n",
    "    ed = np.zeros(len(qru_all.time))*np.nan\n",
    "    ed_ini = np.zeros(len(qru_all.time))*np.nan\n",
    "    ed_end = np.zeros(len(qru_all.time))*np.nan\n",
    "\n",
    "    for ix in range(len(ind2)-1):        \n",
    "        ix1 = ind2[ix]+1\n",
    "        ix2 = ind2[ix+1]+1\n",
    "\n",
    "        ind_t = ind[ix1:ix2]\n",
    "        ed[ind_t] = ind3[ix]\n",
    "        ed_ini[ind_t] = ind_t[0]\n",
    "        ed_end[ind_t] = ind_t[-1]\n",
    "\n",
    "    qru_all['duration'][n,:] = ed # duration of the overtopping event (hours)\n",
    "    qru_all['ind_ini'][n,:] = ed_ini # duration of the overtopping event (hours)\n",
    "    qru_all['ind_end'][n,:] = ed_end # duration of the overtopping event (hours)\n",
    "    \n",
    "print(qru_all)\n"
   ]
  },
  {
   "cell_type": "code",
   "execution_count": 17,
   "metadata": {},
   "outputs": [
    {
     "name": "stdout",
     "output_type": "stream",
     "text": [
      "<xarray.Dataset>\n",
      "Dimensions:   (n_sim: 2, year: 100)\n",
      "Coordinates:\n",
      "  * n_sim     (n_sim) int64 0 1\n",
      "    time      (year, n_sim) datetime64[ns] 2000-12-12T06:00:00 ... 2099-12-15T06:00:00\n",
      "  * year      (year) int64 2000 2001 2002 2003 2004 ... 2095 2096 2097 2098 2099\n",
      "Data variables:\n",
      "    ru2       (year, n_sim) float64 23.4 23.4 4.141 4.141 ... 8.208 33.73 33.73\n",
      "    q         (year, n_sim) float64 0.03542 0.03542 0.0 ... 0.0 0.01497 0.01497\n",
      "    duration  (year, n_sim) float64 2.0 2.0 nan nan 1.0 ... 3.0 nan nan nan nan\n",
      "    ind_ini   (year, n_sim) float64 8.309e+03 8.309e+03 nan nan ... nan nan nan\n",
      "    ind_end   (year, n_sim) float64 8.31e+03 8.31e+03 nan nan ... nan nan nan\n",
      "\n",
      "<xarray.Dataset>\n",
      "Dimensions:   (n_sim: 2, year: 57)\n",
      "Coordinates:\n",
      "  * n_sim     (n_sim) int64 0 1\n",
      "    time      (year, n_sim) datetime64[ns] 2000-12-12T06:00:00 ... 2099-12-15T06:00:00\n",
      "  * year      (year) int64 2000 2002 2003 2004 2008 ... 2093 2094 2096 2097 2099\n",
      "Data variables:\n",
      "    ru2       (year, n_sim) float64 23.4 23.4 23.55 23.55 ... 24.54 33.73 33.73\n",
      "    q         (year, n_sim) float64 0.03542 0.03542 0.01213 ... 0.01497 0.01497\n",
      "    duration  (year, n_sim) float64 2.0 2.0 1.0 1.0 5.0 ... 3.0 3.0 3.0 nan nan\n",
      "    ind_ini   (year, n_sim) float64 8.309e+03 8.309e+03 1.894e+04 ... nan nan\n",
      "    ind_end   (year, n_sim) float64 8.31e+03 8.31e+03 1.894e+04 ... nan nan\n",
      "\n",
      "<xarray.Dataset>\n",
      "Dimensions:   (n_sim: 2, year: 57)\n",
      "Coordinates:\n",
      "  * n_sim     (n_sim) int64 0 1\n",
      "    time      (year, n_sim) datetime64[ns] 2000-12-12T06:00:00 ... 2099-12-15T06:00:00\n",
      "  * year      (year) int64 2000 2002 2003 2004 2008 ... 2093 2094 2096 2097 2099\n",
      "Data variables:\n",
      "    ru2       (year, n_sim) float64 23.4 23.4 23.55 23.55 ... 24.54 33.73 33.73\n",
      "    q         (year, n_sim) float64 0.03542 0.03542 0.01213 ... 0.01497 0.01497\n",
      "    duration  (year, n_sim) float64 2.0 2.0 1.0 1.0 5.0 ... 3.0 3.0 3.0 nan nan\n",
      "    ind_ini   (year, n_sim) float64 8.309e+03 8.309e+03 1.894e+04 ... nan nan\n",
      "    ind_end   (year, n_sim) float64 8.31e+03 8.31e+03 1.894e+04 ... nan nan\n",
      "    volume    (year, n_sim) float64 255.0 255.0 43.67 43.67 ... 181.0 nan nan\n",
      "\n",
      "<xarray.Dataset>\n",
      "Dimensions:   (n_sim: 2, year: 56)\n",
      "Coordinates:\n",
      "  * n_sim     (n_sim) int64 0 1\n",
      "    time      (year, n_sim) datetime64[ns] 2000-12-12T06:00:00 ... 2097-02-17T20:00:00\n",
      "  * year      (year) int64 2000 2002 2003 2004 2008 ... 2092 2093 2094 2096 2097\n",
      "Data variables:\n",
      "    ru2       (year, n_sim) float64 23.4 23.4 23.55 23.55 ... 24.7 24.54 24.54\n",
      "    q         (year, n_sim) float64 0.03542 0.03542 0.01213 ... 0.01676 0.01676\n",
      "    duration  (year, n_sim) float64 2.0 2.0 1.0 1.0 5.0 ... 1.0 3.0 3.0 3.0 3.0\n",
      "    ind_ini   (year, n_sim) float64 8.309e+03 8.309e+03 ... 8.515e+05 8.515e+05\n",
      "    ind_end   (year, n_sim) float64 8.31e+03 8.31e+03 ... 8.515e+05 8.515e+05\n",
      "    volume    (year, n_sim) float64 255.0 255.0 43.67 ... 318.1 181.0 181.0\n",
      "\n"
     ]
    }
   ],
   "source": [
    "# Obtain instant of annual maxima overtopping from the sum of all profiles\n",
    "qru_all_AMax = qru_all.groupby('time.year').apply(grouped_max, vn='q', dim='time')\n",
    "print(qru_all_AMax)\n",
    "print()\n",
    "\n",
    "# Remove values where annual maxima overtopping is 0:\n",
    "qru_all_AMax = qru_all_AMax.where(qru_all_AMax.q!=0, drop=True)\n",
    "print(qru_all_AMax)\n",
    "print()\n",
    "\n",
    "# Obtain inundation volumes from overtopping (maximo caudal * duracion): Estamos sobreestimando??\n",
    "qru_all_AMax['volume'] = qru_all_AMax.q * qru_all_AMax.duration*3600 # volume in l/m\n",
    "print(qru_all_AMax)\n",
    "print()\n",
    "\n",
    "# Remove values where duration is nan???:\n",
    "qru_all_AMax = qru_all_AMax.where(~np.isnan(qru_all_AMax.volume), drop=True)\n",
    "print(qru_all_AMax)\n",
    "print()\n",
    "\n",
    "\n",
    "# Select instant of annual maxima for each profile.......FIX!!!!!!!!!!!!!\n",
    "#qru_AMax = qru.sel(time = qru_all_AMax.time)\n",
    "#print(qru_AMax)\n",
    "#print()\n",
    "#qru_AMax = qru.isel(time = qru_all_AMax.time)\n",
    "#print(qru_AMax)\n",
    "#print()\n",
    "\n"
   ]
  },
  {
   "cell_type": "code",
   "execution_count": 20,
   "metadata": {
    "scrolled": false
   },
   "outputs": [
    {
     "ename": "SystemExit",
     "evalue": "",
     "output_type": "error",
     "traceback": [
      "An exception has occurred, use %tb to see the full traceback.\n",
      "\u001b[0;31mSystemExit\u001b[0m\n"
     ]
    },
    {
     "data": {
      "image/png": "[encoded data removed]",
      "text/plain": [
       "<Figure size 1440x720 with 1 Axes>"
      ]
     },
     "metadata": {
      "needs_background": "light"
     },
     "output_type": "display_data"
    }
   ],
   "source": [
    "# plot annual maxima overtopping for one simulation\n",
    "\n",
    "plt.figure(figsize=(20,10))\n",
    "plt.plot(qru_all.time, qru_all.q.sel(n_sim=nsim), label='sum all profiles')\n",
    "plt.plot(qru_all_AMax.time.sel(n_sim=nsim), qru_all_AMax.q.sel(n_sim=nsim), '.',label='selected events')\n",
    "plt.legend()\n",
    "plt.grid()\n",
    "plt.ylabel('Q (l/s/m)')\n",
    "plt.title('Annual maxima overtopping')\n",
    "#plt.yscale('log')\n",
    "#plt.xlim(datetime(2099,7,1), datetime(2099,8,1))\n",
    "sys.exit()\n",
    "\n",
    "\n",
    "for p in qru.profile.values:        \n",
    "    plt.figure(figsize=(20,5))\n",
    "    plt.plot(qru.time, qru.q.sel(n_sim=nsim, profile=p), label=('profile ' + str(p) ))\n",
    "    plt.plot(qru_AMax.time.sel(n_sim=nsim), qru_AMax.q.sel(n_sim=nsim, profile=p), '.', label='selected events')    \n",
    "    plt.legend()\n",
    "    plt.grid()\n",
    "    #plt.xlim(datetime(2099,7,1), datetime(2099,8,1))"
   ]
  },
  {
   "cell_type": "code",
   "execution_count": 22,
   "metadata": {
    "scrolled": false
   },
   "outputs": [
    {
     "data": {
      "image/png": "[encoded data removed]",
      "text/plain": [
       "<Figure size 1440x720 with 1 Axes>"
      ]
     },
     "metadata": {
      "needs_background": "light"
     },
     "output_type": "display_data"
    }
   ],
   "source": [
    "# plot annual maxima inundation volume for one simulation\n",
    "\n",
    "plt.figure(figsize=(20,10))\n",
    "plt.plot(qru_all_AMax.time.sel(n_sim=nsim), qru_all_AMax.volume.sel(n_sim=nsim), '.',label='annual maxima')\n",
    "plt.legend()\n",
    "plt.grid()\n",
    "plt.title('Inundation volume from annual maxima overtoppings')\n",
    "plt.ylabel('Inundation volume (l/m)')\n",
    "plt.yscale('log')\n"
   ]
  },
  {
   "cell_type": "markdown",
   "metadata": {},
   "source": [
    "## DWT and AT associated to Annual maxima events"
   ]
  },
  {
   "cell_type": "code",
   "execution_count": 23,
   "metadata": {},
   "outputs": [
    {
     "name": "stdout",
     "output_type": "stream",
     "text": [
      "<xarray.Dataset>\n",
      "Dimensions:      (time: 876583)\n",
      "Coordinates:\n",
      "  * time         (time) datetime64[ns] 2000-01-01 ... 2099-12-31T06:00:00\n",
      "Data variables:\n",
      "    DWT          (time) float32 ...\n",
      "    AWT          (time) float32 ...\n",
      "    AT           (time) float32 ...\n",
      "    AT_category  (time) float32 nan nan nan nan nan nan ... nan nan nan nan nan\n",
      "\n",
      "AT cat 1: <0\n",
      "AT cat 2: 0 - 0.3039\n",
      "AT cat 3: 0.3039 - 0.4972\n",
      "AT cat 4: 0.4972 - 0.77\n",
      "AT cat 5: 0.77 - 0.9031\n",
      "AT cat 6: 0.9031 - 1.068\n"
     ]
    }
   ],
   "source": [
    "offshore_vars['AT_category'] = offshore_vars.AT*np.nan\n",
    "print(offshore_vars)\n",
    "print()\n",
    "\n",
    "# Tide values <= 0 assign to cat 1\n",
    "ind = np.where(offshore_vars.AT <=0)[0]\n",
    "offshore_vars['AT_category'][ind] = 1\n",
    "\n",
    "\n",
    "# Tide values >0 assign to cat 2-6\n",
    "AT_positive = offshore_vars.AT.where(offshore_vars.AT>0, drop=True)\n",
    "AT_perc = np.percentile(AT_positive.values, [50, 75, 95, 99, 100])\n",
    "\n",
    "# cat 1\n",
    "ind = np.where((offshore_vars.AT > 0) & (offshore_vars.AT <= AT_perc[0]))[0]\n",
    "offshore_vars['AT_category'][ind] = 2\n",
    "\n",
    "# cat 2\n",
    "ind = np.where((offshore_vars.AT > AT_perc[0]) & (offshore_vars.AT <= AT_perc[1]))[0]\n",
    "offshore_vars['AT_category'][ind] = 3\n",
    "\n",
    "# cat 3\n",
    "ind = np.where((offshore_vars.AT > AT_perc[1]) & (offshore_vars.AT <= AT_perc[2]))[0]\n",
    "offshore_vars['AT_category'][ind] = 4\n",
    "\n",
    "# cat 4\n",
    "ind = np.where((offshore_vars.AT > AT_perc[2]) & (offshore_vars.AT <= AT_perc[3]))[0]\n",
    "offshore_vars['AT_category'][ind] = 5\n",
    "\n",
    "# cat 5\n",
    "ind = np.where((offshore_vars.AT > AT_perc[3]) & (offshore_vars.AT <= AT_perc[4]))[0]\n",
    "offshore_vars['AT_category'][ind] = 6\n",
    "\n",
    "\n",
    "print('AT cat 1:', '<0')\n",
    "print('AT cat 2:', 0, '-', round(AT_perc[0],4))\n",
    "print('AT cat 3:', round(AT_perc[0],4), '-',  round(AT_perc[1],4))\n",
    "print('AT cat 4:', round(AT_perc[1],4), '-',  round(AT_perc[2],4))\n",
    "print('AT cat 5:', round(AT_perc[2],4), '-',  round(AT_perc[3],4))\n",
    "print('AT cat 6:', round(AT_perc[3],4), '-',  round(AT_perc[4],4))\n"
   ]
  },
  {
   "cell_type": "code",
   "execution_count": 24,
   "metadata": {},
   "outputs": [
    {
     "name": "stdout",
     "output_type": "stream",
     "text": [
      "<xarray.Dataset>\n",
      "Dimensions:      (year: 56)\n",
      "Coordinates:\n",
      "    time         (year) datetime64[ns] 2000-12-12T06:00:00 ... 2097-02-17T20:00:00\n",
      "    n_sim        int64 1\n",
      "  * year         (year) int64 2000 2002 2003 2004 2008 ... 2093 2094 2096 2097\n",
      "Data variables:\n",
      "    DWT          (year) float32 ...\n",
      "    AWT          (year) float32 ...\n",
      "    AT           (year) float32 ...\n",
      "    AT_category  (year) float32 5.0 6.0 6.0 5.0 1.0 4.0 ... 4.0 2.0 3.0 6.0 4.0\n",
      "\n",
      "[1. 2. 3. 4. 5. 6.]\n",
      "[ 3  1  4 14 16 18]\n"
     ]
    }
   ],
   "source": [
    "# Select variables at annual maxima. Choose one simulation\n",
    "offshore_vars_AMax = offshore_vars.sel(time=qru_all_AMax.time.sel(n_sim=nsim))\n",
    "\n",
    "print(offshore_vars_AMax)\n",
    "\n",
    "u, indices = np.unique(offshore_vars_AMax.AT_category, return_counts=True)\n",
    "print()\n",
    "print(u)\n",
    "print(indices)\n"
   ]
  },
  {
   "cell_type": "code",
   "execution_count": 25,
   "metadata": {},
   "outputs": [
    {
     "data": {
      "image/png": "[encoded data removed]",
      "text/plain": [
       "<Figure size 1141.66x705.6 with 19 Axes>"
      ]
     },
     "metadata": {
      "needs_background": "light"
     },
     "output_type": "display_data"
    }
   ],
   "source": [
    "# Plot Annual Maxima DWT probabilities by month\n",
    "n_clusters_DWT = 42   # number of DWT clusters\n",
    "\n",
    "Plot_DWTs_Probs(offshore_vars_AMax['DWT'].values, offshore_vars_AMax.time.values, n_clusters_DWT);"
   ]
  },
  {
   "cell_type": "code",
   "execution_count": 26,
   "metadata": {},
   "outputs": [
    {
     "data": {
      "image/png": "[encoded data removed]",
      "text/plain": [
       "<Figure size 1141.66x235.2 with 6 Axes>"
      ]
     },
     "metadata": {},
     "output_type": "display_data"
    }
   ],
   "source": [
    "# Plot Annual Maxima DWT probabilities by AT category (1-6)\n",
    "\n",
    "n_clusters_AT = 6\n",
    "AT_amp = 42\n",
    "\n",
    "AT_amp = offshore_vars_AMax['AT_category'].values-1\n",
    "DWT_bmus = offshore_vars_AMax['DWT'].values-1\n",
    "\n",
    "Plot_Probs_WT_WT(\n",
    "    AT_amp, DWT_bmus, n_clusters_AT, n_clusters_DWT,\n",
    "    wt_colors=False, ttl='DWTs Probabilities by AT categories');\n",
    "\n"
   ]
  },
  {
   "cell_type": "markdown",
   "metadata": {},
   "source": [
    "\n",
    "## Return periods from Annual Maxima"
   ]
  },
  {
   "cell_type": "code",
   "execution_count": 42,
   "metadata": {
    "scrolled": false
   },
   "outputs": [
    {
     "name": "stdout",
     "output_type": "stream",
     "text": [
      "<xarray.Dataset>\n",
      "Dimensions:  (year: 40)\n",
      "Coordinates:\n",
      "    time     (year) datetime64[ns] 1979-01-03T09:00:00 ... 2018-01-01\n",
      "  * year     (year) int64 1979 1980 1981 1982 1983 ... 2014 2015 2016 2017 2018\n",
      "Data variables:\n",
      "    ru2      (year) float64 22.94 27.47 24.88 15.4 ... 21.85 19.92 0.1828 5.059\n",
      "    Qinv     (year) float64 21.71 0.2226 1.877 0.08982 ... 0.0631 0.0 0.0\n",
      "\n",
      "<xarray.Dataset>\n",
      "Dimensions:  (year: 36)\n",
      "Coordinates:\n",
      "    time     (year) datetime64[ns] 1979-01-03T09:00:00 ... 2016-03-11T06:00:00\n",
      "  * year     (year) int64 1979 1980 1981 1982 1983 ... 2012 2013 2014 2015 2016\n",
      "Data variables:\n",
      "    ru2      (year) float64 22.94 27.47 24.88 15.4 ... 23.46 18.39 21.85 19.92\n",
      "    Qinv     (year) float64 21.71 0.2226 1.877 ... 0.05327 0.07346 0.0631\n"
     ]
    },
    {
     "data": {
      "image/png": "[encoded data removed]",
      "text/plain": [
       "<Figure size 1141.66x705.6 with 1 Axes>"
      ]
     },
     "metadata": {
      "needs_background": "light"
     },
     "output_type": "display_data"
    }
   ],
   "source": [
    "# Obtain instant of annual maxima overtopping from the sum of all profiles\n",
    "qru_hist_all_AMax = qru_hist_all.groupby('time.year').apply(grouped_max, vn='Qinv', dim='time')\n",
    "print(qru_hist_all_AMax)\n",
    "print()\n",
    "\n",
    "# Remove values where annual maxima overtopping is 0:\n",
    "qru_hist_all_AMax = qru_hist_all_AMax.where(qru_hist_all_AMax.Qinv!=0, drop=True)\n",
    "print(qru_hist_all_AMax)\n",
    "\n",
    "Plot_ReturnPeriodValidation(qru_hist_all_AMax['Qinv'], qru_all_AMax['q'].transpose());\n",
    "#Plot_ReturnPeriodValidation(qru_all_AMax['volume'].sel(n_sim=nsim), qru_all_AMax['volume'].transpose());\n",
    "\n",
    "# remove nans ???\n",
    "\n"
   ]
  },
  {
   "cell_type": "code",
   "execution_count": null,
   "metadata": {},
   "outputs": [],
   "source": []
  },
  {
   "cell_type": "code",
   "execution_count": null,
   "metadata": {},
   "outputs": [],
   "source": []
  },
  {
   "cell_type": "code",
   "execution_count": 91,
   "metadata": {},
   "outputs": [
    {
     "name": "stdout",
     "output_type": "stream",
     "text": [
      "<xarray.Dataset>\n",
      "Dimensions:     (n_sim: 10, time: 8765832)\n",
      "Coordinates:\n",
      "  * time        (time) object 2000-01-01 00:00:00 ... 2999-12-31 23:00:00.13\n",
      "  * n_sim       (n_sim) int64 0 1 2 3 4 5 6 7 8 9\n",
      "Data variables:\n",
      "    SS          (time, n_sim) float64 ...\n",
      "    MJO         (time, n_sim) float64 ...\n",
      "    level       (time, n_sim) float64 ...\n",
      "    wind_dir    (time, n_sim) float64 ...\n",
      "    TWL         (time, n_sim) float64 ...\n",
      "    AWT         (time, n_sim) float64 ...\n",
      "    AWL         (time, n_sim) float64 ...\n",
      "    max_storms  (time, n_sim) float64 ...\n",
      "    MMSL        (time, n_sim) float64 ...\n",
      "    Dir         (time, n_sim) float64 ...\n",
      "    DWT         (time, n_sim) float64 ...\n",
      "    wind_speed  (time, n_sim) float64 ...\n",
      "    AT          (time, n_sim) float64 ...\n",
      "    Tp          (time, n_sim) float64 ...\n",
      "    mslp        (time, n_sim) float64 ...\n",
      "    Hs          (time, n_sim) float64 ...\n"
     ]
    }
   ],
   "source": [
    "SIM_C_h = db.Load_SIM_OFFSHORE_all(decode_times=True, use_cftime=True)\n",
    "print(SIM_C_h)\n"
   ]
  },
  {
   "cell_type": "code",
   "execution_count": 92,
   "metadata": {},
   "outputs": [
    {
     "name": "stdout",
     "output_type": "stream",
     "text": [
      "<xarray.DataArray 'AWL' (n_sim: 10, year: 1000)>\n",
      "array([[1.28859305, 0.87215275, 1.06284773, ..., 0.92875326, 1.11366844,\n",
      "        0.84255898],\n",
      "       [1.13242078, 0.96351206, 0.94780171, ..., 0.83334625, 1.26102328,\n",
      "        1.40075493],\n",
      "       [0.95421553, 0.94239271, 0.91209894, ..., 1.27749252, 0.93405277,\n",
      "        1.03592777],\n",
      "       ...,\n",
      "       [0.95908374, 0.93894541, 1.05140936, ..., 1.26629782, 0.98569471,\n",
      "        1.04656291],\n",
      "       [0.93151611, 0.91570938, 0.8885926 , ..., 0.97120196, 0.92048782,\n",
      "        0.94822937],\n",
      "       [0.98555404, 1.12972367, 1.04381168, ..., 1.05403626, 1.05189705,\n",
      "        0.97443587]])\n",
      "Coordinates:\n",
      "  * n_sim    (n_sim) int64 0 1 2 3 4 5 6 7 8 9\n",
      "    time     (year, n_sim) object 2000-05-25 13:00:00 ... 2999-02-21 00:00:00\n",
      "  * year     (year) int64 2000 2001 2002 2003 2004 ... 2995 2996 2997 2998 2999\n"
     ]
    }
   ],
   "source": [
    "\n",
    "sim_AMax = SIM_C_h.groupby('time.year').apply(grouped_max, vn='AWL', dim='time')\n",
    "print(sim_AMax['AWL'].transpose())\n"
   ]
  },
  {
   "cell_type": "code",
   "execution_count": 86,
   "metadata": {},
   "outputs": [
    {
     "name": "stdout",
     "output_type": "stream",
     "text": [
      "<xarray.Dataset>\n",
      "Dimensions:      (time: 1228921)\n",
      "Coordinates:\n",
      "  * time         (time) datetime64[ns] 1880-06-01 ... 2020-08-11\n",
      "Data variables:\n",
      "    swell_2_Tp   (time) float64 ...\n",
      "    MJO          (time) float64 ...\n",
      "    level        (time) float64 ...\n",
      "    TWL          (time) float64 ...\n",
      "    AWT          (time) float64 ...\n",
      "    swell_2_Hs   (time) float64 ...\n",
      "    AWL          (time) float64 ...\n",
      "    swell_1_Tp   (time) float64 ...\n",
      "    max_storms   (time) bool ...\n",
      "    MMSL         (time) float64 ...\n",
      "    swell_2_Dir  (time) float64 ...\n",
      "    swell_1_Hs   (time) float64 ...\n",
      "    sea_Dir      (time) float64 ...\n",
      "    Dir          (time) float64 ...\n",
      "    DWT          (time) float64 ...\n",
      "    AT           (time) float64 ...\n",
      "    Tp           (time) float64 ...\n",
      "    sea_Tp       (time) float64 ...\n",
      "    swell_1_Dir  (time) float64 ...\n",
      "    sea_Hs       (time) float32 ...\n",
      "    Hs           (time) float64 ...\n",
      "<xarray.Dataset>\n",
      "Dimensions:      (year: 42)\n",
      "Coordinates:\n",
      "    time         (year) datetime64[ns] 1979-01-03T08:00:00 ... 2020-01-01\n",
      "  * year         (year) int64 1979 1980 1981 1982 1983 ... 2017 2018 2019 2020\n",
      "Data variables:\n",
      "    swell_2_Tp   (year) float64 nan 9.317 9.216 10.32 ... 7.407 15.64 11.83 11.9\n",
      "    MJO          (year) float64 15.0 25.0 16.0 9.0 25.0 ... 12.0 11.0 25.0 25.0\n",
      "    level        (year) float64 0.5595 -0.03069 -0.242 ... 0.001548 nan nan\n",
      "    TWL          (year) float64 1.637 0.9237 0.9517 0.6004 ... 0.9451 nan nan\n",
      "    AWT          (year) float64 4.0 5.0 5.0 4.0 5.0 5.0 ... 1.0 4.0 3.0 nan nan\n",
      "    swell_2_Hs   (year) float64 nan 0.3346 0.7564 0.1806 ... 1.233 0.3833 0.3897\n",
      "    AWL          (year) float64 1.077 0.9544 1.194 0.9795 ... 0.9436 1.124 1.134\n",
      "    swell_1_Tp   (year) float64 nan nan nan nan nan ... nan nan 9.849 nan nan\n",
      "    max_storms   (year) bool False False True True ... True False False True\n",
      "    MMSL         (year) float64 -0.08098 -0.04453 0.03238 ... -0.03768 nan nan\n",
      "    swell_2_Dir  (year) float64 nan 180.2 198.5 187.3 ... 186.4 168.3 168.8\n",
      "    swell_1_Hs   (year) float64 nan nan nan nan nan ... nan nan 0.954 nan nan\n",
      "    sea_Dir      (year) float64 60.33 11.17 80.8 22.93 ... 65.8 353.5 353.8\n",
      "    Dir          (year) float64 60.33 11.31 81.5 22.98 ... 141.9 353.6 353.8\n",
      "    DWT          (year) float64 nan 28.0 40.0 28.0 29.0 ... 8.0 15.0 26.0 26.0\n",
      "    AT           (year) float64 0.6405 0.01384 -0.2743 ... 0.03923 nan nan\n",
      "    Tp           (year) float64 10.66 14.41 11.5 13.62 ... 15.64 15.83 15.91\n",
      "    sea_Tp       (year) float64 10.66 14.41 11.5 13.62 ... 5.971 15.83 15.91\n",
      "    swell_1_Dir  (year) float64 nan nan nan nan nan ... nan nan 74.79 nan nan\n",
      "    sea_Hs       (year) float32 5.5252314 2.3531442 ... 2.7024312 2.7258103\n",
      "    Hs           (year) float64 5.525 2.377 5.84 2.802 ... 1.971 2.729 2.754\n"
     ]
    }
   ],
   "source": [
    "\n",
    "# Historical\n",
    "HIST_C_h = db.Load_HIST_OFFSHORE(decode_times=True)\n",
    "print(HIST_C_h)\n",
    "\n",
    "# remove nans before and after AWL\n",
    "ix_nonan = np.squeeze(np.argwhere(~np.isnan(HIST_C_h['AWL'].values[:])))\n",
    "HIST_C_nonan = HIST_C_h.isel(time = ix_nonan)\n",
    "\n",
    "# calculate AWL annual maxima dataset\n",
    "hist_AMax = HIST_C_nonan.groupby('time.year').apply(grouped_max, vn='AWL', dim='time')\n",
    "print(hist_AMax)\n"
   ]
  },
  {
   "cell_type": "code",
   "execution_count": 88,
   "metadata": {},
   "outputs": [
    {
     "name": "stdout",
     "output_type": "stream",
     "text": [
      "<xarray.DataArray 'AWL' (year: 42)>\n",
      "array([1.07703956, 0.95440366, 1.19361884, 0.97947271, 0.88673231,\n",
      "       0.96725154, 0.89751186, 0.874581  , 0.90518908, 1.15490214,\n",
      "       1.27104963, 1.05366095, 0.89412949, 1.09957293, 1.06882852,\n",
      "       0.91218232, 0.97114539, 1.06204113, 1.02713025, 0.89666282,\n",
      "       0.81477102, 0.92788856, 1.27139535, 0.92759179, 0.79700215,\n",
      "       0.82553226, 0.8384193 , 0.7773031 , 0.91826607, 1.00935323,\n",
      "       0.97957335, 0.84814522, 0.9794702 , 0.79252409, 0.7864621 ,\n",
      "       0.84245266, 0.85066379, 1.02690672, 0.83529892, 0.94355758,\n",
      "       1.12357295, 1.1340999 ])\n",
      "Coordinates:\n",
      "    time     (year) datetime64[ns] 1979-01-03T08:00:00 ... 2020-01-01\n",
      "  * year     (year) int64 1979 1980 1981 1982 1983 ... 2016 2017 2018 2019 2020\n",
      "\n",
      "<xarray.DataArray 'volume' (year: 100)>\n",
      "array([           nan, 7.96620938e+02, 8.35208370e+01, 3.51801167e+02,\n",
      "       1.13549236e+03, 2.49953397e+03, 1.02603364e+02, 3.88629726e+02,\n",
      "                  nan,            nan, 7.42725423e+01,            nan,\n",
      "       1.05316051e+02, 4.60896013e+02, 3.69157017e+01, 1.84721136e+02,\n",
      "       3.35975013e+03,            nan, 5.91776491e+02,            nan,\n",
      "       4.77317131e+01, 1.49662279e+03, 7.77836781e+03, 3.48748101e+02,\n",
      "                  nan,            nan,            nan,            nan,\n",
      "                  nan,            nan, 3.22238791e+02,            nan,\n",
      "       8.80852787e+01,            nan, 1.07929197e+02,            nan,\n",
      "                  nan, 9.96960066e+01,            nan, 3.95655313e+01,\n",
      "                  nan, 4.25095835e+01,            nan, 1.92382576e+02,\n",
      "                  nan,            nan,            nan,            nan,\n",
      "       3.89911338e+01, 3.67698624e+01, 1.86661950e+03,            nan,\n",
      "       8.93857687e+01,            nan,            nan, 1.04281485e+02,\n",
      "       1.70089096e+02, 8.18799513e+01, 3.00706485e+02, 1.26684277e+03,\n",
      "                  nan, 1.17296437e+03,            nan,            nan,\n",
      "       8.27969950e+01, 3.62824631e+02, 4.05795575e+01, 4.03035906e+01,\n",
      "       3.71099941e+01, 4.08289902e+02,            nan, 3.97287140e+01,\n",
      "                  nan,            nan,            nan, 4.94497572e+03,\n",
      "       5.12389928e+01,            nan, 7.79332513e+01,            nan,\n",
      "                  nan,            nan, 3.99561225e+01, 3.43615534e+02,\n",
      "       8.59555346e+01,            nan,            nan,            nan,\n",
      "                  nan,            nan, 1.18492496e+02,            nan,\n",
      "                  nan, 1.56826095e+02, 2.83368617e+02, 7.31555772e+02,\n",
      "       4.02551102e+01, 6.86295522e+03,            nan, 8.47046293e+05])\n",
      "Coordinates:\n",
      "    time     (year) datetime64[ns] 2000-01-01 ... 2099-07-16T14:00:00\n",
      "  * year     (year) int64 2000 2001 2002 2003 2004 ... 2095 2096 2097 2098 2099\n"
     ]
    }
   ],
   "source": [
    "print(hist_AMax['AWL'])\n",
    "print()\n",
    "print(qru_all_AMax['volume'])"
   ]
  }
 ],
 "metadata": {
  "kernelspec": {
   "display_name": "Python 3",
   "language": "python",
   "name": "python3"
  },
  "language_info": {
   "codemirror_mode": {
    "name": "ipython",
    "version": 3
   },
   "file_extension": ".py",
   "mimetype": "text/x-python",
   "name": "python",
   "nbconvert_exporter": "python",
   "pygments_lexer": "ipython3",
   "version": "3.7.2"
  }
 },
 "nbformat": 4,
 "nbformat_minor": 2
}
