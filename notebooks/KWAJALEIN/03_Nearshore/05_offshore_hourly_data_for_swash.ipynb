{
 "cells": [
  {
   "cell_type": "markdown",
   "metadata": {},
   "source": [
    "\n",
    "## TWL and Wind (speed & direction ) for swash simulations"
   ]
  },
  {
   "cell_type": "code",
   "execution_count": 1,
   "metadata": {},
   "outputs": [],
   "source": [
    "#!/usr/bin/env python\n",
    "# -*- coding: utf-8 -*-\n",
    "\n",
    "# common\n",
    "import os\n",
    "import os.path as op\n",
    "\n",
    "# pip\n",
    "import numpy as np\n",
    "import xarray as xr\n",
    "import pandas as pd\n",
    "from datetime import datetime\n",
    "import matplotlib.pyplot as plt\n",
    "\n",
    "# DEV: override installed teslakit\n",
    "import sys\n",
    "sys.path.insert(0, op.join(os.path.abspath(''), '..', '..', '..'))\n",
    "\n",
    "# teslakit\n",
    "from teslakit.database import Database\n",
    "from teslakit.climate_emulator import Climate_Emulator\n",
    "from teslakit.waves import AWL, Aggregate_WavesFamilies, Intradaily_Hydrograph\n",
    "from teslakit.util.time_operations import xds_limit_dates, repair_times_hourly, add_max_storms_mask\n",
    "\n",
    "from teslakit.io.aux_nc import StoreBugXdset\n"
   ]
  },
  {
   "cell_type": "code",
   "execution_count": 2,
   "metadata": {},
   "outputs": [],
   "source": [
    "# --------------------------------------\n",
    "# Teslakit database\n",
    "\n",
    "p_data = r'/Users/albacid/Projects/TeslaKit_projects'\n",
    "\n",
    "db = Database(p_data)\n",
    "\n",
    "# set site\n",
    "site = 'KWAJALEIN_emulator'\n",
    "db.SetSite(site)\n"
   ]
  },
  {
   "cell_type": "markdown",
   "metadata": {},
   "source": [
    "## Save offshore TWL (AT + MMSL + SSp)"
   ]
  },
  {
   "cell_type": "code",
   "execution_count": 3,
   "metadata": {
    "scrolled": false
   },
   "outputs": [
    {
     "name": "stdout",
     "output_type": "stream",
     "text": [
      "<xarray.Dataset>\n",
      "Dimensions:     (n_sim: 10, time: 8765832)\n",
      "Coordinates:\n",
      "  * time        (time) object 2000-01-01 00:00:00 ... 2999-12-31 23:00:00.13\n",
      "  * n_sim       (n_sim) int64 0 1 2 3 4 5 6 7 8 9\n",
      "Data variables:\n",
      "    AT          (time, n_sim) float64 ...\n",
      "    MMSL        (time, n_sim) float64 ...\n",
      "    SS          (time, n_sim) float64 ...\n",
      "    wind_speed  (time, n_sim) float64 ...\n",
      "    wind_dir    (time, n_sim) float64 ...\n",
      "    mslp        (time, n_sim) float64 1.011e+03 1.01e+03 ... 1.01e+03 1.011e+03\n",
      "\n"
     ]
    }
   ],
   "source": [
    "# offshore level \n",
    "offshore_vars = db.Load_SIM_OFFSHORE_all(vns=['AT', 'MMSL', 'SS', 'wind_speed', 'wind_dir', 'wind_dir', 'mslp'], decode_times=True, use_cftime=True)\n",
    "\n",
    "# mslp from Pa to mb\n",
    "offshore_vars['mslp'] = offshore_vars.mslp*0.01\n",
    "\n",
    "print(offshore_vars)\n",
    "print()\n",
    "\n"
   ]
  },
  {
   "cell_type": "code",
   "execution_count": 4,
   "metadata": {},
   "outputs": [
    {
     "name": "stdout",
     "output_type": "stream",
     "text": [
      "<xarray.Dataset>\n",
      "Dimensions:    (time: 359401)\n",
      "Coordinates:\n",
      "  * time       (time) datetime64[ns] 1979-01-01 ... 2020-01-01\n",
      "    latitude   float32 8.0\n",
      "    longitude  float32 168.0\n",
      "Data variables:\n",
      "    SLP        (time) float64 1.007e+03 1.007e+03 ... 1.013e+03 1.012e+03\n",
      "\n",
      "1009.5448758639812\n"
     ]
    }
   ],
   "source": [
    "# historical SLP\n",
    "press = db.Load_ESTELA_SLP() # Pa     \n",
    "\n",
    "# Kwajalein: pnt_lon = 167.73, pnt_lat = 8.72\n",
    "lonp = 168 # closest coordinates in SLP dataset\n",
    "latp = 8\n",
    "\n",
    "# select closest grid point to Site\n",
    "press = press.sel(longitude = lonp, latitude = latp) *0.01 # from Pa to mb\n",
    "print(press)\n",
    "print()\n",
    "\n",
    "# mean value\n",
    "mean_press = np.nanmean(press.SLP.values)\n",
    "print(mean_press)\n"
   ]
  },
  {
   "cell_type": "code",
   "execution_count": 5,
   "metadata": {},
   "outputs": [],
   "source": [
    "# SS de barómetro inverso\n",
    "offshore_vars['IB'] = -1*(offshore_vars['mslp'] - mean_press) # cm\n",
    "offshore_vars['IB'] = offshore_vars['IB']*0.01 # m\n",
    "\n",
    "# donde SS = 0 (no TC) poner SS de barómetro inverso\n",
    "TWL = offshore_vars.copy(deep=True)\n",
    "TWL['SS'] = TWL['SS'].where(TWL['SS']!=0, TWL['IB']) \n",
    "\n",
    "    "
   ]
  },
  {
   "cell_type": "code",
   "execution_count": 6,
   "metadata": {},
   "outputs": [
    {
     "name": "stdout",
     "output_type": "stream",
     "text": [
      "<xarray.Dataset>\n",
      "Dimensions:     (n_sim: 10, time: 8765832)\n",
      "Coordinates:\n",
      "  * time        (time) object 2000-01-01 00:00:00 ... 2999-12-31 23:00:00.13\n",
      "  * n_sim       (n_sim) int64 0 1 2 3 4 5 6 7 8 9\n",
      "Data variables:\n",
      "    AT          (time, n_sim) float64 0.2456 0.2456 0.2456 ... -0.6179 -0.6179\n",
      "    MMSL        (time, n_sim) float64 0.009233 0.06078 ... -0.07514 -0.1264\n",
      "    SS          (time, n_sim) float64 -0.009747 -0.003241 ... -0.008799 -0.01767\n",
      "    wind_speed  (time, n_sim) float64 9.392 5.381 6.011 ... 7.533 13.99 4.628\n",
      "    wind_dir    (time, n_sim) float64 57.1 88.07 35.95 ... 120.5 62.91 69.68\n",
      "    mslp        (time, n_sim) float64 1.011e+03 1.01e+03 ... 1.01e+03 1.011e+03\n",
      "    IB          (time, n_sim) float64 -0.009747 -0.003241 ... -0.008799 -0.01767\n",
      "<xarray.Dataset>\n",
      "Dimensions:     (n_sim: 10, time: 8765832)\n",
      "Coordinates:\n",
      "  * time        (time) object 2000-01-01 00:00:00 ... 2999-12-31 23:00:00.13\n",
      "  * n_sim       (n_sim) int64 0 1 2 3 4 5 6 7 8 9\n",
      "Data variables:\n",
      "    wind_speed  (time, n_sim) float64 9.392 5.381 6.011 ... 7.533 13.99 4.628\n",
      "    wind_dir    (time, n_sim) float64 57.1 88.07 35.95 ... 120.5 62.91 69.68\n",
      "    TWL         (time, n_sim) float64 0.2451 0.3031 0.285 ... -0.7018 -0.762\n"
     ]
    }
   ],
   "source": [
    "# Save TWL\n",
    "print(TWL)\n",
    "\n",
    "TWL['TWL'] = TWL.AT + TWL.MMSL + TWL.SS\n",
    "\n",
    "TWL = TWL.drop({'AT', 'MMSL', 'SS', 'IB', 'mslp'})\n",
    "print(TWL)\n",
    "\n",
    "\n"
   ]
  },
  {
   "cell_type": "code",
   "execution_count": null,
   "metadata": {},
   "outputs": [],
   "source": [
    "# Save\n",
    "StoreBugXdset(TWL, '/Users/albacid/Projects/TeslaKit_projects/sites/' + site + '/SIMULATION/OFFSHORE/offshore_vars.nc')\n"
   ]
  }
 ],
 "metadata": {
  "kernelspec": {
   "display_name": "Python 3",
   "language": "python",
   "name": "python3"
  },
  "language_info": {
   "codemirror_mode": {
    "name": "ipython",
    "version": 3
   },
   "file_extension": ".py",
   "mimetype": "text/x-python",
   "name": "python",
   "nbconvert_exporter": "python",
   "pygments_lexer": "ipython3",
   "version": "3.7.2"
  }
 },
 "nbformat": 4,
 "nbformat_minor": 2
}
