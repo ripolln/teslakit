{
 "cells": [
  {
   "cell_type": "code",
   "execution_count": 1,
   "metadata": {},
   "outputs": [],
   "source": [
    "#!/usr/bin/env python\n",
    "# -*- coding: utf-8 -*-\n",
    "\n",
    "# common\n",
    "import os\n",
    "import os.path as op\n",
    "import sys\n",
    "\n",
    "from cfs import ReadSLP\n",
    "\n"
   ]
  },
  {
   "cell_type": "code",
   "execution_count": null,
   "metadata": {},
   "outputs": [],
   "source": [
    "# input files\n",
    "rutin = r'/Volumes/TOSHIBA EXT/CFSR'\n",
    "\n",
    "# output files\n",
    "p_nc = op.join(os.getcwd(), 'SLP.nc')\n",
    "\n",
    "# SLP extraction coordinates \n",
    "lat1 = 80\n",
    "lat2 = -78\n",
    "lon1 = 100.0\n",
    "lon2 = 290.0\n",
    "\n",
    "#resample = int(1)  # 0.5º resolution\n",
    "resample = int(4)  # 0.5º resolution --> 2º resolution\n"
   ]
  },
  {
   "cell_type": "code",
   "execution_count": null,
   "metadata": {},
   "outputs": [],
   "source": [
    "# --------------------------------------\n",
    "# load predictor data (SLP) from CFSR and save to .nc \n",
    "\n",
    "xds_SLP_site = ReadSLP(rutin, lat1, lat2, lon1, lon2, resample, p_save=p_nc)\n"
   ]
  },
  {
   "cell_type": "code",
   "execution_count": null,
   "metadata": {},
   "outputs": [],
   "source": []
  }
 ],
 "metadata": {
  "kernelspec": {
   "display_name": "Python 3",
   "language": "python",
   "name": "python3"
  },
  "language_info": {
   "codemirror_mode": {
    "name": "ipython",
    "version": 3
   },
   "file_extension": ".py",
   "mimetype": "text/x-python",
   "name": "python",
   "nbconvert_exporter": "python",
   "pygments_lexer": "ipython3",
   "version": "3.7.2"
  }
 },
 "nbformat": 4,
 "nbformat_minor": 4
}
