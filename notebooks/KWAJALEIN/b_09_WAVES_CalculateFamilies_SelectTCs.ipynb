{
 "cells": [
  {
   "cell_type": "markdown",
   "metadata": {},
   "source": [
    "\n",
    "... ***CURRENTLY UNDER DEVELOPMENT*** ...\n"
   ]
  },
  {
   "cell_type": "markdown",
   "metadata": {},
   "source": [
    "## Obtain wave families form historical wave partitions\n",
    "### In this case, two swell systems, one local sea\n",
    "\n",
    "inputs required: \n",
    "  * Historical wave conditions (CSIRO hindcast)\n",
    "  * Wave families sectors; the split is based on wave direction\n",
    "  \n",
    "in this notebook:\n",
    "  * Split energy based on defined sectors  \n",
    "  * \n",
    "  <span style='color:Red'> TODO: Remove TC associated waves to avoid double counting  </span>"
   ]
  },
  {
   "cell_type": "code",
   "execution_count": 1,
   "metadata": {},
   "outputs": [],
   "source": [
    "#!/usr/bin/env python\n",
    "# -*- coding: utf-8 -*-\n",
    "\n",
    "# common\n",
    "import os\n",
    "import os.path as op\n",
    "from datetime import datetime\n",
    "\n",
    "# pip\n",
    "import numpy as np\n",
    "import xarray as xr\n",
    "\n",
    "# DEV: override installed teslakit\n",
    "import sys\n",
    "sys.path.insert(0, op.join(os.path.abspath(''), '..', '..'))\n",
    "\n",
    "# teslakit\n",
    "from teslakit.database import Database\n",
    "from teslakit.waves import GetDistribution\n"
   ]
  },
  {
   "cell_type": "markdown",
   "metadata": {},
   "source": [
    "\n",
    "## Database and Site parameters"
   ]
  },
  {
   "cell_type": "code",
   "execution_count": 2,
   "metadata": {},
   "outputs": [],
   "source": [
    "# --------------------------------------\n",
    "# Teslakit database\n",
    "\n",
    "p_data = r'/Users/albacid/Projects/TeslaKit_projects'\n",
    "db = Database(p_data)\n",
    "\n",
    "# set site\n",
    "db.SetSite('KWAJALEIN')\n",
    "\n"
   ]
  },
  {
   "cell_type": "code",
   "execution_count": 5,
   "metadata": {},
   "outputs": [
    {
     "name": "stdout",
     "output_type": "stream",
     "text": [
      "<xarray.Dataset>\n",
      "Dimensions:      (time: 111040)\n",
      "Coordinates:\n",
      "  * time         (time) datetime64[ns] 1979-01-01 ... 2016-12-31T21:00:00\n",
      "Data variables:\n",
      "    swell_2_Hs   (time) float64 ...\n",
      "    swell_2_Tp   (time) float64 ...\n",
      "    swell_2_Dir  (time) float64 ...\n",
      "    swell_1_Hs   (time) float64 ...\n",
      "    swell_1_Tp   (time) float64 ...\n",
      "    swell_1_Dir  (time) float64 ...\n",
      "    sea_Hs       (time) float64 ...\n",
      "    sea_Tp       (time) float64 ...\n",
      "    sea_Dir      (time) float64 ...\n",
      "\n",
      "<xarray.DataArray 'time' (time: 3)>\n",
      "array(['1979-01-01T00:00:00.000000000', '1979-01-01T03:00:00.000000000',\n",
      "       '1979-01-01T06:00:00.000000000'], dtype='datetime64[ns]')\n",
      "Coordinates:\n",
      "  * time     (time) datetime64[ns] 1979-01-01 ... 1979-01-01T06:00:00\n"
     ]
    }
   ],
   "source": [
    "#--------------------------------------\n",
    "# Load wave families offshore\n",
    "\n",
    "WVS = xr.open_dataset('/Users/albacid/Projects/TeslaKit_projects/inputs_Kwajalein/waves_families.nc')\n",
    "\n",
    "print(WVS)\n",
    "print()\n",
    "print(WVS.time.isel(time=slice(0,3)))"
   ]
  },
  {
   "cell_type": "code",
   "execution_count": null,
   "metadata": {},
   "outputs": [],
   "source": []
  },
  {
   "cell_type": "code",
   "execution_count": null,
   "metadata": {},
   "outputs": [],
   "source": []
  },
  {
   "cell_type": "code",
   "execution_count": 4,
   "metadata": {},
   "outputs": [
    {
     "ename": "SystemExit",
     "evalue": "",
     "output_type": "error",
     "traceback": [
      "An exception has occurred, use %tb to see the full traceback.\n",
      "\u001b[0;31mSystemExit\u001b[0m\n"
     ]
    }
   ],
   "source": [
    "sys.exit()\n",
    "'-----------------------------------------------'"
   ]
  },
  {
   "cell_type": "code",
   "execution_count": null,
   "metadata": {},
   "outputs": [],
   "source": [
    "# --------------------------------------\n",
    "# load data and set parameters\n",
    "\n",
    "WVS_pts = db.Load_WAVES_partitions()  # waves partitions data\n",
    "\n",
    "_, TCs_r1_params = db.Load_TCs_r1_hist()   # TCs historical parameters inside big radius\n",
    "_, TCs_r2_params = db.Load_TCs_r2_hist()   # TCs historical parameters inside small radius\n",
    "\n",
    "# wave families sectors\n",
    "fams_sectors = [(210, 22.5), (22.5, 135)]\n",
    "\n",
    "# date limits for TCs removal from waves data, and TC time window (hours)\n",
    "tc_rm_date1 = '1979-01-01'\n",
    "tc_rm_date2 = '2015-12-31'\n",
    "tc_time_window = 12\n"
   ]
  },
  {
   "cell_type": "markdown",
   "metadata": {},
   "source": [
    "\n",
    "## Calculate Historical Waves Families"
   ]
  },
  {
   "cell_type": "code",
   "execution_count": null,
   "metadata": {},
   "outputs": [],
   "source": [
    "# --------------------------------------\n",
    "# Calculate wave families from waves partitions data and waves sectors\n",
    "\n",
    "WVS = GetDistribution(WVS_pts, fams_sectors)\n",
    "print(WVS)\n"
   ]
  },
  {
   "cell_type": "markdown",
   "metadata": {},
   "source": [
    "\n",
    "## TCs: Waves  Selection "
   ]
  },
  {
   "cell_type": "code",
   "execution_count": null,
   "metadata": {
    "scrolled": false
   },
   "outputs": [],
   "source": [
    "# --------------------------------------\n",
    "# Locate TCs and set category alongside WAVES data  \n",
    "\n",
    "# remove TCs before 1979 and after 2015 (r1)\n",
    "dds = TCs_r1_params.dmin_date.values[:]\n",
    "ix = np.where((dds >= np.datetime64(tc_rm_date1)) & (dds <= np.datetime64(tc_rm_date2)))[0]\n",
    "TCs_r1_params = TCs_r1_params.isel(storm=ix)\n",
    "\n",
    "# select storms inside big circle \n",
    "storms_sel = TCs_r1_params.storm.values[:]\n",
    "\n",
    "# add TCs category alongside WAVES data\n",
    "WVS['TC_category'] = (('time',), np.empty(len(WVS.time))*np.nan)\n",
    "\n",
    "for s in storms_sel:\n",
    "\n",
    "    # waves at storm dates\n",
    "    ss = TCs_r1_params.sel(storm=s)     \n",
    "    wvs_s = WVS.sel(time = slice(ss.dmin_date, ss.last_date))\n",
    "    \n",
    "    # get hs_max date \n",
    "    t_hs_max = wvs_s.where(wvs_s.Hs ==  wvs_s.Hs.max(), drop=True).time.values[:][0]\n",
    "        \n",
    "    # hs_max time window \n",
    "    w1 = t_hs_max - np.timedelta64(tc_time_window,'h')\n",
    "    w2 = t_hs_max + np.timedelta64(tc_time_window,'h')\n",
    "    \n",
    "    # set category alongside WAVES data\n",
    "    ixs = np.where((WVS.time >= w1) & (WVS.time <= w2))[0]\n",
    "    WVS['TC_category'][ixs] = ss.category\n",
    "\n",
    "print(WVS)\n",
    "    \n",
    "# Store historical WAVES data\n",
    "db.Save_WAVES_hist(WVS)\n"
   ]
  },
  {
   "cell_type": "code",
   "execution_count": null,
   "metadata": {},
   "outputs": [],
   "source": []
  }
 ],
 "metadata": {
  "kernelspec": {
   "display_name": "Python 3",
   "language": "python",
   "name": "python3"
  },
  "language_info": {
   "codemirror_mode": {
    "name": "ipython",
    "version": 3
   },
   "file_extension": ".py",
   "mimetype": "text/x-python",
   "name": "python",
   "nbconvert_exporter": "python",
   "pygments_lexer": "ipython3",
   "version": "3.7.2"
  }
 },
 "nbformat": 4,
 "nbformat_minor": 2
}
