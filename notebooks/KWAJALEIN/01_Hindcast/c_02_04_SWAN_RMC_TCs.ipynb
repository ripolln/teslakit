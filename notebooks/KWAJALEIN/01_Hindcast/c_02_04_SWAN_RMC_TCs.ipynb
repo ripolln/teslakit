{
 "cells": [
  {
   "cell_type": "markdown",
   "metadata": {},
   "source": [
    "\n",
    "... ***CURRENTLY UNDER DEVELOPMENT*** ...\n"
   ]
  },
  {
   "cell_type": "markdown",
   "metadata": {},
   "source": [
    "# Wave simulations of Regular Marine Climate (RMC)"
   ]
  },
  {
   "cell_type": "markdown",
   "metadata": {},
   "source": [
    "## 01 Selection of representative cases of multivariate wave conditions to simulate with SWAN\n",
    "\n",
    "in this notebook:\n",
    "  * Split sea and swell components\n",
    "  * MDA selection of representative number of events"
   ]
  },
  {
   "cell_type": "markdown",
   "metadata": {},
   "source": [
    "## 02 SWAN simulations\n",
    "\n",
    "in this notebook:\n",
    "  * SWAN mesh descriptions\n",
    "  * SWAN simulations for sea and swell conditions\n",
    "  * Read and store SWAN output at the location of study"
   ]
  },
  {
   "cell_type": "markdown",
   "metadata": {},
   "source": [
    "## 03 RBFs reconstruction of historical data\n",
    "\n",
    "in this notebook:\n",
    "  * RBF reconstruction historical and simulated storms\n",
    "  * Generation of hourly nearshore waves with Intradaily Hydrographs\n",
    "  * Validation: syntethic and historical nearshore waves histograms"
   ]
  },
  {
   "cell_type": "markdown",
   "metadata": {},
   "source": [
    "## 04 RBFs validation of historical data\n",
    "\n",
    "in this notebook:\n",
    "  * Validation: AWAC measurement \n",
    "  * Synthetic and historical waves Extremes"
   ]
  },
  {
   "cell_type": "markdown",
   "metadata": {},
   "source": [
    "# Wave simulations of Extreme Climate (TCs)"
   ]
  },
  {
   "cell_type": "code",
   "execution_count": null,
   "metadata": {},
   "outputs": [],
   "source": []
  }
 ],
 "metadata": {
  "kernelspec": {
   "display_name": "Python 3",
   "language": "python",
   "name": "python3"
  },
  "language_info": {
   "codemirror_mode": {
    "name": "ipython",
    "version": 3
   },
   "file_extension": ".py",
   "mimetype": "text/x-python",
   "name": "python",
   "nbconvert_exporter": "python",
   "pygments_lexer": "ipython3",
   "version": "3.7.2"
  }
 },
 "nbformat": 4,
 "nbformat_minor": 2
}
