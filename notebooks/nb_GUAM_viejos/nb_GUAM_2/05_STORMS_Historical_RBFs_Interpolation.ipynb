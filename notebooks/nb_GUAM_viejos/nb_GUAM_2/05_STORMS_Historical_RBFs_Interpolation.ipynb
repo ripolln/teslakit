{
 "cells": [
  {
   "cell_type": "code",
   "execution_count": 1,
   "metadata": {},
   "outputs": [],
   "source": [
    "#!/usr/bin/env python\n",
    "# -*- coding: utf-8 -*-\n",
    "\n",
    "# common\n",
    "import os\n",
    "import os.path as op\n",
    "\n",
    "# pip\n",
    "import xarray as xr\n",
    "import numpy as np\n",
    "\n",
    "# DEV: override installed teslakit\n",
    "import sys\n",
    "sys.path.insert(0, op.join(os.path.abspath(''), '..', '..'))\n",
    "\n",
    "# teslakit \n",
    "from teslakit.database import Database\n",
    "from teslakit.io.matlab import ReadMatfile\n",
    "from teslakit.rbf import RBF_Reconstruction\n"
   ]
  },
  {
   "cell_type": "markdown",
   "metadata": {},
   "source": [
    "\n",
    "## Database and Site parameters"
   ]
  },
  {
   "cell_type": "code",
   "execution_count": 2,
   "metadata": {},
   "outputs": [],
   "source": [
    "# --------------------------------------\n",
    "# Teslakit database\n",
    "\n",
    "p_data = r'/Users/albacid/Projects/TeslaKit_projects'\n",
    "db = Database(p_data)\n",
    "\n",
    "# set site\n",
    "db.SetSite('GUAM')\n",
    "           "
   ]
  },
  {
   "cell_type": "code",
   "execution_count": 3,
   "metadata": {},
   "outputs": [],
   "source": [
    "# --------------------------------------\n",
    "# load data and set parameters\n",
    "\n",
    "# TCs copula simulated (dataset) and TCs MDA selection\n",
    "xds_dataset = db.Load_TCs_r2_sim_params()\n",
    "xds_subset = db.Load_TCs_r2_mda_params()\n",
    "\n",
    "# LOAD WAVES. r2 mda TCs solved simulations (not solved inside teslakit)\n",
    "xds_TCs_sims = db.Load_TCs_r2_mda_Simulations()\n"
   ]
  },
  {
   "cell_type": "code",
   "execution_count": 4,
   "metadata": {},
   "outputs": [],
   "source": [
    "# --------------------------------------\n",
    "# load custom RBFs training subset and dataset to interpolate\n",
    "\n",
    "# TODO: our datasets (db.Load_TCs_r2_sim_params and db.Load_TCs_r2_mda_params) \n",
    "# do not match with currently stored solved simulations.\n",
    "\n",
    "# we are using matching matlab files for KWAJALEIN TCs simulations\n",
    "# (overriding subset so it matches solved target)\n",
    "p_test = op.join(p_data, 'tests', 'RBF_GUAM')\n",
    "p_subset = op.join(p_test, 'MDA_400_guam.mat')\n",
    "#p_dataset = op.join(p_test, 'MULTIVARIATE_100000parameters.mat')\n",
    "a = xds_dataset['pressure_mean'].values\n",
    "b = xds_dataset['velocity_mean'].values\n",
    "c = xds_dataset['gamma'].values\n",
    "d = xds_dataset['delta'].values\n",
    "\n",
    "dataset = np.stack((a,b,c,d), axis=1)\n",
    "\n",
    "# load subset data\n",
    "subset = ReadMatfile(p_subset)['Subset']  # pmean, vmean, gamma, delta\n",
    "\n",
    "# load full dataset for interpolation\n",
    "#dm = ReadMatfile(p_dataset)\n",
    "#dataset= np.column_stack(\n",
    "#    (dm['PMEAN1'], dm['VMEAN'], dm['GAMMA'], dm['DELTA'])\n",
    "#)\n"
   ]
  },
  {
   "cell_type": "markdown",
   "metadata": {},
   "source": [
    "\n",
    "## Simulated TCs -  Radial Basis Function"
   ]
  },
  {
   "cell_type": "code",
   "execution_count": 5,
   "metadata": {
    "scrolled": false
   },
   "outputs": [
    {
     "name": "stdout",
     "output_type": "stream",
     "text": [
      "<xarray.Dataset>\n",
      "Dimensions:  (storm: 400)\n",
      "Coordinates:\n",
      "  * storm    (storm) int64 0 1 2 3 4 5 6 7 8 ... 392 393 394 395 396 397 398 399\n",
      "Data variables:\n",
      "    hs       (storm) float64 1.182 12.17 0.01416 0.3082 ... 7.627 0.1468 1.15\n",
      "    tp       (storm) float64 9.283 13.89 1.499 5.714 ... 11.76 12.15 11.16 10.69\n",
      "    dir      (storm) float64 235.2 42.54 239.0 13.96 ... 124.5 182.8 355.5 346.2\n",
      "    ss       (storm) float64 0.002797 0.6178 0.007105 ... 0.239 0.01714 0.0224\n",
      "    twl      (storm) float64 0.5377 3.186 0.01656 0.1713 ... 2.018 0.2438 0.6297\n",
      "    mu       (storm) float64 0.5616 0.6201 0.7014 ... 0.8513 0.2757 0.3203\n",
      "\n",
      "<xarray.Dataset>\n",
      "Dimensions:  (storm: 400)\n",
      "Coordinates:\n",
      "  * storm    (storm) int64 0 1 2 3 4 5 6 7 8 ... 392 393 394 395 396 397 398 399\n",
      "Data variables:\n",
      "    hs       (storm) float64 0.08677 0.8938 0.001006 ... 0.5601 0.01074 0.08442\n",
      "    tp       (storm) float64 0.4909 0.7813 0.0 0.2658 ... 0.672 0.6094 0.5793\n",
      "    dir      (storm) float64 4.104 0.7424 4.172 0.2437 ... 3.19 6.205 6.043\n",
      "    ss       (storm) float64 5.867e-05 0.6723 0.004768 ... 0.01574 0.02148\n",
      "    twl      (storm) float64 0.1446 0.8738 0.001029 ... 0.5522 0.06361 0.1699\n",
      "    mu       (storm) float64 0.5616 0.6201 0.7014 ... 0.8513 0.2757 0.3203\n",
      "\n"
     ]
    }
   ],
   "source": [
    "# --------------------------------------\n",
    "# Extract waves data from TCs simulations (this is the RBFs training target)\n",
    "\n",
    "print(xds_TCs_sims)\n",
    "print()\n",
    "\n",
    "# Normalize data\n",
    "d_maxis = {}\n",
    "d_minis = {}\n",
    "xds_n = xds_TCs_sims.copy()\n",
    "for k in ['hs', 'tp', 'ss', 'twl']:\n",
    "    v = xds_n[k].values[:]\n",
    "    mx = np.max(v)\n",
    "    mn = np.min(v)\n",
    "    xds_n[k] =(('storm',), (v-mn)/(mx-mn))\n",
    "    \n",
    "    # store maxs and mins for denormalization\n",
    "    d_maxis[k] = mx\n",
    "    d_minis[k] = mn\n",
    "\n",
    "xds_n['dir'] = xds_n['dir'] * np.pi/180\n",
    "    \n",
    "print(xds_n)\n",
    "print()\n",
    "\n",
    "\n",
    "# Build RBF target numpy array\n",
    "target = np.column_stack(\n",
    "    (xds_n['hs'], xds_n['tp'], xds_n['ss'], xds_n['twl'], xds_n['dir'], xds_n['mu'])\n",
    ")\n"
   ]
  },
  {
   "cell_type": "code",
   "execution_count": 6,
   "metadata": {},
   "outputs": [
    {
     "name": "stdout",
     "output_type": "stream",
     "text": [
      "ix_scalar: 0,  optimization: 20.54 | interpolation: 5.52\n",
      "ix_scalar: 1,  optimization: 21.93 | interpolation: 6.67\n",
      "ix_scalar: 2,  optimization: 24.32 | interpolation: 7.20\n",
      "ix_scalar: 3,  optimization: 21.88 | interpolation: 5.93\n",
      "ix_scalar: 5,  optimization: 20.92 | interpolation: 5.69\n",
      "ix_directional: 4,  optimization: 42.55 | interpolation: 12.84\n"
     ]
    }
   ],
   "source": [
    "# --------------------------------------\n",
    "# RBF Interpolation\n",
    "\n",
    "# subset - scalar / directional indexes\n",
    "ix_scalar_subset = [0,1]        # scalar (pmean,  vmean)\n",
    "ix_directional_subset = [2,3]   # directional (delta, gamma)\n",
    "\n",
    "# target - scalar / directional indexes\n",
    "ix_scalar_target = [0,1,2,3,5]  # scalar (Hs, Tp, SS, TWL, MU)\n",
    "ix_directional_target = [4]     # directional (Dir)\n",
    "\n",
    "output = RBF_Reconstruction(\n",
    "    subset, ix_scalar_subset, ix_directional_subset,\n",
    "    target, ix_scalar_target, ix_directional_target,\n",
    "    dataset)\n"
   ]
  },
  {
   "cell_type": "code",
   "execution_count": 7,
   "metadata": {},
   "outputs": [
    {
     "name": "stdout",
     "output_type": "stream",
     "text": [
      "<xarray.Dataset>\n",
      "Dimensions:  (storm: 100000)\n",
      "Coordinates:\n",
      "  * storm    (storm) int64 0 1 2 3 4 5 6 ... 99994 99995 99996 99997 99998 99999\n",
      "Data variables:\n",
      "    hs       (storm) float64 1.626 3.874 1.976 2.006 ... 0.6644 2.064 1.375\n",
      "    tp       (storm) float64 8.551 10.58 11.17 10.09 ... 9.332 7.949 9.322 8.076\n",
      "    ss       (storm) float64 0.03304 0.1047 0.04625 ... 0.002664 0.05209 0.02705\n",
      "    twl      (storm) float64 0.5839 1.152 0.8763 0.7889 ... 0.3211 0.7425 0.5126\n",
      "    dir      (storm) float64 153.2 172.1 147.3 144.7 ... 164.2 110.8 164.4 135.3\n",
      "    mu       (storm) float64 0.7055 0.6111 0.7462 ... 0.6693 0.6734 0.7177\n"
     ]
    }
   ],
   "source": [
    "# --------------------------------------\n",
    "# output de-normalization\n",
    "\n",
    "hs_n = output[:,0]\n",
    "tp_n = output[:,1]\n",
    "ss_n = output[:,2]\n",
    "twl_n = output[:,3]\n",
    "dir_n = output[:,4]\n",
    "mu = output[:,5]\n",
    "\n",
    "# store data as xarray.Dataset\n",
    "xds_out = xr.Dataset(\n",
    "    {\n",
    "        'hs':(('storm',), hs_n * (d_maxis['hs']-d_minis['hs']) + d_minis['hs'] ),\n",
    "        'tp':(('storm',), tp_n * (d_maxis['tp']-d_minis['tp']) + d_minis['tp'] ),\n",
    "        'ss':(('storm',), ss_n * (d_maxis['ss']-d_minis['ss']) + d_minis['ss'] ),\n",
    "        'twl':(('storm',), twl_n * (d_maxis['twl']-d_minis['twl']) + d_minis['twl'] ),\n",
    "        'dir':(('storm',), dir_n * 180 / np.pi),\n",
    "        'mu':(('storm',), mu),\n",
    "    },\n",
    "    coords = {'storm': np.arange(output.shape[0])}\n",
    ")\n",
    "print(xds_out)\n",
    "\n",
    "db.Save_TCs_sim_r2_rbf_output(xds_out)\n"
   ]
  }
 ],
 "metadata": {
  "kernelspec": {
   "display_name": "Python 3",
   "language": "python",
   "name": "python3"
  },
  "language_info": {
   "codemirror_mode": {
    "name": "ipython",
    "version": 3
   },
   "file_extension": ".py",
   "mimetype": "text/x-python",
   "name": "python",
   "nbconvert_exporter": "python",
   "pygments_lexer": "ipython3",
   "version": "3.7.2"
  }
 },
 "nbformat": 4,
 "nbformat_minor": 2
}
