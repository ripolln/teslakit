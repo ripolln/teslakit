{
 "cells": [
  {
   "cell_type": "markdown",
   "metadata": {},
   "source": [
    "## Obtain Intraseasonal Weahter Types (IWT, at daily scale) following the methodology explained in Anderson et al. (2019)\n",
    "\n",
    "inputs required: \n",
    "  * Daily values of Madden-Julian Oscillation (MJO) parameters (rmm1, rmm2, phase, mjo)"
   ]
  },
  {
   "cell_type": "code",
   "execution_count": 1,
   "metadata": {},
   "outputs": [],
   "source": [
    "#!/usr/bin/env python\n",
    "# -*- coding: utf-8 -*-\n",
    "\n",
    "# common\n",
    "import os\n",
    "import os.path as op\n",
    "from datetime import date, timedelta, datetime\n",
    "\n",
    "# pip\n",
    "import numpy as np\n",
    "import xarray as xr\n",
    "import matplotlib.pyplot as plt\n",
    "\n",
    "# DEV: override installed teslakit\n",
    "import sys\n",
    "sys.path.insert(0, op.join(os.path.abspath(''), '..', '..'))\n",
    "\n",
    "# teslakit \n",
    "from teslakit.database import Database\n",
    "from teslakit.mjo import GetMJOCategories\n",
    "from teslakit.plotting.mjo import Plot_MJOphases, Plot_MJOCategories\n",
    "from teslakit.alr import ALR_WRP\n"
   ]
  },
  {
   "cell_type": "markdown",
   "metadata": {},
   "source": [
    "\n",
    "## Database and Site parameters"
   ]
  },
  {
   "cell_type": "code",
   "execution_count": 2,
   "metadata": {},
   "outputs": [],
   "source": [
    "# --------------------------------------\n",
    "# Teslakit database\n",
    "\n",
    "p_data = r'/Users/albacid/Projects/TeslaKit_projects'\n",
    "db = Database(p_data)\n",
    "\n",
    "# set site\n",
    "db.SetSite('GUAM')\n"
   ]
  },
  {
   "cell_type": "code",
   "execution_count": 3,
   "metadata": {},
   "outputs": [],
   "source": [
    "# --------------------------------------\n",
    "# load data and set parameters\n",
    "\n",
    "xds_mjo_hist = db.Load_MJO_hist()  # historical MJO\n",
    "\n",
    "# MJO ALR parameters\n",
    "alr_markov_order = 3\n",
    "alr_seasonality = [2, 4, 8]\n",
    "alr_num_categs = 25\n",
    "\n",
    "# Simulation\n",
    "num_sims = 1\n",
    "d1_sim = np.datetime64('2020-01-01').astype(datetime)\n",
    "d2_sim = np.datetime64('3020-01-01').astype(datetime)\n"
   ]
  },
  {
   "cell_type": "markdown",
   "metadata": {},
   "source": [
    "\n",
    "## MJO phases and categories"
   ]
  },
  {
   "cell_type": "code",
   "execution_count": 4,
   "metadata": {},
   "outputs": [
    {
     "name": "stdout",
     "output_type": "stream",
     "text": [
      "<xarray.Dataset>\n",
      "Dimensions:  (time: 14343)\n",
      "Coordinates:\n",
      "  * time     (time) datetime64[ns] 1979-01-01 1979-01-02 ... 2018-04-08\n",
      "Data variables:\n",
      "    phase    (time) int64 6 7 7 7 7 7 7 6 6 6 7 7 7 ... 7 7 7 7 7 7 7 8 8 8 1 1\n",
      "    rmm1     (time) float64 0.1425 -0.2042 -0.1586 ... -2.314 -2.547 -2.655\n",
      "    rmm2     (time) float64 1.05 1.374 1.539 1.46 ... 0.3049 -0.05768 -0.2531\n",
      "    mjo      (time) float64 ...\n",
      "    categ    (time) int64 22 23 15 23 23 23 23 22 14 ... 15 15 15 15 8 16 16 1 1\n"
     ]
    }
   ],
   "source": [
    "# --------------------------------------\n",
    "# Calculate MJO categories (25 used) \n",
    "\n",
    "rmm1 = xds_mjo_hist['rmm1']\n",
    "rmm2 = xds_mjo_hist['rmm2']\n",
    "phase = xds_mjo_hist['phase']\n",
    "\n",
    "categ, d_rmm_categ = GetMJOCategories(rmm1, rmm2, phase)\n",
    "xds_mjo_hist['categ'] = (('time',), categ)\n",
    "\n",
    "print(xds_mjo_hist)\n"
   ]
  },
  {
   "cell_type": "code",
   "execution_count": 8,
   "metadata": {},
   "outputs": [
    {
     "name": "stdout",
     "output_type": "stream",
     "text": [
      "<xarray.DataArray 'rmm1' (time: 2)>\n",
      "array([-0.2042 , -0.15861])\n",
      "Coordinates:\n",
      "  * time     (time) datetime64[ns] 1979-01-02 1979-01-03\n",
      "<xarray.DataArray 'rmm2' (time: 2)>\n",
      "array([1.37361, 1.53943])\n",
      "Coordinates:\n",
      "  * time     (time) datetime64[ns] 1979-01-02 1979-01-03\n"
     ]
    },
    {
     "data": {
      "image/png": "[encoded data removed]",
      "text/plain": [
       "<Figure size 432x288 with 1 Axes>"
      ]
     },
     "metadata": {
      "needs_background": "light"
     },
     "output_type": "display_data"
    }
   ],
   "source": [
    "ini = 1\n",
    "fin = 3\n",
    "x = rmm1.isel(time=slice(ini,fin))\n",
    "y = rmm2.isel(time=slice(ini,fin))\n",
    "print(x)\n",
    "print(y)\n",
    "\n",
    "plt.plot(x, y)\n",
    "plt.quiver(x, y, [x, y],[x, y])\n",
    "\n",
    "plt.arrow(0, f(0), 0.01, f(0.01)-f(0), shape='full', lw=0, length_includes_head=True, head_width=.05)\n",
    "\n",
    "\n",
    "#plt.xlim([-2, 2])\n",
    "#plt.ylim([-2, 2])\n",
    "plt.show()"
   ]
  },
  {
   "cell_type": "code",
   "execution_count": null,
   "metadata": {},
   "outputs": [],
   "source": [
    "ini = 1\n",
    "fin = 20\n",
    "plt.plot(rmm1.isel(time=slice(ini,fin)), rmm2.isel(time=slice(ini,fin)))\n",
    "plt.xlim([-2, 2])\n",
    "plt.ylim([-2, 2])\n",
    "plt.show()"
   ]
  },
  {
   "cell_type": "code",
   "execution_count": null,
   "metadata": {
    "scrolled": false
   },
   "outputs": [],
   "source": [
    "# plot MJO phases\n",
    "Plot_MJOphases(rmm1, rmm2, phase)\n"
   ]
  },
  {
   "cell_type": "code",
   "execution_count": null,
   "metadata": {
    "scrolled": false
   },
   "outputs": [],
   "source": [
    "# plot MJO categories\n",
    "Plot_MJOCategories(rmm1, rmm2, categ)\n"
   ]
  },
  {
   "cell_type": "markdown",
   "metadata": {},
   "source": [
    "\n",
    "## Autoregressive Logistic Regression"
   ]
  },
  {
   "cell_type": "code",
   "execution_count": null,
   "metadata": {},
   "outputs": [],
   "source": [
    "# --------------------------------------\n",
    "# Autoregressive Logistic Regression - fit model\n",
    "\n",
    "# MJO historical data for fitting\n",
    "xds_bmus_fit = xr.Dataset(\n",
    "    {\n",
    "        'bmus'  :(('time',), xds_mjo_hist.categ.values[:]),\n",
    "    },\n",
    "    {'time' : xds_mjo_hist.time}\n",
    ")\n",
    "\n",
    "# ALR terms\n",
    "d_terms_settings = {\n",
    "    'mk_order'  : alr_markov_order,\n",
    "    'constant' : True,\n",
    "    'seasonality': (True, alr_seasonality),\n",
    "}\n",
    "\n",
    "# ALR wrapper\n",
    "ALRW = ALR_WRP(db.paths.site.MJO.alrw)\n",
    "ALRW.SetFitData(alr_num_categs, xds_bmus_fit, d_terms_settings)\n",
    "\n",
    "# ALR model fitting\n",
    "ALRW.FitModel(max_iter=10000)\n"
   ]
  },
  {
   "cell_type": "code",
   "execution_count": null,
   "metadata": {
    "scrolled": false
   },
   "outputs": [],
   "source": [
    "# show fit report\n",
    "ALRW.Report_Fit(summary=True)\n"
   ]
  },
  {
   "cell_type": "code",
   "execution_count": null,
   "metadata": {},
   "outputs": [],
   "source": [
    "# --------------------------------------\n",
    "# Autoregressive Logistic Regression - simulate \n",
    "\n",
    "# simulation dates\n",
    "dates_sim = [d1_sim + timedelta(days=i) for i in range((d2_sim-d1_sim).days+1)]\n",
    "\n",
    "# launch simulation\n",
    "xds_alr = ALRW.Simulate(num_sims, dates_sim)\n",
    "evbmus_sim = np.squeeze(xds_alr.evbmus_sims.values[:])\n",
    "\n",
    "# Generate mjo rmm1 and rmm2 simulated values\n",
    "rmm12_sim = np.empty((len(evbmus_sim), 2)) * np.nan\n",
    "for c, m in enumerate(evbmus_sim):\n",
    "    options = d_rmm_categ['cat_{0}'.format(int(m))]\n",
    "    r = np.random.randint(options.shape[0])\n",
    "    rmm12_sim[c,:] = options[r,:]\n",
    "\n",
    "# calculate mjo and phase\n",
    "mjo_sim = np.sqrt(rmm12_sim[:,0]**2+rmm12_sim[:,1]**2)\n",
    "phase_sim = np.arctan2(rmm12_sim[:,0], rmm12_sim[:,1])\n",
    "\n",
    "# store simulated mjo\n",
    "xds_MJO_sim = xr.Dataset(\n",
    "    {\n",
    "        'mjo'   :(('time',), mjo_sim),\n",
    "        'phase' :(('time',), phase_sim),\n",
    "        'rmm1'  :(('time',), rmm12_sim[:,0]),\n",
    "        'rmm2'  :(('time',), rmm12_sim[:,1]),\n",
    "    },\n",
    "    {'time' : dates_sim}\n",
    ")\n",
    "print(xds_MJO_sim)\n",
    "\n",
    "db.Save_MJO_sim(xds_MJO_sim)\n"
   ]
  },
  {
   "cell_type": "code",
   "execution_count": null,
   "metadata": {},
   "outputs": [],
   "source": [
    "# show simulation report\n",
    "ALRW.Report_Sim()\n"
   ]
  },
  {
   "cell_type": "code",
   "execution_count": null,
   "metadata": {},
   "outputs": [],
   "source": []
  }
 ],
 "metadata": {
  "kernelspec": {
   "display_name": "Python 3",
   "language": "python",
   "name": "python3"
  },
  "language_info": {
   "codemirror_mode": {
    "name": "ipython",
    "version": 3
   },
   "file_extension": ".py",
   "mimetype": "text/x-python",
   "name": "python",
   "nbconvert_exporter": "python",
   "pygments_lexer": "ipython3",
   "version": "3.7.2"
  }
 },
 "nbformat": 4,
 "nbformat_minor": 2
}
