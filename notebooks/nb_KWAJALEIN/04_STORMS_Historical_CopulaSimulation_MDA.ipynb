{
 "cells": [
  {
   "cell_type": "markdown",
   "metadata": {},
   "source": [
    "## Synthetic simulation of historical TCs parameters using Gaussian copulas (Rueda et al. 2016) and subsequent selection of representative cases using Maximum Dissimilarity (MaxDiss) algorithm (Camus et al. 2011)\n",
    "\n",
    "inputs required: \n",
    "  * Historical TC parameters that affect the site (output of notebook 03)\n",
    "  * number of synthetic simulations to run\n",
    "  * number of representative cases to be selected using MaxDiss"
   ]
  },
  {
   "cell_type": "code",
   "execution_count": 1,
   "metadata": {},
   "outputs": [],
   "source": [
    "#!/usr/bin/env python\n",
    "# -*- coding: utf-8 -*-\n",
    "\n",
    "# common\n",
    "import os\n",
    "import os.path as op\n",
    "\n",
    "# pip\n",
    "import xarray as xr\n",
    "import numpy as np\n",
    "\n",
    "# DEV: override installed teslakit\n",
    "import sys\n",
    "sys.path.insert(0, op.join(os.path.abspath(''), '..', '..'))\n",
    "\n",
    "# teslakit\n",
    "from teslakit.database import Database\n",
    "from teslakit.statistical import CopulaSimulation\n",
    "from teslakit.mda import MaxDiss_Simplified_NoThreshold\n"
   ]
  },
  {
   "cell_type": "markdown",
   "metadata": {},
   "source": [
    "\n",
    "## Database and Site parameters"
   ]
  },
  {
   "cell_type": "code",
   "execution_count": 2,
   "metadata": {},
   "outputs": [],
   "source": [
    "# --------------------------------------\n",
    "# Teslakit database\n",
    "\n",
    "p_data = r'/Users/nico/Projects/TESLA-kit/TeslaKit/data'\n",
    "db = Database(p_data)\n",
    "\n",
    "# set site\n",
    "db.SetSite('KWAJALEIN')\n"
   ]
  },
  {
   "cell_type": "code",
   "execution_count": 3,
   "metadata": {},
   "outputs": [],
   "source": [
    "# --------------------------------------\n",
    "# load data and set parameters\n",
    "\n",
    "_, xds_TCs_r2_params = db.Load_TCs_r2()  # TCs parameters inside radius 2\n",
    "\n",
    "# TCs random generation and MDA parameters\n",
    "num_sim_rnd = 100000\n",
    "num_sel_mda = 1000\n"
   ]
  },
  {
   "cell_type": "markdown",
   "metadata": {},
   "source": [
    "\n",
    "## Historical TCs - Probabilistic Simulation"
   ]
  },
  {
   "cell_type": "code",
   "execution_count": 4,
   "metadata": {
    "scrolled": false
   },
   "outputs": [
    {
     "name": "stdout",
     "output_type": "stream",
     "text": [
      "<xarray.Dataset>\n",
      "Dimensions:        (storm: 100000)\n",
      "Coordinates:\n",
      "  * storm          (storm) int64 0 1 2 3 4 5 ... 99995 99996 99997 99998 99999\n",
      "Data variables:\n",
      "    pressure_mean  (storm) float64 1.01e+03 1.022e+03 ... 1.037e+03 1.017e+03\n",
      "    pressure_min   (storm) float64 1.01e+03 1.027e+03 ... 1.045e+03 1.018e+03\n",
      "    gamma          (storm) float64 111.8 205.4 103.6 111.3 ... 136.1 0.0 120.9\n",
      "    delta          (storm) float64 140.1 106.4 121.1 155.5 ... 207.7 88.01 152.5\n",
      "    velocity_mean  (storm) float64 12.6 7.57 27.7 33.1 ... 14.28 20.3 14.28\n"
     ]
    }
   ],
   "source": [
    "# --------------------------------------\n",
    "# Probabilistic simulation Historical TCs\n",
    "\n",
    "# aux function\n",
    "def FixPareto(var):\n",
    "    'Fix data. It needs to start at 0 for Pareto adjustment '\n",
    "    var = var.astype(float)\n",
    "    mx = np.amax(var)\n",
    "    aux = mx + np.absolute(var - mx)\n",
    "    var_pareto = aux - np.amin(aux) + 0.00001\n",
    "    \n",
    "    return var_pareto, np.amin(aux)\n",
    "\n",
    "\n",
    "# use small radius parameters (4º)\n",
    "pmean = xds_TCs_r2_params.pressure_mean.values[:]\n",
    "pmin = xds_TCs_r2_params.pressure_min.values[:]\n",
    "gamma = xds_TCs_r2_params.gamma.values[:]\n",
    "delta = xds_TCs_r2_params.delta.values[:]\n",
    "vmean = xds_TCs_r2_params.velocity_mean.values[:]\n",
    "\n",
    "# fix pressure for p\n",
    "## Database and Site parametersareto adjustment (start at 0)\n",
    "pmean_p, auxmin_pmean = FixPareto(pmean)\n",
    "pmin_p, auxmin_pmin = FixPareto(pmin)\n",
    "\n",
    "# join storm parameters for copula simulation\n",
    "storm_params = np.column_stack(\n",
    "    (pmean_p, pmin_p, gamma, delta, vmean)\n",
    ")\n",
    "\n",
    "# statistical simulate PCs using copulas \n",
    "kernels = ['GPareto', 'GPareto', 'ECDF', 'ECDF', 'ECDF']\n",
    "storm_params_sim = CopulaSimulation(storm_params, kernels, num_sim_rnd)\n",
    "\n",
    "# store simulated storms - parameters \n",
    "xds_TCs_r2_sim_params = xr.Dataset(\n",
    "    {\n",
    "        'pressure_mean':(('storm'), storm_params_sim[:,0] + auxmin_pmean),\n",
    "        'pressure_min':(('storm'), storm_params_sim[:,1] + auxmin_pmin),\n",
    "        'gamma':(('storm'), storm_params_sim[:,2]),\n",
    "        'delta':(('storm'), storm_params_sim[:,3]),\n",
    "        'velocity_mean':(('storm'), storm_params_sim[:,4]),\n",
    "    },\n",
    "    coords = {\n",
    "        'storm':(('storm'), np.arange(num_sim_rnd))    \n",
    "    },\n",
    ")\n",
    "print(xds_TCs_r2_sim_params)\n",
    "\n",
    "db.Save_TCs_r2_sim_params(xds_TCs_r2_sim_params)\n"
   ]
  },
  {
   "cell_type": "markdown",
   "metadata": {},
   "source": [
    "\n",
    "## Historical TCs - MaxDiss classification"
   ]
  },
  {
   "cell_type": "code",
   "execution_count": 5,
   "metadata": {},
   "outputs": [
    {
     "name": "stdout",
     "output_type": "stream",
     "text": [
      "\n",
      "MaxDiss waves parameters: 100000 --> 1000\n",
      "\n",
      "   MDA centroids: 1000/1000\n",
      "\n",
      "<xarray.Dataset>\n",
      "Dimensions:        (storm: 1000)\n",
      "Coordinates:\n",
      "  * storm          (storm) int64 0 1 2 3 4 5 6 7 ... 993 994 995 996 997 998 999\n",
      "Data variables:\n",
      "    pressure_mean  (storm) float64 1.138e+03 1.013e+03 ... 1.039e+03 1.031e+03\n",
      "    pressure_min   (storm) float64 1.213e+03 1.014e+03 ... 1.038e+03 1.043e+03\n",
      "    gamma          (storm) float64 20.71 8.028 34.86 6.622 ... 9.742 29.35 12.37\n",
      "    delta          (storm) float64 139.4 309.8 127.2 128.2 ... 221.1 286.8 33.39\n",
      "    velocity_mean  (storm) float64 97.78 207.9 0.0 111.1 ... 139.5 108.3 0.0\n"
     ]
    }
   ],
   "source": [
    "# --------------------------------------\n",
    "# MaxDiss classification\n",
    "\n",
    "# get simulated parameters  \n",
    "pmean_s = xds_TCs_r2_sim_params.pressure_mean.values[:]\n",
    "pmin_s = xds_TCs_r2_sim_params.pressure_min.values[:]\n",
    "gamma_s = xds_TCs_r2_sim_params.gamma.values[:]\n",
    "delta_s = xds_TCs_r2_sim_params.delta.values[:]\n",
    "vmean_s = xds_TCs_r2_sim_params.velocity_mean.values[:]\n",
    "\n",
    "# subset, scalar and directional indexes\n",
    "data_mda = np.column_stack((pmean_s, pmin_s, vmean_s, delta_s, gamma_s))\n",
    "ix_scalar = [0,1,2]\n",
    "ix_directional = [3,4]\n",
    "\n",
    "centroids = MaxDiss_Simplified_NoThreshold(\n",
    "    data_mda, num_sel_mda, ix_scalar, ix_directional \n",
    ")\n",
    "\n",
    "\n",
    "# store MDA storms - parameters \n",
    "xds_TCs_r2_MDA_params = xr.Dataset(\n",
    "    {\n",
    "        'pressure_mean':(('storm'), centroids[:,0]),\n",
    "        'pressure_min':(('storm'), centroids[:,1]),\n",
    "        'gamma':(('storm'), centroids[:,2]),\n",
    "        'delta':(('storm'), centroids[:,3]),\n",
    "        'velocity_mean':(('storm'), centroids[:,4]),\n",
    "    },\n",
    "    coords = {\n",
    "        'storm':(('storm'), np.arange(num_sel_mda))    \n",
    "    },\n",
    ")\n",
    "print(xds_TCs_r2_MDA_params)\n",
    "\n",
    "db.Save_TCs_r2_mda_params(xds_TCs_r2_MDA_params)\n"
   ]
  },
  {
   "cell_type": "markdown",
   "metadata": {},
   "source": [
    "## Historical TCs (MDA centroids) Waves Simulation\n",
    "\n",
    "Waves data is generated by numerically simulating selected storms. \n",
    "\n",
    "This methodology is not included inside teslakit python library.\n",
    "\n",
    "This step needs to be done before continuing with notebook 05\n"
   ]
  },
  {
   "cell_type": "code",
   "execution_count": null,
   "metadata": {},
   "outputs": [],
   "source": []
  }
 ],
 "metadata": {
  "kernelspec": {
   "display_name": "Python 3",
   "language": "python",
   "name": "python3"
  },
  "language_info": {
   "codemirror_mode": {
    "name": "ipython",
    "version": 3
   },
   "file_extension": ".py",
   "mimetype": "text/x-python",
   "name": "python",
   "nbconvert_exporter": "python",
   "pygments_lexer": "ipython3",
   "version": "3.7.2"
  }
 },
 "nbformat": 4,
 "nbformat_minor": 2
}
