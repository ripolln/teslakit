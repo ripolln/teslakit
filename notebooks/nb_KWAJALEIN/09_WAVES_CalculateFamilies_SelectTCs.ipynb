{
 "cells": [
  {
   "cell_type": "code",
   "execution_count": 1,
   "metadata": {},
   "outputs": [],
   "source": [
    "#!/usr/bin/env python\n",
    "# -*- coding: utf-8 -*-\n",
    "\n",
    "# common\n",
    "import os\n",
    "import os.path as op\n",
    "from datetime import datetime\n",
    "\n",
    "# pip\n",
    "import numpy as np\n",
    "import xarray as xr\n",
    "\n",
    "# DEV: override installed teslakit\n",
    "import sys\n",
    "sys.path.insert(0, op.join(os.path.abspath(''), '..', '..'))\n",
    "\n",
    "# teslakit\n",
    "from teslakit.database import Database\n",
    "from teslakit.waves import GetDistribution\n"
   ]
  },
  {
   "cell_type": "markdown",
   "metadata": {},
   "source": [
    "\n",
    "## Database and Site parameters"
   ]
  },
  {
   "cell_type": "code",
   "execution_count": 2,
   "metadata": {},
   "outputs": [],
   "source": [
    "# --------------------------------------\n",
    "# Teslakit database\n",
    "\n",
    "p_data = r'/Users/nico/Projects/TESLA-kit/TeslaKit/data'\n",
    "db = Database(p_data)\n",
    "\n",
    "# set site\n",
    "db.SetSite('KWAJALEIN')\n"
   ]
  },
  {
   "cell_type": "code",
   "execution_count": 3,
   "metadata": {},
   "outputs": [],
   "source": [
    "# --------------------------------------\n",
    "# load data and set parameters\n",
    "\n",
    "WVS_pts = db.Load_WAVES_partitions()  # waves partitions data\n",
    "_, TCs_r1_params = db.Load_TCs_r1_hist()   # TCs historical parameters inside big radius\n",
    "_, TCs_r2_params = db.Load_TCs_r2_hist()   # TCs historical parameters inside small radius\n",
    "\n",
    "# wave families sectors\n",
    "fams_sectors = [(210, 22.5), (22.5, 135)]\n",
    "\n",
    "# date limits for TCs removal from waves data, and TC time window (hours)\n",
    "tc_rm_date1 = '1979-01-01'\n",
    "tc_rm_date2 = '2015-12-31'\n",
    "tc_time_window = 12\n"
   ]
  },
  {
   "cell_type": "markdown",
   "metadata": {},
   "source": [
    "\n",
    "## Calculate Historical Waves Families"
   ]
  },
  {
   "cell_type": "code",
   "execution_count": 4,
   "metadata": {},
   "outputs": [
    {
     "name": "stdout",
     "output_type": "stream",
     "text": [
      "<xarray.Dataset>\n",
      "Dimensions:      (time: 111040)\n",
      "Coordinates:\n",
      "  * time         (time) datetime64[ns] 1979-01-01 ... 2016-12-31T21:00:00\n",
      "Data variables:\n",
      "    Hs           (time) float64 3.316 3.457 3.382 3.326 ... 2.105 2.114 2.195\n",
      "    Tp           (time) float64 9.957 9.872 9.856 9.804 ... 9.907 10.4 10.71\n",
      "    Dir          (time) float64 58.47 61.54 63.04 64.09 ... 61.08 59.36 58.95\n",
      "    sea_Hs       (time) float64 0.3466 0.3613 0.3601 0.3554 ... 0.0607 nan 0.146\n",
      "    sea_Tp       (time) float64 3.214 2.404 2.407 10.35 ... 2.952 nan 4.371\n",
      "    sea_Dir      (time) float64 120.8 120.1 120.7 124.1 ... 154.0 nan 153.3\n",
      "    swell_1_Hs   (time) float64 0.7837 0.7326 0.6812 ... 0.4242 0.475 0.5702\n",
      "    swell_1_Tp   (time) float64 12.62 12.57 12.52 12.49 ... 12.51 12.52 12.57\n",
      "    swell_1_Dir  (time) float64 4.604 4.563 4.404 3.27 ... 337.2 333.2 336.9\n",
      "    swell_2_Hs   (time) float64 3.203 3.359 3.293 3.251 ... 2.054 2.05 2.11\n",
      "    swell_2_Tp   (time) float64 9.892 9.741 9.719 9.626 ... 8.638 8.584 8.514\n",
      "    swell_2_Dir  (time) float64 61.12 63.64 64.93 65.58 ... 62.97 61.88 62.59\n"
     ]
    }
   ],
   "source": [
    "# --------------------------------------\n",
    "# Calculate wave families from waves partitions data and waves sectors\n",
    "\n",
    "WVS = GetDistribution(WVS_pts, fams_sectors)\n",
    "print(WVS)\n"
   ]
  },
  {
   "cell_type": "markdown",
   "metadata": {},
   "source": [
    "\n",
    "## TCs: Waves  Selection "
   ]
  },
  {
   "cell_type": "code",
   "execution_count": 5,
   "metadata": {
    "scrolled": false
   },
   "outputs": [
    {
     "name": "stdout",
     "output_type": "stream",
     "text": [
      "<xarray.Dataset>\n",
      "Dimensions:      (time: 111040)\n",
      "Coordinates:\n",
      "  * time         (time) datetime64[ns] 1979-01-01 ... 2016-12-31T21:00:00\n",
      "Data variables:\n",
      "    Hs           (time) float64 3.316 3.457 3.382 3.326 ... 2.105 2.114 2.195\n",
      "    Tp           (time) float64 9.957 9.872 9.856 9.804 ... 9.907 10.4 10.71\n",
      "    Dir          (time) float64 58.47 61.54 63.04 64.09 ... 61.08 59.36 58.95\n",
      "    sea_Hs       (time) float64 0.3466 0.3613 0.3601 0.3554 ... 0.0607 nan 0.146\n",
      "    sea_Tp       (time) float64 3.214 2.404 2.407 10.35 ... 2.952 nan 4.371\n",
      "    sea_Dir      (time) float64 120.8 120.1 120.7 124.1 ... 154.0 nan 153.3\n",
      "    swell_1_Hs   (time) float64 0.7837 0.7326 0.6812 ... 0.4242 0.475 0.5702\n",
      "    swell_1_Tp   (time) float64 12.62 12.57 12.52 12.49 ... 12.51 12.52 12.57\n",
      "    swell_1_Dir  (time) float64 4.604 4.563 4.404 3.27 ... 337.2 333.2 336.9\n",
      "    swell_2_Hs   (time) float64 3.203 3.359 3.293 3.251 ... 2.054 2.05 2.11\n",
      "    swell_2_Tp   (time) float64 9.892 9.741 9.719 9.626 ... 8.638 8.584 8.514\n",
      "    swell_2_Dir  (time) float64 61.12 63.64 64.93 65.58 ... 62.97 61.88 62.59\n",
      "    TC_category  (time) float64 nan nan nan nan nan nan ... nan nan nan nan nan\n"
     ]
    }
   ],
   "source": [
    "# --------------------------------------\n",
    "# Locate TCs and set category alongside WAVES data  \n",
    "\n",
    "# remove TCs before 1979 and after 2015 (r1)\n",
    "dds = TCs_r1_params.dmin_date.values[:]\n",
    "ix = np.where((dds >= np.datetime64(tc_rm_date1)) & (dds <= np.datetime64(tc_rm_date2)))[0]\n",
    "TCs_r1_params = TCs_r1_params.isel(storm=ix)\n",
    "\n",
    "# select storms inside big circle \n",
    "storms_sel = TCs_r1_params.storm.values[:]\n",
    "\n",
    "# add TCs category alongside WAVES data\n",
    "WVS['TC_category'] = (('time',), np.empty(len(WVS.time))*np.nan)\n",
    "\n",
    "for s in storms_sel:\n",
    "\n",
    "    # waves at storm dates\n",
    "    ss = TCs_r1_params.sel(storm=s)     \n",
    "    wvs_s = WVS.sel(time = slice(ss.dmin_date, ss.last_date))\n",
    "    \n",
    "    # get hs_max date \n",
    "    t_hs_max = wvs_s.where(wvs_s.Hs ==  wvs_s.Hs.max(), drop=True).time.values[:][0]\n",
    "        \n",
    "    # hs_max time window \n",
    "    w1 = t_hs_max - np.timedelta64(tc_time_window,'h')\n",
    "    w2 = t_hs_max + np.timedelta64(tc_time_window,'h')\n",
    "    \n",
    "    # set category alongside WAVES data\n",
    "    ixs = np.where((WVS.time >= w1) & (WVS.time <= w2))[0]\n",
    "    WVS['TC_category'][ixs] = ss.category\n",
    "\n",
    "print(WVS)\n",
    "    \n",
    "# Store historical WAVES data\n",
    "db.Save_WAVES_hist(WVS)\n"
   ]
  },
  {
   "cell_type": "code",
   "execution_count": null,
   "metadata": {},
   "outputs": [],
   "source": []
  }
 ],
 "metadata": {
  "kernelspec": {
   "display_name": "Python 3",
   "language": "python",
   "name": "python3"
  },
  "language_info": {
   "codemirror_mode": {
    "name": "ipython",
    "version": 3
   },
   "file_extension": ".py",
   "mimetype": "text/x-python",
   "name": "python",
   "nbconvert_exporter": "python",
   "pygments_lexer": "ipython3",
   "version": "3.7.2"
  }
 },
 "nbformat": 4,
 "nbformat_minor": 2
}
