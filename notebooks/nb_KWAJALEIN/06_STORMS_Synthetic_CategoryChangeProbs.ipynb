{
 "cells": [
  {
   "cell_type": "code",
   "execution_count": 1,
   "metadata": {},
   "outputs": [],
   "source": [
    "#!/usr/bin/env python\n",
    "# -*- coding: utf-8 -*-\n",
    "\n",
    "# common\n",
    "import os\n",
    "import os.path as op\n",
    "\n",
    "# pip\n",
    "import xarray as xr\n",
    "import numpy as np\n",
    "import matplotlib.pyplot as plt\n",
    "\n",
    "# DEV: override installed teslakit\n",
    "import sys\n",
    "sys.path.insert(0, op.join(os.path.abspath(''), '..', '..'))\n",
    "\n",
    "# teslakit \n",
    "from teslakit.database import Database\n",
    "from teslakit.util.operations import GetUniqueRows\n",
    "from teslakit.storms import Extract_Circle_Nakajo, SortCategoryCount\n"
   ]
  },
  {
   "cell_type": "markdown",
   "metadata": {},
   "source": [
    "\n",
    "## Database and Site parameters"
   ]
  },
  {
   "cell_type": "code",
   "execution_count": 2,
   "metadata": {},
   "outputs": [],
   "source": [
    "# --------------------------------------\n",
    "# Teslakit database\n",
    "\n",
    "p_data = r'/Users/nico/Projects/TESLA-kit/TeslaKit/data'\n",
    "db = Database(p_data)\n",
    "\n",
    "# set site\n",
    "db.SetSite('KWAJALEIN')\n"
   ]
  },
  {
   "cell_type": "code",
   "execution_count": 3,
   "metadata": {},
   "outputs": [],
   "source": [
    "# --------------------------------------\n",
    "# load data and set parameters\n",
    "\n",
    "xds_Nakajo = db.Load_TCs_Nakajo()  # Nakajo simulations\n",
    "\n",
    "# wave point longitude and latitude\n",
    "pnt_lon = 167.5\n",
    "pnt_lat = 9.75\n",
    "\n",
    "# radius for TCs selection (º)\n",
    "r1 = 14\n",
    "r2 = 4\n"
   ]
  },
  {
   "cell_type": "markdown",
   "metadata": {},
   "source": [
    "\n",
    "## Synthetic TCs - Category Change Probabilities"
   ]
  },
  {
   "cell_type": "code",
   "execution_count": 4,
   "metadata": {},
   "outputs": [
    {
     "name": "stdout",
     "output_type": "stream",
     "text": [
      "<xarray.Dataset>\n",
      "Dimensions:       (storm: 63167)\n",
      "Coordinates:\n",
      "  * storm         (storm) int64 5 8 14 50 52 ... 999974 999982 999986 999990\n",
      "Data variables:\n",
      "    pressure_min  (storm) float64 983.2 932.8 960.5 978.9 ... 968.4 973.3 992.4\n",
      "    category      (storm) int64 1 4 3 2 1 0 0 0 2 1 5 ... 0 4 1 2 1 1 4 0 2 2 1\n",
      "Attributes:\n",
      "    point_lon:  167.5\n",
      "    point_lat:  9.75\n",
      "    point_r:    14\n",
      "\n",
      "<xarray.Dataset>\n",
      "Dimensions:       (storm: 12840)\n",
      "Coordinates:\n",
      "  * storm         (storm) int64 5 296 299 387 ... 999846 999877 999982 999986\n",
      "Data variables:\n",
      "    pressure_min  (storm) float64 988.1 961.0 998.7 ... 976.4 1.007e+03 998.5\n",
      "    category      (storm) int64 1 3 1 1 2 4 0 2 0 0 1 ... 3 1 2 3 2 1 1 0 2 0 1\n",
      "Attributes:\n",
      "    point_lon:  167.5\n",
      "    point_lat:  9.75\n",
      "    point_r:    4\n"
     ]
    }
   ],
   "source": [
    "# --------------------------------------\n",
    "# Select Nakajo TCs inside circle\n",
    "\n",
    "# dictionary with needed variable names\n",
    "d_vns = {\n",
    "    'longitude':'ylon_TC',\n",
    "    'latitude':'ylat_TC',\n",
    "    'pressure':'yCPRES',\n",
    "}\n",
    "\n",
    "# Extract TCs inside R=14 and positions\n",
    "_, xds_in_r1 = Extract_Circle_Nakajo(xds_Nakajo, pnt_lon, pnt_lat, r1, d_vns)\n",
    "\n",
    "# Extract TCs inside R=4 and positions\n",
    "_, xds_in_r2 = Extract_Circle_Nakajo(xds_Nakajo, pnt_lon, pnt_lat, r2, d_vns)\n",
    "\n",
    "print(xds_in_r1)\n",
    "print()\n",
    "print(xds_in_r2)\n"
   ]
  },
  {
   "cell_type": "code",
   "execution_count": 5,
   "metadata": {},
   "outputs": [
    {
     "name": "stdout",
     "output_type": "stream",
     "text": [
      "<xarray.Dataset>\n",
      "Dimensions:                  (category: 6)\n",
      "Coordinates:\n",
      "  * category                 (category) int64 0 1 2 3 4 5\n",
      "Data variables:\n",
      "    category_change_count    (category, category) int64 1811 1299 264 ... 0 990\n",
      "    category_change_sum      (category) int64 20195 18556 3722 4182 1854 1818\n",
      "    category_change_probs    (category, category) float64 0.0823 ... 0.2465\n",
      "    category_nochange_probs  (category) float64 0.9177 0.8788 ... 0.4346 0.4527\n",
      "    category_change_cumsum   (category, category) float64 0.0823 ... 0.5473\n"
     ]
    }
   ],
   "source": [
    "# --------------------------------------\n",
    "# Calculate Syntethic TCs category change probabilities\n",
    "\n",
    "# Get storm category inside both circles\n",
    "n_storms = len(xds_in_r1.storm)\n",
    "categ_r1r2 = np.empty((n_storms, 2))\n",
    "for i in range(len(xds_in_r1.storm)):\n",
    "\n",
    "    # category inside R1\n",
    "    storm_in_r1 = xds_in_r1.isel(storm=[i])\n",
    "    storm_id = storm_in_r1.storm.values[0]\n",
    "    storm_cat_r1 = storm_in_r1.category\n",
    "\n",
    "    # category inside R2\n",
    "    if storm_id in xds_in_r2.storm.values[:]:\n",
    "        storm_in_r2 = xds_in_r2.sel(storm=[storm_id])\n",
    "        storm_cat_r2 = storm_in_r2.category\n",
    "    else:\n",
    "        storm_cat_r2 = 9  # no category \n",
    "\n",
    "    # store categories\n",
    "    categ_r1r2[i,:] = [storm_cat_r1, storm_cat_r2]\n",
    "\n",
    "\n",
    "# count category changes and sort it\n",
    "categ_count = GetUniqueRows(categ_r1r2)\n",
    "categ_count = SortCategoryCount(categ_count)\n",
    "\n",
    "# calculate probability\n",
    "m_count = np.reshape(categ_count[:,2], (6,-1)).T\n",
    "m_sum = np.sum(m_count,axis=0)\n",
    "\n",
    "probs = m_count.astype(float)/m_sum.astype(float)\n",
    "probs_cs = np.cumsum(probs, axis=0)\n",
    "\n",
    "# store output using xarray\n",
    "xds_categ_cp = xr.Dataset(\n",
    "    {\n",
    "        'category_change_count': (('category','category'), m_count[:-1,:]),\n",
    "        'category_change_sum': (('category'), m_count[-1,:]),\n",
    "        'category_change_probs': (('category','category'), probs[:-1,:]),\n",
    "        'category_nochange_probs': (('category'), probs[-1,:]),\n",
    "        'category_change_cumsum': (('category','category'), probs_cs[:-1,:]),\n",
    "    },\n",
    "    coords = {\n",
    "        'category': [0,1,2,3,4,5]\n",
    "    }\n",
    ")\n",
    "print(xds_categ_cp)\n",
    "\n",
    "db.Save_TCs_probs_synth(xds_categ_cp)\n"
   ]
  },
  {
   "cell_type": "code",
   "execution_count": 6,
   "metadata": {},
   "outputs": [
    {
     "data": {
      "image/png": "[encoded data removed]",
      "text/plain": [
       "<Figure size 864x864 with 2 Axes>"
      ]
     },
     "metadata": {
      "needs_background": "light"
     },
     "output_type": "display_data"
    }
   ],
   "source": [
    "# plot category change probabilities\n",
    "\n",
    "cp = xds_categ_cp.category_change_probs.values[:]\n",
    "cs = xds_categ_cp.category.values[:]\n",
    "\n",
    "fig, axes = plt.subplots(figsize=(12,12))\n",
    "axes.set_title('Category change probabilities')\n",
    "axes.set_xlabel('category')\n",
    "axes.set_ylabel('category')\n",
    "pc=axes.pcolor(cp)\n",
    "fig.colorbar(pc)\n",
    "\n",
    "plt.show()\n"
   ]
  }
 ],
 "metadata": {
  "kernelspec": {
   "display_name": "Python 3",
   "language": "python",
   "name": "python3"
  },
  "language_info": {
   "codemirror_mode": {
    "name": "ipython",
    "version": 3
   },
   "file_extension": ".py",
   "mimetype": "text/x-python",
   "name": "python",
   "nbconvert_exporter": "python",
   "pygments_lexer": "ipython3",
   "version": "3.7.2"
  }
 },
 "nbformat": 4,
 "nbformat_minor": 2
}
