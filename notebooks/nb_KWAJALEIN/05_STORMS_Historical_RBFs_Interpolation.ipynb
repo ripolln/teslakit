{
 "cells": [
  {
   "cell_type": "code",
   "execution_count": 1,
   "metadata": {},
   "outputs": [],
   "source": [
    "#!/usr/bin/env python\n",
    "# -*- coding: utf-8 -*-\n",
    "\n",
    "# common\n",
    "import os\n",
    "import os.path as op\n",
    "\n",
    "# pip\n",
    "import xarray as xr\n",
    "import numpy as np\n",
    "\n",
    "# DEV: override installed teslakit\n",
    "import sys\n",
    "sys.path.insert(0, op.join(os.path.abspath(''), '..', '..'))\n",
    "\n",
    "# teslakit \n",
    "from teslakit.database import Database\n",
    "from teslakit.io.matlab import ReadMatfile\n",
    "from teslakit.rbf import RBF_Reconstruction\n"
   ]
  },
  {
   "cell_type": "markdown",
   "metadata": {},
   "source": [
    "\n",
    "## Database and Site parameters"
   ]
  },
  {
   "cell_type": "code",
   "execution_count": 2,
   "metadata": {},
   "outputs": [],
   "source": [
    "# --------------------------------------\n",
    "# Teslakit database\n",
    "\n",
    "p_data = r'/Users/nico/Projects/TESLA-kit/TeslaKit/data'\n",
    "db = Database(p_data)\n",
    "\n",
    "# set site\n",
    "db.SetSite('KWAJALEIN')\n",
    "           "
   ]
  },
  {
   "cell_type": "code",
   "execution_count": 3,
   "metadata": {},
   "outputs": [],
   "source": [
    "# --------------------------------------\n",
    "# load data and set parameters\n",
    "\n",
    "# TCs copula simulated (dataset) and TCs MDA selection\n",
    "xds_dataset = db.Load_TCs_r2_sim_params()\n",
    "xds_subset = db.Load_TCs_r2_mda_params()\n",
    "\n",
    "# r2 mda TCs solved simulations (not solved inside teslakit)\n",
    "xds_TCs_sims = db.Load_TCs_r2_mda_Simulations()\n"
   ]
  },
  {
   "cell_type": "code",
   "execution_count": 4,
   "metadata": {},
   "outputs": [],
   "source": [
    "# --------------------------------------\n",
    "# load custom RBFs training subset and dataset to interpolate\n",
    "\n",
    "# TODO: our datasets (db.Load_TCs_r2_sim_params and db.Load_TCs_r2_mda_params) \n",
    "# do not match with currently stored solved simulations.\n",
    "\n",
    "# we are using matching matlab files for KWAJALEIN TCs simulations\n",
    "# (overriding subset so it matches solved target)\n",
    "p_test = op.join(p_data, 'tests', 'RBF')\n",
    "p_subset = op.join(p_test, 'MDA_1000.mat')\n",
    "p_dataset = op.join(p_test, 'MULTIVARIATE_100000parameters.mat')\n",
    "\n",
    "# load subset data\n",
    "subset = ReadMatfile(p_subset)['Subset']  # pmean, vmean, gamma, delta\n",
    "\n",
    "# load full dataset for interpolation\n",
    "dm = ReadMatfile(p_dataset)\n",
    "dataset= np.column_stack(\n",
    "    (dm['PMEAN1'], dm['VMEAN'], dm['GAMMA'], dm['DELTA'])\n",
    ")\n"
   ]
  },
  {
   "cell_type": "markdown",
   "metadata": {},
   "source": [
    "\n",
    "## Simulated TCs -  Radial Basis Function"
   ]
  },
  {
   "cell_type": "code",
   "execution_count": 5,
   "metadata": {
    "scrolled": false
   },
   "outputs": [
    {
     "name": "stdout",
     "output_type": "stream",
     "text": [
      "<xarray.Dataset>\n",
      "Dimensions:  (storm: 1000)\n",
      "Coordinates:\n",
      "  * storm    (storm) int64 0 1 2 3 4 5 6 7 8 ... 992 993 994 995 996 997 998 999\n",
      "Data variables:\n",
      "    hs       (storm) float64 0.13 0.026 4.398 1.352 ... 1.782 8.078 5.11 6.136\n",
      "    tp       (storm) float64 3.61 1.506 14.71 9.259 ... 6.494 13.16 11.9 13.33\n",
      "    dir      (storm) float64 42.4 45.0 124.2 267.3 13.2 ... 35.2 23.5 90.0 122.3\n",
      "    ss       (storm) float64 0.005154 0.007572 0.09592 ... 0.1987 0.07206 0.1122\n",
      "    twl      (storm) float64 0.07414 0.02044 1.73 0.5898 ... 2.181 1.498 1.863\n",
      "    mu       (storm) float64 0.7074 0.8419 0.805 0.9491 ... 0.623 0.5043 0.6556\n",
      "\n",
      "<xarray.Dataset>\n",
      "Dimensions:  (storm: 1000)\n",
      "Coordinates:\n",
      "  * storm    (storm) int64 0 1 2 3 4 5 6 7 8 ... 992 993 994 995 996 997 998 999\n",
      "Data variables:\n",
      "    hs       (storm) float64 0.009134 0.001473 0.3235 ... 0.5946 0.376 0.4515\n",
      "    tp       (storm) float64 0.1312 0.0 0.823 0.4834 ... 0.7265 0.6484 0.7375\n",
      "    dir      (storm) float64 0.74 0.7854 2.168 4.665 ... 0.4102 1.571 2.135\n",
      "    ss       (storm) float64 9.155e-05 0.002514 0.09103 ... 0.194 0.06712 0.1074\n",
      "    twl      (storm) float64 0.01522 0.0003166 0.4749 ... 0.5999 0.4105 0.5116\n",
      "    mu       (storm) float64 0.7074 0.8419 0.805 0.9491 ... 0.623 0.5043 0.6556\n",
      "\n"
     ]
    }
   ],
   "source": [
    "# --------------------------------------\n",
    "# Extract waves data from TCs simulations (this is the RBFs training target)\n",
    "\n",
    "print(xds_TCs_sims)\n",
    "print()\n",
    "\n",
    "# Normalize data\n",
    "d_maxis = {}\n",
    "d_minis = {}\n",
    "xds_n = xds_TCs_sims.copy()\n",
    "for k in ['hs', 'tp', 'ss', 'twl']:\n",
    "    v = xds_n[k].values[:]\n",
    "    mx = np.max(v)\n",
    "    mn = np.min(v)\n",
    "    xds_n[k] =(('storm',), (v-mn)/(mx-mn))\n",
    "    \n",
    "    # store maxs and mins for denormalization\n",
    "    d_maxis[k] = mx\n",
    "    d_minis[k] = mn\n",
    "\n",
    "xds_n['dir'] = xds_n['dir'] * np.pi/180\n",
    "    \n",
    "print(xds_n)\n",
    "print()\n",
    "\n",
    "\n",
    "# Build RBF target numpy array\n",
    "target = np.column_stack(\n",
    "    (xds_n['hs'], xds_n['tp'], xds_n['ss'], xds_n['twl'], xds_n['dir'], xds_n['mu'])\n",
    ")\n"
   ]
  },
  {
   "cell_type": "code",
   "execution_count": 6,
   "metadata": {},
   "outputs": [
    {
     "name": "stdout",
     "output_type": "stream",
     "text": [
      "ix_scalar: 0,  optimization: 587.50 | interpolation: 72.29\n",
      "ix_scalar: 1,  optimization: 483.39 | interpolation: 43.54\n",
      "ix_scalar: 2,  optimization: 543.65 | interpolation: 49.50\n",
      "ix_scalar: 3,  optimization: 534.73 | interpolation: 40.50\n",
      "ix_scalar: 5,  optimization: 366.69 | interpolation: 34.23\n",
      "ix_directional: 4,  optimization: 1064.18 | interpolation: 72.36\n"
     ]
    }
   ],
   "source": [
    "# --------------------------------------\n",
    "# RBF Interpolation\n",
    "\n",
    "# subset - scalar / directional indexes\n",
    "ix_scalar_subset = [0,1]        # scalar (pmean,  vmean)\n",
    "ix_directional_subset = [2,3]   # directional (delta, gamma)\n",
    "\n",
    "# target - scalar / directional indexes\n",
    "ix_scalar_target = [0,1,2,3,5]  # scalar (Hs, Tp, SS, TWL, MU)\n",
    "ix_directional_target = [4]     # directional (Dir)\n",
    "\n",
    "output = RBF_Reconstruction(\n",
    "    subset, ix_scalar_subset, ix_directional_subset,\n",
    "    target, ix_scalar_target, ix_directional_target,\n",
    "    dataset)\n"
   ]
  },
  {
   "cell_type": "code",
   "execution_count": 7,
   "metadata": {},
   "outputs": [
    {
     "name": "stdout",
     "output_type": "stream",
     "text": [
      "<xarray.Dataset>\n",
      "Dimensions:  (storm: 100000)\n",
      "Coordinates:\n",
      "  * storm    (storm) int64 0 1 2 3 4 5 6 ... 99994 99995 99996 99997 99998 99999\n",
      "Data variables:\n",
      "    hs       (storm) float64 6.488 2.125 2.428 2.505 ... 5.623 2.632 1.791 3.593\n",
      "    tp       (storm) float64 12.24 10.92 7.623 10.04 ... 12.79 7.024 8.28 9.868\n",
      "    ss       (storm) float64 0.1163 0.0632 0.018 ... 0.1009 0.04997 0.1177\n",
      "    twl      (storm) float64 1.671 0.8837 0.6813 0.82 ... 0.6608 0.6022 1.141\n",
      "    dir      (storm) float64 95.05 82.92 66.62 111.1 ... 114.1 61.17 88.9 98.49\n",
      "    mu       (storm) float64 0.6176 0.6227 0.8581 0.725 ... 0.7585 0.7668 0.4756\n"
     ]
    }
   ],
   "source": [
    "# --------------------------------------\n",
    "# output de-normalization\n",
    "\n",
    "hs_n = output[:,0]\n",
    "tp_n = output[:,1]\n",
    "ss_n = output[:,2]\n",
    "twl_n = output[:,3]\n",
    "dir_n = output[:,4]\n",
    "mu = output[:,5]\n",
    "\n",
    "# store data as xarray.Dataset\n",
    "xds_out = xr.Dataset(\n",
    "    {\n",
    "        'hs':(('storm',), hs_n * (d_maxis['hs']-d_minis['hs']) + d_minis['hs'] ),\n",
    "        'tp':(('storm',), tp_n * (d_maxis['tp']-d_minis['tp']) + d_minis['tp'] ),\n",
    "        'ss':(('storm',), ss_n * (d_maxis['ss']-d_minis['ss']) + d_minis['ss'] ),\n",
    "        'twl':(('storm',), twl_n * (d_maxis['twl']-d_minis['twl']) + d_minis['twl'] ),\n",
    "        'dir':(('storm',), dir_n * 180 / np.pi),\n",
    "        'mu':(('storm',), mu),\n",
    "    },\n",
    "    coords = {'storm': np.arange(output.shape[0])}\n",
    ")\n",
    "print(xds_out)\n",
    "\n",
    "db.Save_TCs_sim_r2_rbf_output(xds_out)\n"
   ]
  }
 ],
 "metadata": {
  "kernelspec": {
   "display_name": "Python 3",
   "language": "python",
   "name": "python3"
  },
  "language_info": {
   "codemirror_mode": {
    "name": "ipython",
    "version": 3
   },
   "file_extension": ".py",
   "mimetype": "text/x-python",
   "name": "python",
   "nbconvert_exporter": "python",
   "pygments_lexer": "ipython3",
   "version": "3.7.2"
  }
 },
 "nbformat": 4,
 "nbformat_minor": 2
}
