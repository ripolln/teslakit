{
 "cells": [
  {
   "cell_type": "code",
   "execution_count": 1,
   "metadata": {},
   "outputs": [],
   "source": [
    "#!/usr/bin/env python\n",
    "# -*- coding: utf-8 -*-\n",
    "\n",
    "# common\n",
    "import os\n",
    "import os.path as op\n",
    "\n",
    "# pip\n",
    "import xarray as xr\n",
    "import numpy as np\n",
    "\n",
    "# DEV: override installed teslakit\n",
    "import sys\n",
    "sys.path.insert(0, op.join(os.path.abspath(''), '..', '..'))\n",
    "\n",
    "# teslakit\n",
    "from teslakit.database import Database\n",
    "from teslakit.storms import Extract_Circle\n",
    "from teslakit.plotting.storms import WorldMap_Storms\n",
    "from teslakit.statistical import CopulaSimulation\n"
   ]
  },
  {
   "cell_type": "markdown",
   "metadata": {},
   "source": [
    "\n",
    "## Database and Site parameters"
   ]
  },
  {
   "cell_type": "code",
   "execution_count": 2,
   "metadata": {},
   "outputs": [],
   "source": [
    "# --------------------------------------\n",
    "# Teslakit database\n",
    "\n",
    "p_data = r'/Users/nico/Projects/TESLA-kit/TeslaKit/data'\n",
    "db = Database(p_data)\n",
    "\n",
    "# set site\n",
    "db.SetSite('KWAJALEIN')\n"
   ]
  },
  {
   "cell_type": "code",
   "execution_count": 3,
   "metadata": {},
   "outputs": [],
   "source": [
    "# --------------------------------------\n",
    "# load data and set parameters\n",
    "\n",
    "xds_wmo = db.Load_TCs_noaa()  # noaa Allstorms.ibtracs_wmo\n",
    "\n",
    "# wave point longitude and latitude\n",
    "pnt_lon = 167.5\n",
    "pnt_lat = 9.75\n",
    "\n",
    "# radius for TCs selection (º)\n",
    "r1 = 14\n",
    "r2 = 4\n"
   ]
  },
  {
   "cell_type": "markdown",
   "metadata": {},
   "source": [
    "\n",
    "## Historical TCs - extraction"
   ]
  },
  {
   "cell_type": "code",
   "execution_count": 4,
   "metadata": {},
   "outputs": [
    {
     "name": "stdout",
     "output_type": "stream",
     "text": [
      "<xarray.Dataset>\n",
      "Dimensions:          (center: 26, storm: 309, time: 137)\n",
      "Dimensions without coordinates: center, storm, time\n",
      "Data variables:\n",
      "    storm_sn         (storm) |S13 ...\n",
      "    name             (storm) |S57 ...\n",
      "    numObs           (storm) int16 ...\n",
      "    season           (storm) int16 ...\n",
      "    track_type       (storm) int8 ...\n",
      "    genesis_basin    (storm) int8 ...\n",
      "    num_basins       (storm) int8 ...\n",
      "    basin            (storm, time) float32 ...\n",
      "    wind_avg_period  (center) float32 ...\n",
      "    source           (center) |S10 ...\n",
      "    time_wmo         (storm, time) datetime64[ns] 1951-03-18T06:00:00.000043520 ... NaT\n",
      "    lat_wmo          (storm, time) float32 5.7 6.0 6.3999996 6.7 ... nan nan nan\n",
      "    lon_wmo          (storm, time) float32 158.3 159.4 160.4 ... nan nan nan\n",
      "    alt              (storm, time) float32 ...\n",
      "    wind_wmo         (storm, time) float32 ...\n",
      "    pres_wmo         (storm, time) float32 1002.0 1002.0 1000.0 ... nan nan nan\n",
      "    sub_basin        (storm, time) float32 ...\n",
      "    nature_wmo       (storm, time) float32 ...\n",
      "    source_wmo       (storm, time) float32 ...\n",
      "    dist2land        (storm, time) float32 ...\n",
      "    landfall         (storm, time) float32 ...\n",
      "Attributes:\n",
      "    Title:                IBTrACS-WMO: NetCDF reformat\n",
      "    Version:              v03r10\n",
      "    Description:          IBTrACS-WMO data reformatted to contain \\nall data ...\n",
      "    cdm_datatype:         Trajectory\n",
      "    trajectoryDimension:  storm\n",
      "    Conventions:          CF-1.0\n",
      "    metadata_link:        gov.noaa.ncdc:C00834\n",
      "\n",
      "<xarray.Dataset>\n",
      "Dimensions:          (center: 26, storm: 68, time: 137)\n",
      "Dimensions without coordinates: center, storm, time\n",
      "Data variables:\n",
      "    storm_sn         (storm) |S13 ...\n",
      "    name             (storm) |S57 ...\n",
      "    numObs           (storm) int16 ...\n",
      "    season           (storm) int16 ...\n",
      "    track_type       (storm) int8 ...\n",
      "    genesis_basin    (storm) int8 ...\n",
      "    num_basins       (storm) int8 ...\n",
      "    basin            (storm, time) float32 ...\n",
      "    wind_avg_period  (center) float32 ...\n",
      "    source           (center) |S10 ...\n",
      "    time_wmo         (storm, time) datetime64[ns] 1951-03-18T06:00:00.000043520 ... NaT\n",
      "    lat_wmo          (storm, time) float32 5.7 6.0 6.3999996 6.7 ... nan nan nan\n",
      "    lon_wmo          (storm, time) float32 158.3 159.4 160.4 ... nan nan nan\n",
      "    alt              (storm, time) float32 ...\n",
      "    wind_wmo         (storm, time) float32 ...\n",
      "    pres_wmo         (storm, time) float32 1002.0 1002.0 1000.0 ... nan nan nan\n",
      "    sub_basin        (storm, time) float32 ...\n",
      "    nature_wmo       (storm, time) float32 ...\n",
      "    source_wmo       (storm, time) float32 ...\n",
      "    dist2land        (storm, time) float32 ...\n",
      "    landfall         (storm, time) float32 ...\n",
      "Attributes:\n",
      "    Title:                IBTrACS-WMO: NetCDF reformat\n",
      "    Version:              v03r10\n",
      "    Description:          IBTrACS-WMO data reformatted to contain \\nall data ...\n",
      "    cdm_datatype:         Trajectory\n",
      "    trajectoryDimension:  storm\n",
      "    Conventions:          CF-1.0\n",
      "    metadata_link:        gov.noaa.ncdc:C00834\n"
     ]
    }
   ],
   "source": [
    "# --------------------------------------\n",
    "# Select Historical TCs inside circle\n",
    "\n",
    "# dictionary with needed variable names \n",
    "d_vns = {\n",
    "    'longitude': 'lon_wmo',\n",
    "    'latitude': 'lat_wmo',\n",
    "    'time': 'time_wmo',\n",
    "    'pressure': 'pres_wmo',\n",
    "}\n",
    "\n",
    "# Select TCs that crosses a circular area R1\n",
    "xds_TCs_r1, xds_TCs_r1_params = Extract_Circle(xds_wmo, pnt_lon, pnt_lat, r1, d_vns)\n",
    "\n",
    "# Select TCs that crosses a circular area R2\n",
    "xds_TCs_r2, xds_TCs_r2_params = Extract_Circle(xds_wmo, pnt_lon, pnt_lat, r2, d_vns)\n",
    "\n",
    "print(xds_TCs_r1)\n",
    "print()\n",
    "print(xds_TCs_r2)\n",
    "\n",
    "# store data\n",
    "db.Save_TCs_r1(xds_TCs_r1, xds_TCs_r1_params)\n",
    "db.Save_TCs_r2(xds_TCs_r2, xds_TCs_r2_params)\n"
   ]
  },
  {
   "cell_type": "code",
   "execution_count": null,
   "metadata": {},
   "outputs": [],
   "source": [
    "# TODO: plot historical TCs inside both circles"
   ]
  }
 ],
 "metadata": {
  "kernelspec": {
   "display_name": "Python 3",
   "language": "python",
   "name": "python3"
  },
  "language_info": {
   "codemirror_mode": {
    "name": "ipython",
    "version": 3
   },
   "file_extension": ".py",
   "mimetype": "text/x-python",
   "name": "python",
   "nbconvert_exporter": "python",
   "pygments_lexer": "ipython3",
   "version": "3.7.2"
  }
 },
 "nbformat": 4,
 "nbformat_minor": 2
}
