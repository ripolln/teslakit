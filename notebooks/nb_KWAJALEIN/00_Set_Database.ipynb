{
 "cells": [
  {
   "cell_type": "code",
   "execution_count": 1,
   "metadata": {},
   "outputs": [],
   "source": [
    "#!/usr/bin/env python\n",
    "# -*- coding: utf-8 -*-\n",
    "\n",
    "# common\n",
    "import os\n",
    "import os.path as op\n",
    "import sys\n",
    "\n",
    "# DEV: override installed teslakit\n",
    "import sys\n",
    "sys.path.insert(0, op.join(os.path.abspath(''), '..', '..'))\n",
    "\n",
    "# teslakit \n",
    "from teslakit.database import Database\n"
   ]
  },
  {
   "cell_type": "markdown",
   "metadata": {},
   "source": [
    "\n",
    "## Database and Site"
   ]
  },
  {
   "cell_type": "code",
   "execution_count": 2,
   "metadata": {},
   "outputs": [
    {
     "name": "stdout",
     "output_type": "stream",
     "text": [
      "Teslakit Site already exists at /Users/nico/Projects/TESLA-kit/TeslaKit/data/sites/KWAJALEIN\n"
     ]
    }
   ],
   "source": [
    "# --------------------------------------\n",
    "# Teslakit database\n",
    "\n",
    "p_data = r'/Users/nico/Projects/TESLA-kit/TeslaKit/data'\n",
    "db = Database(p_data)\n",
    "\n",
    "# make new site\n",
    "db.MakeNewSite('KWAJALEIN')\n"
   ]
  },
  {
   "cell_type": "code",
   "execution_count": 3,
   "metadata": {},
   "outputs": [
    {
     "name": "stdout",
     "output_type": "stream",
     "text": [
      "+---------------------+-----------+-----------------------------------------------------+\n",
      "| database ID         | available | site path                                           |\n",
      "+---------------------+-----------+-----------------------------------------------------+\n",
      "| MJO.hist            | True      | sites/KWAJALEIN/MJO/MJO_hist.nc                     |\n",
      "| TCs.noaa            | True      | sites/KWAJALEIN/TCs/Allstorms.ibtracs_wmo.v03r10.nc |\n",
      "| TCs.nakajo_mats     | True      | sites/KWAJALEIN/TCs/Nakajo_tracks                   |\n",
      "| SST.hist_pacific    | True      | sites/KWAJALEIN/SST/SST_1854_2017_Pacific.nc        |\n",
      "| WAVES.partitions_p1 | True      | sites/KWAJALEIN/WAVES/point1.mat                    |\n",
      "| ESTELA.coastmat     | True      | sites/KWAJALEIN/ESTELA/Costa.mat                    |\n",
      "| ESTELA.estelamat    | True      | sites/KWAJALEIN/ESTELA/Kwajalein_roi_obj.mat        |\n",
      "| ESTELA.gowpoint     | True      | sites/KWAJALEIN/ESTELA/gow2_062_9.50_167.25.mat     |\n",
      "| ESTELA.slp          | True      | sites/KWAJALEIN/ESTELA/SLP.nc                       |\n",
      "| TIDE.mareografo_nc  | True      | sites/KWAJALEIN/TIDE/Mareografo_KWA.nc              |\n",
      "| TIDE.hist_astro     | True      | sites/KWAJALEIN/TIDE/tide_astro_hist.nc             |\n",
      "+---------------------+-----------+-----------------------------------------------------+\n"
     ]
    }
   ],
   "source": [
    "# --------------------------------------\n",
    "# Manually set required input files for teslakit execution:\n",
    "#\n",
    "# MJO.hist            = MJO_hist.nc  # historical MJO (http://www.bom.gov.au/climate/mjo/graphics/rmm.74toRealtime.txt)\n",
    "#\n",
    "# TCs.noaa            = Allstorms.ibtracs_wmo.v03r10.nc (ftp://eclipse.ncdc.noaa.gov/pub/ibtracs/v03r10/wmo/netcdf/)\n",
    "# TCs.nakajo_mats     = Nakajo_tracks (folder containing nakajo TCs with .mat files)\n",
    "#\n",
    "# SST.hist_pacific    = SST_1854_2017_Pacific.nc (Sea Surface Temperature at Pacific area)\n",
    "#\n",
    "# WAVES.partitions_p1 = point1.mat (waves partitions at point, grom GOW database)\n",
    "#\n",
    "# ESTELA.coastmat     = Costa.mat (ESTELA coast)\n",
    "# ESTELA.estelamat    = kwajalein_roi_obj.mat (ESTELA data)\n",
    "# ESTELA.gowpoint     = gow2_062_ 9.50_167.25.mat (ESTELA waves data)\n",
    "# ESTELA.slp          = SLP.nc (Sea Level Pressure, extracted from CFSR)\n",
    "#\n",
    "# TIDE.mareografo_nc  = Mareografo_KWA.nc (tide gauge)\n",
    "# TIDE.hist_astro     = tide_astro_hist.nc (astronomical historical tide)\n",
    "\n",
    "# check input files\n",
    "db.CheckInputFiles()\n",
    "\n",
    "# if all input is available then start with the project notebooks\n"
   ]
  },
  {
   "cell_type": "markdown",
   "metadata": {},
   "source": [
    "\n",
    "## Teslakit notebooks summary"
   ]
  },
  {
   "cell_type": "code",
   "execution_count": 4,
   "metadata": {},
   "outputs": [],
   "source": [
    "# TODO: RESUMEN PROCESOS TESLAKIT\n",
    "\n",
    "# --------------------------------------\n",
    "# Teslakit project notebooks\n",
    "#\n",
    "#\n",
    "# 01_SST_AnnualWeatherTypes\n",
    "#\n",
    "# 02_MJO_ALR_Simulation\n",
    "#\n",
    "# 03_STORMS_Historical_ExtractRadius\n",
    "#\n",
    "# 04_STORMS_Historical_CopulaSimulation_MDA\n",
    "#\n",
    "# 05_STORMS_Historical_RBFs_Interpolation\n",
    "#\n",
    "# 06_STORMS_Synthetic_CategoryChangeProbs\n",
    "#\n",
    "# 07_WAVES_CalculateFamilies_RemoveTCs\n",
    "#\n",
    "# 08_SLP_ESTELA_PCA_KMArg\n",
    "#\n",
    "# 09_SLP_ESTELA_ALR_Covariates\n",
    "#\n",
    "# 10_Climate_Emulator\n",
    "#"
   ]
  },
  {
   "cell_type": "markdown",
   "metadata": {},
   "source": [
    "\n",
    "## Data acquisition "
   ]
  },
  {
   "cell_type": "code",
   "execution_count": 6,
   "metadata": {},
   "outputs": [],
   "source": [
    "# TODO: module for extracting / downloading needed data?\n",
    "\n",
    "## --------------------------------------\n",
    "## Extract predictor data (SLP) from CFSR and save to .nc file\n",
    "#\n",
    "## SLP extraction  site-coordinates\n",
    "#lat1 = 60.5\n",
    "#lat2 = 0.5\n",
    "#lon1 = 115\n",
    "#lon2 = 279\n",
    "#resample = 4  # 2º resolution\n",
    "#\n",
    "## CFSR prmsl database\n",
    "#p_DB_cfs_prmsl = DB.CFS.cfs_prmsl\n",
    "#\n",
    "#xds_SLP_site = ReadSLP(\n",
    "#    p_DB_cfs_prmsl,\n",
    "#    lat1, lat2, lon1, lon2, resample,\n",
    "#    p_save=p_site_SLP)\n"
   ]
  }
 ],
 "metadata": {
  "kernelspec": {
   "display_name": "Python 3",
   "language": "python",
   "name": "python3"
  },
  "language_info": {
   "codemirror_mode": {
    "name": "ipython",
    "version": 3
   },
   "file_extension": ".py",
   "mimetype": "text/x-python",
   "name": "python",
   "nbconvert_exporter": "python",
   "pygments_lexer": "ipython3",
   "version": "3.7.2"
  }
 },
 "nbformat": 4,
 "nbformat_minor": 2
}
